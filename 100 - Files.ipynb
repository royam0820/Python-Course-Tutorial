{
 "cells": [
  {
   "cell_type": "markdown",
   "metadata": {},
   "source": [
    "# Files\n",
    "\n",
    "<img src=\"./img/fileProcessing.png\", width=400, height=400>\n",
    "\n",
    "Files are a major part of computing. \n",
    "They let you save data for a long-term storage and load data for use in your program.\n",
    "\n",
    "Python uses file objects to interact with external files on your computer. These file objects can be any sort of file you have on your computer, whether it be an audio file, a text file, emails, Excel documents, etc. Note: You will probably need to install certain libraries or modules to interact with those various file types, but they are easily available. (We will cover downloading modules later on in the course).\n",
    "\n",
    "Python has a built-in open function that allows us to open and play with basic file types. First we will need a file though. "
   ]
  },
  {
   "cell_type": "code",
   "execution_count": 30,
   "metadata": {
    "collapsed": false
   },
   "outputs": [],
   "source": [
    "# let's write some text using docstring (''' ''')\n",
    "poem = '''\n",
    "Programming is fun\n",
    "When the work is done\n",
    "if you wanna make your work also fun:\n",
    "    use Python!\n",
    "'''"
   ]
  },
  {
   "cell_type": "code",
   "execution_count": 31,
   "metadata": {
    "collapsed": false
   },
   "outputs": [
    {
     "name": "stdout",
     "output_type": "stream",
     "text": [
      "\n",
      "Programming is fun\n",
      "When the work is done\n",
      "if you wanna make your work also fun:\n",
      "    use Python!\n",
      "\n"
     ]
    }
   ],
   "source": [
    "print(poem)"
   ]
  },
  {
   "cell_type": "markdown",
   "metadata": {},
   "source": [
    "## Python - File Processing\n",
    "The file processing is quite straightforward, you need to:\n",
    "\n",
    "    open a file with a writing mode, \n",
    "    write something, and then \n",
    "    close it.  \n",
    "    \n",
    "Below is a complete example of such a processing."
   ]
  },
  {
   "cell_type": "code",
   "execution_count": 32,
   "metadata": {
    "collapsed": false
   },
   "outputs": [],
   "source": [
    "# open a file in writing mode\n",
    "# Open for 'w'riting\n",
    "f = open('./files/poem.txt', 'w')\n",
    "f.write(poem)  # Write text to file\n",
    "f.close()  # Close the file"
   ]
  },
  {
   "cell_type": "markdown",
   "metadata": {},
   "source": [
    "## Opening a file\n",
    "The open() method has two parameters: \n",
    "    1. the file location + name and \n",
    "    2. its permissions - see below for file permissions\n",
    "    \n",
    "<img src=\"./img/file-openMethods.png\", width=800, height=800>\n",
    "    3. In addition you can specify if the file should be handled as binary or text mode\n",
    "<img src=\"./img/file-BinaryTextMode.png\", width=800, height=800>"
   ]
  },
  {
   "cell_type": "markdown",
   "metadata": {},
   "source": [
    "## Reading a file\n",
    "\n",
    "Python has three methods to read a file as follows:\n",
    "\n",
    "<img src=\"./img/readMethod.png\", width=800, height=800>"
   ]
  },
  {
   "cell_type": "markdown",
   "metadata": {},
   "source": [
    "### The read() method\n",
    "By default the read() method returns the whole text, but you can also specify how many character you want to return:"
   ]
  },
  {
   "cell_type": "code",
   "execution_count": 34,
   "metadata": {
    "collapsed": false
   },
   "outputs": [
    {
     "data": {
      "text/plain": [
       "'\\nProgramming is fun\\nWhen the work is done\\nif you wanna make your work also fun:\\n    use Python!\\n'"
      ]
     },
     "execution_count": 34,
     "metadata": {},
     "output_type": "execute_result"
    }
   ],
   "source": [
    "# Open the text.txt we made earlier\n",
    "f = open(\"./files/poem.txt\", 'r')\n",
    "# We can now read the file\n",
    "f.read()"
   ]
  },
  {
   "cell_type": "code",
   "execution_count": 35,
   "metadata": {
    "collapsed": false
   },
   "outputs": [
    {
     "name": "stdout",
     "output_type": "stream",
     "text": [
      "\n",
      "Programmin\n"
     ]
    }
   ],
   "source": [
    "# returns the first 5 caracters of the file\n",
    "f = open(\"./files/poem.txt\", 'r')\n",
    "print(f.read(11))"
   ]
  },
  {
   "cell_type": "code",
   "execution_count": 37,
   "metadata": {
    "collapsed": false
   },
   "outputs": [
    {
     "data": {
      "text/plain": [
       "''"
      ]
     },
     "execution_count": 37,
     "metadata": {},
     "output_type": "execute_result"
    }
   ],
   "source": [
    "# But what happens if we try to read it again?\n",
    "f.read()"
   ]
  },
  {
   "cell_type": "markdown",
   "metadata": {},
   "source": [
    "This happens because you can imagine the reading \"cursor\" is at the end of the file after having read it. So there is nothing left to read. We can reset the \"cursor\" like this:"
   ]
  },
  {
   "cell_type": "code",
   "execution_count": 38,
   "metadata": {
    "collapsed": false
   },
   "outputs": [
    {
     "data": {
      "text/plain": [
       "0"
      ]
     },
     "execution_count": 38,
     "metadata": {},
     "output_type": "execute_result"
    }
   ],
   "source": [
    "# Seek to the start of file (index 0)\n",
    "f.seek(0)"
   ]
  },
  {
   "cell_type": "code",
   "execution_count": 39,
   "metadata": {
    "collapsed": false
   },
   "outputs": [
    {
     "data": {
      "text/plain": [
       "'\\nProgramming is fun\\nWhen the work is done\\nif you wanna make your work also fun:\\n    use Python!\\n'"
      ]
     },
     "execution_count": 39,
     "metadata": {},
     "output_type": "execute_result"
    }
   ],
   "source": [
    "# Now read again\n",
    "f.read()"
   ]
  },
  {
   "cell_type": "markdown",
   "metadata": {},
   "source": [
    "### The readline() method\n",
    "The readline() method returns a complete line including the newline character at the end of the line. \n",
    "When an empty string is returned, it means that we have reached the end of the file and we 'break' out of the loop."
   ]
  },
  {
   "cell_type": "code",
   "execution_count": 41,
   "metadata": {
    "collapsed": false
   },
   "outputs": [
    {
     "name": "stdout",
     "output_type": "stream",
     "text": [
      "\n",
      "Programming is fun\n",
      "When the work is done\n",
      "if you wanna make your work also fun:\n",
      "    use Python!\n"
     ]
    }
   ],
   "source": [
    "# If no mode is specified,\n",
    "# 'r'ead mode is assumed by default\n",
    "f = open('./files/poem.txt')\n",
    "while True:\n",
    "    line = f.readline()\n",
    "    # Zero length indicates EOF\n",
    "    if len(line) == 0:\n",
    "        break\n",
    "    # The `line` already has a newline\n",
    "    # at the end of each line\n",
    "    # since it is reading from a file.\n",
    "    print(line, end = '')\n",
    "# close the file\n",
    "f.close()"
   ]
  },
  {
   "cell_type": "markdown",
   "metadata": {},
   "source": [
    "## The readlines() method\n",
    "In order to not have to reset every time, we can also use the readlines method. Use this with caution for large files, since everything will be held in memory. We will learn how to iterate over large files later in the course."
   ]
  },
  {
   "cell_type": "code",
   "execution_count": 10,
   "metadata": {
    "collapsed": false
   },
   "outputs": [
    {
     "data": {
      "text/plain": [
       "['Programming is fun\\n',\n",
       " 'When the work is done\\n',\n",
       " 'if you wanna make your work also fun:\\n',\n",
       " '    use Python!\\n']"
      ]
     },
     "execution_count": 10,
     "metadata": {},
     "output_type": "execute_result"
    }
   ],
   "source": [
    "# Readlines returns a list of the lines in the file.\n",
    "f = open('./files/poem.txt')\n",
    "f.readlines()"
   ]
  },
  {
   "cell_type": "markdown",
   "metadata": {},
   "source": [
    "## The with statement\n",
    "You can also work with file objects using the with statement. It is designed to provide much cleaner syntax and exceptions handling when you are working with code. That explains why it’s good practice to use the with statement where applicable. \n",
    "\n",
    "One bonus of using this method is that **any files opened will be closed automatically** after you are done. This leaves less to worry about during cleanup. "
   ]
  },
  {
   "cell_type": "code",
   "execution_count": 45,
   "metadata": {
    "collapsed": false
   },
   "outputs": [
    {
     "name": "stdout",
     "output_type": "stream",
     "text": [
      "['\\n', 'Programming is fun\\n']\n"
     ]
    }
   ],
   "source": [
    "# returns the first 2 lines of the file\n",
    "with open(\"./files/poem.txt\") as myfile:\n",
    "    firstNlines = myfile.readlines()[0:2] #put here the interval you want\n",
    "    print(firstNlines)\n",
    "    "
   ]
  },
  {
   "cell_type": "code",
   "execution_count": 12,
   "metadata": {
    "collapsed": false
   },
   "outputs": [
    {
     "name": "stdout",
     "output_type": "stream",
     "text": [
      "['if you wanna make your work also fun:\\n', '    use Python!\\n']\n"
     ]
    }
   ],
   "source": [
    "# returns the last 2 lines of the file\n",
    "with open(\"./files/poem.txt\") as myfile:\n",
    "    firstNlines=myfile.readlines()[-2:] #put here the interval you want\n",
    "    print(firstNlines)\n",
    "    "
   ]
  },
  {
   "cell_type": "markdown",
   "metadata": {},
   "source": [
    "## Writing to a File\n",
    "\n",
    "By default, using the open() function will only allow us to read the file, we need to pass the argument 'w' to write over the file. For example:"
   ]
  },
  {
   "cell_type": "code",
   "execution_count": 48,
   "metadata": {
    "collapsed": true
   },
   "outputs": [],
   "source": [
    "# Add a second argument to the function, 'w' which stands for write\n",
    "my_file = open('./files/test.txt','w')"
   ]
  },
  {
   "cell_type": "code",
   "execution_count": 49,
   "metadata": {
    "collapsed": false
   },
   "outputs": [],
   "source": [
    "# Write to the file\n",
    "my_file.write('This is a new line')\n",
    "my_file.close()\n"
   ]
  },
  {
   "cell_type": "code",
   "execution_count": 50,
   "metadata": {
    "collapsed": false
   },
   "outputs": [
    {
     "data": {
      "text/plain": [
       "'This is a new line'"
      ]
     },
     "execution_count": 50,
     "metadata": {},
     "output_type": "execute_result"
    }
   ],
   "source": [
    "# Read the file\n",
    "my_file = open('./files/test.txt')\n",
    "my_file.read()"
   ]
  },
  {
   "cell_type": "markdown",
   "metadata": {},
   "source": [
    "## Iterating through a File\n",
    "\n",
    "Lets get a quick preview of a for loop by iterating over a text file. First let's make a new text file with some Jupyter Magic:"
   ]
  },
  {
   "cell_type": "code",
   "execution_count": 53,
   "metadata": {
    "collapsed": false
   },
   "outputs": [
    {
     "name": "stdout",
     "output_type": "stream",
     "text": [
      "Overwriting ./files/test.txt\n"
     ]
    }
   ],
   "source": [
    "%%writefile ./files/test.txt\n",
    "First Line\n",
    "Second Line\n",
    "Third Line"
   ]
  },
  {
   "cell_type": "markdown",
   "metadata": {},
   "source": [
    "Now we can use a little bit of flow to tell the program to for through every line of the file and do something:"
   ]
  },
  {
   "cell_type": "code",
   "execution_count": 54,
   "metadata": {
    "collapsed": false
   },
   "outputs": [
    {
     "name": "stdout",
     "output_type": "stream",
     "text": [
      "First Line\n",
      "Second Line\n",
      "Third Line"
     ]
    }
   ],
   "source": [
    "for line in open('./files/test.txt'):\n",
    "    print(line, end = '')"
   ]
  },
  {
   "cell_type": "markdown",
   "metadata": {},
   "source": [
    "## Iterating through a large file\n",
    "use a for loop.  See example below."
   ]
  },
  {
   "cell_type": "code",
   "execution_count": null,
   "metadata": {
    "collapsed": true
   },
   "outputs": [],
   "source": [
    "# PSEUDO-CODE - DO NOT RUN IT\n",
    "with open(\"log.txt\") as infile:\n",
    "    for line in infile:\n",
    "        do_something_with(line)"
   ]
  },
  {
   "cell_type": "markdown",
   "metadata": {
    "collapsed": true
   },
   "source": [
    "## File Handling with a While Loop"
   ]
  },
  {
   "cell_type": "code",
   "execution_count": 55,
   "metadata": {
    "collapsed": false
   },
   "outputs": [
    {
     "name": "stdout",
     "output_type": "stream",
     "text": [
      "Enter a to do list item: do homework\n",
      "Enter a to do list item: mown the lawn\n",
      "Enter a to do list item: watch tv\n",
      "Enter a to do list item: take out garbage\n",
      "Enter a to do list item: exit\n"
     ]
    }
   ],
   "source": [
    "# file handling example - a while loop\n",
    "toDoFile = open(\"toDoList.txt\", \"w\")\n",
    "\n",
    "toDoList = \"\"\n",
    "\n",
    "toDoItem = input(\"Enter a to do list item: \")\n",
    "\n",
    "while toDoItem != \"exit\":\n",
    "    toDoList = toDoList + toDoItem + \" \\n\"\n",
    "    toDoItem = input(\"Enter a to do list item: \")\n",
    "    \n",
    "toDoFile.write(toDoList)\n",
    "toDoFile.close()"
   ]
  },
  {
   "cell_type": "code",
   "execution_count": 57,
   "metadata": {
    "collapsed": false
   },
   "outputs": [
    {
     "name": "stdout",
     "output_type": "stream",
     "text": [
      "do homework \n",
      "mown the lawn \n",
      "watch tv \n",
      "take out garbage \n"
     ]
    }
   ],
   "source": [
    "# reading the toDoList file\n",
    "toDoList = open(\"toDoList.txt\")\n",
    "\n",
    "for line in toDoList:\n",
    "    print(line, end = '')\n",
    "    \n",
    "toDoList.close()"
   ]
  },
  {
   "cell_type": "markdown",
   "metadata": {},
   "source": [
    "## The Pickle Module\n",
    "Python provides a standard module called pickle which you can use to store any plain Python object in a file and then get it back later. This is called storing the object persistently.\n"
   ]
  },
  {
   "cell_type": "code",
   "execution_count": 58,
   "metadata": {
    "collapsed": false
   },
   "outputs": [
    {
     "name": "stdout",
     "output_type": "stream",
     "text": [
      "['apple', 'mango', 'carrot']\n"
     ]
    }
   ],
   "source": [
    "import pickle\n",
    "\n",
    "# The name of the file where we will store the object\n",
    "shoplistfile = './data/shoplist.data'\n",
    "# The list of things to buy\n",
    "shoplist = ['apple', 'mango', 'carrot']\n",
    "\n",
    "# Write to the file\n",
    "f = open(shoplistfile, 'wb') # write in binary mode\n",
    "pickle.dump(shoplist, f) # Dump the object to a file\n",
    "f.close()\n",
    "\n",
    "# Destroy the shoplist variable\n",
    "del shoplist\n",
    "\n",
    "# Read back from the storage\n",
    "f = open(shoplistfile, 'rb')\n",
    "storedlist = pickle.load(f) # Load the object from the file\n",
    "print(storedlist)\n",
    "f.close()"
   ]
  },
  {
   "cell_type": "markdown",
   "metadata": {},
   "source": [
    "How does it work?\n",
    "\n",
    "To store an object in a file, we have to first open the file in write binary mode and then call the dump function of the pickle module. This process is called pickling.\n",
    "\n",
    "Next, we retrieve the object using the load function of the pickle module which returns the object. This process is called unpickling."
   ]
  },
  {
   "cell_type": "markdown",
   "metadata": {},
   "source": [
    "## JSON files\n",
    "The JSON (**J**ava **S**cript **O**bject **N**otation) module allows you to dump simple Python data structures into a file and load the data from that file the next time the program runs. \n",
    "\n",
    "You can also use JSON to share data between different Python programs. \n",
    "\n",
    "Even better, the JSON data format is not specific to Python, so you can share data you store in the JSON format with people who work in many other programming languages. It’s a useful and **portable format**, and it’s easy to learn.  \n",
    "\n",
    "The JSON file format is often used with web applications (i.e: Facebook, Twitter, Yahoo, Google, Tumblr, Wikipedia ...\".\n",
    "\n",
    "See example below.\u0000"
   ]
  },
  {
   "cell_type": "code",
   "execution_count": 59,
   "metadata": {
    "collapsed": false
   },
   "outputs": [],
   "source": [
    "# this script will create a json file from a python dictionary.\n",
    "import json\n",
    "\n",
    "data = {}  \n",
    "data['people'] = []  \n",
    "data['people'].append({  \n",
    "    'name': 'Scott',\n",
    "    'website': 'yahoo.com',\n",
    "    'from': 'Nebraska'\n",
    "})\n",
    "data['people'].append({  \n",
    "    'name': 'Larry',\n",
    "    'website': 'google.com',\n",
    "    'from': 'Michigan'\n",
    "})\n",
    "data['people'].append({  \n",
    "    'name': 'Tim',\n",
    "    'website': 'apple.com',\n",
    "    'from': 'Alabama'\n",
    "})\n",
    "\n",
    "with open('./data/data.json', 'w') as outfile:  \n",
    "    json.dump(data, outfile)\n"
   ]
  },
  {
   "cell_type": "code",
   "execution_count": 25,
   "metadata": {
    "collapsed": false
   },
   "outputs": [
    {
     "name": "stdout",
     "output_type": "stream",
     "text": [
      "Name: Scott\n",
      "Website: yahoo.com\n",
      "From: Nebraska\n",
      "\n",
      "Name: Larry\n",
      "Website: google.com\n",
      "From: Michigan\n",
      "\n",
      "Name: Tim\n",
      "Website: apple.com\n",
      "From: Alabama\n",
      "\n"
     ]
    }
   ],
   "source": [
    "# reading the json file just created\n",
    "import json\n",
    "\n",
    "with open('./data/data.json') as json_file:  \n",
    "    images = json.load(json_file)\n",
    "    for p in images['people']:\n",
    "        print('Name: ' + p['name'])\n",
    "        print('Website: ' + p['website'])\n",
    "        print('From: ' + p['from'])\n",
    "        print('')"
   ]
  },
  {
   "cell_type": "markdown",
   "metadata": {},
   "source": [
    "NOTE: json.load is the important method to note here. It reads the string from the file, parses the JSON data, populates a Python dict with the data and returns it back to you."
   ]
  },
  {
   "cell_type": "markdown",
   "metadata": {},
   "source": [
    "## Unicode\n",
    "So far, when we have been writing and using strings, or reading and writing to a file, we have used simple English characters only. Both English and non-English characters can be represented in Unicode (please see the articles at the end of this section for more info), and Python 3 by default stores string variables (think of all that text we wrote using single or double or triple quotes) in Unicode.\n",
    "\n",
    "NOTE: If you are using Python 2, and we want to be able to read and write other non-English languages, we need to use the unicode type, and it all starts with the character u, e.g. u\"hello world\"\n",
    "\n",
    "**Articles**:\n",
    "\n",
    "[\"The Absolute Minimum Every Software Developer Absolutely, Positively Must Know About Unicode and Character Sets\"](https://www.joelonsoftware.com/2003/10/08/the-absolute-minimum-every-software-developer-absolutely-positively-must-know-about-unicode-and-character-sets-no-excuses/)\n",
    "\n",
    "[\"Python Unicode Howto\"](https://docs.python.org/3/howto/unicode.html)\n"
   ]
  },
  {
   "cell_type": "markdown",
   "metadata": {},
   "source": [
    "When data is sent over the Internet, we need to send it in bytes... something your computer easily understands. The rules for translating Unicode (which is what Python uses when it stores a string) to bytes is called encoding. A popular encoding to use is UTF-8. We can read and write in UTF-8 by using a simple keyword argument in our open function. \n",
    "\n",
    "NOTE: UTF-8: UTF-8 (U from Universal Character Set + Transformation Format—8-bit) is a character encoding capable of encoding all possible characters (called code points) in Unicode. The encoding is variable-length and uses 8-bit code units.\n",
    "\n",
    "See example below.\n"
   ]
  },
  {
   "cell_type": "code",
   "execution_count": 64,
   "metadata": {
    "collapsed": false
   },
   "outputs": [
    {
     "name": "stdout",
     "output_type": "stream",
     "text": [
      "je suis française\n",
      "我是法国人\n",
      "\n"
     ]
    }
   ],
   "source": [
    "# encoding=utf-8\n",
    "with open('./files/my_file.txt','w') as f:\n",
    "    f.write(u\"je suis française\")\n",
    "    f.write(\"\\n\")\n",
    "    f.write(u\"我是法国人\")\n",
    "    f.write(\"\\n\")\n",
    "f.close()\n",
    "\n",
    "text = open(\"./files/my_file.txt\", encoding=\"utf-8\").read()\n",
    "print(text)"
   ]
  },
  {
   "cell_type": "code",
   "execution_count": 87,
   "metadata": {
    "collapsed": false
   },
   "outputs": [
    {
     "name": "stdout",
     "output_type": "stream",
     "text": [
      "je suis française, Ben fransız, 我是法国人, Я французский, أنا فرنسية\n"
     ]
    }
   ],
   "source": [
    "# other method using writelines method.\n",
    "line1 = u\"je suis française, \"\n",
    "line2 = u\"Ben fransız, \"\n",
    "line3 = u\"我是法国人, \"\n",
    "line4 = u\"Я французский, \"\n",
    "line5 = u\"أنا فرنسية\"\n",
    "\n",
    "# f = open(\"./files/abc.txt\", \"wt\", encoding=\"utf-8\")\n",
    "\n",
    "with open('./files/abc.txt','w', encoding='utf-8') as f:\n",
    "    f.writelines([line1, line2, line3, line4, line5])\n",
    "f.close()\n",
    "\n",
    "with open(\"./files/abc.txt\", encoding=\"utf-8\") as f:\n",
    "    text = f.read()\n",
    "    print(text)\n"
   ]
  },
  {
   "cell_type": "code",
   "execution_count": null,
   "metadata": {
    "collapsed": true
   },
   "outputs": [],
   "source": []
  }
 ],
 "metadata": {
  "kernelspec": {
   "display_name": "Python 3",
   "language": "python",
   "name": "python3"
  },
  "language_info": {
   "codemirror_mode": {
    "name": "ipython",
    "version": 3
   },
   "file_extension": ".py",
   "mimetype": "text/x-python",
   "name": "python",
   "nbconvert_exporter": "python",
   "pygments_lexer": "ipython3",
   "version": "3.5.2"
  }
 },
 "nbformat": 4,
 "nbformat_minor": 0
}
