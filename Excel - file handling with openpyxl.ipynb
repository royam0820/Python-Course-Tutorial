{
 "cells": [
  {
   "cell_type": "markdown",
   "metadata": {},
   "source": [
    "# Python-Excel Integration\n",
    "package openpyxl\n",
    "[openpyxl](https://openpyxl.readthedocs.io/en/default/)\n",
    "\n",
    "OpenPyXL is a library used to read and write Excel 2010 xlsx/xlsm/xltx/xltm files.\n",
    "You can use other spreadsheet softwares, such as LibreOffice Calc and OpenOffice Calc."
   ]
  },
  {
   "cell_type": "markdown",
   "metadata": {},
   "source": [
    "## Installing the package\n",
    "package openpyxl.\n",
    "\n",
    "If Python has been installed via anaconda then you do not need to do the following steps."
   ]
  },
  {
   "cell_type": "code",
   "execution_count": 1,
   "metadata": {
    "collapsed": true
   },
   "outputs": [],
   "source": [
    "#!pip3 install openpyxl"
   ]
  },
  {
   "cell_type": "code",
   "execution_count": null,
   "metadata": {
    "collapsed": false
   },
   "outputs": [],
   "source": [
    "warnings.filterwarnings(\"default\", \"\", DeprecationWarning, \"\", 0)"
   ]
  },
  {
   "cell_type": "markdown",
   "metadata": {},
   "source": [
    "NOTE: -- Specific to my jupyter notebook --.the code above removes the warning for this  error: \"DeprecationWarning: Interpreting naive datetime as local 2018-09-05 07:08:07.599023. Please add timezone info to timestamps. new_obj[k] = extract_dates(v)\"."
   ]
  },
  {
   "cell_type": "markdown",
   "metadata": {},
   "source": [
    "## Creating a worksheet\n",
    "Name of the worksheet: demo.xlsx"
   ]
  },
  {
   "cell_type": "code",
   "execution_count": null,
   "metadata": {
    "collapsed": false
   },
   "outputs": [],
   "source": [
    "# creating a workbook\n",
    "\n",
    "# import Workbook\n",
    "from openpyxl import Workbook\n",
    "\n",
    "# create Workbook object\n",
    "wb=Workbook()\n",
    "\n",
    "# set file path\n",
    "filepath=\"./data/demo.xlsx\"\n",
    "\n",
    "# save workbook \n",
    "wb.save(filepath)\n"
   ]
  },
  {
   "cell_type": "markdown",
   "metadata": {},
   "source": [
    "NOTE1:  There is no need to create a file on the filesystem to get started with openpyxl. Just import the Workbook class and start using it. \n",
    "The instruction below will create a workbook.\n",
    "\n",
    "    from openpyxl import Workbook\n",
    "    \n",
    "NOTE2: A workbook is always created with at least one worksheet.  \n"
   ]
  },
  {
   "cell_type": "markdown",
   "metadata": {},
   "source": [
    "## Adding data to a workbook"
   ]
  },
  {
   "cell_type": "code",
   "execution_count": null,
   "metadata": {
    "collapsed": false
   },
   "outputs": [],
   "source": [
    "# import load_workbook\n",
    "from openpyxl import load_workbook\n",
    "\n",
    "# set file path\n",
    "filepath=\"./data/demo.xlsx\"\n",
    "\n",
    "# load demo.xlsx \n",
    "wb=load_workbook(filepath)\n",
    "\n",
    "\n",
    "# select demo.xlsx\n",
    "ws=wb.active\n",
    "\n",
    "# set value for cells A1 and A2\n",
    "ws['A1'] = 56\n",
    "ws['A2'] = 43\n",
    "    \n",
    "# set value for cell B2=2\n",
    "ws.cell(row=2, column=2).value = 2\n",
    "\n",
    "# save workbook \n",
    "wb.save(filepath)"
   ]
  },
  {
   "cell_type": "markdown",
   "metadata": {},
   "source": [
    "NOTE: When loading a file, use the following type of import:\n",
    "\n",
    "    from openpyxl import load_workbook\n",
    "    "
   ]
  },
  {
   "cell_type": "markdown",
   "metadata": {},
   "source": [
    "## Appending data "
   ]
  },
  {
   "cell_type": "code",
   "execution_count": null,
   "metadata": {
    "collapsed": false
   },
   "outputs": [],
   "source": [
    "# appending group of values at the bottom of the current sheet\n",
    "\n",
    "# import Workbook\n",
    "from openpyxl import Workbook\n",
    "\n",
    "# create Workbook object\n",
    "wb=Workbook()\n",
    "\n",
    "# set file path\n",
    "filepath=\"./data/demo.xlsx\"\n",
    "\n",
    "# select demo.xlsx\n",
    "ws=wb.active\n",
    "\n",
    "# create a data set\n",
    "data=[('Id','Name','Marks'),\n",
    "      (1,'ABC',50),\n",
    "      (2,'DEF',100)]\n",
    "\n",
    "# append all rows\n",
    "for row in data:\n",
    "    ws.append(row)\n",
    "    \n",
    "# save file\n",
    "wb.save(filepath)"
   ]
  },
  {
   "cell_type": "markdown",
   "metadata": {},
   "source": [
    "## Reading cells from a worksheeta\n"
   ]
  },
  {
   "cell_type": "code",
   "execution_count": null,
   "metadata": {
    "collapsed": false
   },
   "outputs": [],
   "source": [
    "# reading cells from a sheet\n",
    "\n",
    "# import load_workbook\n",
    "from openpyxl import load_workbook\n",
    "\n",
    "# set file path\n",
    "filepath=\"./data/demo.xlsx\"\n",
    "\n",
    "# load demo.xlsx \n",
    "wb=load_workbook(filepath)\n",
    "\n",
    "# select demo.xlsx\n",
    "ws=wb.active\n",
    "\n",
    "# get b1 cell value\n",
    "b1=ws['B1'].value\n",
    "\n",
    "# get b2 cell value\n",
    "b2=ws['B2'].value\n",
    "\n",
    "# get b3 cell value\n",
    "b3=ws.cell(row=3,column=2)\n",
    "b3=ws['B3'].value\n",
    "\n",
    "# print b1, b2 and b3\n",
    "print(b1)\n",
    "print(b2)\n",
    "print(b3)\n",
    "\n"
   ]
  },
  {
   "cell_type": "markdown",
   "metadata": {},
   "source": [
    "## Reading multiple cells"
   ]
  },
  {
   "cell_type": "code",
   "execution_count": null,
   "metadata": {
    "collapsed": false
   },
   "outputs": [],
   "source": [
    "\n",
    "# reading cells from a sheet\n",
    "\n",
    "# import load_workbook\n",
    "from openpyxl import load_workbook\n",
    "\n",
    "# set file path\n",
    "filepath=\"./data/items.xlsx\"\n",
    "#filepath=\"./data/demo.xlsx\"\n",
    "\n",
    "# load demo.xlsx \n",
    "wb=load_workbook(filepath)\n",
    "\n",
    "# select demo.xlsx\n",
    "ws=wb.active\n",
    "\n",
    "# cells range - we use a slicing operation and read data from 2 columns\n",
    "cells = ws['A1':'B6']\n",
    "\n",
    "for c1, c2 in cells:\n",
    "    print(\"{0:8} {1:8}\".format(c1.value, c2.value))\n"
   ]
  },
  {
   "cell_type": "markdown",
   "metadata": {},
   "source": [
    "## Iterating by rows"
   ]
  },
  {
   "cell_type": "code",
   "execution_count": null,
   "metadata": {
    "collapsed": false
   },
   "outputs": [],
   "source": [
    "#!/usr/bin/python3\n",
    "\n",
    "# Iterating row by row\n",
    "\n",
    "from openpyxl import Workbook\n",
    "\n",
    "wb = Workbook()\n",
    "ws = wb.active\n",
    "\n",
    "rows = (\n",
    "    (88, 46, 57),\n",
    "    (89, 38, 12),\n",
    "    (23, 59, 78),\n",
    "    (56, 21, 98),\n",
    "    (24, 18, 43),\n",
    "    (34, 15, 67)\n",
    ")\n",
    "\n",
    "for row in rows:\n",
    "    ws.append(row)\n",
    "\n",
    "# print - we provide boundaries for the operations   \n",
    "for row in ws.iter_rows(min_row=1, min_col=1, max_row=6, max_col=3):\n",
    "    for cell in row:\n",
    "        print(cell.value, end=\" \")\n",
    "    print()    \n",
    "\n",
    "wb.save('./data/iterbyrows.xlsx')\n"
   ]
  },
  {
   "cell_type": "markdown",
   "metadata": {},
   "source": [
    "NOTE:  The ws.iter_rows() method will return rows"
   ]
  },
  {
   "cell_type": "markdown",
   "metadata": {},
   "source": [
    "## Iterating by columns\n"
   ]
  },
  {
   "cell_type": "code",
   "execution_count": null,
   "metadata": {
    "collapsed": false
   },
   "outputs": [],
   "source": [
    "#!/usr/bin/python3\n",
    "# interating by columns\n",
    "\n",
    "from openpyxl import Workbook\n",
    "\n",
    "wb = Workbook()\n",
    "ws = wb.active\n",
    "\n",
    "rows = (\n",
    "    (88, 46, 57),\n",
    "    (89, 38, 12),\n",
    "    (23, 59, 78),\n",
    "    (56, 21, 98),\n",
    "    (24, 18, 43),\n",
    "    (34, 15, 67)\n",
    ")\n",
    "\n",
    "for row in rows:\n",
    "    ws.append(row)\n",
    "\n",
    "# iterating by columns\n",
    "for row in ws.iter_cols(min_row=1, min_col=1, max_row=6, max_col=3):\n",
    "    for cell in row:\n",
    "        print(cell.value, end=\" \")\n",
    "    print()    \n",
    "\n",
    "wb.save('./data/iterbycols.xlsx')"
   ]
  },
  {
   "cell_type": "markdown",
   "metadata": {},
   "source": [
    "NOTE:  The ws.iter_cols() method will return columns."
   ]
  },
  {
   "cell_type": "markdown",
   "metadata": {},
   "source": [
    "## Adding a sheet\n"
   ]
  },
  {
   "cell_type": "code",
   "execution_count": null,
   "metadata": {
    "collapsed": false
   },
   "outputs": [],
   "source": [
    "# Adding sheet to a workbook\n",
    "\n",
    "# import load_workbook\n",
    "from openpyxl import load_workbook\n",
    "\n",
    "# set file path\n",
    "filepath=\"./data/demo.xlsx\"\n",
    "\n",
    "# load demo.xlsx \n",
    "wb=load_workbook(filepath)\n",
    "\n",
    "# create new sheet\n",
    "wb.create_sheet('Sheet 2')\n",
    "\n",
    "# print  the worksheets\n",
    "for sheet in wb.worksheets:\n",
    "    print(sheet)\n",
    "    \n",
    "# save workbook\n",
    "wb.save(filepath)"
   ]
  },
  {
   "cell_type": "markdown",
   "metadata": {},
   "source": [
    "## Copying data from one sheet to another sheet"
   ]
  },
  {
   "cell_type": "code",
   "execution_count": null,
   "metadata": {
    "collapsed": false
   },
   "outputs": [],
   "source": [
    "# copying data from one sheet to another\n",
    "\n",
    "# import load_workbook\n",
    "from openpyxl import load_workbook\n",
    "\n",
    "# set file path\n",
    "filepath=\"./data/demo.xlsx\"\n",
    "\n",
    "# load demo.xlsx \n",
    "wb=load_workbook(filepath)\n",
    "\n",
    "\n",
    "# get Sheet - first worksheet\n",
    "#source=wb.get_sheet_by_name('Sheet') #depreciated\n",
    "source= wb['Sheet']\n",
    "\n",
    "# copy sheet\n",
    "target=wb.copy_worksheet(source)\n",
    "\n",
    "# getting the sheets\n",
    "for sheet in wb.worksheets:\n",
    "    print(sheet)\n",
    "\n",
    "# save workbook\n",
    "wb.save(filepath)\n"
   ]
  },
  {
   "cell_type": "markdown",
   "metadata": {},
   "source": [
    "NOTE: The function copy_worksheet() cannot copy worksheets between workbooks. worksheets can only be copied within the workbook that they belong."
   ]
  },
  {
   "cell_type": "markdown",
   "metadata": {},
   "source": [
    "## Removing a worksheet\n"
   ]
  },
  {
   "cell_type": "code",
   "execution_count": null,
   "metadata": {
    "collapsed": false
   },
   "outputs": [],
   "source": [
    "# removing a worksheet\n",
    "\n",
    "# import load_workbook\n",
    "from openpyxl import load_workbook\n",
    "\n",
    "# set file path\n",
    "filepath=\"./data/demo.xlsx\"\n",
    "\n",
    "# load demo.xlsx \n",
    "wb=load_workbook(filepath)\n",
    "\n",
    "# create new sheet\n",
    "#wb.remove(wb.get_sheet_by_name('Sheet 2')) #depreciated\n",
    "wb.remove(wb['Sheet 2'])\n",
    "\n",
    "# getting the sheets\n",
    "for sheet in wb.worksheets:\n",
    "    print(sheet)\n",
    "\n",
    "# save workbook\n",
    "wb.save(filepath)\n"
   ]
  },
  {
   "cell_type": "markdown",
   "metadata": {},
   "source": [
    "## Excel - Working with formulas"
   ]
  },
  {
   "cell_type": "code",
   "execution_count": null,
   "metadata": {
    "collapsed": false
   },
   "outputs": [],
   "source": [
    "# Excel Formula\n",
    "\n",
    "from openpyxl import Workbook\n",
    "from copy import copy  # copying styles\n",
    "\n",
    "wb = Workbook()\n",
    "ws = wb.active\n",
    "\n",
    "rows = (\n",
    "    (34, 26),\n",
    "    (88, 36),\n",
    "    (24, 29),\n",
    "    (15, 22),\n",
    "    (56, 13),\n",
    "    (76, 18)\n",
    ")\n",
    "\n",
    "for row in rows:\n",
    "    ws.append(row)\n",
    "\n",
    "# position the total cell computation\n",
    "cell = ws.cell(row=7, column=2)\n",
    "cell.value = \"=SUM(A1:B6)\"\n",
    "\n",
    "# cell font type\n",
    "new_font = copy(cell.font)\n",
    "new_font.strike = True\n",
    "cell.font = new_font\n",
    "#cell.font = cell.font.copy(bold=True) depreciated\n",
    "\n",
    "wb.save('./data/formulas.xlsx')"
   ]
  },
  {
   "cell_type": "markdown",
   "metadata": {},
   "source": [
    "## Excel - Merging Cells"
   ]
  },
  {
   "cell_type": "code",
   "execution_count": null,
   "metadata": {
    "collapsed": false
   },
   "outputs": [],
   "source": [
    "#!/usr/bin/python3\n",
    "# Merging Cells\n",
    "\n",
    "from openpyxl import Workbook\n",
    "from openpyxl.styles import Alignment\n",
    "\n",
    "wb = Workbook()\n",
    "ws = wb.active\n",
    "\n",
    "ws.merge_cells('A1:B2')\n",
    "\n",
    "cell = ws.cell(row=1, column=1)\n",
    "cell.value = 'Sunny day'\n",
    "cell.alignment = Alignment(horizontal='center', vertical='center')\n",
    "\n",
    "wb.save('./data/merging.xlsx')\n"
   ]
  },
  {
   "cell_type": "markdown",
   "metadata": {},
   "source": [
    "## Excel - Adding Images"
   ]
  },
  {
   "cell_type": "code",
   "execution_count": null,
   "metadata": {
    "collapsed": false
   },
   "outputs": [],
   "source": [
    "#!/usr/bin/python3\n",
    "# adding an image in a worksheet\n",
    "\n",
    "from openpyxl import Workbook\n",
    "from openpyxl.drawing.image import Image\n",
    "\n",
    "wb = Workbook()\n",
    "ws = wb.active\n",
    "\n",
    "img = Image(\"../img/python.png\")\n",
    "ws['A1'] = 'This is Python'\n",
    "\n",
    "ws.add_image(img, 'B2')\n",
    "\n",
    "wb.save(\"./data/sheet_image.xlsx\")"
   ]
  },
  {
   "cell_type": "markdown",
   "metadata": {},
   "source": [
    "## Excel - Bar Chart\n",
    "In bar charts values are plotted as either horizontal bars or vertical columns."
   ]
  },
  {
   "cell_type": "code",
   "execution_count": null,
   "metadata": {
    "collapsed": false
   },
   "outputs": [],
   "source": [
    "#!/usr/bin/python3\n",
    "# adding an image in a worksheet\n",
    "# Chart\n",
    "# Number of gold medal per countries (2012)\n",
    "\n",
    "#!/usr/bin/python3\n",
    "\n",
    "from openpyxl import Workbook\n",
    "from openpyxl.chart import (\n",
    "    Reference,\n",
    "    Series,\n",
    "    BarChart\n",
    ")\n",
    "\n",
    "# A new workwb is created.\n",
    "wb = Workbook()\n",
    "ws = wb.active\n",
    "\n",
    "# We create some data and add it to the cells of the active ws.\n",
    "rows = [\n",
    "    (\"USA\", 46),\n",
    "    (\"China\", 38),\n",
    "    (\"UK\", 29),\n",
    "    (\"Russia\", 22),\n",
    "    (\"South Korea\", 13),\n",
    "    (\"Germany\", 11)\n",
    "]\n",
    "\n",
    "for row in rows:\n",
    "    ws.append(row)\n",
    "\n",
    "# With the Reference class, we refer to the rows in the ws that represent data.\n",
    "# In our case, these are the numbers of olympic gold medals.    \n",
    "data = Reference(ws, min_col=2, min_row=1, max_col=2, max_row=6)\n",
    "\n",
    "# We create a category axis. A category axis is an axis with the data treated as a sequence of non-numerical text labels.\n",
    "# In our case, we have text labels representing names of countries.\n",
    "categs = Reference(ws, min_col=1, min_row=1, max_row=6)\n",
    "\n",
    "# We create a bar chart and set it data and categories.\n",
    "chart = BarChart()\n",
    "chart.add_data(data=data)\n",
    "chart.set_categories(categs)\n",
    "\n",
    "# Using legend and majorGridlines attributes, we turn off the legends and major grid lines.\n",
    "chart.legend = None\n",
    "chart.y_axis.majorGridlines = None\n",
    "\n",
    "# Setting varyColors to True, each bar has a different colour.\n",
    "chart.varyColors = True\n",
    "\n",
    "# Setting the title for the bar chart\n",
    "chart.title = \"Olympic Gold medals in London\"\n",
    "\n",
    "# The created method is added to the ws using the add_chart() method\n",
    "ws.add_chart(chart, \"A8\")    \n",
    "\n",
    "wb.save(\"./data/bar_chart.xlsx\")"
   ]
  },
  {
   "cell_type": "markdown",
   "metadata": {},
   "source": [
    "File output:  ./data/bar_chart.xls\n",
    "![title](../img/excel-barChart.png)"
   ]
  },
  {
   "cell_type": "markdown",
   "metadata": {
    "collapsed": true
   },
   "source": [
    "## Excel - Bubble Chart\n",
    "Bubble charts are like scatter charts but use a third dimension to determine the size of the bubbles. Charts can include multiple series."
   ]
  },
  {
   "cell_type": "code",
   "execution_count": null,
   "metadata": {
    "collapsed": false
   },
   "outputs": [],
   "source": [
    "# Sample bubble chart\n",
    "\n",
    "from openpyxl import Workbook\n",
    "from openpyxl.chart import Series, Reference, BubbleChart\n",
    "\n",
    "wb = Workbook()\n",
    "ws = wb.active\n",
    "\n",
    "rows = [\n",
    "    (\"Number of Products\", \"Sales in USD\", \"Market share\"),\n",
    "    (14, 12200, 15),\n",
    "    (20, 60000, 33),\n",
    "    (18, 24400, 10),\n",
    "    (22, 32000, 42),\n",
    "    (),\n",
    "    (12, 8200, 18),\n",
    "    (15, 50000, 30),\n",
    "    (19, 22400, 15),\n",
    "    (25, 25000, 50),\n",
    "]\n",
    "\n",
    "for row in rows:\n",
    "    ws.append(row)\n",
    "\n",
    "chart = BubbleChart()\n",
    "chart.style = 18 # use a preset style\n",
    "\n",
    "# add the first series of data\n",
    "xvalues = Reference(ws, min_col=1, min_row=2, max_row=5)\n",
    "yvalues = Reference(ws, min_col=2, min_row=2, max_row=5)\n",
    "size = Reference(ws, min_col=3, min_row=2, max_row=5)\n",
    "series = Series(values=yvalues, xvalues=xvalues, zvalues=size, title=\"2013\")\n",
    "chart.series.append(series)\n",
    "\n",
    "# add the second\n",
    "xvalues = Reference(ws, min_col=1, min_row=7, max_row=10)\n",
    "yvalues = Reference(ws, min_col=2, min_row=7, max_row=10)\n",
    "size = Reference(ws, min_col=3, min_row=7, max_row=10)\n",
    "series = Series(values=yvalues, xvalues=xvalues, zvalues=size, title=\"2014\")\n",
    "chart.series.append(series)\n",
    "\n",
    "# place the chart starting in cell E1\n",
    "ws.add_chart(chart, \"E1\")\n",
    "wb.save(\"./data/bubble.xlsx\")"
   ]
  },
  {
   "cell_type": "markdown",
   "metadata": {},
   "source": [
    "File output:  ./data/bubble.xls\n",
    "![title](../img/excel-bubbleChart.png)"
   ]
  },
  {
   "cell_type": "code",
   "execution_count": null,
   "metadata": {
    "collapsed": true
   },
   "outputs": [],
   "source": []
  }
 ],
 "metadata": {
  "kernelspec": {
   "display_name": "Python 3",
   "language": "python",
   "name": "python3"
  },
  "language_info": {
   "codemirror_mode": {
    "name": "ipython",
    "version": 3
   },
   "file_extension": ".py",
   "mimetype": "text/x-python",
   "name": "python",
   "nbconvert_exporter": "python",
   "pygments_lexer": "ipython3",
   "version": "3.5.2"
  }
 },
 "nbformat": 4,
 "nbformat_minor": 2
}
