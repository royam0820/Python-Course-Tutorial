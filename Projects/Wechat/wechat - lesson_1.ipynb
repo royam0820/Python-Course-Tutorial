{
 "cells": [
  {
   "cell_type": "markdown",
   "metadata": {},
   "source": [
    "# WeChat \n",
    "\n",
    "WeChat (Chinese: 微信; pinyin:  literally: \"micro-message\") is a Chinese multi-purpose messaging, social media and mobile payment app developed by Tencent. It was first released in 2011, and by 2018 it was one of the world's largest standalone mobile apps by monthly active users,with over **1 billion monthly active users as of 2018. **\n",
    "\n",
    "\n",
    "<img src=\"./../../img/whatisWeChat.jpeg\", width=500, height=400>\n",
    "\n",
    "WeChat uses a uuid or token to log-in.\n",
    "uuid is the symbol of qrcode\n",
    "            - for logging in, you need to get a uuid first\n",
    "            - for downloading qrcode, you need to pass uuid to it\n",
    "            - for checking login status, uuid is also required\n",
    "            if uuid has timed out, just get another one.\n"
   ]
  },
  {
   "cell_type": "markdown",
   "metadata": {},
   "source": [
    "## Basic usage of WeChat Python API\n",
    "\n",
    "**Itchat** is an open source WeChat personal number interface.\n",
    "\n",
    "* Usage of the [Wechat Python API](https://itchat.readthedocs.io/zh/latest/) \n",
    "* Use WeChat App to scan a QR code to log in automatically.\n",
    "* Find the specified contact or group (Scan ccontact list)\n",
    "* Send information (text, image, file, audio, video, etc.) \n",
    "* Receive message (Receive message, and keep 'listening')\n",
    "* Answer a  message and give an automatic reply.\n",
    "* Custom complex message processing, such as: message archiving, replying to messages in the group (Advanced message processing and reply)"
   ]
  },
  {
   "cell_type": "markdown",
   "metadata": {},
   "source": [
    "## Wechat User Profile\n",
    "Below is an example:\n",
    "- Profile name: Tao Zhang\n",
    "- WeChat ID: ztdroid\n",
    "- Name: Guido Tao\n",
    "- Mobile: 180...\n",
    "- Description: Studying Chinese\n",
    "- Tags: Ataway\n",
    "- Region: Minghang, Shanghai\n",
    "- Album: the moments posts\n",
    "- More: (Groups the user belongs to as per your settings, a \n",
    "        Common Groups with him (2 groups)\n",
    "            - Tao Zhang, Daniel Fitzsimmons\n",
    "            - 打印\n",
    "        What's up"
   ]
  },
  {
   "cell_type": "markdown",
   "metadata": {},
   "source": [
    "### Wechat User Profile Settings\n",
    "- set  Remarks and Tags\n",
    "- share contact\n",
    "- Starred: if starred, your friend will be display on top of your contact list, for easier access.  No notification is sent\n",
    "- Hide my moments\n",
    "- Hide his moments\n",
    "- block\n",
    "- report"
   ]
  },
  {
   "cell_type": "markdown",
   "metadata": {},
   "source": [
    "## Wechat Group Profile - Chatrooms\n",
    "Below is the list of group attributes: \n",
    "\n",
    "- list of group members\n",
    "- Group Name:\n",
    "- Group QR Code:\n",
    "- Group Notice:\n",
    "- Manage Group:\n",
    "- Mini Programs in Chat:\n",
    "- Seach History: (group memebers, date, Media, files, links, music, transactions)\n",
    "- Mute Notifications: on/off\n",
    "- Sticky on Top: on/off\n",
    "- Save to Contacts: on/off\n",
    "- My Alias in Group: \n",
    "- On-Screen Names: on/off\n"
   ]
  },
  {
   "cell_type": "code",
   "execution_count": null,
   "metadata": {
    "collapsed": false
   },
   "outputs": [],
   "source": [
    "itchat.logout()"
   ]
  },
  {
   "cell_type": "markdown",
   "metadata": {},
   "source": [
    "## Importing modules "
   ]
  },
  {
   "cell_type": "code",
   "execution_count": 1,
   "metadata": {
    "collapsed": false
   },
   "outputs": [
    {
     "name": "stdout",
     "output_type": "stream",
     "text": [
      "█\r"
     ]
    }
   ],
   "source": [
    "# from __future__ import unicode_literals, division\n",
    "import time, datetime, requests, itchat\n",
    "from itchat.content import *"
   ]
  },
  {
   "cell_type": "code",
   "execution_count": null,
   "metadata": {
    "collapsed": false
   },
   "outputs": [],
   "source": [
    "# itchat directory to see all the objects, functions for this module\n",
    "dir(itchat)"
   ]
  },
  {
   "cell_type": "markdown",
   "metadata": {},
   "source": [
    "## Use WeChat App to scan QR code to login automatically"
   ]
  },
  {
   "cell_type": "code",
   "execution_count": 2,
   "metadata": {
    "collapsed": false
   },
   "outputs": [],
   "source": [
    "# hotReload=True: even if the program is closed,  you can re-open it within a certain period of time without rescanning the code.\n",
    "\n",
    "itchat.auto_login(hotReload=True) \n",
    "\n",
    "# itchat.auto_login(enableCmdQR=-2) # enableCmdQR=-2: Command line showing QR image\n"
   ]
  },
  {
   "cell_type": "markdown",
   "metadata": {},
   "source": [
    "## Find a specific contact or group\n",
    "\n",
    "Use the search_friends method to search for users. There are several ways to search:\n",
    "\n",
    "\n",
    "1. Get only your own user information\n",
    "\n",
    "2. Get any user by his 'NickName', his  'Alias', his 'RemarkName'\n",
    "\n",
    "3. Get users corresponding to a key:value pair"
   ]
  },
  {
   "cell_type": "markdown",
   "metadata": {},
   "source": [
    "### User Info and Friend Info"
   ]
  },
  {
   "cell_type": "code",
   "execution_count": 3,
   "metadata": {
    "collapsed": false
   },
   "outputs": [
    {
     "name": "stdout",
     "output_type": "stream",
     "text": [
      "{'City': '', 'RemarkPYQuanPin': '', 'ChatRoomId': 0, 'WebWxPluginSwitch': 0, 'MemberList': <ContactList: []>, 'SnsFlag': 49, 'MemberCount': 0, 'OwnerUin': 0, 'HeadImgUrl': '/cgi-bin/mmwebwx-bin/webwxgeticon?seq=1806046675&username=@60f473dc28c2d0f323b367eca9462e63ecd74776757193e040505fe6a24afe58&skey=@crypt_1438b1a5_057497721cbc4b2130e4eb0a210a752d', 'Signature': '', 'RemarkName': '', 'RemarkPYInitial': '', 'EncryChatRoomId': '', 'UserName': '@60f473dc28c2d0f323b367eca9462e63ecd74776757193e040505fe6a24afe58', 'HeadImgFlag': 1, 'AttrStatus': 0, 'Province': '', 'Statues': 0, 'DisplayName': '', 'Uin': 1023901641, 'StarFriend': 0, 'ContactFlag': 0, 'PYQuanPin': '', 'UniFriend': 0, 'PYInitial': '', 'AppAccountFlag': 0, 'NickName': 'Anne-Marie Codeacademy123', 'VerifyFlag': 0, 'Alias': '', 'Sex': 2, 'HideInputBarFlag': 0, 'KeyWord': ''}\n"
     ]
    }
   ],
   "source": [
    "# 1. Get your own user information and return your own attribute dictionary\n",
    "myInfo = itchat.search_friends()\n",
    "print(myInfo)"
   ]
  },
  {
   "cell_type": "code",
   "execution_count": 4,
   "metadata": {
    "collapsed": false
   },
   "outputs": [
    {
     "name": "stdout",
     "output_type": "stream",
     "text": [
      "NickName  : Anne-Marie Codeacademy123\n",
      "Alias A-ID: \n",
      "RemarkName: \n",
      "UserName  : @d81cfcfc32a960199763730d468a2ae2b0809b9547b0d5cce3219992564aa1a4\n"
     ]
    }
   ],
   "source": [
    "print('NickName  : {}'.format(myInfo['NickName']))\n",
    "print('Alias A-ID: {}'.format(myInfo['Alias']))\n",
    "print('RemarkName: {}'.format(myInfo['RemarkName']))\n",
    "print('UserName  : {}'.format(myInfo['UserName']))"
   ]
  },
  {
   "cell_type": "code",
   "execution_count": 5,
   "metadata": {
    "collapsed": false
   },
   "outputs": [
    {
     "name": "stdout",
     "output_type": "stream",
     "text": [
      "[<User: {'RemarkPYInitial': 'TAOZHANG', 'AttrStatus': 16875583, 'IsOwner': 0, 'RemarkPYQuanPin': 'TaoZhang', 'ContactFlag': 8257, 'MemberList': <ContactList: []>, 'UserName': '@4c773c6457d7aad0bdcd6e0b8cca79e1', 'ChatRoomId': 0, 'MemberCount': 0, 'Signature': '静坐常思己过，闲谈莫论人非。', 'Alias': '', 'OwnerUin': 0, 'HeadImgUrl': '/cgi-bin/mmwebwx-bin/webwxgeticon?seq=638943666&username=@4c773c6457d7aad0bdcd6e0b8cca79e1&skey=@crypt_1438b1a5_4f0717c561a21a414d0cd82cb48e4b46', 'Statues': 0, 'Uin': 0, 'StarFriend': 1, 'City': '闵行', 'RemarkName': 'Tao Zhang', 'DisplayName': '', 'Province': '上海', 'UniFriend': 0, 'PYInitial': 'GUIDOTAO', 'NickName': 'Guido Tao', 'HideInputBarFlag': 0, 'EncryChatRoomId': '', 'SnsFlag': 17, 'Sex': 1, 'KeyWord': 'ztd', 'PYQuanPin': 'GuidoTao', 'VerifyFlag': 0, 'AppAccountFlag': 0}>]\n"
     ]
    }
   ],
   "source": [
    "# 2 & 3. Get the user corresponding to the corresponding key value pair.\n",
    "\n",
    "#friend = itchat.search_friends(nickName=u'Guido Tao')\n",
    "#friend = itchat.search_friends(wechatAccount=u'Tao Zhang')\n",
    "friend = itchat.search_friends(remarkName=u'Tao Zhang')\n",
    "print(friend)"
   ]
  },
  {
   "cell_type": "markdown",
   "metadata": {},
   "source": [
    "NOTE: The u'Tao Zhang' in the search function: search_friends(remarkName=u'Tao Zhang') will convert the following string in a unicode (utf-8) format."
   ]
  },
  {
   "cell_type": "code",
   "execution_count": 6,
   "metadata": {
    "collapsed": false
   },
   "outputs": [
    {
     "name": "stdout",
     "output_type": "stream",
     "text": [
      "1\n"
     ]
    }
   ],
   "source": [
    "print(len(friend))"
   ]
  },
  {
   "cell_type": "code",
   "execution_count": 7,
   "metadata": {
    "collapsed": false
   },
   "outputs": [
    {
     "name": "stdout",
     "output_type": "stream",
     "text": [
      "NickName  : Guido Tao\n",
      "Alias A-ID: \n",
      "RemarkName: Tao Zhang\n",
      "UserName  : @4c773c6457d7aad0bdcd6e0b8cca79e1\n"
     ]
    }
   ],
   "source": [
    "for i in range(0, len(friend)):\n",
    "    print('NickName  : {}'.format(friend[i]['NickName']))\n",
    "    print('Alias A-ID: {}'.format(friend[i]['Alias']))\n",
    "    print('RemarkName: {}'.format(friend[i]['RemarkName']))\n",
    "    print('UserName  : {}'.format(friend[i]['UserName']))"
   ]
  },
  {
   "cell_type": "markdown",
   "metadata": {},
   "source": [
    "### Sending a Message to a Friend"
   ]
  },
  {
   "cell_type": "code",
   "execution_count": null,
   "metadata": {
    "collapsed": false
   },
   "outputs": [],
   "source": [
    "## Sending a message to a friend\n",
    "friend = itchat.search_friends(remarkName=u'Tao Zhang')\n",
    "TaoZhang = friend[0][\"UserName\"]\n",
    "message_content = 'Hey,how are you? Python class!'\n",
    "itchat.send(message_content,TaoZhang)"
   ]
  },
  {
   "cell_type": "code",
   "execution_count": null,
   "metadata": {
    "collapsed": false
   },
   "outputs": [],
   "source": [
    "## Sending a message to a friend using a random list of message\n",
    "import random\n",
    "friend = itchat.search_friends(remarkName=u'Tao Zhang')\n",
    "TaoZhang = friend[0][\"UserName\"]\n",
    "message_list = [u'Hey,dude',u'Are you ok?',u'What\\'s up']\n",
    "message_content = random.choice(message_list)\n",
    "print(message_content)\n",
    "itchat.send(message_content,TaoZhang)"
   ]
  },
  {
   "cell_type": "markdown",
   "metadata": {},
   "source": [
    "### Group Info - Chatroom\n",
    "\n",
    "Two methods:\n",
    "        1. to search a chatroom\n",
    "        itchat.search_chatrooms(name=u'Python Crash Course - Tuesday')\n",
    "        2. to get a chatroom\n",
    "        itchat.get_chatrooms()\n"
   ]
  },
  {
   "cell_type": "code",
   "execution_count": 8,
   "metadata": {
    "collapsed": false
   },
   "outputs": [
    {
     "name": "stdout",
     "output_type": "stream",
     "text": [
      "[<Chatroom: {'RemarkPYInitial': '', 'AttrStatus': 0, 'IsOwner': 1, 'RemarkPYQuanPin': '', 'ContactFlag': 3, 'MemberList': <ContactList: []>, 'Sex': 0, 'Self': <User: {'RemarkPYInitial': '', 'AttrStatus': 0, 'RemarkPYQuanPin': '', 'ContactFlag': 0, 'MemberList': <ContactList: []>, 'UserName': '@d81cfcfc32a960199763730d468a2ae2b0809b9547b0d5cce3219992564aa1a4', 'Sex': 2, 'OwnerUin': 0, 'MemberCount': 0, 'ChatRoomId': 0, 'HeadImgFlag': 1, 'DisplayName': '', 'WebWxPluginSwitch': 0, 'HeadImgUrl': '/cgi-bin/mmwebwx-bin/webwxgeticon?seq=188094703&username=@d81cfcfc32a960199763730d468a2ae2b0809b9547b0d5cce3219992564aa1a4&skey=@crypt_1438b1a5_4f0717c561a21a414d0cd82cb48e4b46', 'Statues': 0, 'UniFriend': 0, 'StarFriend': 0, 'City': '', 'RemarkName': '', 'Alias': '', 'Signature': '', 'Province': '', 'Uin': 1023901641, 'NickName': 'Anne-Marie Codeacademy123', 'HideInputBarFlag': 0, 'EncryChatRoomId': '', 'SnsFlag': 49, 'PYInitial': '', 'KeyWord': '', 'PYQuanPin': '', 'VerifyFlag': 0, 'AppAccountFlag': 0}>, 'OwnerUin': 0, 'MemberCount': 0, 'ChatRoomId': 0, 'Signature': '', 'Alias': '', 'AppAccountFlag': 0, 'HeadImgUrl': '/cgi-bin/mmwebwx-bin/webwxgetheadimg?seq=686867926&username=@@55c1b6cdd8201e3a3d821571037779af6da9c6c8a5dd8261e87cf76f49eeafcc&skey=@crypt_1438b1a5_4f0717c561a21a414d0cd82cb48e4b46', 'Statues': 1, 'UniFriend': 0, 'StarFriend': 0, 'RemarkName': '', 'City': '', 'PYQuanPin': 'PythonCrashCourseTuesday', 'DisplayName': '', 'Province': '', 'PYInitial': 'PYTHONCRASHCOURSETUESDAY', 'Uin': 0, 'NickName': 'Python Crash Course - Tuesday', 'HideInputBarFlag': 0, 'EncryChatRoomId': '', 'SnsFlag': 0, 'IsAdmin': None, 'UserName': '@@55c1b6cdd8201e3a3d821571037779af6da9c6c8a5dd8261e87cf76f49eeafcc', 'KeyWord': '', 'VerifyFlag': 0}>]\n"
     ]
    }
   ],
   "source": [
    "# Find group\n",
    "# group = itchat.search_chatrooms(name=u'Data Science')\n",
    "# group = itchat.search_chatrooms(name=u'陪聊妹UAT')\n",
    "group = itchat.search_chatrooms(name=u'Python Crash Course - Tuesday', )\n",
    "print(group)"
   ]
  },
  {
   "cell_type": "code",
   "execution_count": 48,
   "metadata": {
    "collapsed": false
   },
   "outputs": [
    {
     "name": "stdout",
     "output_type": "stream",
     "text": [
      "1\n"
     ]
    }
   ],
   "source": [
    "print(len(group))"
   ]
  },
  {
   "cell_type": "code",
   "execution_count": 44,
   "metadata": {
    "collapsed": false,
    "scrolled": true
   },
   "outputs": [
    {
     "name": "stdout",
     "output_type": "stream",
     "text": [
      "NickName  : Python Crash Course - Tuesday\n",
      "Alias A-ID: \n",
      "RemarkName: \n",
      "UserName  : @@55c1b6cdd8201e3a3d821571037779af6da9c6c8a5dd8261e87cf76f49eeafcc\n",
      "Is Owner? ( 0 for No | 1 for Yes ): 1\n",
      "MemberCount: 0\n",
      "Is Admin? : None\n",
      "\n",
      "\n",
      "*** test ***\n",
      "UserName  : @@55c1b6cdd8201e3a3d821571037779af6da9c6c8a5dd8261e87cf76f49eeafcc\n",
      "RemarkName: \n",
      "NickName  : Python Crash Course - Tuesday\n"
     ]
    }
   ],
   "source": [
    "for i in range(0, len(group)):\n",
    "    print('NickName  : {}'.format(group[i]['NickName']))\n",
    "    print('Alias A-ID: {}'.format(group[i]['Alias']))\n",
    "    print('RemarkName: {}'.format(group[i]['RemarkName']))\n",
    "    print('UserName  : {}'.format(group[i]['UserName']))\n",
    "    print('Is Owner? ( 0 for No | 1 for Yes ): {}'.format(group[0]['IsOwner']))\n",
    "    print('MemberCount: {}'.format(group[0]['MemberCount']))\n",
    "    print('Is Admin? : {}'.format(group[i]['IsAdmin']))\n",
    "    print('\\n')\n",
    "    print('*** test ***')\n",
    "    print('UserName  : {}'.format(group[0]['UserName']))\n",
    "    print('RemarkName: {}'.format(group[0]['RemarkName']))\n",
    "    print('NickName  : {}'.format(group[0]['NickName']))\n",
    "   "
   ]
  },
  {
   "cell_type": "code",
   "execution_count": 47,
   "metadata": {
    "collapsed": false
   },
   "outputs": [
    {
     "name": "stdout",
     "output_type": "stream",
     "text": [
      "NickName  : Python Crash Course - Tuesday\n",
      "Alias A-ID: \n",
      "RemarkName: \n",
      "UserName  : @@55c1b6cdd8201e3a3d821571037779af6da9c6c8a5dd8261e87cf76f49eeafcc\n",
      "Is Owner? ( 0 for No | 1 for Yes ): 1\n",
      "MemberCount: 0\n",
      "Is Admin? : None\n",
      "Owner : Anne-Marie Codeacademy123\n"
     ]
    }
   ],
   "source": [
    "# we can update the for loop to add the owner's information\n",
    "for i in range(0, len(group)):\n",
    "    print('NickName  : {}'.format(group[i]['NickName']))\n",
    "    print('Alias A-ID: {}'.format(group[i]['Alias']))\n",
    "    print('RemarkName: {}'.format(group[i]['RemarkName']))\n",
    "    print('UserName  : {}'.format(group[i]['UserName']))\n",
    "    print('Is Owner? ( 0 for No | 1 for Yes ): {}'.format(group[0]['IsOwner']))\n",
    "    print('MemberCount: {}'.format(group[i]['MemberCount']))\n",
    "    print('Is Admin? : {}'.format(group[i]['IsAdmin']))\n",
    "    print('Owner : {}'.format(group[i]['Self']['NickName']))"
   ]
  },
  {
   "cell_type": "markdown",
   "metadata": {},
   "source": [
    "NOTE 1: The group length has a length of one.  We can iterate in two ways and the results will still be the same, since the list has only one index, index 0."
   ]
  },
  {
   "cell_type": "markdown",
   "metadata": {},
   "source": [
    "NOTE 2:  A Wechat Group uuid has 2 @: ex.: @@192c1ff1cc279270895fed260391dfc32db03b02595b39678c606bcc5ad12ff4"
   ]
  },
  {
   "cell_type": "markdown",
   "metadata": {},
   "source": [
    "NOTE 3:  At index 0 for the **group** data structure, we need to browse through the key entry **'Self'**, to get the 'NickName' of the user and not the NickName of the group.\n",
    "\n",
    "![title](./../../img/WeChatGroupDataStructure.png)\n",
    "\n"
   ]
  },
  {
   "cell_type": "markdown",
   "metadata": {},
   "source": [
    "NOTE 4:  The nicely formatted data structure above was done by using this online formatter: http://www.bejson.com"
   ]
  },
  {
   "cell_type": "code",
   "execution_count": 3,
   "metadata": {
    "collapsed": false
   },
   "outputs": [],
   "source": [
    "# Access all the chatrooms for your login user profile\n",
    "groups = itchat.get_chatrooms()"
   ]
  },
  {
   "cell_type": "code",
   "execution_count": 18,
   "metadata": {
    "collapsed": false
   },
   "outputs": [
    {
     "name": "stdout",
     "output_type": "stream",
     "text": [
      "[<Chatroom: {'Sex': 0, 'MemberCount': 124, 'Signature': '', 'MemberList': <ContactList: []>, 'UserName': '@@79e25600652ba6ff778ffb041b6076cd11f6a9dfaf1e5d4e41c924a3bb49f8fc', 'Province': '', 'HideInputBarFlag': 0, 'RemarkPYQuanPin': '', 'City': '', 'IsOwner': 0, 'HeadImgUrl': '/cgi-bin/mmwebwx-bin/webwxgetheadimg?seq=686868262&username=@@79e25600652ba6ff778ffb041b6076cd11f6a9dfaf1e5d4e41c924a3bb49f8fc&skey=@crypt_1438b1a5_7f9aa0831e75330187559894bdbab97a', 'StarFriend': 0, 'AttrStatus': 0, 'DisplayName': '', 'Statues': 0, 'AppAccountFlag': 0, 'NickName': 'FoD MARKET Dulwich Pudong', 'SnsFlag': 0, 'ContactFlag': 2, 'RemarkName': '', 'Uin': 0, 'Alias': '', 'Self': <User: {'Sex': 2, 'RemarkPYQuanPin': '', 'Signature': '', 'MemberList': <ContactList: []>, 'UserName': '@2073c0fa8bc8ffc7f504fc8ba64503279753f3703d6ba5c1744fc2836ff14b02', 'Province': '', 'VerifyFlag': 0, 'MemberCount': 0, 'City': '', 'HeadImgFlag': 1, 'HeadImgUrl': '/cgi-bin/mmwebwx-bin/webwxgeticon?seq=1376737197&username=@2073c0fa8bc8ffc7f504fc8ba64503279753f3703d6ba5c1744fc2836ff14b02&skey=@crypt_1438b1a5_7f9aa0831e75330187559894bdbab97a', 'StarFriend': 0, 'AttrStatus': 0, 'SnsFlag': 49, 'AppAccountFlag': 0, 'NickName': 'Anne-Marie Codeacademy123', 'DisplayName': '', 'ContactFlag': 0, 'RemarkName': '', 'Alias': '', 'Uin': 1023901641, 'WebWxPluginSwitch': 0, 'UniFriend': 0, 'OwnerUin': 0, 'PYQuanPin': '', 'RemarkPYInitial': '', 'HideInputBarFlag': 0, 'Statues': 0, 'EncryChatRoomId': '', 'ChatRoomId': 0, 'KeyWord': '', 'PYInitial': ''}>, 'UniFriend': 0, 'OwnerUin': 0, 'PYQuanPin': '', 'PYInitial': '', 'VerifyFlag': 0, 'IsAdmin': None, 'EncryChatRoomId': '', 'ChatRoomId': 0, 'KeyWord': '', 'RemarkPYInitial': ''}>, <Chatroom: {'Sex': 0, 'MemberCount': 472, 'Signature': '', 'MemberList': <ContactList: []>, 'UserName': '@@de8d669549a13a3db38904d0d31be08df8c900fc6da9e285b0263560c8755d99', 'Province': '', 'HideInputBarFlag': 0, 'RemarkPYQuanPin': '', 'City': '', 'IsOwner': 0, 'HeadImgUrl': '/cgi-bin/mmwebwx-bin/webwxgetheadimg?seq=686864502&username=@@de8d669549a13a3db38904d0d31be08df8c900fc6da9e285b0263560c8755d99&skey=@crypt_1438b1a5_7f9aa0831e75330187559894bdbab97a', 'StarFriend': 0, 'AttrStatus': 0, 'DisplayName': '', 'Statues': 0, 'AppAccountFlag': 0, 'NickName': '🇫🇷 Les Français à 上海', 'SnsFlag': 0, 'ContactFlag': 2051, 'RemarkName': '', 'Uin': 0, 'Alias': '', 'Self': <User: {'Sex': 2, 'RemarkPYQuanPin': '', 'Signature': '', 'MemberList': <ContactList: []>, 'UserName': '@2073c0fa8bc8ffc7f504fc8ba64503279753f3703d6ba5c1744fc2836ff14b02', 'Province': '', 'VerifyFlag': 0, 'MemberCount': 0, 'City': '', 'HeadImgFlag': 1, 'HeadImgUrl': '/cgi-bin/mmwebwx-bin/webwxgeticon?seq=1376737197&username=@2073c0fa8bc8ffc7f504fc8ba64503279753f3703d6ba5c1744fc2836ff14b02&skey=@crypt_1438b1a5_7f9aa0831e75330187559894bdbab97a', 'StarFriend': 0, 'AttrStatus': 0, 'SnsFlag': 49, 'AppAccountFlag': 0, 'NickName': 'Anne-Marie Codeacademy123', 'DisplayName': '', 'ContactFlag': 0, 'RemarkName': '', 'Alias': '', 'Uin': 1023901641, 'WebWxPluginSwitch': 0, 'UniFriend': 0, 'OwnerUin': 0, 'PYQuanPin': '', 'RemarkPYInitial': '', 'HideInputBarFlag': 0, 'Statues': 0, 'EncryChatRoomId': '', 'ChatRoomId': 0, 'KeyWord': '', 'PYInitial': ''}>, 'UniFriend': 0, 'OwnerUin': 0, 'PYQuanPin': 'spanclassemojiemoji1f1eb1f1f7spanLesFran?aisshanghai', 'PYInitial': 'SPANCLASSEMOJIEMOJI1F1EB1F1F7SPANLESFRAN?AISSH', 'VerifyFlag': 0, 'IsAdmin': None, 'EncryChatRoomId': '', 'ChatRoomId': 0, 'KeyWord': '', 'RemarkPYInitial': ''}>, <Chatroom: {'Sex': 0, 'MemberCount': 26, 'Signature': '', 'MemberList': <ContactList: []>, 'UserName': '@@9ea76427df1ce843da6856474e98dd4a1bca2853b3c463e3e7e0d03b3b87f7d8', 'Province': '', 'HideInputBarFlag': 0, 'RemarkPYQuanPin': '', 'City': '', 'IsOwner': 0, 'HeadImgUrl': '/cgi-bin/mmwebwx-bin/webwxgetheadimg?seq=0&username=@@9ea76427df1ce843da6856474e98dd4a1bca2853b3c463e3e7e0d03b3b87f7d8&skey=@crypt_1438b1a5_7f9aa0831e75330187559894bdbab97a', 'StarFriend': 0, 'AttrStatus': 0, 'DisplayName': '', 'Statues': 0, 'AppAccountFlag': 0, 'NickName': 'family&amp;relativesspringfestival', 'SnsFlag': 0, 'ContactFlag': 0, 'RemarkName': '', 'Uin': 0, 'Alias': '', 'Self': <User: {'Sex': 2, 'RemarkPYQuanPin': '', 'Signature': '', 'MemberList': <ContactList: []>, 'UserName': '@2073c0fa8bc8ffc7f504fc8ba64503279753f3703d6ba5c1744fc2836ff14b02', 'Province': '', 'VerifyFlag': 0, 'MemberCount': 0, 'City': '', 'HeadImgFlag': 1, 'HeadImgUrl': '/cgi-bin/mmwebwx-bin/webwxgeticon?seq=1376737197&username=@2073c0fa8bc8ffc7f504fc8ba64503279753f3703d6ba5c1744fc2836ff14b02&skey=@crypt_1438b1a5_7f9aa0831e75330187559894bdbab97a', 'StarFriend': 0, 'AttrStatus': 0, 'SnsFlag': 49, 'AppAccountFlag': 0, 'NickName': 'Anne-Marie Codeacademy123', 'DisplayName': '', 'ContactFlag': 0, 'RemarkName': '', 'Alias': '', 'Uin': 1023901641, 'WebWxPluginSwitch': 0, 'UniFriend': 0, 'OwnerUin': 0, 'PYQuanPin': '', 'RemarkPYInitial': '', 'HideInputBarFlag': 0, 'Statues': 0, 'EncryChatRoomId': '', 'ChatRoomId': 0, 'KeyWord': '', 'PYInitial': ''}>, 'UniFriend': 0, 'OwnerUin': 0, 'PYQuanPin': '', 'PYInitial': '', 'VerifyFlag': 0, 'IsAdmin': None, 'EncryChatRoomId': '', 'ChatRoomId': 0, 'KeyWord': '', 'RemarkPYInitial': ''}>, <Chatroom: {'Sex': 0, 'MemberCount': 500, 'Signature': '', 'MemberList': <ContactList: []>, 'UserName': '@@797fe48294b65353f386f31cbdd11d9a0647511726132a467679231917d70fff', 'Province': '', 'HideInputBarFlag': 0, 'RemarkPYQuanPin': '', 'City': '', 'IsOwner': 0, 'HeadImgUrl': '/cgi-bin/mmwebwx-bin/webwxgetheadimg?seq=686859546&username=@@797fe48294b65353f386f31cbdd11d9a0647511726132a467679231917d70fff&skey=@crypt_1438b1a5_7f9aa0831e75330187559894bdbab97a', 'StarFriend': 0, 'AttrStatus': 0, 'DisplayName': '', 'Statues': 0, 'AppAccountFlag': 0, 'NickName': '#2 SH For Kids', 'SnsFlag': 0, 'ContactFlag': 2051, 'RemarkName': '', 'Uin': 0, 'Alias': '', 'Self': <User: {'Sex': 2, 'RemarkPYQuanPin': '', 'Signature': '', 'MemberList': <ContactList: []>, 'UserName': '@2073c0fa8bc8ffc7f504fc8ba64503279753f3703d6ba5c1744fc2836ff14b02', 'Province': '', 'VerifyFlag': 0, 'MemberCount': 0, 'City': '', 'HeadImgFlag': 1, 'HeadImgUrl': '/cgi-bin/mmwebwx-bin/webwxgeticon?seq=1376737197&username=@2073c0fa8bc8ffc7f504fc8ba64503279753f3703d6ba5c1744fc2836ff14b02&skey=@crypt_1438b1a5_7f9aa0831e75330187559894bdbab97a', 'StarFriend': 0, 'AttrStatus': 0, 'SnsFlag': 49, 'AppAccountFlag': 0, 'NickName': 'Anne-Marie Codeacademy123', 'DisplayName': '', 'ContactFlag': 0, 'RemarkName': '', 'Alias': '', 'Uin': 1023901641, 'WebWxPluginSwitch': 0, 'UniFriend': 0, 'OwnerUin': 0, 'PYQuanPin': '', 'RemarkPYInitial': '', 'HideInputBarFlag': 0, 'Statues': 0, 'EncryChatRoomId': '', 'ChatRoomId': 0, 'KeyWord': '', 'PYInitial': ''}>, 'UniFriend': 0, 'OwnerUin': 0, 'PYQuanPin': '2SHForKids', 'PYInitial': '2SHFORKIDS', 'VerifyFlag': 0, 'IsAdmin': None, 'EncryChatRoomId': '', 'ChatRoomId': 0, 'KeyWord': '', 'RemarkPYInitial': ''}>, <Chatroom: {'Sex': 0, 'MemberCount': 268, 'Signature': '', 'MemberList': <ContactList: [<ChatroomMember: {'NickName': 'Sab Boyet🇫🇷', 'MemberList': <ContactList: []>, 'UserName': '@767c11d10b16fde6ef95fdfea006ffb8dd5e8f2ea7ed79763fceea155706bf25', 'Uin': 0, 'MemberStatus': 0, 'RemarkPYQuanPin': '', 'PYQuanPin': '', 'PYInitial': '', 'AttrStatus': 36016165, 'DisplayName': '', 'KeyWord': '', 'RemarkPYInitial': ''}>, <ChatroomMember: {'NickName': 'Marie Bastien', 'MemberList': <ContactList: []>, 'UserName': '@e0d1a260543441a791429006f96828ffc9dd8d5e4fe604aa90e5215a57f8b7af', 'Uin': 0, 'MemberStatus': 0, 'RemarkPYQuanPin': '', 'PYQuanPin': '', 'PYInitial': '', 'AttrStatus': 102437, 'DisplayName': '', 'KeyWord': '', 'RemarkPYInitial': ''}>, <ChatroomMember: {'NickName': 'Sabine Virieu 🇨🇳🛫🗽', 'MemberList': <ContactList: []>, 'UserName': '@8e730b3ef18cffffcb7716f722fd2f8060fd0b2611acdcff1ff1b90f43ff6a12', 'Uin': 0, 'MemberStatus': 0, 'RemarkPYQuanPin': '', 'PYQuanPin': '', 'PYInitial': '', 'AttrStatus': 102439, 'DisplayName': '', 'KeyWord': '', 'RemarkPYInitial': ''}>, <ChatroomMember: {'NickName': 'Carole Property', 'MemberList': <ContactList: []>, 'UserName': '@7ae4208bf5fe5778e8ba74b1a5db5b3623b9c1f3ed10409b12cc05bb00237751', 'Uin': 0, 'MemberStatus': 0, 'RemarkPYQuanPin': '', 'PYQuanPin': '', 'PYInitial': '', 'AttrStatus': 37752935, 'DisplayName': 'Admin - Carole', 'KeyWord': '', 'RemarkPYInitial': ''}>, <ChatroomMember: {'NickName': 'Benoit', 'MemberList': <ContactList: []>, 'UserName': '@ffc04fda4143eb8d03ebbe73b14db314cd70c0fdef5acc8458b2e4680fce01b7', 'Uin': 0, 'MemberStatus': 0, 'RemarkPYQuanPin': '', 'PYQuanPin': '', 'PYInitial': '', 'AttrStatus': 2200359, 'DisplayName': '', 'KeyWord': '', 'RemarkPYInitial': ''}>, <ChatroomMember: {'NickName': 'Enrique Portier', 'MemberList': <ContactList: []>, 'UserName': '@4d35e3d13ca8eab711012840c2a3d75b5dd88827376aa10f136ee959afc11f8b', 'Uin': 0, 'MemberStatus': 0, 'RemarkPYQuanPin': '', 'PYQuanPin': '', 'PYInitial': '', 'AttrStatus': 102437, 'DisplayName': '', 'KeyWord': '', 'RemarkPYInitial': ''}>, <ChatroomMember: {'NickName': 'Christel Peugeot Open Europe', 'MemberList': <ContactList: []>, 'UserName': '@433ed0f2e9f72bcab7ef3e0d60286fdeeb489484d504cc3caa6e4df72c33e99f', 'Uin': 0, 'MemberStatus': 0, 'RemarkPYQuanPin': '', 'PYQuanPin': '', 'PYInitial': '', 'AttrStatus': 98343, 'DisplayName': '', 'KeyWord': '', 'RemarkPYInitial': ''}>, <ChatroomMember: {'NickName': 'Camille Gerard', 'MemberList': <ContactList: []>, 'UserName': '@95ed70de99e808a35aca26b22040f66ae48dfd3a76f6ad10693e2758eb3866fe', 'Uin': 0, 'MemberStatus': 0, 'RemarkPYQuanPin': '', 'PYQuanPin': '', 'PYInitial': '', 'AttrStatus': 33558565, 'DisplayName': '', 'KeyWord': '', 'RemarkPYInitial': ''}>, <ChatroomMember: {'NickName': 'Anne-Elisabeth', 'MemberList': <ContactList: []>, 'UserName': '@1f3d132876f98f0954c4e90e0b361ba7f7c408a3f6eca5de61466d5722b61953', 'Uin': 0, 'MemberStatus': 0, 'RemarkPYQuanPin': '', 'PYQuanPin': '', 'PYInitial': '', 'AttrStatus': 102437, 'DisplayName': '', 'KeyWord': '', 'RemarkPYInitial': ''}>, <ChatroomMember: {'NickName': 'Anne-Marie Codeacademy123', 'MemberList': <ContactList: []>, 'UserName': '@2073c0fa8bc8ffc7f504fc8ba64503279753f3703d6ba5c1744fc2836ff14b02', 'Uin': 0, 'MemberStatus': 0, 'RemarkPYQuanPin': '', 'PYQuanPin': '', 'PYInitial': '', 'AttrStatus': 4292647, 'DisplayName': '', 'KeyWord': '', 'RemarkPYInitial': ''}>, <ChatroomMember: {'NickName': 'Anaïs', 'MemberList': <ContactList: []>, 'UserName': '@e2fa913ea6e8f8bfa96957cb6ed26fea777dcfc6c2b898dbb11afafa488043a3', 'Uin': 0, 'MemberStatus': 0, 'RemarkPYQuanPin': '', 'PYQuanPin': '', 'PYInitial': '', 'AttrStatus': 2147584191, 'DisplayName': '', 'KeyWord': '', 'RemarkPYInitial': ''}>, <ChatroomMember: {'NickName': 'Anne 🇩🇰🇫🇷', 'MemberList': <ContactList: []>, 'UserName': '@d7e834a60453aa75f947cba33e8e7ef01dfc581f85db139eb49d790f9de13135', 'Uin': 0, 'MemberStatus': 0, 'RemarkPYQuanPin': '', 'PYQuanPin': '', 'PYInitial': '', 'AttrStatus': 102437, 'DisplayName': '', 'KeyWord': '', 'RemarkPYInitial': ''}>, <ChatroomMember: {'NickName': 'Lucia 🌷', 'MemberList': <ContactList: []>, 'UserName': '@5081214477af3d570a0aabff3e8cd022ea0dfecdd750183cb6af8f0974380ffc', 'Uin': 0, 'MemberStatus': 0, 'RemarkPYQuanPin': '', 'PYQuanPin': '', 'PYInitial': '', 'AttrStatus': 102437, 'DisplayName': '', 'KeyWord': '', 'RemarkPYInitial': ''}>, <ChatroomMember: {'NickName': 'Karin Dumas 🇩🇰🇫🇷', 'MemberList': <ContactList: []>, 'UserName': '@ae0b0da09fb865f6046111525cbf32ac98c6d8a2f5a6bacb5c825da441cca2db', 'Uin': 0, 'MemberStatus': 0, 'RemarkPYQuanPin': '', 'PYQuanPin': '', 'PYInitial': '', 'AttrStatus': 100391, 'DisplayName': '', 'KeyWord': '', 'RemarkPYInitial': ''}>, <ChatroomMember: {'NickName': 'Karine Holinier', 'MemberList': <ContactList: []>, 'UserName': '@99c1d1152fb0ea758569ae13e37a97ce85c0142d7486a8d7f319d3b1223bbb8d', 'Uin': 0, 'MemberStatus': 0, 'RemarkPYQuanPin': '', 'PYQuanPin': '', 'PYInitial': '', 'AttrStatus': 102439, 'DisplayName': '', 'KeyWord': '', 'RemarkPYInitial': ''}>, <ChatroomMember: {'NickName': 'Jess Serrano', 'MemberList': <ContactList: []>, 'UserName': '@a2238cfaf39465aa9b6c6a1352715b3e4293c6679f4ab19157a9fd2af6153b11', 'Uin': 0, 'MemberStatus': 0, 'RemarkPYQuanPin': '', 'PYQuanPin': '', 'PYInitial': '', 'AttrStatus': 102437, 'DisplayName': '', 'KeyWord': '', 'RemarkPYInitial': ''}>, <ChatroomMember: {'NickName': 'Celine', 'MemberList': <ContactList: []>, 'UserName': '@0317cb0d69b441ad3ab9066205f774c3', 'Uin': 0, 'MemberStatus': 0, 'RemarkPYQuanPin': '', 'PYQuanPin': '', 'PYInitial': '', 'AttrStatus': 99367, 'DisplayName': '', 'KeyWord': '', 'RemarkPYInitial': ''}>, <ChatroomMember: {'NickName': 'Helene', 'MemberList': <ContactList: []>, 'UserName': '@454689b27dd98d6b5917d01281f9512ab77494887a07fefec2fd1e5fd1e4de94', 'Uin': 0, 'MemberStatus': 0, 'RemarkPYQuanPin': '', 'PYQuanPin': '', 'PYInitial': '', 'AttrStatus': 102439, 'DisplayName': '', 'KeyWord': '', 'RemarkPYInitial': ''}>, <ChatroomMember: {'NickName': 'laurence lajouanie lorans', 'MemberList': <ContactList: []>, 'UserName': '@003c7c9fe5e85a900833600a2305ddf12120465aceeeb4f68875cba81515bb7a', 'Uin': 0, 'MemberStatus': 0, 'RemarkPYQuanPin': '', 'PYQuanPin': '', 'PYInitial': '', 'AttrStatus': 102437, 'DisplayName': '', 'KeyWord': '', 'RemarkPYInitial': ''}>, <ChatroomMember: {'NickName': 'Séverine', 'MemberList': <ContactList: []>, 'UserName': '@eb46ef98ddb590eb706fc1c8df1962adbdcf1928d27756e3f79a90aca6a58bf7', 'Uin': 0, 'MemberStatus': 0, 'RemarkPYQuanPin': '', 'PYQuanPin': '', 'PYInitial': '', 'AttrStatus': 35917863, 'DisplayName': '', 'KeyWord': '', 'RemarkPYInitial': ''}>, <ChatroomMember: {'NickName': 'Hélène Poulin', 'MemberList': <ContactList: []>, 'UserName': '@72d6769bbf58d798fa23dc204cc6681453aa5478c619c6fe4a757af0f920fd0c', 'Uin': 0, 'MemberStatus': 0, 'RemarkPYQuanPin': '', 'PYQuanPin': '', 'PYInitial': '', 'AttrStatus': 33921575, 'DisplayName': '', 'KeyWord': '', 'RemarkPYInitial': ''}>, <ChatroomMember: {'NickName': 'steph', 'MemberList': <ContactList: []>, 'UserName': '@2991991378ce0d0218fffb687e178f3221d22876c9271cba9c66d5267ca01291', 'Uin': 0, 'MemberStatus': 0, 'RemarkPYQuanPin': '', 'PYQuanPin': '', 'PYInitial': '', 'AttrStatus': 33653539, 'DisplayName': '', 'KeyWord': '', 'RemarkPYInitial': ''}>, <ChatroomMember: {'NickName': 'Diane Kressmann de Buhan', 'MemberList': <ContactList: []>, 'UserName': '@e57feb81308b186b686d5257e73ff3e9', 'Uin': 0, 'MemberStatus': 0, 'RemarkPYQuanPin': '', 'PYQuanPin': '', 'PYInitial': '', 'AttrStatus': 2195526, 'DisplayName': '', 'KeyWord': '', 'RemarkPYInitial': ''}>, <ChatroomMember: {'NickName': 'Noémie', 'MemberList': <ContactList: []>, 'UserName': '@f00072c475b28497da01fc06d4a324ec98a04fb34002a7d1947a65ca4bdb0777', 'Uin': 0, 'MemberStatus': 0, 'RemarkPYQuanPin': '', 'PYQuanPin': '', 'PYInitial': '', 'AttrStatus': 34050341, 'DisplayName': '', 'KeyWord': '', 'RemarkPYInitial': ''}>, <ChatroomMember: {'NickName': 'Jerome Peugeot Open Europe', 'MemberList': <ContactList: []>, 'UserName': '@4a8c304d777fb9bdae0162dc0aee4803d94a8b494e46b742626393c23ab31f46', 'Uin': 0, 'MemberStatus': 0, 'RemarkPYQuanPin': '', 'PYQuanPin': '', 'PYInitial': '', 'AttrStatus': 6393861, 'DisplayName': '', 'KeyWord': '', 'RemarkPYInitial': ''}>, <ChatroomMember: {'NickName': 'Gaelle Pradillon', 'MemberList': <ContactList: []>, 'UserName': '@97fdcdfe6fd3ef7881a767569c716db683e7417d6ae2a63fee3e57ddd9ec6a3e', 'Uin': 0, 'MemberStatus': 0, 'RemarkPYQuanPin': '', 'PYQuanPin': '', 'PYInitial': '', 'AttrStatus': 33558565, 'DisplayName': '', 'KeyWord': '', 'RemarkPYInitial': ''}>, <ChatroomMember: {'NickName': 'Emilie.R', 'MemberList': <ContactList: []>, 'UserName': '@1a6ba56690635bee2ea903cdcf8ec7a18a65e57eb9c65eddf3a5df87ee56f556', 'Uin': 0, 'MemberStatus': 0, 'RemarkPYQuanPin': '', 'PYQuanPin': '', 'PYInitial': '', 'AttrStatus': 33656871, 'DisplayName': '', 'KeyWord': '', 'RemarkPYInitial': ''}>, <ChatroomMember: {'NickName': 'Virginie', 'MemberList': <ContactList: []>, 'UserName': '@4664e17571e199093634a888e584389bebc14af77d359edefcf16959fef13c0f', 'Uin': 0, 'MemberStatus': 0, 'RemarkPYQuanPin': '', 'PYQuanPin': '', 'PYInitial': '', 'AttrStatus': 98341, 'DisplayName': '', 'KeyWord': '', 'RemarkPYInitial': ''}>, <ChatroomMember: {'NickName': 'Kerline', 'MemberList': <ContactList: []>, 'UserName': '@1f1a460bf67763cb5f5be7b44704f3a1428a83deb414698b32785d28ef0bd45f', 'Uin': 0, 'MemberStatus': 0, 'RemarkPYQuanPin': '', 'PYQuanPin': '', 'PYInitial': '', 'AttrStatus': 98341, 'DisplayName': '', 'KeyWord': '', 'RemarkPYInitial': ''}>, <ChatroomMember: {'NickName': 'Fanny FG', 'MemberList': <ContactList: []>, 'UserName': '@52451ba6bbdb30d82697babcb3f72218eb7418c3887f40c8ba5e3fef4a7c35a5', 'Uin': 0, 'MemberStatus': 0, 'RemarkPYQuanPin': '', 'PYQuanPin': '', 'PYInitial': '', 'AttrStatus': 33919013, 'DisplayName': '', 'KeyWord': '', 'RemarkPYInitial': ''}>, <ChatroomMember: {'NickName': 'anne maynard', 'MemberList': <ContactList: []>, 'UserName': '@dbbd71764d40632da8369dbf7be2903b160a5e02cf782a5e0ca237ed8a380b32', 'Uin': 0, 'MemberStatus': 0, 'RemarkPYQuanPin': '', 'PYQuanPin': '', 'PYInitial': '', 'AttrStatus': 33919013, 'DisplayName': '', 'KeyWord': '', 'RemarkPYInitial': ''}>, <ChatroomMember: {'NickName': 'Del', 'MemberList': <ContactList: []>, 'UserName': '@481815e8d0593070b160dfe4f7ed6c8f', 'Uin': 0, 'MemberStatus': 0, 'RemarkPYQuanPin': '', 'PYQuanPin': '', 'PYInitial': '', 'AttrStatus': 98341, 'DisplayName': '', 'KeyWord': '', 'RemarkPYInitial': ''}>, <ChatroomMember: {'NickName': 'Gwen 🇫🇷', 'MemberList': <ContactList: []>, 'UserName': '@7ff0689055ea7f2d1546997d2ed10e00a1e8f2e9ca5ad3075f114c33d8e35987', 'Uin': 0, 'MemberStatus': 0, 'RemarkPYQuanPin': '', 'PYQuanPin': '', 'PYInitial': '', 'AttrStatus': 33919527, 'DisplayName': '', 'KeyWord': '', 'RemarkPYInitial': ''}>, <ChatroomMember: {'NickName': 'Cécile 西西利娅🌏', 'MemberList': <ContactList: []>, 'UserName': '@185ee85427d858901caaa683032e3d744ad231ec195ccd2aedfb92b333ce6404', 'Uin': 0, 'MemberStatus': 0, 'RemarkPYQuanPin': '', 'PYQuanPin': '', 'PYInitial': '', 'AttrStatus': 3772455, 'DisplayName': '', 'KeyWord': '', 'RemarkPYInitial': ''}>, <ChatroomMember: {'NickName': 'Sandrine D', 'MemberList': <ContactList: []>, 'UserName': '@66d97b9409fced857ffc5300cec94bbdaa25e674f3dc18cc4079566f7e7c0f68', 'Uin': 0, 'MemberStatus': 0, 'RemarkPYQuanPin': '', 'PYQuanPin': '', 'PYInitial': '', 'AttrStatus': 102439, 'DisplayName': '', 'KeyWord': '', 'RemarkPYInitial': ''}>, <ChatroomMember: {'NickName': 'BOIVIN MELANIE', 'MemberList': <ContactList: []>, 'UserName': '@72a18ef5401e8843dd89353d5cc20e8293f6c99b56cf0b58cc594f498946ded2', 'Uin': 0, 'MemberStatus': 0, 'RemarkPYQuanPin': '', 'PYQuanPin': '', 'PYInitial': '', 'AttrStatus': 102695, 'DisplayName': '', 'KeyWord': '', 'RemarkPYInitial': ''}>, <ChatroomMember: {'NickName': 'Paula B', 'MemberList': <ContactList: []>, 'UserName': '@8c8efebb5982ef7903089a41d163e7f00e50a218a5307753818df44d85848a5d', 'Uin': 0, 'MemberStatus': 0, 'RemarkPYQuanPin': '', 'PYQuanPin': '', 'PYInitial': '', 'AttrStatus': 102439, 'DisplayName': '', 'KeyWord': '', 'RemarkPYInitial': ''}>, <ChatroomMember: {'NickName': 'Philippe', 'MemberList': <ContactList: []>, 'UserName': '@7bcfada79d0445de421268f383a9beb8999acaabe7a23fd8f0ea41eda5ad627b', 'Uin': 0, 'MemberStatus': 0, 'RemarkPYQuanPin': '', 'PYQuanPin': '', 'PYInitial': '', 'AttrStatus': 102437, 'DisplayName': '', 'KeyWord': '', 'RemarkPYInitial': ''}>, <ChatroomMember: {'NickName': 'Cécile', 'MemberList': <ContactList: []>, 'UserName': '@6b51561d65c021faaa2b27ebc19125565dd317aafbc32c0247e3f6ee529bbb53', 'Uin': 0, 'MemberStatus': 0, 'RemarkPYQuanPin': '', 'PYQuanPin': '', 'PYInitial': '', 'AttrStatus': 33656871, 'DisplayName': '', 'KeyWord': '', 'RemarkPYInitial': ''}>, <ChatroomMember: {'NickName': 'jessica🎪洁西卡', 'MemberList': <ContactList: []>, 'UserName': '@20ce6afdae483eed1937016ee6a8002623dca9ab0bbf16bc241316787154e35b', 'Uin': 0, 'MemberStatus': 0, 'RemarkPYQuanPin': '', 'PYQuanPin': '', 'PYInitial': '', 'AttrStatus': 102439, 'DisplayName': '', 'KeyWord': '', 'RemarkPYInitial': ''}>, <ChatroomMember: {'NickName': 'Anna', 'MemberList': <ContactList: []>, 'UserName': '@12ba4a895e87fc780059317f78b15b34c87c35b354bd94f0f8a5f34f8018a9d8', 'Uin': 0, 'MemberStatus': 0, 'RemarkPYQuanPin': '', 'PYQuanPin': '', 'PYInitial': '', 'AttrStatus': 33820711, 'DisplayName': '', 'KeyWord': '', 'RemarkPYInitial': ''}>, <ChatroomMember: {'NickName': 'Christophe🌟', 'MemberList': <ContactList: []>, 'UserName': '@a012bc8b233dab2ba4e857e9fcc28de9', 'Uin': 0, 'MemberStatus': 0, 'RemarkPYQuanPin': '', 'PYQuanPin': '', 'PYInitial': '', 'AttrStatus': 100388, 'DisplayName': '', 'KeyWord': '', 'RemarkPYInitial': ''}>, <ChatroomMember: {'NickName': 'Alix le grand', 'MemberList': <ContactList: []>, 'UserName': '@6a581f7b9e0cb746a9113f63a98b07d909539e4e18f72a03853790b347ece562', 'Uin': 0, 'MemberStatus': 0, 'RemarkPYQuanPin': '', 'PYQuanPin': '', 'PYInitial': '', 'AttrStatus': 33919015, 'DisplayName': '', 'KeyWord': '', 'RemarkPYInitial': ''}>, <ChatroomMember: {'NickName': 'Brigitte BRUMELOT POISSON🌟', 'MemberList': <ContactList: []>, 'UserName': '@d5385242e24ec8391958490de6b53ca559c8c0ae971f9c05a567fa5ea5ad38a9', 'Uin': 0, 'MemberStatus': 0, 'RemarkPYQuanPin': '', 'PYQuanPin': '', 'PYInitial': '', 'AttrStatus': 2199591, 'DisplayName': '', 'KeyWord': '', 'RemarkPYInitial': ''}>, <ChatroomMember: {'NickName': 'marina simonin', 'MemberList': <ContactList: []>, 'UserName': '@9701f85a46c8010a0b2986ee4bf0886fd3a7526e09ffec9aa194ec665c4a9445', 'Uin': 0, 'MemberStatus': 0, 'RemarkPYQuanPin': '', 'PYQuanPin': '', 'PYInitial': '', 'AttrStatus': 36016167, 'DisplayName': '', 'KeyWord': '', 'RemarkPYInitial': ''}>, <ChatroomMember: {'NickName': 'Valerie Guglielmi', 'MemberList': <ContactList: []>, 'UserName': '@103039d695d5c093ecdc5e4224a3dfd7eba08329a67b6ee8e4c9595c53bc5faa', 'Uin': 0, 'MemberStatus': 0, 'RemarkPYQuanPin': '', 'PYQuanPin': '', 'PYInitial': '', 'AttrStatus': 102439, 'DisplayName': '', 'KeyWord': '', 'RemarkPYInitial': ''}>, <ChatroomMember: {'NickName': 'Haydée M', 'MemberList': <ContactList: []>, 'UserName': '@8d64e8c543446811b7c8df680bc83ad0ace65954140acb10c54a32403b68dd43', 'Uin': 0, 'MemberStatus': 0, 'RemarkPYQuanPin': '', 'PYQuanPin': '', 'PYInitial': '', 'AttrStatus': 33919015, 'DisplayName': '', 'KeyWord': '', 'RemarkPYInitial': ''}>, <ChatroomMember: {'NickName': 'karine 柯海诺', 'MemberList': <ContactList: []>, 'UserName': '@fffc7af9717cb9282fb741d9c5ddae4ca852bb9b182c71740795ba3f910287f4', 'Uin': 0, 'MemberStatus': 0, 'RemarkPYQuanPin': '', 'PYQuanPin': '', 'PYInitial': '', 'AttrStatus': 103175, 'DisplayName': '', 'KeyWord': '', 'RemarkPYInitial': ''}>, <ChatroomMember: {'NickName': 'Julie Thieux', 'MemberList': <ContactList: []>, 'UserName': '@b05af5c99e5464a8c16d75639e2b7f4ecc2dc352d11fbe5bc95dd07ea772966a', 'Uin': 0, 'MemberStatus': 0, 'RemarkPYQuanPin': '', 'PYQuanPin': '', 'PYInitial': '', 'AttrStatus': 33919013, 'DisplayName': '', 'KeyWord': '', 'RemarkPYInitial': ''}>, <ChatroomMember: {'NickName': 'Véronique CHRISTOPHE', 'MemberList': <ContactList: []>, 'UserName': '@22a1de30ab9a64a1b563b121f13fb7aadd8b725c365002a77a0c6c021f038cab', 'Uin': 0, 'MemberStatus': 0, 'RemarkPYQuanPin': '', 'PYQuanPin': '', 'PYInitial': '', 'AttrStatus': 102439, 'DisplayName': '', 'KeyWord': '', 'RemarkPYInitial': ''}>, <ChatroomMember: {'NickName': 'Celine 🐯', 'MemberList': <ContactList: []>, 'UserName': '@c56cca094bc28adeb0d1601c2fae14485bd71b9983c3b87d371421945b625bfe', 'Uin': 0, 'MemberStatus': 0, 'RemarkPYQuanPin': '', 'PYQuanPin': '', 'PYInitial': '', 'AttrStatus': 33914919, 'DisplayName': '', 'KeyWord': '', 'RemarkPYInitial': ''}>, <ChatroomMember: {'NickName': 'Laure 📷🇫🇷', 'MemberList': <ContactList: []>, 'UserName': '@852c8f7a9094d92be43b663c9c934059c9cef9256c75d4459fb3d661a53220d8', 'Uin': 0, 'MemberStatus': 0, 'RemarkPYQuanPin': '', 'PYQuanPin': '', 'PYInitial': '', 'AttrStatus': 102439, 'DisplayName': '', 'KeyWord': '', 'RemarkPYInitial': ''}>, <ChatroomMember: {'NickName': 'Emilie Steenhaut', 'MemberList': <ContactList: []>, 'UserName': '@edced26b8fcd3568131642e9aa0ffbdec916346ce78f052f8029a163d33227d3', 'Uin': 0, 'MemberStatus': 0, 'RemarkPYQuanPin': '', 'PYQuanPin': '', 'PYInitial': '', 'AttrStatus': 102439, 'DisplayName': '', 'KeyWord': '', 'RemarkPYInitial': ''}>, <ChatroomMember: {'NickName': 'Clotilde 🎀', 'MemberList': <ContactList: []>, 'UserName': '@18e61b13fce81e163146d67b1571c4137e67f41db29caf302c0760634d68ddd0', 'Uin': 0, 'MemberStatus': 0, 'RemarkPYQuanPin': '', 'PYQuanPin': '', 'PYInitial': '', 'AttrStatus': 102437, 'DisplayName': '', 'KeyWord': '', 'RemarkPYInitial': ''}>, <ChatroomMember: {'NickName': 'natacha tarascon', 'MemberList': <ContactList: []>, 'UserName': '@3d0aa16498a1590ab92075697860a6dd8d466eaf81f02da7e26ba86b8fffa3cc', 'Uin': 0, 'MemberStatus': 0, 'RemarkPYQuanPin': '', 'PYQuanPin': '', 'PYInitial': '', 'AttrStatus': 102437, 'DisplayName': '', 'KeyWord': '', 'RemarkPYInitial': ''}>, <ChatroomMember: {'NickName': 'LaurenceL', 'MemberList': <ContactList: []>, 'UserName': '@f2b5643dd307c5e9228bce83ed8b8b1f7e09f709f6198b89274c027dd8ae4c9e', 'Uin': 0, 'MemberStatus': 0, 'RemarkPYQuanPin': '', 'PYQuanPin': '', 'PYInitial': '', 'AttrStatus': 2200101, 'DisplayName': '', 'KeyWord': '', 'RemarkPYInitial': ''}>, <ChatroomMember: {'NickName': '🐭Émilie 艾米莉🌺', 'MemberList': <ContactList: []>, 'UserName': '@6ac8f4d2b31efb430d500162e5cf1cb5319b8c65921746116413f2a2f77d30cb', 'Uin': 0, 'MemberStatus': 0, 'RemarkPYQuanPin': '', 'PYQuanPin': '', 'PYInitial': '', 'AttrStatus': 33626151, 'DisplayName': '', 'KeyWord': '', 'RemarkPYInitial': ''}>, <ChatroomMember: {'NickName': 'Isabelle 夏伊莎', 'MemberList': <ContactList: []>, 'UserName': '@fe3f85d75c001f9accea9bafe58979d0459060e6c02a3b69315ab6a652e8265f', 'Uin': 0, 'MemberStatus': 0, 'RemarkPYQuanPin': '', 'PYQuanPin': '', 'PYInitial': '', 'AttrStatus': 33558565, 'DisplayName': '', 'KeyWord': '', 'RemarkPYInitial': ''}>, <ChatroomMember: {'NickName': 'Violaine', 'MemberList': <ContactList: []>, 'UserName': '@08d250ba2d5e32fc2a2b3ce852e18272177699a18a66656495a1809f5f33e515', 'Uin': 0, 'MemberStatus': 0, 'RemarkPYQuanPin': '', 'PYQuanPin': '', 'PYInitial': '', 'AttrStatus': 102437, 'DisplayName': '', 'KeyWord': '', 'RemarkPYInitial': ''}>, <ChatroomMember: {'NickName': 'Charlène', 'MemberList': <ContactList: []>, 'UserName': '@9de5aaae9e2a32b646c36192b5c98a30991655c8a5a494a0c04c471f159ac2e1', 'Uin': 0, 'MemberStatus': 0, 'RemarkPYQuanPin': '', 'PYQuanPin': '', 'PYInitial': '', 'AttrStatus': 102439, 'DisplayName': '', 'KeyWord': '', 'RemarkPYInitial': ''}>, <ChatroomMember: {'NickName': 'AliceMilner', 'MemberList': <ContactList: []>, 'UserName': '@78a4678da0d411fdeb813115224ca6b2458902c25374ce28b0880afad4669abd', 'Uin': 0, 'MemberStatus': 0, 'RemarkPYQuanPin': '', 'PYQuanPin': '', 'PYInitial': '', 'AttrStatus': 102437, 'DisplayName': '', 'KeyWord': '', 'RemarkPYInitial': ''}>, <ChatroomMember: {'NickName': 'Mathilde de Turckheim - Rétif', 'MemberList': <ContactList: []>, 'UserName': '@fbe2b6cf87c57fa8f7cc2b71cb87cbbe4e292fcc4ecb5605fa9726b4769844e2', 'Uin': 0, 'MemberStatus': 0, 'RemarkPYQuanPin': '', 'PYQuanPin': '', 'PYInitial': '', 'AttrStatus': 102437, 'DisplayName': '', 'KeyWord': '', 'RemarkPYInitial': ''}>, <ChatroomMember: {'NickName': 'Lucile Shanghai', 'MemberList': <ContactList: []>, 'UserName': '@ecbc93d4d788b90069dd0e33f3264d8adf14eebcf3ac6b60acb6f308b9ebc4fa', 'Uin': 0, 'MemberStatus': 0, 'RemarkPYQuanPin': '', 'PYQuanPin': '', 'PYInitial': '', 'AttrStatus': 102437, 'DisplayName': '', 'KeyWord': '', 'RemarkPYInitial': ''}>, <ChatroomMember: {'NickName': 'Elodie Barnaud-Dornier', 'MemberList': <ContactList: []>, 'UserName': '@2f75c91487fbb0f64b35e095bbcb5b3954c96a9c912b6f375687eabccc4a9b5b', 'Uin': 0, 'MemberStatus': 0, 'RemarkPYQuanPin': '', 'PYQuanPin': '', 'PYInitial': '', 'AttrStatus': 102437, 'DisplayName': '', 'KeyWord': '', 'RemarkPYInitial': ''}>, <ChatroomMember: {'NickName': 'SegoleneDG', 'MemberList': <ContactList: []>, 'UserName': '@f7c737aee580453b19c4219758553645322803f92a0090019de55e72b5ea0c99', 'Uin': 0, 'MemberStatus': 0, 'RemarkPYQuanPin': '', 'PYQuanPin': '', 'PYInitial': '', 'AttrStatus': 98341, 'DisplayName': '', 'KeyWord': '', 'RemarkPYInitial': ''}>, <ChatroomMember: {'NickName': 'Maylis 梅黎思', 'MemberList': <ContactList: []>, 'UserName': '@d55aa35ca9a83fa22c32eae5797ff4ab', 'Uin': 0, 'MemberStatus': 0, 'RemarkPYQuanPin': '', 'PYQuanPin': '', 'PYInitial': '', 'AttrStatus': 98343, 'DisplayName': '', 'KeyWord': '', 'RemarkPYInitial': ''}>, <ChatroomMember: {'NickName': 'AnneT', 'MemberList': <ContactList: []>, 'UserName': '@8c381b3726e28539b4fbcdf2c2e8f9029319c986ba84db44c6a0b54da5eb0cee', 'Uin': 0, 'MemberStatus': 0, 'RemarkPYQuanPin': '', 'PYQuanPin': '', 'PYInitial': '', 'AttrStatus': 102695, 'DisplayName': '', 'KeyWord': '', 'RemarkPYInitial': ''}>, <ChatroomMember: {'NickName': 'Veronique Deschenes', 'MemberList': <ContactList: []>, 'UserName': '@7c0d7f05d5d47975e2465090c145cb7375cdde39d222451b2ae411e2c5947575', 'Uin': 0, 'MemberStatus': 0, 'RemarkPYQuanPin': '', 'PYQuanPin': '', 'PYInitial': '', 'AttrStatus': 33656871, 'DisplayName': '', 'KeyWord': '', 'RemarkPYInitial': ''}>, <ChatroomMember: {'NickName': 'Stéphanie', 'MemberList': <ContactList: []>, 'UserName': '@d06c39d1c6bb9e2e90613d9650f69e988a83b348a50265bc7779122ab8693e0d', 'Uin': 0, 'MemberStatus': 0, 'RemarkPYQuanPin': '', 'PYQuanPin': '', 'PYInitial': '', 'AttrStatus': 65575, 'DisplayName': '', 'KeyWord': '', 'RemarkPYInitial': ''}>, <ChatroomMember: {'NickName': 'Marta', 'MemberList': <ContactList: []>, 'UserName': '@733aebcb4c96242000538a4149f2335fabcaf0077faf94cf58c9bd6339b86801', 'Uin': 0, 'MemberStatus': 0, 'RemarkPYQuanPin': '', 'PYQuanPin': '', 'PYInitial': '', 'AttrStatus': 364583, 'DisplayName': '', 'KeyWord': '', 'RemarkPYInitial': ''}>, <ChatroomMember: {'NickName': 'Annie', 'MemberList': <ContactList: []>, 'UserName': '@d858d7ff4b630ec4731d3bf3836e2513a2a151ffb964424bfc501023da899b50', 'Uin': 0, 'MemberStatus': 0, 'RemarkPYQuanPin': '', 'PYQuanPin': '', 'PYInitial': '', 'AttrStatus': 33820709, 'DisplayName': '', 'KeyWord': '', 'RemarkPYInitial': ''}>, <ChatroomMember: {'NickName': 'Truc', 'MemberList': <ContactList: []>, 'UserName': '@9f7780b5004ed4eab4421792199b75a379b8e1474b2ed93560e1741c0b7c5088', 'Uin': 0, 'MemberStatus': 0, 'RemarkPYQuanPin': '', 'PYQuanPin': '', 'PYInitial': '', 'AttrStatus': 100391, 'DisplayName': '', 'KeyWord': '', 'RemarkPYInitial': ''}>, <ChatroomMember: {'NickName': 'Davidenchine', 'MemberList': <ContactList: []>, 'UserName': '@44c759b185f77fe68bac19844c1636a6c77bd7c0b3a6c3bc2e35e36039d26ffb', 'Uin': 0, 'MemberStatus': 0, 'RemarkPYQuanPin': '', 'PYQuanPin': '', 'PYInitial': '', 'AttrStatus': 33624103, 'DisplayName': '', 'KeyWord': '', 'RemarkPYInitial': ''}>, <ChatroomMember: {'NickName': 'Marie', 'MemberList': <ContactList: []>, 'UserName': '@9de34b11ce03abbbc714fba079c5ccd5ee485044e78b2222ce874eb082d5b6ca', 'Uin': 0, 'MemberStatus': 0, 'RemarkPYQuanPin': '', 'PYQuanPin': '', 'PYInitial': '', 'AttrStatus': 102437, 'DisplayName': '', 'KeyWord': '', 'RemarkPYInitial': ''}>, <ChatroomMember: {'NickName': 'Lilia à Shanghai ', 'MemberList': <ContactList: []>, 'UserName': '@4e350c8fcdc9a19c6e80f125519d054317aa4bed0bb58a31e9e918c7f18ef092', 'Uin': 0, 'MemberStatus': 0, 'RemarkPYQuanPin': '', 'PYQuanPin': '', 'PYInitial': '', 'AttrStatus': 98341, 'DisplayName': '', 'KeyWord': '', 'RemarkPYInitial': ''}>, <ChatroomMember: {'NickName': 'Anne Sophie 🌈', 'MemberList': <ContactList: []>, 'UserName': '@a38ebb0510dfd40002004b74d50a292be64a236071af78b0d966764a1ded4610', 'Uin': 0, 'MemberStatus': 0, 'RemarkPYQuanPin': '', 'PYQuanPin': '', 'PYInitial': '', 'AttrStatus': 2199591, 'DisplayName': '', 'KeyWord': '', 'RemarkPYInitial': ''}>, <ChatroomMember: {'NickName': 'Delphine Gourgues', 'MemberList': <ContactList: []>, 'UserName': '@0d6607a8e557a0265d3a69444dba486301cd103450dd5f7b97711c2195850d8f', 'Uin': 0, 'MemberStatus': 0, 'RemarkPYQuanPin': '', 'PYQuanPin': '', 'PYInitial': '', 'AttrStatus': 104487, 'DisplayName': '', 'KeyWord': '', 'RemarkPYInitial': ''}>, <ChatroomMember: {'NickName': 'Sylvette Collard', 'MemberList': <ContactList: []>, 'UserName': '@c70ad87c93bcdfe0022dd4690b456bbf1bdddcd9010a51145b62e56170aaa0f1', 'Uin': 0, 'MemberStatus': 0, 'RemarkPYQuanPin': '', 'PYQuanPin': '', 'PYInitial': '', 'AttrStatus': 33689639, 'DisplayName': 'Sylvette', 'KeyWord': '', 'RemarkPYInitial': ''}>, <ChatroomMember: {'NickName': 'Laure Seugé', 'MemberList': <ContactList: []>, 'UserName': '@ed82c73f99e0c23ca34024f261ae2cc4b73823b417bc89cd169fdc29c8002e74', 'Uin': 0, 'MemberStatus': 0, 'RemarkPYQuanPin': '', 'PYQuanPin': '', 'PYInitial': '', 'AttrStatus': 102437, 'DisplayName': '', 'KeyWord': '', 'RemarkPYInitial': ''}>, <ChatroomMember: {'NickName': 'Caroline Fourets', 'MemberList': <ContactList: []>, 'UserName': '@b6ba5fd572cf211a44aa54f03faeef3b2f0d6752cf3f593e7504d4e530db8ce5', 'Uin': 0, 'MemberStatus': 0, 'RemarkPYQuanPin': '', 'PYQuanPin': '', 'PYInitial': '', 'AttrStatus': 102437, 'DisplayName': '', 'KeyWord': '', 'RemarkPYInitial': ''}>, <ChatroomMember: {'NickName': 'Christel Pacault', 'MemberList': <ContactList: []>, 'UserName': '@b142aa1de6a17343e1ee04c852131423d9ea3f1a3596f91f107124817820293d', 'Uin': 0, 'MemberStatus': 0, 'RemarkPYQuanPin': '', 'PYQuanPin': '', 'PYInitial': '', 'AttrStatus': 2199591, 'DisplayName': '', 'KeyWord': '', 'RemarkPYInitial': ''}>, <ChatroomMember: {'NickName': 'Genevieve 罗兰', 'MemberList': <ContactList: []>, 'UserName': '@c45246bf1e9195c25cd7ae6df1dc7c89bc20286ff7ab4de78a1e72a98c0a2b74', 'Uin': 0, 'MemberStatus': 0, 'RemarkPYQuanPin': '', 'PYQuanPin': '', 'PYInitial': '', 'AttrStatus': 102405, 'DisplayName': '', 'KeyWord': '', 'RemarkPYInitial': ''}>, <ChatroomMember: {'NickName': 'Anne Saussard', 'MemberList': <ContactList: []>, 'UserName': '@5b3ff96499b77da020edf6e4e16a9ef7456efcfd0aff8c15b1cbea2616f0c279', 'Uin': 0, 'MemberStatus': 0, 'RemarkPYQuanPin': '', 'PYQuanPin': '', 'PYInitial': '', 'AttrStatus': 102437, 'DisplayName': '', 'KeyWord': '', 'RemarkPYInitial': ''}>, <ChatroomMember: {'NickName': 'Savin 🇫🇷', 'MemberList': <ContactList: []>, 'UserName': '@e0928c87fb7c3f30f943b42fc6720a766c91119cc2764afe15c449bfff89bcd3', 'Uin': 0, 'MemberStatus': 0, 'RemarkPYQuanPin': '', 'PYQuanPin': '', 'PYInitial': '', 'AttrStatus': 33656869, 'DisplayName': '', 'KeyWord': '', 'RemarkPYInitial': ''}>, <ChatroomMember: {'NickName': 'Juliette Lefranc', 'MemberList': <ContactList: []>, 'UserName': '@4ea0d0752c23db65d594abcb3d60abe3676bb9ecec43838a56e6b4749b977c4c', 'Uin': 0, 'MemberStatus': 0, 'RemarkPYQuanPin': '', 'PYQuanPin': '', 'PYInitial': '', 'AttrStatus': 102439, 'DisplayName': '', 'KeyWord': '', 'RemarkPYInitial': ''}>, <ChatroomMember: {'NickName': 'Carine B', 'MemberList': <ContactList: []>, 'UserName': '@5d29f98cdea859e7c5d7d6c34ca3889089a787775a8d44f4a9f48f74b3b8cf3c', 'Uin': 0, 'MemberStatus': 0, 'RemarkPYQuanPin': '', 'PYQuanPin': '', 'PYInitial': '', 'AttrStatus': 102437, 'DisplayName': '', 'KeyWord': '', 'RemarkPYInitial': ''}>, <ChatroomMember: {'NickName': 'Klem', 'MemberList': <ContactList: []>, 'UserName': '@6cb30fa3238816326dfafcc070e55d90cdadce6756c0fd7d0a62dee53843e118', 'Uin': 0, 'MemberStatus': 0, 'RemarkPYQuanPin': '', 'PYQuanPin': '', 'PYInitial': '', 'AttrStatus': 98341, 'DisplayName': '', 'KeyWord': '', 'RemarkPYInitial': ''}>, <ChatroomMember: {'NickName': 'cath', 'MemberList': <ContactList: []>, 'UserName': '@8a6830f9b4ba81143b45e3e162c751a0587ed770ff3fba75bccc48a5da0b32f7', 'Uin': 0, 'MemberStatus': 0, 'RemarkPYQuanPin': '', 'PYQuanPin': '', 'PYInitial': '', 'AttrStatus': 98343, 'DisplayName': '', 'KeyWord': '', 'RemarkPYInitial': ''}>, <ChatroomMember: {'NickName': 'Laurence Villeneuve 🇫🇷', 'MemberList': <ContactList: []>, 'UserName': '@6fd6b573fd86f46613e22fdad1a7b156b5b8688697e5cfd491d9c3aebf5e9dd8', 'Uin': 0, 'MemberStatus': 0, 'RemarkPYQuanPin': '', 'PYQuanPin': '', 'PYInitial': '', 'AttrStatus': 364583, 'DisplayName': '', 'KeyWord': '', 'RemarkPYInitial': ''}>, <ChatroomMember: {'NickName': 'Fred', 'MemberList': <ContactList: []>, 'UserName': '@55f66d8d8905ced8a6334a38811dae5d552451bf5765748ac8d8fbdc7c6b3458', 'Uin': 0, 'MemberStatus': 0, 'RemarkPYQuanPin': '', 'PYQuanPin': '', 'PYInitial': '', 'AttrStatus': 102437, 'DisplayName': '', 'KeyWord': '', 'RemarkPYInitial': ''}>, <ChatroomMember: {'NickName': 'Christine Ewert👍', 'MemberList': <ContactList: []>, 'UserName': '@00f0a1de9119f7345dda248b5e13215d62b72a0326520181d287ee9b63fb754f', 'Uin': 0, 'MemberStatus': 0, 'RemarkPYQuanPin': '', 'PYQuanPin': '', 'PYInitial': '', 'AttrStatus': 102439, 'DisplayName': '', 'KeyWord': '', 'RemarkPYInitial': ''}>, <ChatroomMember: {'NickName': 'Karine', 'MemberList': <ContactList: []>, 'UserName': '@8ec9e350cd91843198aed162ee06cb51b622645b2258e5d476992fc07f51cb92', 'Uin': 0, 'MemberStatus': 0, 'RemarkPYQuanPin': '', 'PYQuanPin': '', 'PYInitial': '', 'AttrStatus': 100455, 'DisplayName': '', 'KeyWord': '', 'RemarkPYInitial': ''}>, <ChatroomMember: {'NickName': 'Moun@', 'MemberList': <ContactList: []>, 'UserName': '@574b7bc937aee80146f90e11652147d407195f80d25fb7735eaf4d05c5718e57', 'Uin': 0, 'MemberStatus': 0, 'RemarkPYQuanPin': '', 'PYQuanPin': '', 'PYInitial': '', 'AttrStatus': 35918373, 'DisplayName': '', 'KeyWord': '', 'RemarkPYInitial': ''}>, <ChatroomMember: {'NickName': 'maggie woeg', 'MemberList': <ContactList: []>, 'UserName': '@53fb872e6bd6b0791b7a4e267da3fe4c2793e0a1db0eff301d44f7d7da435160', 'Uin': 0, 'MemberStatus': 0, 'RemarkPYQuanPin': '', 'PYQuanPin': '', 'PYInitial': '', 'AttrStatus': 104485, 'DisplayName': '', 'KeyWord': '', 'RemarkPYInitial': ''}>, <ChatroomMember: {'NickName': 'Christine Ajacques', 'MemberList': <ContactList: []>, 'UserName': '@5c3b32a04285202fd1adf53eb7690d6257e2c85fb1ea05358b3aa75abeb347e7', 'Uin': 0, 'MemberStatus': 0, 'RemarkPYQuanPin': '', 'PYQuanPin': '', 'PYInitial': '', 'AttrStatus': 33656869, 'DisplayName': '', 'KeyWord': '', 'RemarkPYInitial': ''}>, <ChatroomMember: {'NickName': 'knarchine', 'MemberList': <ContactList: []>, 'UserName': '@c840cc64771192372c5e0d89d0adee3bf5868e319d37a0bdfa44c9dc2910b922', 'Uin': 0, 'MemberStatus': 0, 'RemarkPYQuanPin': '', 'PYQuanPin': '', 'PYInitial': '', 'AttrStatus': 33656871, 'DisplayName': '', 'KeyWord': '', 'RemarkPYInitial': ''}>, <ChatroomMember: {'NickName': 'Cristina 🇮🇹🇨🇳', 'MemberList': <ContactList: []>, 'UserName': '@2ae66f193d5e122fc4a70096aed6b4688ed61df61f0f68f576791278403a9779', 'Uin': 0, 'MemberStatus': 0, 'RemarkPYQuanPin': '', 'PYQuanPin': '', 'PYInitial': '', 'AttrStatus': 33921061, 'DisplayName': '', 'KeyWord': '', 'RemarkPYInitial': ''}>, <ChatroomMember: {'NickName': 'MeriemB', 'MemberList': <ContactList: []>, 'UserName': '@f5f90cea1a30c07b8bf6380280d3782e2e2c16294b93fd8f4805f8acbe19c4bc', 'Uin': 0, 'MemberStatus': 0, 'RemarkPYQuanPin': '', 'PYQuanPin': '', 'PYInitial': '', 'AttrStatus': 33656871, 'DisplayName': '', 'KeyWord': '', 'RemarkPYInitial': ''}>, <ChatroomMember: {'NickName': 'Celine Bine', 'MemberList': <ContactList: []>, 'UserName': '@9da324ed28aa61b0164e1d44827001f99a45032950b240824d647e4127f6e7f4', 'Uin': 0, 'MemberStatus': 0, 'RemarkPYQuanPin': '', 'PYQuanPin': '', 'PYInitial': '', 'AttrStatus': 364583, 'DisplayName': '', 'KeyWord': '', 'RemarkPYInitial': ''}>, <ChatroomMember: {'NickName': 'Laurence Nault🌟', 'MemberList': <ContactList: []>, 'UserName': '@8c22f77250b97d589e4b729d5a4cc00e1ae181b1e727b1ae28668f1573d7d145', 'Uin': 0, 'MemberStatus': 0, 'RemarkPYQuanPin': '', 'PYQuanPin': '', 'PYInitial': '', 'AttrStatus': 102437, 'DisplayName': '', 'KeyWord': '', 'RemarkPYInitial': ''}>, <ChatroomMember: {'NickName': 'Helene Raguin', 'MemberList': <ContactList: []>, 'UserName': '@42cc1781936c507bd44b2472f5d3134b160a5094c4cea8f0dcf0cc5dd7ea5f81', 'Uin': 0, 'MemberStatus': 0, 'RemarkPYQuanPin': '', 'PYQuanPin': '', 'PYInitial': '', 'AttrStatus': 102439, 'DisplayName': '', 'KeyWord': '', 'RemarkPYInitial': ''}>, <ChatroomMember: {'NickName': 'Ludo 陆耀轩', 'MemberList': <ContactList: []>, 'UserName': '@97bbe1ecb2ad0e9c690eda0999379968', 'Uin': 0, 'MemberStatus': 0, 'RemarkPYQuanPin': '', 'PYQuanPin': '', 'PYInitial': '', 'AttrStatus': 229413, 'DisplayName': '', 'KeyWord': '', 'RemarkPYInitial': ''}>, <ChatroomMember: {'NickName': 'Marie-Pia de Ruffray', 'MemberList': <ContactList: []>, 'UserName': '@4c81fa19e6868a836ba487f8bc647ea8acabd54892a26ff5a521c6994e199f06', 'Uin': 0, 'MemberStatus': 0, 'RemarkPYQuanPin': '', 'PYQuanPin': '', 'PYInitial': '', 'AttrStatus': 102437, 'DisplayName': '', 'KeyWord': '', 'RemarkPYInitial': ''}>, <ChatroomMember: {'NickName': 'Chloé', 'MemberList': <ContactList: []>, 'UserName': '@36b04ecbfdc5f552745bebea03e80eb67c6ad96f8433776fbfa38f859960f597', 'Uin': 0, 'MemberStatus': 0, 'RemarkPYQuanPin': '', 'PYQuanPin': '', 'PYInitial': '', 'AttrStatus': 4133, 'DisplayName': '', 'KeyWord': '', 'RemarkPYInitial': ''}>, <ChatroomMember: {'NickName': 'Claire de J', 'MemberList': <ContactList: []>, 'UserName': '@2771f2cd9abffa9bbb7faf12f6f2acfaab2f34640a74fbf43b61d51edb132698', 'Uin': 0, 'MemberStatus': 0, 'RemarkPYQuanPin': '', 'PYQuanPin': '', 'PYInitial': '', 'AttrStatus': 33919015, 'DisplayName': '', 'KeyWord': '', 'RemarkPYInitial': ''}>, <ChatroomMember: {'NickName': 'Claire', 'MemberList': <ContactList: []>, 'UserName': '@08452d55957eac4f78747a74dc22a2c99de90d415a30ca02475d4b0d25625bbc', 'Uin': 0, 'MemberStatus': 0, 'RemarkPYQuanPin': '', 'PYQuanPin': '', 'PYInitial': '', 'AttrStatus': 36147237, 'DisplayName': '', 'KeyWord': '', 'RemarkPYInitial': ''}>, <ChatroomMember: {'NickName': 'Pearl  Larquemin 珍珠', 'MemberList': <ContactList: []>, 'UserName': '@af88a09c73b640e7a7447137364c2b6a47fdf6b2c6d93e89c1936ee0216281fa', 'Uin': 0, 'MemberStatus': 0, 'RemarkPYQuanPin': '', 'PYQuanPin': '', 'PYInitial': '', 'AttrStatus': 6390279, 'DisplayName': '', 'KeyWord': '', 'RemarkPYInitial': ''}>, <ChatroomMember: {'NickName': ' Mathilde B.', 'MemberList': <ContactList: []>, 'UserName': '@5700ad3b8f29e16fea919d926b37b36e95f544abb2dba2aa7fa36119e3722568', 'Uin': 0, 'MemberStatus': 0, 'RemarkPYQuanPin': '', 'PYQuanPin': '', 'PYInitial': '', 'AttrStatus': 103205, 'DisplayName': '', 'KeyWord': '', 'RemarkPYInitial': ''}>, <ChatroomMember: {'NickName': 'Felicie LB', 'MemberList': <ContactList: []>, 'UserName': '@e4a5d8b5bce0025846cae26adde30a93e0162a0363cc56075181edb80a8912db', 'Uin': 0, 'MemberStatus': 0, 'RemarkPYQuanPin': '', 'PYQuanPin': '', 'PYInitial': '', 'AttrStatus': 98341, 'DisplayName': '', 'KeyWord': '', 'RemarkPYInitial': ''}>, <ChatroomMember: {'NickName': 'Sophie Noujaim-Neyrand', 'MemberList': <ContactList: []>, 'UserName': '@7c3f9e098d6f8794c98d4ca15d475356b1cb5ef2c9cc62a968185688fe59d897', 'Uin': 0, 'MemberStatus': 0, 'RemarkPYQuanPin': '', 'PYQuanPin': '', 'PYInitial': '', 'AttrStatus': 102437, 'DisplayName': '', 'KeyWord': '', 'RemarkPYInitial': ''}>, <ChatroomMember: {'NickName': 'laurence jaffré', 'MemberList': <ContactList: []>, 'UserName': '@4d134e27cbaafce813a9d813b2af6f72f8f33883843df9b5e14a4769328c2470', 'Uin': 0, 'MemberStatus': 0, 'RemarkPYQuanPin': '', 'PYQuanPin': '', 'PYInitial': '', 'AttrStatus': 102439, 'DisplayName': '', 'KeyWord': '', 'RemarkPYInitial': ''}>, <ChatroomMember: {'NickName': 'Christine LAURENT', 'MemberList': <ContactList: []>, 'UserName': '@7b0b0bd01c6855746a9cae5158365e3d3d606f1a8326b774e135be6fe1838b75', 'Uin': 0, 'MemberStatus': 0, 'RemarkPYQuanPin': '', 'PYQuanPin': '', 'PYInitial': '', 'AttrStatus': 4296743, 'DisplayName': '', 'KeyWord': '', 'RemarkPYInitial': ''}>, <ChatroomMember: {'NickName': 'Zita', 'MemberList': <ContactList: []>, 'UserName': '@6c479c3bf700058ce009c52ab9bb5ba972ce5d3ffd1857aa4d470f7e6a79f4fb', 'Uin': 0, 'MemberStatus': 0, 'RemarkPYQuanPin': '', 'PYQuanPin': '', 'PYInitial': '', 'AttrStatus': 2199591, 'DisplayName': '', 'KeyWord': '', 'RemarkPYInitial': ''}>, <ChatroomMember: {'NickName': 'claire', 'MemberList': <ContactList: []>, 'UserName': '@540e19f882989e12b2938fef8d2a18d4', 'Uin': 0, 'MemberStatus': 0, 'RemarkPYQuanPin': '', 'PYQuanPin': '', 'PYInitial': '', 'AttrStatus': 69157, 'DisplayName': '', 'KeyWord': '', 'RemarkPYInitial': ''}>, <ChatroomMember: {'NickName': 'Zina', 'MemberList': <ContactList: []>, 'UserName': '@752a3c09ce5c908d5fd240764666512fe9219322fb8b6e6c5be70f815825e7a1', 'Uin': 0, 'MemberStatus': 0, 'RemarkPYQuanPin': '', 'PYQuanPin': '', 'PYInitial': '', 'AttrStatus': 102437, 'DisplayName': '', 'KeyWord': '', 'RemarkPYInitial': ''}>, <ChatroomMember: {'NickName': 'Sophie', 'MemberList': <ContactList: []>, 'UserName': '@d4e6d8b9887024f3249e85bbf2f2968f07f42d91f514069a0f51dc9faf44fb74', 'Uin': 0, 'MemberStatus': 0, 'RemarkPYQuanPin': '', 'PYQuanPin': '', 'PYInitial': '', 'AttrStatus': 36016165, 'DisplayName': '', 'KeyWord': '', 'RemarkPYInitial': ''}>, <ChatroomMember: {'NickName': 'Helene Champenois', 'MemberList': <ContactList: []>, 'UserName': '@2605e28abb723bbc5fd3369d12e1099ba8e67086bbc74713ea627cb1c2bbe751', 'Uin': 0, 'MemberStatus': 0, 'RemarkPYQuanPin': '', 'PYQuanPin': '', 'PYInitial': '', 'AttrStatus': 102437, 'DisplayName': '', 'KeyWord': '', 'RemarkPYInitial': ''}>, <ChatroomMember: {'NickName': 'Nadine Stephann', 'MemberList': <ContactList: []>, 'UserName': '@8142b9bf5f93f570a8228b88c52dfcba7f5839ff446f3eda7cc6db41085a322c', 'Uin': 0, 'MemberStatus': 0, 'RemarkPYQuanPin': '', 'PYQuanPin': '', 'PYInitial': '', 'AttrStatus': 99110, 'DisplayName': '', 'KeyWord': '', 'RemarkPYInitial': ''}>, <ChatroomMember: {'NickName': 'Amelie', 'MemberList': <ContactList: []>, 'UserName': '@8500d23e19480a1a1e7c676c8dc07862b84126ec691c58a9516271d2e46f3606', 'Uin': 0, 'MemberStatus': 0, 'RemarkPYQuanPin': '', 'PYQuanPin': '', 'PYInitial': '', 'AttrStatus': 33656865, 'DisplayName': '', 'KeyWord': '', 'RemarkPYInitial': ''}>, <ChatroomMember: {'NickName': 'Anne-Sophie Roch', 'MemberList': <ContactList: []>, 'UserName': '@bc3fa951f9b5e354a514540a94f22d40d785280cd4a24eb6d47713bba8b09c87', 'Uin': 0, 'MemberStatus': 0, 'RemarkPYQuanPin': '', 'PYQuanPin': '', 'PYInitial': '', 'AttrStatus': 36048935, 'DisplayName': '', 'KeyWord': '', 'RemarkPYInitial': ''}>, <ChatroomMember: {'NickName': 'Aurore Demurger', 'MemberList': <ContactList: []>, 'UserName': '@20af9403555661f7843bffc5097859b3f8b19990bd476457ed80f5b0ed1333bd', 'Uin': 0, 'MemberStatus': 0, 'RemarkPYQuanPin': '', 'PYQuanPin': '', 'PYInitial': '', 'AttrStatus': 33656871, 'DisplayName': '', 'KeyWord': '', 'RemarkPYInitial': ''}>, <ChatroomMember: {'NickName': 'Anne-Charlotte 百合', 'MemberList': <ContactList: []>, 'UserName': '@68aad6d3eb2bd351052a59782f3020734135f475470862d594c45994996f9597', 'Uin': 0, 'MemberStatus': 0, 'RemarkPYQuanPin': '', 'PYQuanPin': '', 'PYInitial': '', 'AttrStatus': 6393893, 'DisplayName': '', 'KeyWord': '', 'RemarkPYInitial': ''}>, <ChatroomMember: {'NickName': 'quentin 😈 昆汀', 'MemberList': <ContactList: []>, 'UserName': '@ec26cd76d1c57d2bcbfe4d7451249b0a9dd0ea7b1c6635d50856cbe6f9b394c5', 'Uin': 0, 'MemberStatus': 0, 'RemarkPYQuanPin': '', 'PYQuanPin': '', 'PYInitial': '', 'AttrStatus': 40210471, 'DisplayName': '', 'KeyWord': '', 'RemarkPYInitial': ''}>, <ChatroomMember: {'NickName': 'Caroline DG - SH', 'MemberList': <ContactList: []>, 'UserName': '@1eda7565ea9deeec30e4820d01b90f849d13896a1fdce6132a6c16e81641f475', 'Uin': 0, 'MemberStatus': 0, 'RemarkPYQuanPin': '', 'PYQuanPin': '', 'PYInitial': '', 'AttrStatus': 33558567, 'DisplayName': '', 'KeyWord': '', 'RemarkPYInitial': ''}>, <ChatroomMember: {'NickName': 'Roxanne', 'MemberList': <ContactList: []>, 'UserName': '@922a0ad8bc981be9dabcff9ab6522be6d8ba540809d44ade3653539d33f34cbe', 'Uin': 0, 'MemberStatus': 0, 'RemarkPYQuanPin': '', 'PYQuanPin': '', 'PYInitial': '', 'AttrStatus': 33787941, 'DisplayName': '', 'KeyWord': '', 'RemarkPYInitial': ''}>, <ChatroomMember: {'NickName': 'caromaligne 📝', 'MemberList': <ContactList: []>, 'UserName': '@b22ecfb3a8ce6d8c72e9758836229f064b8f5f9fa2d926cec56c7bde914ff888', 'Uin': 0, 'MemberStatus': 0, 'RemarkPYQuanPin': '', 'PYQuanPin': '', 'PYInitial': '', 'AttrStatus': 6656039, 'DisplayName': '', 'KeyWord': '', 'RemarkPYInitial': ''}>, <ChatroomMember: {'NickName': 'Anne-Sophie', 'MemberList': <ContactList: []>, 'UserName': '@da2bb35b002d48134c18885481ad57d06790ed45f1b38fc80fdaeeff329e5cb0', 'Uin': 0, 'MemberStatus': 0, 'RemarkPYQuanPin': '', 'PYQuanPin': '', 'PYInitial': '', 'AttrStatus': 102437, 'DisplayName': '', 'KeyWord': '', 'RemarkPYInitial': ''}>, <ChatroomMember: {'NickName': 'Sophie \\U0001f955 Goma Greens', 'MemberList': <ContactList: []>, 'UserName': '@0662f1100bf054396e200ef3baff7a179894593223e5f714601ca85d99993b27', 'Uin': 0, 'MemberStatus': 0, 'RemarkPYQuanPin': '', 'PYQuanPin': '', 'PYInitial': '', 'AttrStatus': 102437, 'DisplayName': '', 'KeyWord': '', 'RemarkPYInitial': ''}>, <ChatroomMember: {'NickName': 'Fanny Robert', 'MemberList': <ContactList: []>, 'UserName': '@99e8b671b79a29536ebe1d05acf8d8c51937b6c1269ae613907ebaad904054a4', 'Uin': 0, 'MemberStatus': 0, 'RemarkPYQuanPin': '', 'PYQuanPin': '', 'PYInitial': '', 'AttrStatus': 104487, 'DisplayName': '', 'KeyWord': '', 'RemarkPYInitial': ''}>, <ChatroomMember: {'NickName': 'Béné🌟', 'MemberList': <ContactList: []>, 'UserName': '@cdeba8c552b17424a4cdd3d9b9a0e670f4af4044089ec7e684ea91cffcd5340a', 'Uin': 0, 'MemberStatus': 0, 'RemarkPYQuanPin': '', 'PYQuanPin': '', 'PYInitial': '', 'AttrStatus': 33820711, 'DisplayName': '', 'KeyWord': '', 'RemarkPYInitial': ''}>, <ChatroomMember: {'NickName': 'Mélina French ILO🇫🇷梅丽娜', 'MemberList': <ContactList: []>, 'UserName': '@ea1176f4f6d0889d92c5244620062812d44b28b11ce43995f5a71f5cf2ec0146', 'Uin': 0, 'MemberStatus': 0, 'RemarkPYQuanPin': '', 'PYQuanPin': '', 'PYInitial': '', 'AttrStatus': 102437, 'DisplayName': '', 'KeyWord': '', 'RemarkPYInitial': ''}>, <ChatroomMember: {'NickName': 'Ting', 'MemberList': <ContactList: []>, 'UserName': '@6a516b75c2592e39b8cb21358ea31e705eb19c368f52bef3ed425e6fae3d9b36', 'Uin': 0, 'MemberStatus': 0, 'RemarkPYQuanPin': '', 'PYQuanPin': '', 'PYInitial': '', 'AttrStatus': 33656869, 'DisplayName': '', 'KeyWord': '', 'RemarkPYInitial': ''}>, <ChatroomMember: {'NickName': 'astrid luciani APM', 'MemberList': <ContactList: []>, 'UserName': '@9e8cebbc5a150084cba396ca32abda2d3f6bd89da8c68ef4237ede02fa90bc1c', 'Uin': 0, 'MemberStatus': 0, 'RemarkPYQuanPin': '', 'PYQuanPin': '', 'PYInitial': '', 'AttrStatus': 33558567, 'DisplayName': '', 'KeyWord': '', 'RemarkPYInitial': ''}>, <ChatroomMember: {'NickName': 'Alexandre DAM', 'MemberList': <ContactList: []>, 'UserName': '@5886982c5029e74516d0623a25862550', 'Uin': 0, 'MemberStatus': 0, 'RemarkPYQuanPin': '', 'PYQuanPin': '', 'PYInitial': '', 'AttrStatus': 4292711, 'DisplayName': '', 'KeyWord': '', 'RemarkPYInitial': ''}>, <ChatroomMember: {'NickName': 'Alice', 'MemberList': <ContactList: []>, 'UserName': '@2d45d1842cb5e67df9985130a185aee507e546eadef78487ed64c20d7e38f5f0', 'Uin': 0, 'MemberStatus': 0, 'RemarkPYQuanPin': '', 'PYQuanPin': '', 'PYInitial': '', 'AttrStatus': 98599, 'DisplayName': '', 'KeyWord': '', 'RemarkPYInitial': ''}>, <ChatroomMember: {'NickName': 'regis fevrier', 'MemberList': <ContactList: []>, 'UserName': '@f7cfbf5140333fc40c2de3516aa855ed859996815a590c54bbc7663849d40d9d', 'Uin': 0, 'MemberStatus': 0, 'RemarkPYQuanPin': '', 'PYQuanPin': '', 'PYInitial': '', 'AttrStatus': 33656871, 'DisplayName': '', 'KeyWord': '', 'RemarkPYInitial': ''}>, <ChatroomMember: {'NickName': 'Marion Chaussois - Rose Doré', 'MemberList': <ContactList: []>, 'UserName': '@9b645ddc0d06aa70c80765ee47dcf244658c5614f3a265434ef9a551b5b064ed', 'Uin': 0, 'MemberStatus': 0, 'RemarkPYQuanPin': '', 'PYQuanPin': '', 'PYInitial': '', 'AttrStatus': 102437, 'DisplayName': '', 'KeyWord': '', 'RemarkPYInitial': ''}>, <ChatroomMember: {'NickName': 'Laetitia 邓兰心', 'MemberList': <ContactList: []>, 'UserName': '@fb949a7394c27605902b5bcc419a40e3d24f1d91695f8cdbc2240017698bdda7', 'Uin': 0, 'MemberStatus': 0, 'RemarkPYQuanPin': '', 'PYQuanPin': '', 'PYInitial': '', 'AttrStatus': 4266087, 'DisplayName': '', 'KeyWord': '', 'RemarkPYInitial': ''}>, <ChatroomMember: {'NickName': 'Murielbaudry', 'MemberList': <ContactList: []>, 'UserName': '@22019f9848cdc1cd8fbbaced3dc9904ba21e2d302f34cd158ebbdff371f7d4d1', 'Uin': 0, 'MemberStatus': 0, 'RemarkPYQuanPin': '', 'PYQuanPin': '', 'PYInitial': '', 'AttrStatus': 102437, 'DisplayName': '', 'KeyWord': '', 'RemarkPYInitial': ''}>, <ChatroomMember: {'NickName': 'amira kelner', 'MemberList': <ContactList: []>, 'UserName': '@b5a080fcaf1cdbdfd13e7eefe424414373f181978337c527c9473cbdd6b6ebd8', 'Uin': 0, 'MemberStatus': 0, 'RemarkPYQuanPin': '', 'PYQuanPin': '', 'PYInitial': '', 'AttrStatus': 33951781, 'DisplayName': '', 'KeyWord': '', 'RemarkPYInitial': ''}>, <ChatroomMember: {'NickName': '茉莉-Gwladys', 'MemberList': <ContactList: []>, 'UserName': '@d3352ff1026602c2ebba5e0d393ecbdb516fbe55c94b1aabdc88a805f33912fb', 'Uin': 0, 'MemberStatus': 0, 'RemarkPYQuanPin': '', 'PYQuanPin': '', 'PYInitial': '', 'AttrStatus': 33919165, 'DisplayName': '', 'KeyWord': '', 'RemarkPYInitial': ''}>, <ChatroomMember: {'NickName': 'David', 'MemberList': <ContactList: []>, 'UserName': '@289faed398aff935bebbb29c745eb02d9a77e5892bf737e6654dbb69bebe7bfd', 'Uin': 0, 'MemberStatus': 0, 'RemarkPYQuanPin': '', 'PYQuanPin': '', 'PYInitial': '', 'AttrStatus': 36016133, 'DisplayName': '', 'KeyWord': '', 'RemarkPYInitial': ''}>, <ChatroomMember: {'NickName': 'Pierre Puskarczyk', 'MemberList': <ContactList: []>, 'UserName': '@b9518ebb0ba5ebe4167c6a0e7034e86823a318b8b4c1a7311354f734b37ad7b4', 'Uin': 0, 'MemberStatus': 0, 'RemarkPYQuanPin': '', 'PYQuanPin': '', 'PYInitial': '', 'AttrStatus': 104485, 'DisplayName': '', 'KeyWord': '', 'RemarkPYInitial': ''}>, <ChatroomMember: {'NickName': 'Nanou || Baluchon', 'MemberList': <ContactList: []>, 'UserName': '@5cea147315815910c99508e13732b6f3', 'Uin': 0, 'MemberStatus': 0, 'RemarkPYQuanPin': '', 'PYQuanPin': '', 'PYInitial': '', 'AttrStatus': 229415, 'DisplayName': '', 'KeyWord': '', 'RemarkPYInitial': ''}>, <ChatroomMember: {'NickName': 'LY', 'MemberList': <ContactList: []>, 'UserName': '@6a5ef51e3e796c2b3e6d818d6845f6ccdd6ebececa2a8f9c82d76ae7ed3fdcef', 'Uin': 0, 'MemberStatus': 0, 'RemarkPYQuanPin': '', 'PYQuanPin': '', 'PYInitial': '', 'AttrStatus': 67340582, 'DisplayName': '', 'KeyWord': '', 'RemarkPYInitial': ''}>, <ChatroomMember: {'NickName': 'veronique Delmas', 'MemberList': <ContactList: []>, 'UserName': '@7ee3c58b652be74d4efc025e5360da31a95ea1c9ae4e40d6afdf9707ef8f6881', 'Uin': 0, 'MemberStatus': 0, 'RemarkPYQuanPin': '', 'PYQuanPin': '', 'PYInitial': '', 'AttrStatus': 102437, 'DisplayName': '', 'KeyWord': '', 'RemarkPYInitial': ''}>, <ChatroomMember: {'NickName': 'Isabelle🇸🇳🇱🇧🇨🇻', 'MemberList': <ContactList: []>, 'UserName': '@0f9ca75bd3e635c7c4abf48a8a2e0b03578bcbbe39708b87a71d17f1c84e9bc5', 'Uin': 0, 'MemberStatus': 0, 'RemarkPYQuanPin': '', 'PYQuanPin': '', 'PYInitial': '', 'AttrStatus': 2185330791, 'DisplayName': '', 'KeyWord': '', 'RemarkPYInitial': ''}>, <ChatroomMember: {'NickName': 'Zohra 淑涵', 'MemberList': <ContactList: []>, 'UserName': '@255c68f292307753e15041e8242a366e2cf259f3d51af5f014706838c63df8f0', 'Uin': 0, 'MemberStatus': 0, 'RemarkPYQuanPin': '', 'PYQuanPin': '', 'PYInitial': '', 'AttrStatus': 98341, 'DisplayName': '', 'KeyWord': '', 'RemarkPYInitial': ''}>, <ChatroomMember: {'NickName': '🍃Max 🇫🇷', 'MemberList': <ContactList: []>, 'UserName': '@a9b0d59e9f35ad141f23a6e60ad11e969c7c93577db059512cbc8173f683dc0a', 'Uin': 0, 'MemberStatus': 0, 'RemarkPYQuanPin': '', 'PYQuanPin': '', 'PYInitial': '', 'AttrStatus': 69669, 'DisplayName': '', 'KeyWord': '', 'RemarkPYInitial': ''}>, <ChatroomMember: {'NickName': 'alexandra chemouni hermelin', 'MemberList': <ContactList: []>, 'UserName': '@54e0b19a8053bc7517ef5774ed6512c03d69116ccba8c0787a65805a92235955', 'Uin': 0, 'MemberStatus': 0, 'RemarkPYQuanPin': '', 'PYQuanPin': '', 'PYInitial': '', 'AttrStatus': 102439, 'DisplayName': '', 'KeyWord': '', 'RemarkPYInitial': ''}>, <ChatroomMember: {'NickName': 'Laurence Masson Dellys', 'MemberList': <ContactList: []>, 'UserName': '@30be1d2436881020b9a38b6f7ee5b35a30d2882843be15d61b0f0f90e5d2f529', 'Uin': 0, 'MemberStatus': 0, 'RemarkPYQuanPin': '', 'PYQuanPin': '', 'PYInitial': '', 'AttrStatus': 102439, 'DisplayName': 'Laurence MD', 'KeyWord': '', 'RemarkPYInitial': ''}>, <ChatroomMember: {'NickName': 'Florian B 李安', 'MemberList': <ContactList: []>, 'UserName': '@97a1679f1e8c94175a62c2d54ecb254f95a8bbf876b7e6eb78fb64e034d5cb0b', 'Uin': 0, 'MemberStatus': 0, 'RemarkPYQuanPin': '', 'PYQuanPin': '', 'PYInitial': '', 'AttrStatus': 4292645, 'DisplayName': '', 'KeyWord': '', 'RemarkPYInitial': ''}>, <ChatroomMember: {'NickName': 'Damiano', 'MemberList': <ContactList: []>, 'UserName': '@08a567d01a9e51fa85c9f361523a8aea4a1d45e50427dffadeb44d6ababab38b', 'Uin': 0, 'MemberStatus': 0, 'RemarkPYQuanPin': '', 'PYQuanPin': '', 'PYInitial': '', 'AttrStatus': 2151780389, 'DisplayName': '', 'KeyWord': '', 'RemarkPYInitial': ''}>, <ChatroomMember: {'NickName': ' Gaelle Martin', 'MemberList': <ContactList: []>, 'UserName': '@d334317f0f752bb4ef4f519d0712b65f9f95bc20a845d2fdce08a8e173d22483', 'Uin': 0, 'MemberStatus': 0, 'RemarkPYQuanPin': '', 'PYQuanPin': '', 'PYInitial': '', 'AttrStatus': 102437, 'DisplayName': '', 'KeyWord': '', 'RemarkPYInitial': ''}>, <ChatroomMember: {'NickName': 'Mag', 'MemberList': <ContactList: []>, 'UserName': '@48848be4892ac43cd584060042820741', 'Uin': 0, 'MemberStatus': 0, 'RemarkPYQuanPin': '', 'PYQuanPin': '', 'PYInitial': '', 'AttrStatus': 98341, 'DisplayName': '', 'KeyWord': '', 'RemarkPYInitial': ''}>, <ChatroomMember: {'NickName': 'Evi Singleton', 'MemberList': <ContactList: []>, 'UserName': '@e332861ca77e2836217553aa115c5e8bec0b0b6ffe48cc2a7c69b376bd2db976', 'Uin': 0, 'MemberStatus': 0, 'RemarkPYQuanPin': '', 'PYQuanPin': '', 'PYInitial': '', 'AttrStatus': 33919013, 'DisplayName': '', 'KeyWord': '', 'RemarkPYInitial': ''}>, <ChatroomMember: {'NickName': 'Jamila Gillino', 'MemberList': <ContactList: []>, 'UserName': '@459e71800c9f030af1876757fafc80e93be41a22f396123936f2b16b97baa471', 'Uin': 0, 'MemberStatus': 0, 'RemarkPYQuanPin': '', 'PYQuanPin': '', 'PYInitial': '', 'AttrStatus': 33558565, 'DisplayName': '', 'KeyWord': '', 'RemarkPYInitial': ''}>, <ChatroomMember: {'NickName': 'Mélisande', 'MemberList': <ContactList: []>, 'UserName': '@ad91e6fe6d7f08b66b0649b3952d4f093fea2530a8a9f6b6f71eca05d1666612', 'Uin': 0, 'MemberStatus': 0, 'RemarkPYQuanPin': '', 'PYQuanPin': '', 'PYInitial': '', 'AttrStatus': 102437, 'DisplayName': '', 'KeyWord': '', 'RemarkPYInitial': ''}>, <ChatroomMember: {'NickName': 'patricia henrotte', 'MemberList': <ContactList: []>, 'UserName': '@c7709dcd9f08b5d1ca8506d002118798cd56716e94b661837f209be4fc4ee611', 'Uin': 0, 'MemberStatus': 0, 'RemarkPYQuanPin': '', 'PYQuanPin': '', 'PYInitial': '', 'AttrStatus': 102437, 'DisplayName': 'patricia henrotte⭐️', 'KeyWord': '', 'RemarkPYInitial': ''}>, <ChatroomMember: {'NickName': 'J.D 🇫🇷🍴🇨🇳', 'MemberList': <ContactList: []>, 'UserName': '@6280c8cef126e25695bea1a1875e5cbd9f58078006fee6213d624aee6d3ac059', 'Uin': 0, 'MemberStatus': 0, 'RemarkPYQuanPin': '', 'PYQuanPin': '', 'PYInitial': '', 'AttrStatus': 100389, 'DisplayName': '', 'KeyWord': '', 'RemarkPYInitial': ''}>, <ChatroomMember: {'NickName': 'Karine Pothin 🌺', 'MemberList': <ContactList: []>, 'UserName': '@0ed32f10dcfef4727f45334cc594eff1e42dd105af6b2cba3e336f26f1793d11', 'Uin': 0, 'MemberStatus': 0, 'RemarkPYQuanPin': '', 'PYQuanPin': '', 'PYInitial': '', 'AttrStatus': 102437, 'DisplayName': '', 'KeyWord': '', 'RemarkPYInitial': ''}>, <ChatroomMember: {'NickName': 'Chloé 🍉', 'MemberList': <ContactList: []>, 'UserName': '@33ffff6bdd8115e610ed5762464d8d6332d5f6cb2bef4b4da0933d8cfc5ee45a', 'Uin': 0, 'MemberStatus': 0, 'RemarkPYQuanPin': '', 'PYQuanPin': '', 'PYInitial': '', 'AttrStatus': 33820709, 'DisplayName': '', 'KeyWord': '', 'RemarkPYInitial': ''}>, <ChatroomMember: {'NickName': 'Catherine Lucas Bouillon', 'MemberList': <ContactList: []>, 'UserName': '@46e076a266bdb38be7cfe6473a647218bc4b2ceb409250fcf5021f1f2f5ce555', 'Uin': 0, 'MemberStatus': 0, 'RemarkPYQuanPin': '', 'PYQuanPin': '', 'PYInitial': '', 'AttrStatus': 102437, 'DisplayName': '', 'KeyWord': '', 'RemarkPYInitial': ''}>, <ChatroomMember: {'NickName': 'Alexandra 🇨🇳🇫🇷', 'MemberList': <ContactList: []>, 'UserName': '@8d066882baa60714c693a47df1208e469b11c2a89e53ac833e33b9af83a55e4e', 'Uin': 0, 'MemberStatus': 0, 'RemarkPYQuanPin': '', 'PYQuanPin': '', 'PYInitial': '', 'AttrStatus': 104485, 'DisplayName': '', 'KeyWord': '', 'RemarkPYInitial': ''}>, <ChatroomMember: {'NickName': 'Alexia le M', 'MemberList': <ContactList: []>, 'UserName': '@d4a4a449247aa33d3c16bb0ab43bf59e98db17c816ec01901630efbb832e68d3', 'Uin': 0, 'MemberStatus': 0, 'RemarkPYQuanPin': '', 'PYQuanPin': '', 'PYInitial': '', 'AttrStatus': 33921063, 'DisplayName': '', 'KeyWord': '', 'RemarkPYInitial': ''}>, <ChatroomMember: {'NickName': 'Anne-France TELETHON -UFE', 'MemberList': <ContactList: []>, 'UserName': '@1709e2ba30a2d9309fb5823be061008cddf5d0a3f4d4132da5eb316ae75fe70f', 'Uin': 0, 'MemberStatus': 0, 'RemarkPYQuanPin': '', 'PYQuanPin': '', 'PYInitial': '', 'AttrStatus': 4292645, 'DisplayName': '', 'KeyWord': '', 'RemarkPYInitial': ''}>, <ChatroomMember: {'NickName': 'Aurelie', 'MemberList': <ContactList: []>, 'UserName': '@3a7b9c2d3eb5b7e455cb023222290f124c695ecd9eb5b15de8b32f69dcda2b20', 'Uin': 0, 'MemberStatus': 0, 'RemarkPYQuanPin': '', 'PYQuanPin': '', 'PYInitial': '', 'AttrStatus': 2199557, 'DisplayName': '', 'KeyWord': '', 'RemarkPYInitial': ''}>, <ChatroomMember: {'NickName': 'Julia  朱丽雅', 'MemberList': <ContactList: []>, 'UserName': '@19da37abff1a1bf82bc2b26e86fe79d2c822e762f7765e89b5f84d046243fe75', 'Uin': 0, 'MemberStatus': 0, 'RemarkPYQuanPin': '', 'PYQuanPin': '', 'PYInitial': '', 'AttrStatus': 102437, 'DisplayName': '', 'KeyWord': '', 'RemarkPYInitial': ''}>, <ChatroomMember: {'NickName': 'Velo🇨🇳🇫🇷', 'MemberList': <ContactList: []>, 'UserName': '@3a30fd08228b4aa07780680569942338c2072062a7e266984d09c3f980b0be2c', 'Uin': 0, 'MemberStatus': 0, 'RemarkPYQuanPin': '', 'PYQuanPin': '', 'PYInitial': '', 'AttrStatus': 103461, 'DisplayName': '', 'KeyWord': '', 'RemarkPYInitial': ''}>, <ChatroomMember: {'NickName': 'Alix', 'MemberList': <ContactList: []>, 'UserName': '@4205d359532818c2be41394fdcebded1e1d45c70293d4efffa5ec87745bdb233', 'Uin': 0, 'MemberStatus': 0, 'RemarkPYQuanPin': '', 'PYQuanPin': '', 'PYInitial': '', 'AttrStatus': 33787941, 'DisplayName': '', 'KeyWord': '', 'RemarkPYInitial': ''}>, <ChatroomMember: {'NickName': 'Chlobry', 'MemberList': <ContactList: []>, 'UserName': '@d9c5cad0ca22f62251c32b75ddfff9c3563c49e2590d9bc6e24728ee5f42e0cb', 'Uin': 0, 'MemberStatus': 0, 'RemarkPYQuanPin': '', 'PYQuanPin': '', 'PYInitial': '', 'AttrStatus': 102437, 'DisplayName': '', 'KeyWord': '', 'RemarkPYInitial': ''}>, <ChatroomMember: {'NickName': 'christelle \\U0001f929', 'MemberList': <ContactList: []>, 'UserName': '@8827329009f4521cd30d92c189150cc607d04d9040124a866ef042e71c5f0716', 'Uin': 0, 'MemberStatus': 0, 'RemarkPYQuanPin': '', 'PYQuanPin': '', 'PYInitial': '', 'AttrStatus': 364581, 'DisplayName': '', 'KeyWord': '', 'RemarkPYInitial': ''}>, <ChatroomMember: {'NickName': 'Fabie', 'MemberList': <ContactList: []>, 'UserName': '@c825d41f9dbf93e7c86bf9d14229cc1a921a2d62e987b88a84a0d13a4061f225', 'Uin': 0, 'MemberStatus': 0, 'RemarkPYQuanPin': '', 'PYQuanPin': '', 'PYInitial': '', 'AttrStatus': 4292645, 'DisplayName': '', 'KeyWord': '', 'RemarkPYInitial': ''}>, <ChatroomMember: {'NickName': 'Delphine', 'MemberList': <ContactList: []>, 'UserName': '@dafa2404f9db8ef7d9d615b1fd5fdb3697a61d692fed8b325444c299d4a3feb0', 'Uin': 0, 'MemberStatus': 0, 'RemarkPYQuanPin': '', 'PYQuanPin': '', 'PYInitial': '', 'AttrStatus': 2461735, 'DisplayName': '', 'KeyWord': '', 'RemarkPYInitial': ''}>, <ChatroomMember: {'NickName': 'Fatima El Boukili', 'MemberList': <ContactList: []>, 'UserName': '@15a875e1ad4a25decb0571b8bd28eab916a70d224b3abb8341d280bd1603e0ee', 'Uin': 0, 'MemberStatus': 0, 'RemarkPYQuanPin': '', 'PYQuanPin': '', 'PYInitial': '', 'AttrStatus': 33919013, 'DisplayName': '', 'KeyWord': '', 'RemarkPYInitial': ''}>, <ChatroomMember: {'NickName': 'Elo', 'MemberList': <ContactList: []>, 'UserName': '@9dccc743c703039d18b83a290587fe75fe9a6d399be7841426d520978abbef60', 'Uin': 0, 'MemberStatus': 0, 'RemarkPYQuanPin': '', 'PYQuanPin': '', 'PYInitial': '', 'AttrStatus': 33654823, 'DisplayName': '', 'KeyWord': '', 'RemarkPYInitial': ''}>, <ChatroomMember: {'NickName': 'Jessica 👀🍀', 'MemberList': <ContactList: []>, 'UserName': '@ebb3c2b2579d6ae7e8525066ce32a24cc709006d5c442f9a1be558433dbb5d6d', 'Uin': 0, 'MemberStatus': 0, 'RemarkPYQuanPin': '', 'PYQuanPin': '', 'PYInitial': '', 'AttrStatus': 33919015, 'DisplayName': '', 'KeyWord': '', 'RemarkPYInitial': ''}>, <ChatroomMember: {'NickName': 'Lucile Jacquet', 'MemberList': <ContactList: []>, 'UserName': '@cbc601ba26a1643eaad2e64746ee41f6c7be0b74b332cd0102ac61d31525c572', 'Uin': 0, 'MemberStatus': 0, 'RemarkPYQuanPin': '', 'PYQuanPin': '', 'PYInitial': '', 'AttrStatus': 4296743, 'DisplayName': '', 'KeyWord': '', 'RemarkPYInitial': ''}>, <ChatroomMember: {'NickName': 'l.marescq', 'MemberList': <ContactList: []>, 'UserName': '@a8b2ad0cb6ad2de46aab9fedd11a06183bdef15f140ea29fd974f335cecd13f4', 'Uin': 0, 'MemberStatus': 0, 'RemarkPYQuanPin': '', 'PYQuanPin': '', 'PYInitial': '', 'AttrStatus': 33787941, 'DisplayName': '', 'KeyWord': '', 'RemarkPYInitial': ''}>, <ChatroomMember: {'NickName': 'Marie A &amp; M', 'MemberList': <ContactList: []>, 'UserName': '@08bb7cc78f09cab59e8be033a894ed3b9f74eb77ff45192cd719990341f56a0a', 'Uin': 0, 'MemberStatus': 0, 'RemarkPYQuanPin': '', 'PYQuanPin': '', 'PYInitial': '', 'AttrStatus': 102437, 'DisplayName': '', 'KeyWord': '', 'RemarkPYInitial': ''}>, <ChatroomMember: {'NickName': 'jessica', 'MemberList': <ContactList: []>, 'UserName': '@971d4ee1d72d51c5bf45b60ed86a7c70efd5d352fc107665f8ca6068dfaa7736', 'Uin': 0, 'MemberStatus': 0, 'RemarkPYQuanPin': '', 'PYQuanPin': '', 'PYInitial': '', 'AttrStatus': 33656869, 'DisplayName': '', 'KeyWord': '', 'RemarkPYInitial': ''}>, <ChatroomMember: {'NickName': 'fabiola chauveau', 'MemberList': <ContactList: []>, 'UserName': '@9c1152d25943314502bae00bb5af1277b96e7bdc3232433f867a054480f6e451', 'Uin': 0, 'MemberStatus': 0, 'RemarkPYQuanPin': '', 'PYQuanPin': '', 'PYInitial': '', 'AttrStatus': 495653, 'DisplayName': '', 'KeyWord': '', 'RemarkPYInitial': ''}>, <ChatroomMember: {'NickName': 'Malix GIRAUD 🇫🇷🍾', 'MemberList': <ContactList: []>, 'UserName': '@96e2ced16664f1cf5044b0b639e324f5eb93d70a2ce33288b61eb500adb01468', 'Uin': 0, 'MemberStatus': 0, 'RemarkPYQuanPin': '', 'PYQuanPin': '', 'PYInitial': '', 'AttrStatus': 2199591, 'DisplayName': '', 'KeyWord': '', 'RemarkPYInitial': ''}>, <ChatroomMember: {'NickName': 'Ingrid Kerremans', 'MemberList': <ContactList: []>, 'UserName': '@b764a2a8cc7de6dca02d5ddd04a815c2d4b3bfc93b9270082f0467fc5308b8df', 'Uin': 0, 'MemberStatus': 0, 'RemarkPYQuanPin': '', 'PYQuanPin': '', 'PYInitial': '', 'AttrStatus': 33656869, 'DisplayName': '', 'KeyWord': '', 'RemarkPYInitial': ''}>, <ChatroomMember: {'NickName': 'Flor', 'MemberList': <ContactList: []>, 'UserName': '@cd350992183aa1471dcfe45b679287d7147c27d99cdf6baf20e936334b23236d', 'Uin': 0, 'MemberStatus': 0, 'RemarkPYQuanPin': '', 'PYQuanPin': '', 'PYInitial': '', 'AttrStatus': 104485, 'DisplayName': '', 'KeyWord': '', 'RemarkPYInitial': ''}>, <ChatroomMember: {'NickName': 'Marie', 'MemberList': <ContactList: []>, 'UserName': '@5356c1297fc42cc161a10abc953433c57c7484e4b44e3c80907a839cae045cdb', 'Uin': 0, 'MemberStatus': 0, 'RemarkPYQuanPin': '', 'PYQuanPin': '', 'PYInitial': '', 'AttrStatus': 33919015, 'DisplayName': '', 'KeyWord': '', 'RemarkPYInitial': ''}>, <ChatroomMember: {'NickName': 'Marie Helene Roumengas', 'MemberList': <ContactList: []>, 'UserName': '@f19749d59d90a6cc561272aea491e10785fb4fe186fac00e53c55641bbe43384', 'Uin': 0, 'MemberStatus': 0, 'RemarkPYQuanPin': '', 'PYQuanPin': '', 'PYInitial': '', 'AttrStatus': 102437, 'DisplayName': '', 'KeyWord': '', 'RemarkPYInitial': ''}>, <ChatroomMember: {'NickName': 'Marion', 'MemberList': <ContactList: []>, 'UserName': '@58f11a756f7285eb5da28e9dbf6bac2791ea391c6d1cd82befa78e0548537d0b', 'Uin': 0, 'MemberStatus': 0, 'RemarkPYQuanPin': '', 'PYQuanPin': '', 'PYInitial': '', 'AttrStatus': 98343, 'DisplayName': '', 'KeyWord': '', 'RemarkPYInitial': ''}>, <ChatroomMember: {'NickName': 'Marine 马林', 'MemberList': <ContactList: []>, 'UserName': '@3cf4a2a66871bcd7c606cda80ffdd398', 'Uin': 0, 'MemberStatus': 0, 'RemarkPYQuanPin': '', 'PYQuanPin': '', 'PYInitial': '', 'AttrStatus': 33656871, 'DisplayName': '', 'KeyWord': '', 'RemarkPYInitial': ''}>, <ChatroomMember: {'NickName': 'Athina Faraut', 'MemberList': <ContactList: []>, 'UserName': '@a437c0a905edf25e3aca5bb1f685d9b5f8d27450c9a51eb4d546f68c87f5c8e4', 'Uin': 0, 'MemberStatus': 0, 'RemarkPYQuanPin': '', 'PYQuanPin': '', 'PYInitial': '', 'AttrStatus': 364581, 'DisplayName': '', 'KeyWord': '', 'RemarkPYInitial': ''}>, <ChatroomMember: {'NickName': 'Charlotte Desenfants', 'MemberList': <ContactList: []>, 'UserName': '@39ad7d3b5da02ab6990a432dadaf9201596541f5214be77259bf0d212d61b2e6', 'Uin': 0, 'MemberStatus': 0, 'RemarkPYQuanPin': '', 'PYQuanPin': '', 'PYInitial': '', 'AttrStatus': 102437, 'DisplayName': '', 'KeyWord': '', 'RemarkPYInitial': ''}>, <ChatroomMember: {'NickName': 'pauline', 'MemberList': <ContactList: []>, 'UserName': '@bce1b2d83620662b29210e14effc65b8aeaeeaf565f5d9acdab074e35bcec40c', 'Uin': 0, 'MemberStatus': 0, 'RemarkPYQuanPin': '', 'PYQuanPin': '', 'PYInitial': '', 'AttrStatus': 4292645, 'DisplayName': '', 'KeyWord': '', 'RemarkPYInitial': ''}>, <ChatroomMember: {'NickName': 'SANDRA| LaPetiteChinedeMathilde', 'MemberList': <ContactList: []>, 'UserName': '@41b3deab6f770a4a12f07477949be1ae25b035e7d938744b05a287fe67b0a578', 'Uin': 0, 'MemberStatus': 0, 'RemarkPYQuanPin': '', 'PYQuanPin': '', 'PYInitial': '', 'AttrStatus': 102437, 'DisplayName': '', 'KeyWord': '', 'RemarkPYInitial': ''}>, <ChatroomMember: {'NickName': 'The WineLady🍷🇫🇷🇺🇸', 'MemberList': <ContactList: []>, 'UserName': '@5a4610d84f455af537b52086b0e05e0fb2810794238a1e7cc05f60360b74521f', 'Uin': 0, 'MemberStatus': 0, 'RemarkPYQuanPin': '', 'PYQuanPin': '', 'PYInitial': '', 'AttrStatus': 33656839, 'DisplayName': 'Natalie WT🍷🇫🇷🇺🇸', 'KeyWord': '', 'RemarkPYInitial': ''}>, <ChatroomMember: {'NickName': 'vanessa chopard', 'MemberList': <ContactList: []>, 'UserName': '@02ea01eaff73af230766db2d932facf5d586b08e25a2847616f3c445cf7ff7d4', 'Uin': 0, 'MemberStatus': 0, 'RemarkPYQuanPin': '', 'PYQuanPin': '', 'PYInitial': '', 'AttrStatus': 2201605, 'DisplayName': '', 'KeyWord': '', 'RemarkPYInitial': ''}>, <ChatroomMember: {'NickName': 'Sandra 🌸', 'MemberList': <ContactList: []>, 'UserName': '@5657e2475b32461169a7e749cf256e7b7a4ea41afdd1523bb77bc23cc609143f', 'Uin': 0, 'MemberStatus': 0, 'RemarkPYQuanPin': '', 'PYQuanPin': '', 'PYInitial': '', 'AttrStatus': 36016133, 'DisplayName': '', 'KeyWord': '', 'RemarkPYInitial': ''}>, <ChatroomMember: {'NickName': 'Solange B, Ph.D. - 索兰 🌻', 'MemberList': <ContactList: []>, 'UserName': '@3e30199980023c13c7fd9e205f7fe1e40f3f1d17f15dd97810dee549ae7b41c7', 'Uin': 0, 'MemberStatus': 0, 'RemarkPYQuanPin': '', 'PYQuanPin': '', 'PYInitial': '', 'AttrStatus': 102439, 'DisplayName': 'Solange B', 'KeyWord': '', 'RemarkPYInitial': ''}>, <ChatroomMember: {'NickName': 'Séverine', 'MemberList': <ContactList: []>, 'UserName': '@7d0d915e390d9497c39cfc8bdf32cc5aa23694a7a7eb3a372873a475dc5f0f20', 'Uin': 0, 'MemberStatus': 0, 'RemarkPYQuanPin': '', 'PYQuanPin': '', 'PYInitial': '', 'AttrStatus': 102439, 'DisplayName': '', 'KeyWord': '', 'RemarkPYInitial': ''}>, <ChatroomMember: {'NickName': 'Vi', 'MemberList': <ContactList: []>, 'UserName': '@38b958a17d6e243ab905d3a934f6c1e6e7fd6cb4e28e8c10fd013591d0e57a42', 'Uin': 0, 'MemberStatus': 0, 'RemarkPYQuanPin': '', 'PYQuanPin': '', 'PYInitial': '', 'AttrStatus': 102439, 'DisplayName': '', 'KeyWord': '', 'RemarkPYInitial': ''}>, <ChatroomMember: {'NickName': 'Regine', 'MemberList': <ContactList: []>, 'UserName': '@64999e0cb021535ebe3e47b3dacd7efa71361d4c93bcede99553bc9a54470a97', 'Uin': 0, 'MemberStatus': 0, 'RemarkPYQuanPin': '', 'PYQuanPin': '', 'PYInitial': '', 'AttrStatus': 102439, 'DisplayName': '', 'KeyWord': '', 'RemarkPYInitial': ''}>, <ChatroomMember: {'NickName': 'sarah', 'MemberList': <ContactList: []>, 'UserName': '@9652b6fd475e62fada2871fae6446940adc05d3b37b8c7e907772b743f4f111e', 'Uin': 0, 'MemberStatus': 0, 'RemarkPYQuanPin': '', 'PYQuanPin': '', 'PYInitial': '', 'AttrStatus': 33652773, 'DisplayName': '', 'KeyWord': '', 'RemarkPYInitial': ''}>, <ChatroomMember: {'NickName': 'Santa', 'MemberList': <ContactList: []>, 'UserName': '@02399ab407cff7d380d0d0591ea5cb9e4e03062356c1ef513c0f61bbe4441391', 'Uin': 0, 'MemberStatus': 0, 'RemarkPYQuanPin': '', 'PYQuanPin': '', 'PYInitial': '', 'AttrStatus': 98343, 'DisplayName': '', 'KeyWord': '', 'RemarkPYInitial': ''}>, <ChatroomMember: {'NickName': ' sandrine jeanneteau', 'MemberList': <ContactList: []>, 'UserName': '@8ed27d4a889d3b035b3d4ea81b6f347e122986b9d3471e386562dc2557ed2577', 'Uin': 0, 'MemberStatus': 0, 'RemarkPYQuanPin': '', 'PYQuanPin': '', 'PYInitial': '', 'AttrStatus': 2199589, 'DisplayName': '', 'KeyWord': '', 'RemarkPYInitial': ''}>, <ChatroomMember: {'NickName': 'Nadège V. 魏娜🇫🇷', 'MemberList': <ContactList: []>, 'UserName': '@c7739d42de2fd90ec287400967fedcf81a33dd5b3195f46c1d5f5163f14bead7', 'Uin': 0, 'MemberStatus': 0, 'RemarkPYQuanPin': '', 'PYQuanPin': '', 'PYInitial': '', 'AttrStatus': 2199591, 'DisplayName': '', 'KeyWord': '', 'RemarkPYInitial': ''}>, <ChatroomMember: {'NickName': 'Carine Bonnois', 'MemberList': <ContactList: []>, 'UserName': '@d0a74b540c80b38fc3b9c7ca512988fcdde601a3a84508e1aa68daa621393451', 'Uin': 0, 'MemberStatus': 0, 'RemarkPYQuanPin': '', 'PYQuanPin': '', 'PYInitial': '', 'AttrStatus': 102439, 'DisplayName': '', 'KeyWord': '', 'RemarkPYInitial': ''}>, <ChatroomMember: {'NickName': 'Nat Crama', 'MemberList': <ContactList: []>, 'UserName': '@7d0aa0877345ef92382c53e94b0969e647f67870e84c87f8178df62bff374972', 'Uin': 0, 'MemberStatus': 0, 'RemarkPYQuanPin': '', 'PYQuanPin': '', 'PYInitial': '', 'AttrStatus': 135205, 'DisplayName': '', 'KeyWord': '', 'RemarkPYInitial': ''}>, <ChatroomMember: {'NickName': 'Soizic B', 'MemberList': <ContactList: []>, 'UserName': '@739ae23d7f0779e2debd9106bb8ddce4a8d9fbb4a72d040dccd4408aec382dcf', 'Uin': 0, 'MemberStatus': 0, 'RemarkPYQuanPin': '', 'PYQuanPin': '', 'PYInitial': '', 'AttrStatus': 36016133, 'DisplayName': '', 'KeyWord': '', 'RemarkPYInitial': ''}>, <ChatroomMember: {'NickName': 'Laurent', 'MemberList': <ContactList: []>, 'UserName': '@2af87ce620de7b27cbc7f2a9cc576496e1c009ca475e43a854a92912ed07124e', 'Uin': 0, 'MemberStatus': 0, 'RemarkPYQuanPin': '', 'PYQuanPin': '', 'PYInitial': '', 'AttrStatus': 33689895, 'DisplayName': '', 'KeyWord': '', 'RemarkPYInitial': ''}>, <ChatroomMember: {'NickName': 'Marie FAIVRE-DUBOZ 玛丽 은영', 'MemberList': <ContactList: []>, 'UserName': '@41fed379a43f257ca31e9fed9440a0fc850251e4040515718279edfbab3487d8', 'Uin': 0, 'MemberStatus': 0, 'RemarkPYQuanPin': '', 'PYQuanPin': '', 'PYInitial': '', 'AttrStatus': 102439, 'DisplayName': '', 'KeyWord': '', 'RemarkPYInitial': ''}>, <ChatroomMember: {'NickName': '이유현 Cecilia', 'MemberList': <ContactList: []>, 'UserName': '@73b8202a0e7384c2ecd806dba5de8ffadc1a68b0598151e1f7fda1944ad0a97c', 'Uin': 0, 'MemberStatus': 0, 'RemarkPYQuanPin': '', 'PYQuanPin': '', 'PYInitial': '', 'AttrStatus': 104997, 'DisplayName': '', 'KeyWord': '', 'RemarkPYInitial': ''}>, <ChatroomMember: {'NickName': 'isabelle brackebusch', 'MemberList': <ContactList: []>, 'UserName': '@06b76331e16e4ec35ecabcd65f4680e8092aeb423397433abe629b958fda9922', 'Uin': 0, 'MemberStatus': 0, 'RemarkPYQuanPin': '', 'PYQuanPin': '', 'PYInitial': '', 'AttrStatus': 33919013, 'DisplayName': '', 'KeyWord': '', 'RemarkPYInitial': ''}>, <ChatroomMember: {'NickName': 'Tiphanie', 'MemberList': <ContactList: []>, 'UserName': '@5aaf1a0cc349f7f67ac83f0d566159aeecab29e86799371f5f927d9e0374b759', 'Uin': 0, 'MemberStatus': 0, 'RemarkPYQuanPin': '', 'PYQuanPin': '', 'PYInitial': '', 'AttrStatus': 33689639, 'DisplayName': '', 'KeyWord': '', 'RemarkPYInitial': ''}>, <ChatroomMember: {'NickName': 'LaPtiteLu', 'MemberList': <ContactList: []>, 'UserName': '@5880a802c4c27d51ccdecb87ce9f2d68ba9783f92381d6c81dfcacad21a7cf45', 'Uin': 0, 'MemberStatus': 0, 'RemarkPYQuanPin': '', 'PYQuanPin': '', 'PYInitial': '', 'AttrStatus': 102437, 'DisplayName': '', 'KeyWord': '', 'RemarkPYInitial': ''}>, <ChatroomMember: {'NickName': 'Tiph MAGDELAINE🇨🇳', 'MemberList': <ContactList: []>, 'UserName': '@493cc2f791f7b1a0d9adeda8c5773dbd03f42ece429524f04a23aba5f0d62a22', 'Uin': 0, 'MemberStatus': 0, 'RemarkPYQuanPin': '', 'PYQuanPin': '', 'PYInitial': '', 'AttrStatus': 102435, 'DisplayName': '', 'KeyWord': '', 'RemarkPYInitial': ''}>, <ChatroomMember: {'NickName': 'magali b', 'MemberList': <ContactList: []>, 'UserName': '@65143a1a2bfd6a74bb384df195614057513fc818c4d6f3428258244f2c36af05', 'Uin': 0, 'MemberStatus': 0, 'RemarkPYQuanPin': '', 'PYQuanPin': '', 'PYInitial': '', 'AttrStatus': 98343, 'DisplayName': '', 'KeyWord': '', 'RemarkPYInitial': ''}>, <ChatroomMember: {'NickName': 'Carole Daudet 🇫🇷 🇪🇺', 'MemberList': <ContactList: []>, 'UserName': '@a8d9ed5797ccc7bced232997cbcc533a43449bf521ad5bddb2e0057ec58bfcbd', 'Uin': 0, 'MemberStatus': 0, 'RemarkPYQuanPin': '', 'PYQuanPin': '', 'PYInitial': '', 'AttrStatus': 102437, 'DisplayName': '', 'KeyWord': '', 'RemarkPYInitial': ''}>, <ChatroomMember: {'NickName': 'Emma Lieser', 'MemberList': <ContactList: []>, 'UserName': '@213bafaeaa5530b9447b6dfeb012f38b2f6007cc62ec838b362c5b3087895c06', 'Uin': 0, 'MemberStatus': 0, 'RemarkPYQuanPin': '', 'PYQuanPin': '', 'PYInitial': '', 'AttrStatus': 98343, 'DisplayName': '', 'KeyWord': '', 'RemarkPYInitial': ''}>, <ChatroomMember: {'NickName': 'Gauthier Cambien', 'MemberList': <ContactList: []>, 'UserName': '@fd1694200184e5a4766ea7ced6b831542c1460bcb1b3f915b302b2342f7520be', 'Uin': 0, 'MemberStatus': 0, 'RemarkPYQuanPin': '', 'PYQuanPin': '', 'PYInitial': '', 'AttrStatus': 135207, 'DisplayName': '', 'KeyWord': '', 'RemarkPYInitial': ''}>, <ChatroomMember: {'NickName': 'Emma', 'MemberList': <ContactList: []>, 'UserName': '@9e4b203ac8436dae460c8f4e6d5e1eb0', 'Uin': 0, 'MemberStatus': 0, 'RemarkPYQuanPin': '', 'PYQuanPin': '', 'PYInitial': '', 'AttrStatus': 72895, 'DisplayName': '', 'KeyWord': '', 'RemarkPYInitial': ''}>, <ChatroomMember: {'NickName': 'coffeetong', 'MemberList': <ContactList: []>, 'UserName': '@31082a012bb40f4bd08fdef26671a0dd67ef3280b639e7f5b51b8cf5d4f623da', 'Uin': 0, 'MemberStatus': 0, 'RemarkPYQuanPin': '', 'PYQuanPin': '', 'PYInitial': '', 'AttrStatus': 2147583717, 'DisplayName': '', 'KeyWord': '', 'RemarkPYInitial': ''}>, <ChatroomMember: {'NickName': 'Sung-hee Fortin', 'MemberList': <ContactList: []>, 'UserName': '@67ede0fd3903fca39256b200c75eecc68782a7cf04459a17f3cf065fd37b43d9', 'Uin': 0, 'MemberStatus': 0, 'RemarkPYQuanPin': '', 'PYQuanPin': '', 'PYInitial': '', 'AttrStatus': 33558567, 'DisplayName': '', 'KeyWord': '', 'RemarkPYInitial': ''}>, <ChatroomMember: {'NickName': 'Maud', 'MemberList': <ContactList: []>, 'UserName': '@6c832814fe7aa1ef9e73c7c5e9b11e6e70c46a98d649a25816a153962ce35592', 'Uin': 0, 'MemberStatus': 0, 'RemarkPYQuanPin': '', 'PYQuanPin': '', 'PYInitial': '', 'AttrStatus': 4292903, 'DisplayName': '', 'KeyWord': '', 'RemarkPYInitial': ''}>, <ChatroomMember: {'NickName': 'Maud || Belle Maternity', 'MemberList': <ContactList: []>, 'UserName': '@c0708dd7e6c44cb75df1c9651117ed182c41cbd135e74905d25f9a1ed4f8daa9', 'Uin': 0, 'MemberStatus': 0, 'RemarkPYQuanPin': '', 'PYQuanPin': '', 'PYInitial': '', 'AttrStatus': 2201637, 'DisplayName': '', 'KeyWord': '', 'RemarkPYInitial': ''}>, <ChatroomMember: {'NickName': 'Zhor', 'MemberList': <ContactList: []>, 'UserName': '@a3d8037043fedb452c29a2fffcf92a34792a184c2493138cca2f604a8fceb2ea', 'Uin': 0, 'MemberStatus': 0, 'RemarkPYQuanPin': '', 'PYQuanPin': '', 'PYInitial': '', 'AttrStatus': 100647, 'DisplayName': '', 'KeyWord': '', 'RemarkPYInitial': ''}>, <ChatroomMember: {'NickName': 'Yasmine GLAMOURLAB', 'MemberList': <ContactList: []>, 'UserName': '@b99ad9227fc02da24356b409c1ae71b6a1a64e3ea38c8e044bb88f2626eb6e58', 'Uin': 0, 'MemberStatus': 0, 'RemarkPYQuanPin': '', 'PYQuanPin': '', 'PYInitial': '', 'AttrStatus': 33652773, 'DisplayName': '', 'KeyWord': '', 'RemarkPYInitial': ''}>, <ChatroomMember: {'NickName': 'Vermont', 'MemberList': <ContactList: []>, 'UserName': '@109e18db28e309acdfaf1a36778f1a8d15d4a521f89ea858ac72a93ca69309b6', 'Uin': 0, 'MemberStatus': 0, 'RemarkPYQuanPin': '', 'PYQuanPin': '', 'PYInitial': '', 'AttrStatus': 33656871, 'DisplayName': '', 'KeyWord': '', 'RemarkPYInitial': ''}>, <ChatroomMember: {'NickName': 'Valerie Fallevoz', 'MemberList': <ContactList: []>, 'UserName': '@b59222f08df304f0f66d8296a4a223007af22cee068fc4445a11279348f07f1e', 'Uin': 0, 'MemberStatus': 0, 'RemarkPYQuanPin': '', 'PYQuanPin': '', 'PYInitial': '', 'AttrStatus': 102437, 'DisplayName': '', 'KeyWord': '', 'RemarkPYInitial': ''}>, <ChatroomMember: {'NickName': 'Nini0302', 'MemberList': <ContactList: []>, 'UserName': '@811f5638ce65d4ceb851de016f967206e35956c54181b8d5523576bcf385f996', 'Uin': 0, 'MemberStatus': 0, 'RemarkPYQuanPin': '', 'PYQuanPin': '', 'PYInitial': '', 'AttrStatus': 33787941, 'DisplayName': '', 'KeyWord': '', 'RemarkPYInitial': ''}>, <ChatroomMember: {'NickName': 'francky goes.....', 'MemberList': <ContactList: []>, 'UserName': '@480f4740b164b4a660755accd4bbc175559632f79ff9374ccbe84192bd472336', 'Uin': 0, 'MemberStatus': 0, 'RemarkPYQuanPin': '', 'PYQuanPin': '', 'PYInitial': '', 'AttrStatus': 33624613, 'DisplayName': '', 'KeyWord': '', 'RemarkPYInitial': ''}>, <ChatroomMember: {'NickName': 'Amandine', 'MemberList': <ContactList: []>, 'UserName': '@197e5e1ed5f21952e49b741a720d234e7fadd6a81f823304fb2644df9728ca7b', 'Uin': 0, 'MemberStatus': 0, 'RemarkPYQuanPin': '', 'PYQuanPin': '', 'PYInitial': '', 'AttrStatus': 98341, 'DisplayName': '', 'KeyWord': '', 'RemarkPYInitial': ''}>, <ChatroomMember: {'NickName': 'Amandine ', 'MemberList': <ContactList: []>, 'UserName': '@29888d4437263ef275ab2a5b3310104993fecc28effbefd065a5dfbca13af541', 'Uin': 0, 'MemberStatus': 0, 'RemarkPYQuanPin': '', 'PYQuanPin': '', 'PYInitial': '', 'AttrStatus': 98343, 'DisplayName': '', 'KeyWord': '', 'RemarkPYInitial': ''}>, <ChatroomMember: {'NickName': 'Agnes Martino 🇫🇷 Red Drop', 'MemberList': <ContactList: []>, 'UserName': '@341bf9b502491d49aba17efd31d29abe', 'Uin': 0, 'MemberStatus': 0, 'RemarkPYQuanPin': '', 'PYQuanPin': '', 'PYInitial': '', 'AttrStatus': 100391, 'DisplayName': '', 'KeyWord': '', 'RemarkPYInitial': ''}>, <ChatroomMember: {'NickName': 'Maria Blon', 'MemberList': <ContactList: []>, 'UserName': '@1d0abb7c6e2cf7548faa6c5d15819f0985da19020bca8f8f9e81ca541180efae', 'Uin': 0, 'MemberStatus': 0, 'RemarkPYQuanPin': '', 'PYQuanPin': '', 'PYInitial': '', 'AttrStatus': 364581, 'DisplayName': '', 'KeyWord': '', 'RemarkPYInitial': ''}>, <ChatroomMember: {'NickName': 'Emeline Douteau', 'MemberList': <ContactList: []>, 'UserName': '@74bd930ac1771686783e36827d25e677489333b763555373916bdb565b2620cd', 'Uin': 0, 'MemberStatus': 0, 'RemarkPYQuanPin': '', 'PYQuanPin': '', 'PYInitial': '', 'AttrStatus': 33656869, 'DisplayName': '', 'KeyWord': '', 'RemarkPYInitial': ''}>, <ChatroomMember: {'NickName': 'Sego', 'MemberList': <ContactList: []>, 'UserName': '@fc6f8d360857599d7f219f34afaa97ea0a55422fe980eda83137483997f66a3a', 'Uin': 0, 'MemberStatus': 0, 'RemarkPYQuanPin': '', 'PYQuanPin': '', 'PYInitial': '', 'AttrStatus': 102951, 'DisplayName': '', 'KeyWord': '', 'RemarkPYInitial': ''}>, <ChatroomMember: {'NickName': '😂LuCas👿', 'MemberList': <ContactList: []>, 'UserName': '@4fa083fa47d58afea4651f558d3d6bfbc372f74e30c30e43b3d67b6b9c6a3b3e', 'Uin': 0, 'MemberStatus': 0, 'RemarkPYQuanPin': '', 'PYQuanPin': '', 'PYInitial': '', 'AttrStatus': 33919013, 'DisplayName': '', 'KeyWord': '', 'RemarkPYInitial': ''}>, <ChatroomMember: {'NickName': 'Chloé 🍉🇫🇷', 'MemberList': <ContactList: []>, 'UserName': '@e15218482c2a3ab831e0c960309f5c832e6cd1a8f2eb9ca5dfaccec38d48e10b', 'Uin': 0, 'MemberStatus': 0, 'RemarkPYQuanPin': '', 'PYQuanPin': '', 'PYInitial': '', 'AttrStatus': 33558565, 'DisplayName': '', 'KeyWord': '', 'RemarkPYInitial': ''}>, <ChatroomMember: {'NickName': 'catherine bart', 'MemberList': <ContactList: []>, 'UserName': '@9d72a73a07e92a4d480032da30c9c42fec588ed5c50fb16ecdb6e9e0f3efbccc', 'Uin': 0, 'MemberStatus': 0, 'RemarkPYQuanPin': '', 'PYQuanPin': '', 'PYInitial': '', 'AttrStatus': 102437, 'DisplayName': '', 'KeyWord': '', 'RemarkPYInitial': ''}>, <ChatroomMember: {'NickName': 'W', 'MemberList': <ContactList: []>, 'UserName': '@5c7cc9666880ec7650571bfb81a37ceffeb6bb5928c3c5bcd1beddc991efb07b', 'Uin': 0, 'MemberStatus': 0, 'RemarkPYQuanPin': '', 'PYQuanPin': '', 'PYInitial': '', 'AttrStatus': 36147237, 'DisplayName': '', 'KeyWord': '', 'RemarkPYInitial': ''}>, <ChatroomMember: {'NickName': 'Mathilde 马冬梅', 'MemberList': <ContactList: []>, 'UserName': '@3b757c999d9266495f79066c97424a59ebe1341c645f051c876cd6af8dab507b', 'Uin': 0, 'MemberStatus': 0, 'RemarkPYQuanPin': '', 'PYQuanPin': '', 'PYInitial': '', 'AttrStatus': 2181042983, 'DisplayName': '', 'KeyWord': '', 'RemarkPYInitial': ''}>, <ChatroomMember: {'NickName': 'Laura 🇫🇷', 'MemberList': <ContactList: []>, 'UserName': '@ae5c478d5ac867f989b4c0f8b5d5a2add07babf8432765d485242cd9fd5e4928', 'Uin': 0, 'MemberStatus': 0, 'RemarkPYQuanPin': '', 'PYQuanPin': '', 'PYInitial': '', 'AttrStatus': 102439, 'DisplayName': '', 'KeyWord': '', 'RemarkPYInitial': ''}>, <ChatroomMember: {'NickName': 'Manel 邓滢希', 'MemberList': <ContactList: []>, 'UserName': '@d0a1af1b8981e1fff2fa0cc0b52e015c2b0c8f53a928701728a5e04c160abbbe', 'Uin': 0, 'MemberStatus': 0, 'RemarkPYQuanPin': '', 'PYQuanPin': '', 'PYInitial': '', 'AttrStatus': 102439, 'DisplayName': '', 'KeyWord': '', 'RemarkPYInitial': ''}>, <ChatroomMember: {'NickName': 'Lulu', 'MemberList': <ContactList: []>, 'UserName': '@9aa9546e956fd0ac3f6a391fe031cd5b4a49888e55a59bbf21c60a7ca75d6508', 'Uin': 0, 'MemberStatus': 0, 'RemarkPYQuanPin': '', 'PYQuanPin': '', 'PYInitial': '', 'AttrStatus': 67207871, 'DisplayName': '', 'KeyWord': '', 'RemarkPYInitial': ''}>, <ChatroomMember: {'NickName': 'Fanny Filaudeau ', 'MemberList': <ContactList: []>, 'UserName': '@fadd884ccd906c124d9373b1b1845750bff9d4dd6a1eccc988ec772fbd80067d', 'Uin': 0, 'MemberStatus': 0, 'RemarkPYQuanPin': '', 'PYQuanPin': '', 'PYInitial': '', 'AttrStatus': 102437, 'DisplayName': '', 'KeyWord': '', 'RemarkPYInitial': ''}>, <ChatroomMember: {'NickName': 'damien Lebonnois ～大庙', 'MemberList': <ContactList: []>, 'UserName': '@ad81c40207649b82d49349070bc17cf1fa8370d17b8491bfc7de9aaad677de6a', 'Uin': 0, 'MemberStatus': 0, 'RemarkPYQuanPin': '', 'PYQuanPin': '', 'PYInitial': '', 'AttrStatus': 69570597, 'DisplayName': '', 'KeyWord': '', 'RemarkPYInitial': ''}>, <ChatroomMember: {'NickName': 'Chloé Guinhut', 'MemberList': <ContactList: []>, 'UserName': '@a9665bbba1e9a9818797e4aa9fb4d5f9223557f1c91368bdf86b8e590e240907', 'Uin': 0, 'MemberStatus': 0, 'RemarkPYQuanPin': '', 'PYQuanPin': '', 'PYInitial': '', 'AttrStatus': 4296711, 'DisplayName': '', 'KeyWord': '', 'RemarkPYInitial': ''}>, <ChatroomMember: {'NickName': 'helios sebastian', 'MemberList': <ContactList: []>, 'UserName': '@28059f0b7ce3c0148fe92c9b0ac74f42de7788614087fe5d97862fee93874cd8', 'Uin': 0, 'MemberStatus': 0, 'RemarkPYQuanPin': '', 'PYQuanPin': '', 'PYInitial': '', 'AttrStatus': 36016133, 'DisplayName': '', 'KeyWord': '', 'RemarkPYInitial': ''}>, <ChatroomMember: {'NickName': 'Carole Daudet 🇫🇷', 'MemberList': <ContactList: []>, 'UserName': '@8b4ed997833813935875674f1e31a9a9f6e5a44b12369b29ad5d4f7764c46993', 'Uin': 0, 'MemberStatus': 0, 'RemarkPYQuanPin': '', 'PYQuanPin': '', 'PYInitial': '', 'AttrStatus': 233509, 'DisplayName': '', 'KeyWord': '', 'RemarkPYInitial': ''}>, <ChatroomMember: {'NickName': 'J0j0 😁', 'MemberList': <ContactList: []>, 'UserName': '@7248881f13bb8835d5761a9e163006882e8b1af330f1d4b72f380c64f2a3ada5', 'Uin': 0, 'MemberStatus': 0, 'RemarkPYQuanPin': '', 'PYQuanPin': '', 'PYInitial': '', 'AttrStatus': 102437, 'DisplayName': '', 'KeyWord': '', 'RemarkPYInitial': ''}>, <ChatroomMember: {'NickName': '韵韵🐱🐰🙉🐓', 'MemberList': <ContactList: []>, 'UserName': '@7943e3396d890ecad964e6362623506e', 'Uin': 0, 'MemberStatus': 0, 'RemarkPYQuanPin': '', 'PYQuanPin': '', 'PYInitial': '', 'AttrStatus': 4295271, 'DisplayName': '', 'KeyWord': '', 'RemarkPYInitial': ''}>, <ChatroomMember: {'NickName': '孫美蓮', 'MemberList': <ContactList: []>, 'UserName': '@947e82c6667a0a678ad127e3dfdfca50b0c5c2d35401fdf82360006f60f6be00', 'Uin': 0, 'MemberStatus': 0, 'RemarkPYQuanPin': '', 'PYQuanPin': '', 'PYInitial': '', 'AttrStatus': 33919013, 'DisplayName': '', 'KeyWord': '', 'RemarkPYInitial': ''}>, <ChatroomMember: {'NickName': 'Gaelle 戴莎莉', 'MemberList': <ContactList: []>, 'UserName': '@58a7eed8e2e0f8a863925baed4cde166c01e71a7d08696592025d127d9b4e0c1', 'Uin': 0, 'MemberStatus': 0, 'RemarkPYQuanPin': '', 'PYQuanPin': '', 'PYInitial': '', 'AttrStatus': 33784359, 'DisplayName': '', 'KeyWord': '', 'RemarkPYInitial': ''}>, <ChatroomMember: {'NickName': 'Stef Sauvage Shanghai', 'MemberList': <ContactList: []>, 'UserName': '@486bcc0ed61e24bf9414199caccc2d6d25078ba61cb936ead0e29f2e205eb87d', 'Uin': 0, 'MemberStatus': 0, 'RemarkPYQuanPin': '', 'PYQuanPin': '', 'PYInitial': '', 'AttrStatus': 102951, 'DisplayName': '', 'KeyWord': '', 'RemarkPYInitial': ''}>, <ChatroomMember: {'NickName': 'Camille 🌺🦁🍋', 'MemberList': <ContactList: []>, 'UserName': '@dbb526f8b3504f7794c286dcfcb0e63a7703af1c2c059faf5e0b2e3729f51f31', 'Uin': 0, 'MemberStatus': 0, 'RemarkPYQuanPin': '', 'PYQuanPin': '', 'PYInitial': '', 'AttrStatus': 33919015, 'DisplayName': '', 'KeyWord': '', 'RemarkPYInitial': ''}>, <ChatroomMember: {'NickName': 'Gwenael Begasse 🌊关关', 'MemberList': <ContactList: []>, 'UserName': '@727456fcfb409319a77e8cccef46c077321a7dc32257156f189ad9547cf2955d', 'Uin': 0, 'MemberStatus': 0, 'RemarkPYQuanPin': '', 'PYQuanPin': '', 'PYInitial': '', 'AttrStatus': 4689957, 'DisplayName': '', 'KeyWord': '', 'RemarkPYInitial': ''}>, <ChatroomMember: {'NickName': 'Sabri', 'MemberList': <ContactList: []>, 'UserName': '@e632baf6bda3da7c712cde1621e68c0c6a98a2f9d3fb0afa6626c5cef4cc397d', 'Uin': 0, 'MemberStatus': 0, 'RemarkPYQuanPin': '', 'PYQuanPin': '', 'PYInitial': '', 'AttrStatus': 33952295, 'DisplayName': '', 'KeyWord': '', 'RemarkPYInitial': ''}>, <ChatroomMember: {'NickName': 'Amandine 曼蒂', 'MemberList': <ContactList: []>, 'UserName': '@a8a90465f0a7b3307e5e56c126892733b50c987c7f59493586c42ff5043beab9', 'Uin': 0, 'MemberStatus': 0, 'RemarkPYQuanPin': '', 'PYQuanPin': '', 'PYInitial': '', 'AttrStatus': 98341, 'DisplayName': '', 'KeyWord': '', 'RemarkPYInitial': ''}>, <ChatroomMember: {'NickName': 'Cécile 👠', 'MemberList': <ContactList: []>, 'UserName': '@34b793595edbc659031f270ad479ba4506159d4b5c72ee9c55561e7cca9a7bd7', 'Uin': 0, 'MemberStatus': 0, 'RemarkPYQuanPin': '', 'PYQuanPin': '', 'PYInitial': '', 'AttrStatus': 33558567, 'DisplayName': '', 'KeyWord': '', 'RemarkPYInitial': ''}>, <ChatroomMember: {'NickName': '💝👼Mary 👼💝', 'MemberList': <ContactList: []>, 'UserName': '@8a82f9aa608a1c855466302a7d4fe263', 'Uin': 0, 'MemberStatus': 0, 'RemarkPYQuanPin': '', 'PYQuanPin': '', 'PYInitial': '', 'AttrStatus': 103973, 'DisplayName': '', 'KeyWord': '', 'RemarkPYInitial': ''}>, <ChatroomMember: {'NickName': 'Matthieu 马修', 'MemberList': <ContactList: []>, 'UserName': '@80a5ef39303160a4f59ae26ff6964f6e88a868d990f84e22cd6ac3c179e55025', 'Uin': 0, 'MemberStatus': 0, 'RemarkPYQuanPin': '', 'PYQuanPin': '', 'PYInitial': '', 'AttrStatus': 102437, 'DisplayName': '', 'KeyWord': '', 'RemarkPYInitial': ''}>, <ChatroomMember: {'NickName': 'Lulu 璐璐', 'MemberList': <ContactList: []>, 'UserName': '@b23fb2bcd93be5a01f30ba69912e9247d161672342a553026aa0440bd3228a66', 'Uin': 0, 'MemberStatus': 0, 'RemarkPYQuanPin': '', 'PYQuanPin': '', 'PYInitial': '', 'AttrStatus': 104485, 'DisplayName': '', 'KeyWord': '', 'RemarkPYInitial': ''}>, <ChatroomMember: {'NickName': 'sylvie jonnier', 'MemberList': <ContactList: []>, 'UserName': '@620a31e940e8079e8e4aaef3e30cbed800fb0da59d4b0e03e7abe940b803a193', 'Uin': 0, 'MemberStatus': 0, 'RemarkPYQuanPin': '', 'PYQuanPin': '', 'PYInitial': '', 'AttrStatus': 102439, 'DisplayName': '', 'KeyWord': '', 'RemarkPYInitial': ''}>, <ChatroomMember: {'NickName': 'Marie Augereau', 'MemberList': <ContactList: []>, 'UserName': '@dd5a4a0ffc56120ad463364f6297f3bf2fad54a0eacc953ae8889f5cc204bd4e', 'Uin': 0, 'MemberStatus': 0, 'RemarkPYQuanPin': '', 'PYQuanPin': '', 'PYInitial': '', 'AttrStatus': 102439, 'DisplayName': '', 'KeyWord': '', 'RemarkPYInitial': ''}>, <ChatroomMember: {'NickName': 'Yannick 🇫🇷', 'MemberList': <ContactList: []>, 'UserName': '@fa82a307f3c5f5d4219dccdc83f179101b755ef42e487e888dd788f2ded33f11', 'Uin': 0, 'MemberStatus': 0, 'RemarkPYQuanPin': '', 'PYQuanPin': '', 'PYInitial': '', 'AttrStatus': 33919013, 'DisplayName': '', 'KeyWord': '', 'RemarkPYInitial': ''}>, <ChatroomMember: {'NickName': 'Angie Lopez', 'MemberList': <ContactList: []>, 'UserName': '@c8fc17471eb1d03ec926bcb63e55449a98228927d3097594fccc82fc2636e385', 'Uin': 0, 'MemberStatus': 0, 'RemarkPYQuanPin': '', 'PYQuanPin': '', 'PYInitial': '', 'AttrStatus': 33821477, 'DisplayName': '', 'KeyWord': '', 'RemarkPYInitial': ''}>, <ChatroomMember: {'NickName': '༦Ꮿོ࿆Yinuo༣ྀ', 'MemberList': <ContactList: []>, 'UserName': '@9144c0b8d7732eb88195447493243650', 'Uin': 0, 'MemberStatus': 0, 'RemarkPYQuanPin': '', 'PYQuanPin': '', 'PYInitial': '', 'AttrStatus': 33654719, 'DisplayName': '', 'KeyWord': '', 'RemarkPYInitial': ''}>, <ChatroomMember: {'NickName': 'Océane洋', 'MemberList': <ContactList: []>, 'UserName': '@19c43203426152ce69dae78f30b3abeb', 'Uin': 0, 'MemberStatus': 0, 'RemarkPYQuanPin': '', 'PYQuanPin': '', 'PYInitial': '', 'AttrStatus': 104829, 'DisplayName': '', 'KeyWord': '', 'RemarkPYInitial': ''}>, <ChatroomMember: {'NickName': 'Francoise Jouet-Morali 🇫🇷', 'MemberList': <ContactList: []>, 'UserName': '@e902f674884b019f7eb3aed89bb38721ddc24255114b0863af0706e999eda82b', 'Uin': 0, 'MemberStatus': 0, 'RemarkPYQuanPin': '', 'PYQuanPin': '', 'PYInitial': '', 'AttrStatus': 102437, 'DisplayName': '', 'KeyWord': '', 'RemarkPYInitial': ''}>]>, 'UserName': '@@d36538e89e3c89072264eed97b40919446941114383773c9a3587f684d8d3368', 'Province': '', 'HideInputBarFlag': 0, 'RemarkPYQuanPin': '', 'City': '', 'IsOwner': 0, 'HeadImgUrl': '/cgi-bin/mmwebwx-bin/webwxgetheadimg?seq=0&username=@@d36538e89e3c89072264eed97b40919446941114383773c9a3587f684d8d3368&skey=@crypt_1438b1a5_7f9aa0831e75330187559894bdbab97a', 'StarFriend': 0, 'AttrStatus': 0, 'DisplayName': '', 'Statues': 0, 'AppAccountFlag': 0, 'NickName': 'Francais / Ventes', 'ContactType': 0, 'ContactFlag': 2, 'RemarkName': '', 'HeadImgUpdateFlag': 1, 'Uin': 0, 'Alias': '', 'Self': <ChatroomMember: {'NickName': 'Anne-Marie Codeacademy123', 'MemberList': <ContactList: []>, 'UserName': '@2073c0fa8bc8ffc7f504fc8ba64503279753f3703d6ba5c1744fc2836ff14b02', 'Uin': 0, 'MemberStatus': 0, 'RemarkPYQuanPin': '', 'PYQuanPin': '', 'PYInitial': '', 'AttrStatus': 4292647, 'DisplayName': '', 'KeyWord': '', 'RemarkPYInitial': ''}>, 'UniFriend': 0, 'OwnerUin': 0, 'PYQuanPin': '', 'PYInitial': '', 'SnsFlag': 0, 'VerifyFlag': 0, 'IsAdmin': None, 'ChatRoomOwner': '@7ae4208bf5fe5778e8ba74b1a5db5b3623b9c1f3ed10409b12cc05bb00237751', 'EncryChatRoomId': '', 'ChatRoomId': 0, 'KeyWord': '', 'RemarkPYInitial': ''}>, <Chatroom: {'Sex': 0, 'MemberCount': 0, 'Signature': '', 'MemberList': <ContactList: []>, 'UserName': '@@29000b573f1587429b1c78c82e4735a6ef8bbd7966655be24204ed380c42ebbe', 'Province': '', 'HideInputBarFlag': 0, 'RemarkPYQuanPin': '', 'City': '', 'IsOwner': 1, 'HeadImgUrl': '/cgi-bin/mmwebwx-bin/webwxgetheadimg?seq=652082658&username=@@29000b573f1587429b1c78c82e4735a6ef8bbd7966655be24204ed380c42ebbe&skey=@crypt_1438b1a5_7f9aa0831e75330187559894bdbab97a', 'StarFriend': 0, 'AttrStatus': 0, 'DisplayName': '', 'Statues': 1, 'AppAccountFlag': 0, 'NickName': 'Wuding Lu class', 'SnsFlag': 0, 'ContactFlag': 3, 'RemarkName': '', 'Uin': 0, 'Alias': '', 'Self': <User: {'Sex': 2, 'RemarkPYQuanPin': '', 'Signature': '', 'MemberList': <ContactList: []>, 'UserName': '@2073c0fa8bc8ffc7f504fc8ba64503279753f3703d6ba5c1744fc2836ff14b02', 'Province': '', 'VerifyFlag': 0, 'MemberCount': 0, 'City': '', 'HeadImgFlag': 1, 'HeadImgUrl': '/cgi-bin/mmwebwx-bin/webwxgeticon?seq=1376737197&username=@2073c0fa8bc8ffc7f504fc8ba64503279753f3703d6ba5c1744fc2836ff14b02&skey=@crypt_1438b1a5_7f9aa0831e75330187559894bdbab97a', 'StarFriend': 0, 'AttrStatus': 0, 'SnsFlag': 49, 'AppAccountFlag': 0, 'NickName': 'Anne-Marie Codeacademy123', 'DisplayName': '', 'ContactFlag': 0, 'RemarkName': '', 'Alias': '', 'Uin': 1023901641, 'WebWxPluginSwitch': 0, 'UniFriend': 0, 'OwnerUin': 0, 'PYQuanPin': '', 'RemarkPYInitial': '', 'HideInputBarFlag': 0, 'Statues': 0, 'EncryChatRoomId': '', 'ChatRoomId': 0, 'KeyWord': '', 'PYInitial': ''}>, 'UniFriend': 0, 'OwnerUin': 0, 'PYQuanPin': 'WudingLuclass', 'PYInitial': 'WUDINGLUCLASS', 'VerifyFlag': 0, 'IsAdmin': None, 'EncryChatRoomId': '', 'ChatRoomId': 0, 'KeyWord': '', 'RemarkPYInitial': ''}>, <Chatroom: {'Sex': 0, 'MemberCount': 0, 'Signature': '', 'MemberList': <ContactList: []>, 'UserName': '@@97b176213cd59bd5a40ced431df62cfeed6bbe4f7bfe191aa5a29f55e1f42eda', 'Province': '', 'HideInputBarFlag': 0, 'RemarkPYQuanPin': '', 'City': '', 'IsOwner': 0, 'HeadImgUrl': '/cgi-bin/mmwebwx-bin/webwxgetheadimg?seq=652114610&username=@@97b176213cd59bd5a40ced431df62cfeed6bbe4f7bfe191aa5a29f55e1f42eda&skey=@crypt_1438b1a5_7f9aa0831e75330187559894bdbab97a', 'StarFriend': 0, 'AttrStatus': 0, 'DisplayName': '', 'Statues': 1, 'AppAccountFlag': 0, 'NickName': 'Programming Sundays', 'SnsFlag': 0, 'ContactFlag': 3, 'RemarkName': '', 'Uin': 0, 'Alias': '', 'Self': <User: {'Sex': 2, 'RemarkPYQuanPin': '', 'Signature': '', 'MemberList': <ContactList: []>, 'UserName': '@2073c0fa8bc8ffc7f504fc8ba64503279753f3703d6ba5c1744fc2836ff14b02', 'Province': '', 'VerifyFlag': 0, 'MemberCount': 0, 'City': '', 'HeadImgFlag': 1, 'HeadImgUrl': '/cgi-bin/mmwebwx-bin/webwxgeticon?seq=1376737197&username=@2073c0fa8bc8ffc7f504fc8ba64503279753f3703d6ba5c1744fc2836ff14b02&skey=@crypt_1438b1a5_7f9aa0831e75330187559894bdbab97a', 'StarFriend': 0, 'AttrStatus': 0, 'SnsFlag': 49, 'AppAccountFlag': 0, 'NickName': 'Anne-Marie Codeacademy123', 'DisplayName': '', 'ContactFlag': 0, 'RemarkName': '', 'Alias': '', 'Uin': 1023901641, 'WebWxPluginSwitch': 0, 'UniFriend': 0, 'OwnerUin': 0, 'PYQuanPin': '', 'RemarkPYInitial': '', 'HideInputBarFlag': 0, 'Statues': 0, 'EncryChatRoomId': '', 'ChatRoomId': 0, 'KeyWord': '', 'PYInitial': ''}>, 'UniFriend': 0, 'OwnerUin': 0, 'PYQuanPin': 'ProgrammingSundays', 'PYInitial': 'PROGRAMMINGSUNDAYS', 'VerifyFlag': 0, 'IsAdmin': None, 'EncryChatRoomId': '', 'ChatRoomId': 0, 'KeyWord': '', 'RemarkPYInitial': ''}>, <Chatroom: {'Sex': 0, 'MemberCount': 0, 'Signature': '', 'MemberList': <ContactList: []>, 'UserName': '@@fef66a824e54400f45a7e689e1baf493811a8b127f2afc18403d495b1a3b3156', 'Province': '', 'HideInputBarFlag': 0, 'RemarkPYQuanPin': '', 'City': '', 'IsOwner': 0, 'HeadImgUrl': '/cgi-bin/mmwebwx-bin/webwxgetheadimg?seq=682812513&username=@@fef66a824e54400f45a7e689e1baf493811a8b127f2afc18403d495b1a3b3156&skey=@crypt_1438b1a5_7f9aa0831e75330187559894bdbab97a', 'StarFriend': 0, 'AttrStatus': 0, 'DisplayName': '', 'Statues': 1, 'AppAccountFlag': 0, 'NickName': 'Coding class at little bugz', 'SnsFlag': 0, 'ContactFlag': 3, 'RemarkName': '', 'Uin': 0, 'Alias': '', 'Self': <User: {'Sex': 2, 'RemarkPYQuanPin': '', 'Signature': '', 'MemberList': <ContactList: []>, 'UserName': '@2073c0fa8bc8ffc7f504fc8ba64503279753f3703d6ba5c1744fc2836ff14b02', 'Province': '', 'VerifyFlag': 0, 'MemberCount': 0, 'City': '', 'HeadImgFlag': 1, 'HeadImgUrl': '/cgi-bin/mmwebwx-bin/webwxgeticon?seq=1376737197&username=@2073c0fa8bc8ffc7f504fc8ba64503279753f3703d6ba5c1744fc2836ff14b02&skey=@crypt_1438b1a5_7f9aa0831e75330187559894bdbab97a', 'StarFriend': 0, 'AttrStatus': 0, 'SnsFlag': 49, 'AppAccountFlag': 0, 'NickName': 'Anne-Marie Codeacademy123', 'DisplayName': '', 'ContactFlag': 0, 'RemarkName': '', 'Alias': '', 'Uin': 1023901641, 'WebWxPluginSwitch': 0, 'UniFriend': 0, 'OwnerUin': 0, 'PYQuanPin': '', 'RemarkPYInitial': '', 'HideInputBarFlag': 0, 'Statues': 0, 'EncryChatRoomId': '', 'ChatRoomId': 0, 'KeyWord': '', 'PYInitial': ''}>, 'UniFriend': 0, 'OwnerUin': 0, 'PYQuanPin': 'Codingclassatlittlebugz', 'PYInitial': 'CODINGCLASSATLITTLEBUGZ', 'VerifyFlag': 0, 'IsAdmin': None, 'EncryChatRoomId': '', 'ChatRoomId': 0, 'KeyWord': '', 'RemarkPYInitial': ''}>, <Chatroom: {'Sex': 0, 'MemberCount': 0, 'Signature': '', 'MemberList': <ContactList: []>, 'UserName': '@@82be36a1d85cd6ca2c1f856fd7c8be417d69c4d70c071e36aebf36124b643639', 'Province': '', 'HideInputBarFlag': 0, 'RemarkPYQuanPin': '', 'City': '', 'IsOwner': 0, 'HeadImgUrl': '/cgi-bin/mmwebwx-bin/webwxgetheadimg?seq=682816873&username=@@82be36a1d85cd6ca2c1f856fd7c8be417d69c4d70c071e36aebf36124b643639&skey=@crypt_1438b1a5_7f9aa0831e75330187559894bdbab97a', 'StarFriend': 0, 'AttrStatus': 0, 'DisplayName': '', 'Statues': 1, 'AppAccountFlag': 0, 'NickName': 'JGC saturday coding class', 'SnsFlag': 0, 'ContactFlag': 3, 'RemarkName': '', 'Uin': 0, 'Alias': '', 'Self': <User: {'Sex': 2, 'RemarkPYQuanPin': '', 'Signature': '', 'MemberList': <ContactList: []>, 'UserName': '@2073c0fa8bc8ffc7f504fc8ba64503279753f3703d6ba5c1744fc2836ff14b02', 'Province': '', 'VerifyFlag': 0, 'MemberCount': 0, 'City': '', 'HeadImgFlag': 1, 'HeadImgUrl': '/cgi-bin/mmwebwx-bin/webwxgeticon?seq=1376737197&username=@2073c0fa8bc8ffc7f504fc8ba64503279753f3703d6ba5c1744fc2836ff14b02&skey=@crypt_1438b1a5_7f9aa0831e75330187559894bdbab97a', 'StarFriend': 0, 'AttrStatus': 0, 'SnsFlag': 49, 'AppAccountFlag': 0, 'NickName': 'Anne-Marie Codeacademy123', 'DisplayName': '', 'ContactFlag': 0, 'RemarkName': '', 'Alias': '', 'Uin': 1023901641, 'WebWxPluginSwitch': 0, 'UniFriend': 0, 'OwnerUin': 0, 'PYQuanPin': '', 'RemarkPYInitial': '', 'HideInputBarFlag': 0, 'Statues': 0, 'EncryChatRoomId': '', 'ChatRoomId': 0, 'KeyWord': '', 'PYInitial': ''}>, 'UniFriend': 0, 'OwnerUin': 0, 'PYQuanPin': 'JGCsaturdaycodingclass', 'PYInitial': 'JGCSATURDAYCODINGCLASS', 'VerifyFlag': 0, 'IsAdmin': None, 'EncryChatRoomId': '', 'ChatRoomId': 0, 'KeyWord': '', 'RemarkPYInitial': ''}>, <Chatroom: {'Sex': 0, 'MemberCount': 0, 'Signature': '', 'MemberList': <ContactList: []>, 'UserName': '@@95e1d346c9a41be2ea02cc7673cc7545bb6d230fb2bc8fc8c56e9753a61c2d78', 'Province': '', 'HideInputBarFlag': 0, 'RemarkPYQuanPin': '', 'City': '', 'IsOwner': 0, 'HeadImgUrl': '/cgi-bin/mmwebwx-bin/webwxgetheadimg?seq=686709721&username=@@95e1d346c9a41be2ea02cc7673cc7545bb6d230fb2bc8fc8c56e9753a61c2d78&skey=@crypt_1438b1a5_7f9aa0831e75330187559894bdbab97a', 'StarFriend': 0, 'AttrStatus': 0, 'DisplayName': '', 'Statues': 1, 'AppAccountFlag': 0, 'NickName': 'spring genius club coding (TA）', 'SnsFlag': 0, 'ContactFlag': 2051, 'RemarkName': '', 'Uin': 0, 'Alias': '', 'Self': <User: {'Sex': 2, 'RemarkPYQuanPin': '', 'Signature': '', 'MemberList': <ContactList: []>, 'UserName': '@2073c0fa8bc8ffc7f504fc8ba64503279753f3703d6ba5c1744fc2836ff14b02', 'Province': '', 'VerifyFlag': 0, 'MemberCount': 0, 'City': '', 'HeadImgFlag': 1, 'HeadImgUrl': '/cgi-bin/mmwebwx-bin/webwxgeticon?seq=1376737197&username=@2073c0fa8bc8ffc7f504fc8ba64503279753f3703d6ba5c1744fc2836ff14b02&skey=@crypt_1438b1a5_7f9aa0831e75330187559894bdbab97a', 'StarFriend': 0, 'AttrStatus': 0, 'SnsFlag': 49, 'AppAccountFlag': 0, 'NickName': 'Anne-Marie Codeacademy123', 'DisplayName': '', 'ContactFlag': 0, 'RemarkName': '', 'Alias': '', 'Uin': 1023901641, 'WebWxPluginSwitch': 0, 'UniFriend': 0, 'OwnerUin': 0, 'PYQuanPin': '', 'RemarkPYInitial': '', 'HideInputBarFlag': 0, 'Statues': 0, 'EncryChatRoomId': '', 'ChatRoomId': 0, 'KeyWord': '', 'PYInitial': ''}>, 'UniFriend': 0, 'OwnerUin': 0, 'PYQuanPin': 'springgeniusclubcodingTA', 'PYInitial': 'SPRINGGENIUSCLUBCODINGTA', 'VerifyFlag': 0, 'IsAdmin': None, 'EncryChatRoomId': '', 'ChatRoomId': 0, 'KeyWord': '', 'RemarkPYInitial': ''}>, <Chatroom: {'Sex': 0, 'MemberCount': 0, 'Signature': '', 'MemberList': <ContactList: []>, 'UserName': '@@eb0d248e7333c0abf6332eba633a8488dba9c591536b840882a265533d9dc14a', 'Province': '', 'HideInputBarFlag': 0, 'RemarkPYQuanPin': '', 'City': '', 'IsOwner': 0, 'HeadImgUrl': '/cgi-bin/mmwebwx-bin/webwxgetheadimg?seq=686748891&username=@@eb0d248e7333c0abf6332eba633a8488dba9c591536b840882a265533d9dc14a&skey=@crypt_1438b1a5_7f9aa0831e75330187559894bdbab97a', 'StarFriend': 0, 'AttrStatus': 0, 'DisplayName': '', 'Statues': 1, 'AppAccountFlag': 0, 'NickName': 'Coding class Sunday', 'SnsFlag': 0, 'ContactFlag': 3, 'RemarkName': '', 'Uin': 0, 'Alias': '', 'Self': <User: {'Sex': 2, 'RemarkPYQuanPin': '', 'Signature': '', 'MemberList': <ContactList: []>, 'UserName': '@2073c0fa8bc8ffc7f504fc8ba64503279753f3703d6ba5c1744fc2836ff14b02', 'Province': '', 'VerifyFlag': 0, 'MemberCount': 0, 'City': '', 'HeadImgFlag': 1, 'HeadImgUrl': '/cgi-bin/mmwebwx-bin/webwxgeticon?seq=1376737197&username=@2073c0fa8bc8ffc7f504fc8ba64503279753f3703d6ba5c1744fc2836ff14b02&skey=@crypt_1438b1a5_7f9aa0831e75330187559894bdbab97a', 'StarFriend': 0, 'AttrStatus': 0, 'SnsFlag': 49, 'AppAccountFlag': 0, 'NickName': 'Anne-Marie Codeacademy123', 'DisplayName': '', 'ContactFlag': 0, 'RemarkName': '', 'Alias': '', 'Uin': 1023901641, 'WebWxPluginSwitch': 0, 'UniFriend': 0, 'OwnerUin': 0, 'PYQuanPin': '', 'RemarkPYInitial': '', 'HideInputBarFlag': 0, 'Statues': 0, 'EncryChatRoomId': '', 'ChatRoomId': 0, 'KeyWord': '', 'PYInitial': ''}>, 'UniFriend': 0, 'OwnerUin': 0, 'PYQuanPin': 'CodingclassSunday', 'PYInitial': 'CODINGCLASSSUNDAY', 'VerifyFlag': 0, 'IsAdmin': None, 'EncryChatRoomId': '', 'ChatRoomId': 0, 'KeyWord': '', 'RemarkPYInitial': ''}>, <Chatroom: {'Sex': 0, 'MemberCount': 0, 'Signature': '', 'MemberList': <ContactList: []>, 'UserName': '@@e2a1dc0f1cbb8a32d2b4bca08088d31db332463caad92bfd96654795f1bce685', 'Province': '', 'HideInputBarFlag': 0, 'RemarkPYQuanPin': '', 'City': '', 'IsOwner': 1, 'HeadImgUrl': '/cgi-bin/mmwebwx-bin/webwxgetheadimg?seq=682814278&username=@@e2a1dc0f1cbb8a32d2b4bca08088d31db332463caad92bfd96654795f1bce685&skey=@crypt_1438b1a5_7f9aa0831e75330187559894bdbab97a', 'StarFriend': 0, 'AttrStatus': 0, 'DisplayName': '', 'Statues': 1, 'AppAccountFlag': 0, 'NickName': '2018-03 coding for KC', 'SnsFlag': 0, 'ContactFlag': 3, 'RemarkName': '', 'Uin': 0, 'Alias': '', 'Self': <User: {'Sex': 2, 'RemarkPYQuanPin': '', 'Signature': '', 'MemberList': <ContactList: []>, 'UserName': '@2073c0fa8bc8ffc7f504fc8ba64503279753f3703d6ba5c1744fc2836ff14b02', 'Province': '', 'VerifyFlag': 0, 'MemberCount': 0, 'City': '', 'HeadImgFlag': 1, 'HeadImgUrl': '/cgi-bin/mmwebwx-bin/webwxgeticon?seq=1376737197&username=@2073c0fa8bc8ffc7f504fc8ba64503279753f3703d6ba5c1744fc2836ff14b02&skey=@crypt_1438b1a5_7f9aa0831e75330187559894bdbab97a', 'StarFriend': 0, 'AttrStatus': 0, 'SnsFlag': 49, 'AppAccountFlag': 0, 'NickName': 'Anne-Marie Codeacademy123', 'DisplayName': '', 'ContactFlag': 0, 'RemarkName': '', 'Alias': '', 'Uin': 1023901641, 'WebWxPluginSwitch': 0, 'UniFriend': 0, 'OwnerUin': 0, 'PYQuanPin': '', 'RemarkPYInitial': '', 'HideInputBarFlag': 0, 'Statues': 0, 'EncryChatRoomId': '', 'ChatRoomId': 0, 'KeyWord': '', 'PYInitial': ''}>, 'UniFriend': 0, 'OwnerUin': 0, 'PYQuanPin': '201803codingforKC', 'PYInitial': '201803CODINGFORKC', 'VerifyFlag': 0, 'IsAdmin': None, 'EncryChatRoomId': '', 'ChatRoomId': 0, 'KeyWord': '', 'RemarkPYInitial': ''}>, <Chatroom: {'Sex': 0, 'MemberCount': 0, 'Signature': '', 'MemberList': <ContactList: []>, 'UserName': '@@dedf4f6ff2bdadfaa77d5554e1c95b11340d1293ad18e88f8945d79c66f34779', 'Province': '', 'HideInputBarFlag': 0, 'RemarkPYQuanPin': '', 'City': '', 'IsOwner': 1, 'HeadImgUrl': '/cgi-bin/mmwebwx-bin/webwxgetheadimg?seq=684682422&username=@@dedf4f6ff2bdadfaa77d5554e1c95b11340d1293ad18e88f8945d79c66f34779&skey=@crypt_1438b1a5_7f9aa0831e75330187559894bdbab97a', 'StarFriend': 0, 'AttrStatus': 0, 'DisplayName': '', 'Statues': 1, 'AppAccountFlag': 0, 'NickName': '2018-03 AI for kids', 'SnsFlag': 0, 'ContactFlag': 3, 'RemarkName': '', 'Uin': 0, 'Alias': '', 'Self': <User: {'Sex': 2, 'RemarkPYQuanPin': '', 'Signature': '', 'MemberList': <ContactList: []>, 'UserName': '@2073c0fa8bc8ffc7f504fc8ba64503279753f3703d6ba5c1744fc2836ff14b02', 'Province': '', 'VerifyFlag': 0, 'MemberCount': 0, 'City': '', 'HeadImgFlag': 1, 'HeadImgUrl': '/cgi-bin/mmwebwx-bin/webwxgeticon?seq=1376737197&username=@2073c0fa8bc8ffc7f504fc8ba64503279753f3703d6ba5c1744fc2836ff14b02&skey=@crypt_1438b1a5_7f9aa0831e75330187559894bdbab97a', 'StarFriend': 0, 'AttrStatus': 0, 'SnsFlag': 49, 'AppAccountFlag': 0, 'NickName': 'Anne-Marie Codeacademy123', 'DisplayName': '', 'ContactFlag': 0, 'RemarkName': '', 'Alias': '', 'Uin': 1023901641, 'WebWxPluginSwitch': 0, 'UniFriend': 0, 'OwnerUin': 0, 'PYQuanPin': '', 'RemarkPYInitial': '', 'HideInputBarFlag': 0, 'Statues': 0, 'EncryChatRoomId': '', 'ChatRoomId': 0, 'KeyWord': '', 'PYInitial': ''}>, 'UniFriend': 0, 'OwnerUin': 0, 'PYQuanPin': '201803AIforkids', 'PYInitial': '201803AIFORKIDS', 'VerifyFlag': 0, 'IsAdmin': None, 'EncryChatRoomId': '', 'ChatRoomId': 0, 'KeyWord': '', 'RemarkPYInitial': ''}>, <Chatroom: {'Sex': 0, 'MemberCount': 0, 'Signature': '', 'MemberList': <ContactList: []>, 'UserName': '@@6b6a10abed6b519fba2cae3de581950c10e2e76db872399df2dff4f4c9e36b5f', 'Province': '', 'HideInputBarFlag': 0, 'RemarkPYQuanPin': '', 'City': '', 'IsOwner': 0, 'HeadImgUrl': '/cgi-bin/mmwebwx-bin/webwxgetheadimg?seq=684655344&username=@@6b6a10abed6b519fba2cae3de581950c10e2e76db872399df2dff4f4c9e36b5f&skey=@crypt_1438b1a5_7f9aa0831e75330187559894bdbab97a', 'StarFriend': 0, 'AttrStatus': 0, 'DisplayName': '', 'Statues': 1, 'AppAccountFlag': 0, 'NickName': 'FDISRobotics Wed Spring Semester', 'SnsFlag': 0, 'ContactFlag': 3, 'RemarkName': '', 'Uin': 0, 'Alias': '', 'Self': <User: {'Sex': 2, 'RemarkPYQuanPin': '', 'Signature': '', 'MemberList': <ContactList: []>, 'UserName': '@2073c0fa8bc8ffc7f504fc8ba64503279753f3703d6ba5c1744fc2836ff14b02', 'Province': '', 'VerifyFlag': 0, 'MemberCount': 0, 'City': '', 'HeadImgFlag': 1, 'HeadImgUrl': '/cgi-bin/mmwebwx-bin/webwxgeticon?seq=1376737197&username=@2073c0fa8bc8ffc7f504fc8ba64503279753f3703d6ba5c1744fc2836ff14b02&skey=@crypt_1438b1a5_7f9aa0831e75330187559894bdbab97a', 'StarFriend': 0, 'AttrStatus': 0, 'SnsFlag': 49, 'AppAccountFlag': 0, 'NickName': 'Anne-Marie Codeacademy123', 'DisplayName': '', 'ContactFlag': 0, 'RemarkName': '', 'Alias': '', 'Uin': 1023901641, 'WebWxPluginSwitch': 0, 'UniFriend': 0, 'OwnerUin': 0, 'PYQuanPin': '', 'RemarkPYInitial': '', 'HideInputBarFlag': 0, 'Statues': 0, 'EncryChatRoomId': '', 'ChatRoomId': 0, 'KeyWord': '', 'PYInitial': ''}>, 'UniFriend': 0, 'OwnerUin': 0, 'PYQuanPin': 'FDISRoboticsWedSpringSemester', 'PYInitial': 'FDISROBOTICSWEDSPRINGSEMESTER', 'VerifyFlag': 0, 'IsAdmin': None, 'EncryChatRoomId': '', 'ChatRoomId': 0, 'KeyWord': '', 'RemarkPYInitial': ''}>, <Chatroom: {'Sex': 0, 'MemberCount': 0, 'Signature': '', 'MemberList': <ContactList: []>, 'UserName': '@@11114c0141ae0a0ff95014c7794b795a14b2a3e95d7ecab27f424c072283be74', 'Province': '', 'HideInputBarFlag': 0, 'RemarkPYQuanPin': '', 'City': '', 'IsOwner': 1, 'HeadImgUrl': '/cgi-bin/mmwebwx-bin/webwxgetheadimg?seq=686840836&username=@@11114c0141ae0a0ff95014c7794b795a14b2a3e95d7ecab27f424c072283be74&skey=@crypt_1438b1a5_7f9aa0831e75330187559894bdbab97a', 'StarFriend': 0, 'AttrStatus': 0, 'DisplayName': '', 'Statues': 1, 'AppAccountFlag': 0, 'NickName': '2018 - Fall - CFKC', 'SnsFlag': 0, 'ContactFlag': 2051, 'RemarkName': '', 'Uin': 0, 'Alias': '', 'Self': <User: {'Sex': 2, 'RemarkPYQuanPin': '', 'Signature': '', 'MemberList': <ContactList: []>, 'UserName': '@2073c0fa8bc8ffc7f504fc8ba64503279753f3703d6ba5c1744fc2836ff14b02', 'Province': '', 'VerifyFlag': 0, 'MemberCount': 0, 'City': '', 'HeadImgFlag': 1, 'HeadImgUrl': '/cgi-bin/mmwebwx-bin/webwxgeticon?seq=1376737197&username=@2073c0fa8bc8ffc7f504fc8ba64503279753f3703d6ba5c1744fc2836ff14b02&skey=@crypt_1438b1a5_7f9aa0831e75330187559894bdbab97a', 'StarFriend': 0, 'AttrStatus': 0, 'SnsFlag': 49, 'AppAccountFlag': 0, 'NickName': 'Anne-Marie Codeacademy123', 'DisplayName': '', 'ContactFlag': 0, 'RemarkName': '', 'Alias': '', 'Uin': 1023901641, 'WebWxPluginSwitch': 0, 'UniFriend': 0, 'OwnerUin': 0, 'PYQuanPin': '', 'RemarkPYInitial': '', 'HideInputBarFlag': 0, 'Statues': 0, 'EncryChatRoomId': '', 'ChatRoomId': 0, 'KeyWord': '', 'PYInitial': ''}>, 'UniFriend': 0, 'OwnerUin': 0, 'PYQuanPin': '2018FallCFKC', 'PYInitial': '2018FALLCFKC', 'VerifyFlag': 0, 'IsAdmin': None, 'EncryChatRoomId': '', 'ChatRoomId': 0, 'KeyWord': '', 'RemarkPYInitial': ''}>, <Chatroom: {'Sex': 0, 'MemberCount': 0, 'Signature': '', 'MemberList': <ContactList: []>, 'UserName': '@@ec752019f9e890697e706a1c9e9fd264dbc2292f5b3df21c593cb759e944b528', 'Province': '', 'HideInputBarFlag': 0, 'RemarkPYQuanPin': '', 'City': '', 'IsOwner': 0, 'HeadImgUrl': '/cgi-bin/mmwebwx-bin/webwxgetheadimg?seq=686846176&username=@@ec752019f9e890697e706a1c9e9fd264dbc2292f5b3df21c593cb759e944b528&skey=@crypt_1438b1a5_7f9aa0831e75330187559894bdbab97a', 'StarFriend': 0, 'AttrStatus': 0, 'DisplayName': '', 'Statues': 0, 'AppAccountFlag': 0, 'NickName': 'Parenting trilingual kids', 'SnsFlag': 0, 'ContactFlag': 2051, 'RemarkName': '', 'Uin': 0, 'Alias': '', 'Self': <User: {'Sex': 2, 'RemarkPYQuanPin': '', 'Signature': '', 'MemberList': <ContactList: []>, 'UserName': '@2073c0fa8bc8ffc7f504fc8ba64503279753f3703d6ba5c1744fc2836ff14b02', 'Province': '', 'VerifyFlag': 0, 'MemberCount': 0, 'City': '', 'HeadImgFlag': 1, 'HeadImgUrl': '/cgi-bin/mmwebwx-bin/webwxgeticon?seq=1376737197&username=@2073c0fa8bc8ffc7f504fc8ba64503279753f3703d6ba5c1744fc2836ff14b02&skey=@crypt_1438b1a5_7f9aa0831e75330187559894bdbab97a', 'StarFriend': 0, 'AttrStatus': 0, 'SnsFlag': 49, 'AppAccountFlag': 0, 'NickName': 'Anne-Marie Codeacademy123', 'DisplayName': '', 'ContactFlag': 0, 'RemarkName': '', 'Alias': '', 'Uin': 1023901641, 'WebWxPluginSwitch': 0, 'UniFriend': 0, 'OwnerUin': 0, 'PYQuanPin': '', 'RemarkPYInitial': '', 'HideInputBarFlag': 0, 'Statues': 0, 'EncryChatRoomId': '', 'ChatRoomId': 0, 'KeyWord': '', 'PYInitial': ''}>, 'UniFriend': 0, 'OwnerUin': 0, 'PYQuanPin': 'Parentingtrilingualkids', 'PYInitial': 'PARENTINGTRILINGUALKIDS', 'VerifyFlag': 0, 'IsAdmin': None, 'EncryChatRoomId': '', 'ChatRoomId': 0, 'KeyWord': '', 'RemarkPYInitial': ''}>, <Chatroom: {'Sex': 0, 'MemberCount': 0, 'Signature': '', 'MemberList': <ContactList: []>, 'UserName': '@@bba8408971929977a5afa1d0eeeb532762aa31808af68d43095355f6ec0b27c3', 'Province': '', 'HideInputBarFlag': 0, 'RemarkPYQuanPin': '', 'City': '', 'IsOwner': 0, 'HeadImgUrl': '/cgi-bin/mmwebwx-bin/webwxgetheadimg?seq=686813959&username=@@bba8408971929977a5afa1d0eeeb532762aa31808af68d43095355f6ec0b27c3&skey=@crypt_1438b1a5_7f9aa0831e75330187559894bdbab97a', 'StarFriend': 0, 'AttrStatus': 0, 'DisplayName': '', 'Statues': 0, 'AppAccountFlag': 0, 'NickName': 'The Seeds Family', 'SnsFlag': 0, 'ContactFlag': 3, 'RemarkName': '', 'Uin': 0, 'Alias': '', 'Self': <User: {'Sex': 2, 'RemarkPYQuanPin': '', 'Signature': '', 'MemberList': <ContactList: []>, 'UserName': '@2073c0fa8bc8ffc7f504fc8ba64503279753f3703d6ba5c1744fc2836ff14b02', 'Province': '', 'VerifyFlag': 0, 'MemberCount': 0, 'City': '', 'HeadImgFlag': 1, 'HeadImgUrl': '/cgi-bin/mmwebwx-bin/webwxgeticon?seq=1376737197&username=@2073c0fa8bc8ffc7f504fc8ba64503279753f3703d6ba5c1744fc2836ff14b02&skey=@crypt_1438b1a5_7f9aa0831e75330187559894bdbab97a', 'StarFriend': 0, 'AttrStatus': 0, 'SnsFlag': 49, 'AppAccountFlag': 0, 'NickName': 'Anne-Marie Codeacademy123', 'DisplayName': '', 'ContactFlag': 0, 'RemarkName': '', 'Alias': '', 'Uin': 1023901641, 'WebWxPluginSwitch': 0, 'UniFriend': 0, 'OwnerUin': 0, 'PYQuanPin': '', 'RemarkPYInitial': '', 'HideInputBarFlag': 0, 'Statues': 0, 'EncryChatRoomId': '', 'ChatRoomId': 0, 'KeyWord': '', 'PYInitial': ''}>, 'UniFriend': 0, 'OwnerUin': 0, 'PYQuanPin': 'TheSeedsFamily', 'PYInitial': 'THESEEDSFAMILY', 'VerifyFlag': 0, 'IsAdmin': None, 'EncryChatRoomId': '', 'ChatRoomId': 0, 'KeyWord': '', 'RemarkPYInitial': ''}>, <Chatroom: {'Sex': 0, 'MemberCount': 0, 'Signature': '', 'MemberList': <ContactList: []>, 'UserName': '@@565369a4d0a0f1b9f3fc702f6df39178b780bcc232208675a91179bf4596ab69', 'Province': '', 'HideInputBarFlag': 0, 'RemarkPYQuanPin': '', 'City': '', 'IsOwner': 0, 'HeadImgUrl': '/cgi-bin/mmwebwx-bin/webwxgetheadimg?seq=686860550&username=@@565369a4d0a0f1b9f3fc702f6df39178b780bcc232208675a91179bf4596ab69&skey=@crypt_1438b1a5_7f9aa0831e75330187559894bdbab97a', 'StarFriend': 0, 'AttrStatus': 0, 'DisplayName': '', 'Statues': 0, 'AppAccountFlag': 0, 'NickName': 'Activities 4 little 1s under 4', 'SnsFlag': 0, 'ContactFlag': 2051, 'RemarkName': '', 'Uin': 0, 'Alias': '', 'Self': <User: {'Sex': 2, 'RemarkPYQuanPin': '', 'Signature': '', 'MemberList': <ContactList: []>, 'UserName': '@2073c0fa8bc8ffc7f504fc8ba64503279753f3703d6ba5c1744fc2836ff14b02', 'Province': '', 'VerifyFlag': 0, 'MemberCount': 0, 'City': '', 'HeadImgFlag': 1, 'HeadImgUrl': '/cgi-bin/mmwebwx-bin/webwxgeticon?seq=1376737197&username=@2073c0fa8bc8ffc7f504fc8ba64503279753f3703d6ba5c1744fc2836ff14b02&skey=@crypt_1438b1a5_7f9aa0831e75330187559894bdbab97a', 'StarFriend': 0, 'AttrStatus': 0, 'SnsFlag': 49, 'AppAccountFlag': 0, 'NickName': 'Anne-Marie Codeacademy123', 'DisplayName': '', 'ContactFlag': 0, 'RemarkName': '', 'Alias': '', 'Uin': 1023901641, 'WebWxPluginSwitch': 0, 'UniFriend': 0, 'OwnerUin': 0, 'PYQuanPin': '', 'RemarkPYInitial': '', 'HideInputBarFlag': 0, 'Statues': 0, 'EncryChatRoomId': '', 'ChatRoomId': 0, 'KeyWord': '', 'PYInitial': ''}>, 'UniFriend': 0, 'OwnerUin': 0, 'PYQuanPin': 'Activities4little1sunder4', 'PYInitial': 'ACTIVITIES4LITTLE1SUNDER4', 'VerifyFlag': 0, 'IsAdmin': None, 'EncryChatRoomId': '', 'ChatRoomId': 0, 'KeyWord': '', 'RemarkPYInitial': ''}>, <Chatroom: {'Sex': 0, 'MemberCount': 0, 'Signature': '', 'MemberList': <ContactList: []>, 'UserName': '@@b3d746a338b6a4920d69a4979b40f3839b0595846af085e879465ab099aa68da', 'Province': '', 'HideInputBarFlag': 0, 'RemarkPYQuanPin': '', 'City': '', 'IsOwner': 0, 'HeadImgUrl': '/cgi-bin/mmwebwx-bin/webwxgetheadimg?seq=686865732&username=@@b3d746a338b6a4920d69a4979b40f3839b0595846af085e879465ab099aa68da&skey=@crypt_1438b1a5_7f9aa0831e75330187559894bdbab97a', 'StarFriend': 0, 'AttrStatus': 0, 'DisplayName': '', 'Statues': 0, 'AppAccountFlag': 0, 'NickName': '机器智能和微信', 'SnsFlag': 0, 'ContactFlag': 2051, 'RemarkName': '', 'Uin': 0, 'Alias': '', 'Self': <User: {'Sex': 2, 'RemarkPYQuanPin': '', 'Signature': '', 'MemberList': <ContactList: []>, 'UserName': '@2073c0fa8bc8ffc7f504fc8ba64503279753f3703d6ba5c1744fc2836ff14b02', 'Province': '', 'VerifyFlag': 0, 'MemberCount': 0, 'City': '', 'HeadImgFlag': 1, 'HeadImgUrl': '/cgi-bin/mmwebwx-bin/webwxgeticon?seq=1376737197&username=@2073c0fa8bc8ffc7f504fc8ba64503279753f3703d6ba5c1744fc2836ff14b02&skey=@crypt_1438b1a5_7f9aa0831e75330187559894bdbab97a', 'StarFriend': 0, 'AttrStatus': 0, 'SnsFlag': 49, 'AppAccountFlag': 0, 'NickName': 'Anne-Marie Codeacademy123', 'DisplayName': '', 'ContactFlag': 0, 'RemarkName': '', 'Alias': '', 'Uin': 1023901641, 'WebWxPluginSwitch': 0, 'UniFriend': 0, 'OwnerUin': 0, 'PYQuanPin': '', 'RemarkPYInitial': '', 'HideInputBarFlag': 0, 'Statues': 0, 'EncryChatRoomId': '', 'ChatRoomId': 0, 'KeyWord': '', 'PYInitial': ''}>, 'UniFriend': 0, 'OwnerUin': 0, 'PYQuanPin': 'jiqizhinengheweixin', 'PYInitial': 'JQZNHWX', 'VerifyFlag': 0, 'IsAdmin': None, 'EncryChatRoomId': '', 'ChatRoomId': 0, 'KeyWord': '', 'RemarkPYInitial': ''}>, <Chatroom: {'Sex': 0, 'MemberCount': 0, 'Signature': '', 'MemberList': <ContactList: []>, 'UserName': '@@386a7582afd1c4ea8bfd1445430b3de7f9d6137e49f45652987b1960fc87ce39', 'Province': '', 'HideInputBarFlag': 0, 'RemarkPYQuanPin': '', 'City': '', 'IsOwner': 1, 'HeadImgUrl': '/cgi-bin/mmwebwx-bin/webwxgetheadimg?seq=686867926&username=@@386a7582afd1c4ea8bfd1445430b3de7f9d6137e49f45652987b1960fc87ce39&skey=@crypt_1438b1a5_7f9aa0831e75330187559894bdbab97a', 'StarFriend': 0, 'AttrStatus': 0, 'DisplayName': '', 'Statues': 1, 'AppAccountFlag': 0, 'NickName': 'Python Crash Course - Tuesday', 'SnsFlag': 0, 'ContactFlag': 3, 'RemarkName': '', 'Uin': 0, 'Alias': '', 'Self': <User: {'Sex': 2, 'RemarkPYQuanPin': '', 'Signature': '', 'MemberList': <ContactList: []>, 'UserName': '@2073c0fa8bc8ffc7f504fc8ba64503279753f3703d6ba5c1744fc2836ff14b02', 'Province': '', 'VerifyFlag': 0, 'MemberCount': 0, 'City': '', 'HeadImgFlag': 1, 'HeadImgUrl': '/cgi-bin/mmwebwx-bin/webwxgeticon?seq=1376737197&username=@2073c0fa8bc8ffc7f504fc8ba64503279753f3703d6ba5c1744fc2836ff14b02&skey=@crypt_1438b1a5_7f9aa0831e75330187559894bdbab97a', 'StarFriend': 0, 'AttrStatus': 0, 'SnsFlag': 49, 'AppAccountFlag': 0, 'NickName': 'Anne-Marie Codeacademy123', 'DisplayName': '', 'ContactFlag': 0, 'RemarkName': '', 'Alias': '', 'Uin': 1023901641, 'WebWxPluginSwitch': 0, 'UniFriend': 0, 'OwnerUin': 0, 'PYQuanPin': '', 'RemarkPYInitial': '', 'HideInputBarFlag': 0, 'Statues': 0, 'EncryChatRoomId': '', 'ChatRoomId': 0, 'KeyWord': '', 'PYInitial': ''}>, 'UniFriend': 0, 'OwnerUin': 0, 'PYQuanPin': 'PythonCrashCourseTuesday', 'PYInitial': 'PYTHONCRASHCOURSETUESDAY', 'VerifyFlag': 0, 'IsAdmin': None, 'EncryChatRoomId': '', 'ChatRoomId': 0, 'KeyWord': '', 'RemarkPYInitial': ''}>, <Chatroom: {'Sex': 0, 'MemberCount': 0, 'Signature': '', 'MemberList': <ContactList: []>, 'UserName': '@@2331aa0533bfb5172f45f9012cf2ce520ebb2784edc68bb520e37809c2782d28', 'Province': '', 'HideInputBarFlag': 0, 'RemarkPYQuanPin': '', 'City': '', 'IsOwner': 0, 'HeadImgUrl': '/cgi-bin/mmwebwx-bin/webwxgetheadimg?seq=686860727&username=@@2331aa0533bfb5172f45f9012cf2ce520ebb2784edc68bb520e37809c2782d28&skey=@crypt_1438b1a5_7f9aa0831e75330187559894bdbab97a', 'StarFriend': 0, 'AttrStatus': 0, 'DisplayName': '', 'Statues': 0, 'AppAccountFlag': 0, 'NickName': 'SH POWER PEOPLE⭐️', 'SnsFlag': 0, 'ContactFlag': 2051, 'RemarkName': '', 'Uin': 0, 'Alias': '', 'Self': <User: {'Sex': 2, 'RemarkPYQuanPin': '', 'Signature': '', 'MemberList': <ContactList: []>, 'UserName': '@2073c0fa8bc8ffc7f504fc8ba64503279753f3703d6ba5c1744fc2836ff14b02', 'Province': '', 'VerifyFlag': 0, 'MemberCount': 0, 'City': '', 'HeadImgFlag': 1, 'HeadImgUrl': '/cgi-bin/mmwebwx-bin/webwxgeticon?seq=1376737197&username=@2073c0fa8bc8ffc7f504fc8ba64503279753f3703d6ba5c1744fc2836ff14b02&skey=@crypt_1438b1a5_7f9aa0831e75330187559894bdbab97a', 'StarFriend': 0, 'AttrStatus': 0, 'SnsFlag': 49, 'AppAccountFlag': 0, 'NickName': 'Anne-Marie Codeacademy123', 'DisplayName': '', 'ContactFlag': 0, 'RemarkName': '', 'Alias': '', 'Uin': 1023901641, 'WebWxPluginSwitch': 0, 'UniFriend': 0, 'OwnerUin': 0, 'PYQuanPin': '', 'RemarkPYInitial': '', 'HideInputBarFlag': 0, 'Statues': 0, 'EncryChatRoomId': '', 'ChatRoomId': 0, 'KeyWord': '', 'PYInitial': ''}>, 'UniFriend': 0, 'OwnerUin': 0, 'PYQuanPin': 'SHPOWERPEOPLEspanclassemojiemoji2b50span?', 'PYInitial': 'SHPOWERPEOPLESPANCLASSEMOJIEMOJI2B50SPAN?', 'VerifyFlag': 0, 'IsAdmin': None, 'EncryChatRoomId': '', 'ChatRoomId': 0, 'KeyWord': '', 'RemarkPYInitial': ''}>]\n"
     ]
    }
   ],
   "source": [
    "print(groups)"
   ]
  },
  {
   "cell_type": "code",
   "execution_count": 28,
   "metadata": {
    "collapsed": false
   },
   "outputs": [
    {
     "name": "stdout",
     "output_type": "stream",
     "text": [
      "Number of Groups:  21\n",
      "Group Name at index 20:  SH POWER PEOPLE⭐️\n",
      "Groups list : \n",
      "\n",
      "0\n",
      "NickName  : FoD MARKET Dulwich Pudong\n",
      "Alias A-ID: \n",
      "RemarkName: \n",
      "UserName  : @@79e25600652ba6ff778ffb041b6076cd11f6a9dfaf1e5d4e41c924a3bb49f8fc\n",
      "Is Owner? ( 0 for No | 1 for Yes ): 0\n",
      "MemberCount: 124\n",
      "Is Admin? : None\n",
      "\n",
      "\n",
      "1\n",
      "NickName  : 🇫🇷 Les Français à 上海\n",
      "Alias A-ID: \n",
      "RemarkName: \n",
      "UserName  : @@de8d669549a13a3db38904d0d31be08df8c900fc6da9e285b0263560c8755d99\n",
      "Is Owner? ( 0 for No | 1 for Yes ): 0\n",
      "MemberCount: 472\n",
      "Is Admin? : None\n",
      "\n",
      "\n",
      "2\n",
      "NickName  : family&amp;relativesspringfestival\n",
      "Alias A-ID: \n",
      "RemarkName: \n",
      "UserName  : @@9ea76427df1ce843da6856474e98dd4a1bca2853b3c463e3e7e0d03b3b87f7d8\n",
      "Is Owner? ( 0 for No | 1 for Yes ): 0\n",
      "MemberCount: 26\n",
      "Is Admin? : None\n",
      "\n",
      "\n",
      "3\n",
      "NickName  : #2 SH For Kids\n",
      "Alias A-ID: \n",
      "RemarkName: \n",
      "UserName  : @@797fe48294b65353f386f31cbdd11d9a0647511726132a467679231917d70fff\n",
      "Is Owner? ( 0 for No | 1 for Yes ): 0\n",
      "MemberCount: 500\n",
      "Is Admin? : None\n",
      "\n",
      "\n",
      "4\n",
      "NickName  : Francais / Ventes\n",
      "Alias A-ID: \n",
      "RemarkName: \n",
      "UserName  : @@d36538e89e3c89072264eed97b40919446941114383773c9a3587f684d8d3368\n",
      "Is Owner? ( 0 for No | 1 for Yes ): 0\n",
      "MemberCount: 268\n",
      "Is Admin? : None\n",
      "\n",
      "\n",
      "5\n",
      "NickName  : Wuding Lu class\n",
      "Alias A-ID: \n",
      "RemarkName: \n",
      "UserName  : @@29000b573f1587429b1c78c82e4735a6ef8bbd7966655be24204ed380c42ebbe\n",
      "Is Owner? ( 0 for No | 1 for Yes ): 1\n",
      "MemberCount: 0\n",
      "Is Admin? : None\n",
      "\n",
      "\n",
      "6\n",
      "NickName  : Programming Sundays\n",
      "Alias A-ID: \n",
      "RemarkName: \n",
      "UserName  : @@97b176213cd59bd5a40ced431df62cfeed6bbe4f7bfe191aa5a29f55e1f42eda\n",
      "Is Owner? ( 0 for No | 1 for Yes ): 0\n",
      "MemberCount: 0\n",
      "Is Admin? : None\n",
      "\n",
      "\n",
      "7\n",
      "NickName  : Coding class at little bugz\n",
      "Alias A-ID: \n",
      "RemarkName: \n",
      "UserName  : @@fef66a824e54400f45a7e689e1baf493811a8b127f2afc18403d495b1a3b3156\n",
      "Is Owner? ( 0 for No | 1 for Yes ): 0\n",
      "MemberCount: 0\n",
      "Is Admin? : None\n",
      "\n",
      "\n",
      "8\n",
      "NickName  : JGC saturday coding class\n",
      "Alias A-ID: \n",
      "RemarkName: \n",
      "UserName  : @@82be36a1d85cd6ca2c1f856fd7c8be417d69c4d70c071e36aebf36124b643639\n",
      "Is Owner? ( 0 for No | 1 for Yes ): 0\n",
      "MemberCount: 0\n",
      "Is Admin? : None\n",
      "\n",
      "\n",
      "9\n",
      "NickName  : spring genius club coding (TA）\n",
      "Alias A-ID: \n",
      "RemarkName: \n",
      "UserName  : @@95e1d346c9a41be2ea02cc7673cc7545bb6d230fb2bc8fc8c56e9753a61c2d78\n",
      "Is Owner? ( 0 for No | 1 for Yes ): 0\n",
      "MemberCount: 0\n",
      "Is Admin? : None\n",
      "\n",
      "\n",
      "10\n",
      "NickName  : Coding class Sunday\n",
      "Alias A-ID: \n",
      "RemarkName: \n",
      "UserName  : @@eb0d248e7333c0abf6332eba633a8488dba9c591536b840882a265533d9dc14a\n",
      "Is Owner? ( 0 for No | 1 for Yes ): 0\n",
      "MemberCount: 0\n",
      "Is Admin? : None\n",
      "\n",
      "\n",
      "11\n",
      "NickName  : 2018-03 coding for KC\n",
      "Alias A-ID: \n",
      "RemarkName: \n",
      "UserName  : @@e2a1dc0f1cbb8a32d2b4bca08088d31db332463caad92bfd96654795f1bce685\n",
      "Is Owner? ( 0 for No | 1 for Yes ): 1\n",
      "MemberCount: 0\n",
      "Is Admin? : None\n",
      "\n",
      "\n",
      "12\n",
      "NickName  : 2018-03 AI for kids\n",
      "Alias A-ID: \n",
      "RemarkName: \n",
      "UserName  : @@dedf4f6ff2bdadfaa77d5554e1c95b11340d1293ad18e88f8945d79c66f34779\n",
      "Is Owner? ( 0 for No | 1 for Yes ): 1\n",
      "MemberCount: 0\n",
      "Is Admin? : None\n",
      "\n",
      "\n",
      "13\n",
      "NickName  : FDISRobotics Wed Spring Semester\n",
      "Alias A-ID: \n",
      "RemarkName: \n",
      "UserName  : @@6b6a10abed6b519fba2cae3de581950c10e2e76db872399df2dff4f4c9e36b5f\n",
      "Is Owner? ( 0 for No | 1 for Yes ): 0\n",
      "MemberCount: 0\n",
      "Is Admin? : None\n",
      "\n",
      "\n",
      "14\n",
      "NickName  : 2018 - Fall - CFKC\n",
      "Alias A-ID: \n",
      "RemarkName: \n",
      "UserName  : @@11114c0141ae0a0ff95014c7794b795a14b2a3e95d7ecab27f424c072283be74\n",
      "Is Owner? ( 0 for No | 1 for Yes ): 1\n",
      "MemberCount: 0\n",
      "Is Admin? : None\n",
      "\n",
      "\n",
      "15\n",
      "NickName  : Parenting trilingual kids\n",
      "Alias A-ID: \n",
      "RemarkName: \n",
      "UserName  : @@ec752019f9e890697e706a1c9e9fd264dbc2292f5b3df21c593cb759e944b528\n",
      "Is Owner? ( 0 for No | 1 for Yes ): 0\n",
      "MemberCount: 0\n",
      "Is Admin? : None\n",
      "\n",
      "\n",
      "16\n",
      "NickName  : The Seeds Family\n",
      "Alias A-ID: \n",
      "RemarkName: \n",
      "UserName  : @@bba8408971929977a5afa1d0eeeb532762aa31808af68d43095355f6ec0b27c3\n",
      "Is Owner? ( 0 for No | 1 for Yes ): 0\n",
      "MemberCount: 0\n",
      "Is Admin? : None\n",
      "\n",
      "\n",
      "17\n",
      "NickName  : Activities 4 little 1s under 4\n",
      "Alias A-ID: \n",
      "RemarkName: \n",
      "UserName  : @@565369a4d0a0f1b9f3fc702f6df39178b780bcc232208675a91179bf4596ab69\n",
      "Is Owner? ( 0 for No | 1 for Yes ): 0\n",
      "MemberCount: 0\n",
      "Is Admin? : None\n",
      "\n",
      "\n",
      "18\n",
      "NickName  : 机器智能和微信\n",
      "Alias A-ID: \n",
      "RemarkName: \n",
      "UserName  : @@b3d746a338b6a4920d69a4979b40f3839b0595846af085e879465ab099aa68da\n",
      "Is Owner? ( 0 for No | 1 for Yes ): 0\n",
      "MemberCount: 0\n",
      "Is Admin? : None\n",
      "\n",
      "\n",
      "19\n",
      "NickName  : Python Crash Course - Tuesday\n",
      "Alias A-ID: \n",
      "RemarkName: \n",
      "UserName  : @@386a7582afd1c4ea8bfd1445430b3de7f9d6137e49f45652987b1960fc87ce39\n",
      "Is Owner? ( 0 for No | 1 for Yes ): 1\n",
      "MemberCount: 0\n",
      "Is Admin? : None\n",
      "\n",
      "\n",
      "20\n",
      "NickName  : SH POWER PEOPLE⭐️\n",
      "Alias A-ID: \n",
      "RemarkName: \n",
      "UserName  : @@2331aa0533bfb5172f45f9012cf2ce520ebb2784edc68bb520e37809c2782d28\n",
      "Is Owner? ( 0 for No | 1 for Yes ): 0\n",
      "MemberCount: 0\n",
      "Is Admin? : None\n",
      "\n",
      "\n"
     ]
    }
   ],
   "source": [
    "# print a list of groups as per your user profile login.\n",
    "\n",
    "print('Number of Groups: ', len(groups))\n",
    "print('Group Name at index 20: ',groups[20]['NickName'])\n",
    "print('Groups list :','\\n', )\n",
    "for i in range(0, len(groups)):\n",
    "    print(i)\n",
    "    print('NickName  : {}'.format(groups[i]['NickName']))\n",
    "    print('Alias A-ID: {}'.format(groups[i]['Alias']))\n",
    "    print('RemarkName: {}'.format(groups[i]['RemarkName']))\n",
    "    print('UserName  : {}'.format(groups[i]['UserName']))\n",
    "    print('Is Owner? ( 0 for No | 1 for Yes ): {}'.format(groups[i]['IsOwner']))\n",
    "    print('MemberCount: {}'.format(groups[i]['MemberCount']))\n",
    "    print('Is Admin? : {}'.format(groups[i]['IsAdmin']))\n",
    "    print('\\n')"
   ]
  },
  {
   "cell_type": "code",
   "execution_count": 41,
   "metadata": {
    "collapsed": false
   },
   "outputs": [
    {
     "data": {
      "text/plain": [
       "'Anne-Marie Codeacademy123'"
      ]
     },
     "execution_count": 41,
     "metadata": {},
     "output_type": "execute_result"
    }
   ],
   "source": [
    "groups[4]['Self']['NickName']"
   ]
  },
  {
   "cell_type": "code",
   "execution_count": 17,
   "metadata": {
    "collapsed": false
   },
   "outputs": [
    {
     "name": "stdout",
     "output_type": "stream",
     "text": [
      "Python Crash Course - Tuesday\n",
      "[<Chatroom: {'UserName': '@@b0da3fc411f0ae366f07dd25de4e33b2c86baee9d9126046fbdcac21bd44a1f8', 'ContactFlag': 3, 'NickName': 'Python Crash Course - Tuesday', 'Uin': 0, 'EncryChatRoomId': '', 'PYQuanPin': 'PythonCrashCourseTuesday', 'AppAccountFlag': 0, 'PYInitial': 'PYTHONCRASHCOURSETUESDAY', 'SnsFlag': 0, 'HideInputBarFlag': 0, 'Statues': 1, 'RemarkName': '', 'RemarkPYInitial': '', 'IsAdmin': None, 'City': '', 'KeyWord': '', 'VerifyFlag': 0, 'ChatRoomId': 0, 'OwnerUin': 0, 'Sex': 0, 'Signature': '', 'Self': <User: {'UserName': '@60f473dc28c2d0f323b367eca9462e63ecd74776757193e040505fe6a24afe58', 'PYInitial': '', 'NickName': 'Anne-Marie Codeacademy123', 'Uin': 1023901641, 'EncryChatRoomId': '', 'OwnerUin': 0, 'RemarkPYInitial': '', 'SnsFlag': 49, 'ChatRoomId': 0, 'HeadImgUrl': '/cgi-bin/mmwebwx-bin/webwxgeticon?seq=1806046675&username=@60f473dc28c2d0f323b367eca9462e63ecd74776757193e040505fe6a24afe58&skey=@crypt_1438b1a5_057497721cbc4b2130e4eb0a210a752d', 'RemarkName': '', 'AttrStatus': 0, 'City': '', 'HideInputBarFlag': 0, 'KeyWord': '', 'Signature': '', 'WebWxPluginSwitch': 0, 'PYQuanPin': '', 'Sex': 2, 'VerifyFlag': 0, 'ContactFlag': 0, 'AppAccountFlag': 0, 'MemberList': <ContactList: []>, 'RemarkPYQuanPin': '', 'DisplayName': '', 'Statues': 0, 'UniFriend': 0, 'Alias': '', 'StarFriend': 0, 'HeadImgFlag': 1, 'MemberCount': 0, 'Province': ''}>, 'MemberList': <ContactList: []>, 'RemarkPYQuanPin': '', 'DisplayName': '', 'UniFriend': 0, 'HeadImgUrl': '/cgi-bin/mmwebwx-bin/webwxgetheadimg?seq=686867926&username=@@b0da3fc411f0ae366f07dd25de4e33b2c86baee9d9126046fbdcac21bd44a1f8&skey=@crypt_1438b1a5_057497721cbc4b2130e4eb0a210a752d', 'AttrStatus': 0, 'Alias': '', 'StarFriend': 0, 'MemberCount': 0, 'Province': '', 'IsOwner': 1}>]\n"
     ]
    }
   ],
   "source": [
    "print(group[0]['NickName'])\n",
    "print(group)"
   ]
  },
  {
   "cell_type": "code",
   "execution_count": 5,
   "metadata": {
    "collapsed": false
   },
   "outputs": [],
   "source": [
    "# Get the Group Members for the Group ID: Python Crash Course - Tuesday'\n",
    "groupMembers = itchat.update_chatroom(userName='@@b0da3fc411f0ae366f07dd25de4e33b2c86baee9d9126046fbdcac21bd44a1f8',detailedMember=True)"
   ]
  },
  {
   "cell_type": "code",
   "execution_count": 33,
   "metadata": {
    "collapsed": false
   },
   "outputs": [
    {
     "name": "stdout",
     "output_type": "stream",
     "text": [
      "{'UserName': '@@b0da3fc411f0ae366f07dd25de4e33b2c86baee9d9126046fbdcac21bd44a1f8', 'ContactFlag': 3, 'NickName': 'Python Crash Course - Tuesday', 'Uin': 0, 'EncryChatRoomId': '@32b52316104591b1b797941dc77de77b', 'PYQuanPin': 'PythonCrashCourseTuesday', 'AppAccountFlag': 0, 'PYInitial': 'PYTHONCRASHCOURSETUESDAY', 'SnsFlag': 0, 'HideInputBarFlag': 0, 'Statues': 1, 'RemarkName': '', 'RemarkPYInitial': '', 'IsAdmin': None, 'City': '', 'KeyWord': '', 'VerifyFlag': 0, 'ChatRoomId': 0, 'OwnerUin': 0, 'Sex': 0, 'Signature': '', 'Self': <ChatroomMember: {'UserName': '@60f473dc28c2d0f323b367eca9462e63ecd74776757193e040505fe6a24afe58', 'ContactFlag': 0, 'NickName': 'Anne-Marie Codeacademy123', 'Uin': 0, 'EncryChatRoomId': '@32b52316104591b1b797941dc77de77b', 'PYQuanPin': 'AnneMarieCodeacademy123', 'PYInitial': 'ANNEMARIECODEACADEMY123', 'SnsFlag': 49, 'HideInputBarFlag': 0, 'Statues': 0, 'RemarkName': '', 'RemarkPYInitial': '', 'City': '', 'KeyWord': '', 'Signature': '', 'ChatRoomId': 0, 'OwnerUin': 0, 'Sex': 2, 'VerifyFlag': 0, 'StarFriend': 0, 'MemberList': <ContactList: []>, 'RemarkPYQuanPin': '', 'DisplayName': '', 'UniFriend': 0, 'HeadImgUrl': '/cgi-bin/mmwebwx-bin/webwxgeticon?seq=0&username=@60f473dc28c2d0f323b367eca9462e63ecd74776757193e040505fe6a24afe58&chatroomid=@32b52316104591b1b797941dc77de77b&skey=', 'AttrStatus': 4292647, 'Alias': '', 'AppAccountFlag': 0, 'MemberCount': 0, 'Province': '', 'IsOwner': 0}>, 'MemberList': <ContactList: [<ChatroomMember: {'UserName': '@60f473dc28c2d0f323b367eca9462e63ecd74776757193e040505fe6a24afe58', 'ContactFlag': 0, 'NickName': 'Anne-Marie Codeacademy123', 'Uin': 0, 'EncryChatRoomId': '@32b52316104591b1b797941dc77de77b', 'PYQuanPin': 'AnneMarieCodeacademy123', 'PYInitial': 'ANNEMARIECODEACADEMY123', 'SnsFlag': 49, 'HideInputBarFlag': 0, 'Statues': 0, 'RemarkName': '', 'RemarkPYInitial': '', 'City': '', 'KeyWord': '', 'Signature': '', 'ChatRoomId': 0, 'OwnerUin': 0, 'Sex': 2, 'VerifyFlag': 0, 'StarFriend': 0, 'MemberList': <ContactList: []>, 'RemarkPYQuanPin': '', 'DisplayName': '', 'UniFriend': 0, 'HeadImgUrl': '/cgi-bin/mmwebwx-bin/webwxgeticon?seq=0&username=@60f473dc28c2d0f323b367eca9462e63ecd74776757193e040505fe6a24afe58&chatroomid=@32b52316104591b1b797941dc77de77b&skey=', 'AttrStatus': 4292647, 'Alias': '', 'AppAccountFlag': 0, 'MemberCount': 0, 'Province': '', 'IsOwner': 0}>, <ChatroomMember: {'UserName': '@00ee5431e68835620b79570fa542379371a0f526f9671b3fa7c8e5c7f8a73391', 'ContactFlag': 3, 'NickName': 'Nellie: RWS &amp; Community Yoga', 'Uin': 0, 'EncryChatRoomId': '@32b52316104591b1b797941dc77de77b', 'PYQuanPin': 'NellieRWSampCommunityYoga', 'PYInitial': 'NELLIERWSAMPCOMMUNITYYOGA', 'SnsFlag': 49, 'HideInputBarFlag': 0, 'Statues': 0, 'RemarkName': '', 'RemarkPYInitial': '', 'City': '静安', 'KeyWord': '', 'Signature': 'Practice love until you remember you are love- s.s.p.', 'ChatRoomId': 0, 'OwnerUin': 0, 'Sex': 2, 'VerifyFlag': 0, 'StarFriend': 0, 'MemberList': <ContactList: []>, 'RemarkPYQuanPin': '', 'DisplayName': '', 'UniFriend': 0, 'HeadImgUrl': '/cgi-bin/mmwebwx-bin/webwxgeticon?seq=686813507&username=@00ee5431e68835620b79570fa542379371a0f526f9671b3fa7c8e5c7f8a73391&skey=', 'AttrStatus': 102439, 'Alias': '', 'AppAccountFlag': 0, 'MemberCount': 0, 'Province': '上海', 'IsOwner': 0}>, <ChatroomMember: {'UserName': '@1ed55c403476c450a6b1100e54de01b63c30dab07f2c11747fccf5b859d903c1', 'ContactFlag': 3, 'NickName': 'Robert Vischer', 'Uin': 0, 'EncryChatRoomId': '@32b52316104591b1b797941dc77de77b', 'PYQuanPin': 'RobertVischer', 'PYInitial': 'ROBERTVISCHER', 'SnsFlag': 0, 'HideInputBarFlag': 0, 'Statues': 0, 'RemarkName': '', 'RemarkPYInitial': '', 'City': '', 'KeyWord': '', 'Signature': '', 'ChatRoomId': 0, 'OwnerUin': 0, 'Sex': 0, 'VerifyFlag': 0, 'StarFriend': 0, 'MemberList': <ContactList: []>, 'RemarkPYQuanPin': '', 'DisplayName': '', 'UniFriend': 0, 'HeadImgUrl': '/cgi-bin/mmwebwx-bin/webwxgeticon?seq=682812282&username=@1ed55c403476c450a6b1100e54de01b63c30dab07f2c11747fccf5b859d903c1&skey=', 'AttrStatus': 102437, 'Alias': '', 'AppAccountFlag': 0, 'MemberCount': 0, 'Province': '', 'IsOwner': 0}>, <ChatroomMember: {'UserName': '@b5ddc8fa5fc52cbc22a233e34fefc5247614811741b0fe098d45660ff88cec00', 'ContactFlag': 3, 'NickName': 'utku 吴凯', 'Uin': 0, 'EncryChatRoomId': '@32b52316104591b1b797941dc77de77b', 'PYQuanPin': 'utkuwukai', 'PYInitial': 'UTKUWK', 'SnsFlag': 49, 'HideInputBarFlag': 0, 'Statues': 0, 'RemarkName': '', 'RemarkPYInitial': '', 'City': '静安', 'KeyWord': '', 'Signature': '34', 'ChatRoomId': 0, 'OwnerUin': 0, 'Sex': 1, 'VerifyFlag': 0, 'StarFriend': 0, 'MemberList': <ContactList: []>, 'RemarkPYQuanPin': '', 'DisplayName': '', 'UniFriend': 0, 'HeadImgUrl': '/cgi-bin/mmwebwx-bin/webwxgeticon?seq=686794691&username=@b5ddc8fa5fc52cbc22a233e34fefc5247614811741b0fe098d45660ff88cec00&skey=', 'AttrStatus': 98341, 'Alias': '', 'AppAccountFlag': 0, 'MemberCount': 0, 'Province': '上海', 'IsOwner': 0}>, <ChatroomMember: {'UserName': '@030abed40a4c67b7b4b1d1438a8c0d79b8e7303d03a860bc3c052f28ea15c49d', 'ContactFlag': 3, 'NickName': 'Denys', 'Uin': 0, 'EncryChatRoomId': '@32b52316104591b1b797941dc77de77b', 'PYQuanPin': 'Denys', 'PYInitial': 'DENYS', 'SnsFlag': 17, 'HideInputBarFlag': 0, 'Statues': 0, 'RemarkName': '', 'RemarkPYInitial': '', 'City': '', 'KeyWord': '', 'Signature': '', 'ChatRoomId': 0, 'OwnerUin': 0, 'Sex': 1, 'VerifyFlag': 0, 'StarFriend': 0, 'MemberList': <ContactList: []>, 'RemarkPYQuanPin': '', 'DisplayName': '', 'UniFriend': 0, 'HeadImgUrl': '/cgi-bin/mmwebwx-bin/webwxgeticon?seq=686763225&username=@030abed40a4c67b7b4b1d1438a8c0d79b8e7303d03a860bc3c052f28ea15c49d&skey=', 'AttrStatus': 50401471, 'Alias': '', 'AppAccountFlag': 0, 'MemberCount': 0, 'Province': '', 'IsOwner': 0}>]>, 'RemarkPYQuanPin': '', 'DisplayName': '', 'UniFriend': 0, 'HeadImgUrl': '/cgi-bin/mmwebwx-bin/webwxgetheadimg?seq=686867926&username=@@b0da3fc411f0ae366f07dd25de4e33b2c86baee9d9126046fbdcac21bd44a1f8&skey=', 'AttrStatus': 0, 'Alias': '', 'StarFriend': 0, 'MemberCount': 5, 'Province': '', 'IsOwner': 1}\n"
     ]
    }
   ],
   "source": [
    "print(groupMembers)"
   ]
  },
  {
   "cell_type": "code",
   "execution_count": 6,
   "metadata": {
    "collapsed": false
   },
   "outputs": [
    {
     "name": "stdout",
     "output_type": "stream",
     "text": [
      "Group Members for the Group: Python Crash Course - Tuesday\n",
      "Member: Anne-Marie Codeacademy123\n",
      "Member: Nellie: RWS &amp; Community Yoga\n",
      "Member: Robert Vischer\n",
      "Member: utku 吴凯\n",
      "Member: Denys\n"
     ]
    }
   ],
   "source": [
    "# Get the Group Members for the Group ID: Python Crash Course - Tuesday'\n",
    "print('Group Members for the Group: {}'.format(groupMembers['NickName']))\n",
    "for i in range(0, len(groupMembers['MemberList'])):\n",
    "   print('Member: {}'.format(groupMembers['MemberList'][i]['NickName']))"
   ]
  },
  {
   "cell_type": "markdown",
   "metadata": {},
   "source": [
    "## Sending information (text, images, files, audio, video, etc.)"
   ]
  },
  {
   "cell_type": "code",
   "execution_count": null,
   "metadata": {
    "collapsed": true
   },
   "outputs": [],
   "source": [
    "friend = itchat.search_friends(remarkName=u'Tao Zhang')"
   ]
  },
  {
   "cell_type": "code",
   "execution_count": null,
   "metadata": {
    "collapsed": false
   },
   "outputs": [],
   "source": [
    "# Tao Zhang User Name\n",
    "friend[0]['UserName']\n",
    "print(friend[0])"
   ]
  },
  {
   "cell_type": "code",
   "execution_count": null,
   "metadata": {
    "collapsed": false
   },
   "outputs": [],
   "source": [
    "# text\n",
    "reply = itchat.send(u'I hope you are well！\\nsent:\\n{:%Y-%b-%d %H:%M:%S}'.format(datetime.datetime.now()), friend[0]['UserName']) \n",
    "print(reply['BaseResponse']['ErrMsg'])"
   ]
  },
  {
   "cell_type": "code",
   "execution_count": null,
   "metadata": {
    "collapsed": false
   },
   "outputs": [],
   "source": [
    "# picture\n",
    "reply = itchat.send_image('./reference/qrcode_for_codeacademy123-cn.jpg', friend[0]['UserName']) \n",
    "print(reply['BaseResponse']['ErrMsg'])"
   ]
  },
  {
   "cell_type": "code",
   "execution_count": null,
   "metadata": {
    "collapsed": false
   },
   "outputs": [],
   "source": [
    "# document\n",
    "reply = itchat.send_file('./reference/ca123_Python_en.pdf', friend[0]['UserName']) \n",
    "print(reply['BaseResponse']['ErrMsg'])"
   ]
  },
  {
   "cell_type": "code",
   "execution_count": null,
   "metadata": {
    "collapsed": false
   },
   "outputs": [],
   "source": [
    "# audio（MP3）\n",
    "reply = itchat.send_file('./reference/audio.mp3', friend[0]['UserName']) \n",
    "print(reply['BaseResponse']['ErrMsg'])"
   ]
  },
  {
   "cell_type": "code",
   "execution_count": null,
   "metadata": {
    "collapsed": false
   },
   "outputs": [],
   "source": [
    "# video\n",
    "reply = itchat.send_video('./reference/video.mp4', friend[0]['UserName']) \n",
    "print(reply['BaseResponse']['ErrMsg'])"
   ]
  },
  {
   "cell_type": "code",
   "execution_count": null,
   "metadata": {
    "collapsed": true
   },
   "outputs": [],
   "source": [
    "group = itchat.search_chatrooms(name=u'Python Crash Course - Tuesday', )"
   ]
  },
  {
   "cell_type": "code",
   "execution_count": null,
   "metadata": {
    "collapsed": false,
    "scrolled": true
   },
   "outputs": [],
   "source": [
    "# send message to group： group[0]['UserName']\n",
    "# text\n",
    "#reply = itchat.send(u'别来无恙啊！\\n发送时间:\\n{:%Y-%b-%d %H:%M:%S}'.format(datetime.datetime.now()), group[0]['UserName']) \n",
    "reply = itchat.send(u'I trust you are well since we last met！\\n:sendDate\\n{:%Y-%b-%d %H:%M:%S}'.format(datetime.datetime.now()), group[0]['UserName']) \n",
    "print(reply['BaseResponse']['ErrMsg'])"
   ]
  },
  {
   "cell_type": "markdown",
   "metadata": {},
   "source": [
    "## Received  information - Auto-Reply\n"
   ]
  },
  {
   "cell_type": "markdown",
   "metadata": {},
   "source": [
    "Display the text message sent to yourself:显示发给自己的文本消息：\n"
   ]
  },
  {
   "cell_type": "code",
   "execution_count": null,
   "metadata": {
    "collapsed": false
   },
   "outputs": [],
   "source": [
    "itchat.logout()"
   ]
  },
  {
   "cell_type": "code",
   "execution_count": null,
   "metadata": {
    "collapsed": false
   },
   "outputs": [],
   "source": [
    "itchat.auto_login(hotReload=True) # hotReload=True: 退出程序后暂存登陆状态。即使程序关闭，一定时间内重新开启也可以不用重新扫码。"
   ]
  },
  {
   "cell_type": "code",
   "execution_count": null,
   "metadata": {
    "collapsed": true
   },
   "outputs": [],
   "source": [
    "@itchat.msg_register(itchat.content.TEXT)\n",
    "def text_reply(msg):\n",
    "    print(msg['Text'])"
   ]
  },
  {
   "cell_type": "markdown",
   "metadata": {},
   "source": [
    "NOTE: the @ sign in front of the function is called a **decorator**.\n",
    "\n",
    "Decorators provide a simple syntax for calling higher-order functions. By definition, a decorator is a function that takes another function and extends the behavior of the latter function without explicitly modifying it"
   ]
  },
  {
   "cell_type": "code",
   "execution_count": null,
   "metadata": {
    "collapsed": false
   },
   "outputs": [],
   "source": [
    "# Run effectively for a long time (terminology: start listening)\n",
    "itchat.run()"
   ]
  },
  {
   "cell_type": "markdown",
   "metadata": {},
   "source": [
    "Reply to the text message sent to yourself:回复发给自己的文本消息："
   ]
  },
  {
   "cell_type": "code",
   "execution_count": 7,
   "metadata": {
    "collapsed": false
   },
   "outputs": [
    {
     "name": "stderr",
     "output_type": "stream",
     "text": [
      "LOG OUT!\n"
     ]
    },
    {
     "data": {
      "text/plain": [
       "<ItchatReturnValue: {'BaseResponse': {'Ret': 0, 'ErrMsg': '请求成功', 'RawMsg': 'logout successfully.'}}>"
      ]
     },
     "execution_count": 7,
     "metadata": {},
     "output_type": "execute_result"
    }
   ],
   "source": [
    "itchat.logout()"
   ]
  },
  {
   "cell_type": "code",
   "execution_count": 8,
   "metadata": {
    "collapsed": false
   },
   "outputs": [
    {
     "name": "stderr",
     "output_type": "stream",
     "text": [
      "Please press confirm on your phone.\n",
      "Loading the contact, this may take a little while.\n",
      "Login successfully as Anne-Marie Codeacademy123\n"
     ]
    }
   ],
   "source": [
    "# interupt, then re-login\n",
    "itchat.auto_login(hotReload=True)"
   ]
  },
  {
   "cell_type": "code",
   "execution_count": 9,
   "metadata": {
    "collapsed": false
   },
   "outputs": [],
   "source": [
    "@itchat.msg_register(itchat.content.TEXT)\n",
    "def text_reply(msg):\n",
    "    print(msg['Text'])\n",
    "    return u'Thank you[嘴唇]I received it:\\n' + msg['Text']"
   ]
  },
  {
   "cell_type": "code",
   "execution_count": 10,
   "metadata": {
    "collapsed": false,
    "scrolled": true
   },
   "outputs": [
    {
     "name": "stderr",
     "output_type": "stream",
     "text": [
      "Start auto replying.\n",
      "Bye~\n"
     ]
    }
   ],
   "source": [
    "itchat.run()"
   ]
  },
  {
   "cell_type": "markdown",
   "metadata": {},
   "source": [
    "### Output\n",
    "![title](./ScreenShots/IMG_2385.PNG)\n"
   ]
  },
  {
   "cell_type": "markdown",
   "metadata": {},
   "source": [
    "## Customize complex message processing, for example: message archiving, reply to messages in the group @"
   ]
  },
  {
   "cell_type": "code",
   "execution_count": 12,
   "metadata": {
    "collapsed": false
   },
   "outputs": [
    {
     "data": {
      "text/plain": [
       "<ItchatReturnValue: {'BaseResponse': {'Ret': 0, 'ErrMsg': '请求成功', 'RawMsg': 'logout successfully.'}}>"
      ]
     },
     "execution_count": 12,
     "metadata": {},
     "output_type": "execute_result"
    }
   ],
   "source": [
    "itchat.logout()"
   ]
  },
  {
   "cell_type": "code",
   "execution_count": null,
   "metadata": {
    "collapsed": false
   },
   "outputs": [],
   "source": [
    "# interrupt, then re-login\n",
    "itchat.auto_login(hotReload=True)"
   ]
  },
  {
   "cell_type": "code",
   "execution_count": null,
   "metadata": {
    "collapsed": true
   },
   "outputs": [],
   "source": [
    "# If you receive information about [TEXT, MAP, CARD, NOTE, SHARING], it will automatically reply:\n",
    "@itchat.msg_register([TEXT, MAP, CARD, NOTE, SHARING]) # text, map, card. note, sharing\n",
    "def text_reply(msg):\n",
    "    itchat.send('%s: %s' % (msg['Type'], msg['Text']), msg['FromUserName'])\n",
    "\n",
    "# If you receive information about [PICTURE, RECORDING, ATTACHMENT, VIDEO], it will be saved automatically:\n",
    "@itchat.msg_register([PICTURE, RECORDING, ATTACHMENT, VIDEO]) # image, audio, file, video\n",
    "def download_files(msg):\n",
    "    msg['Text'](msg['FileName'])\n",
    "    return '@%s@%s' % ({'Picture': 'img', 'Video': 'vid'}.get(msg['Type'], 'fil'), msg['FileName'])\n",
    "\n",
    "# If you receive a new friend's request, it will automatically add and add friends through verification, \n",
    "# and take the initiative to say hello: Fortunately, will be lucky! Nice to meet you!\n",
    "@itchat.msg_register(FRIENDS)\n",
    "def add_friend(msg):\n",
    "    itchat.add_friend(**msg['Text']) # 该操作会自动将新好友的消息录入，不需要重载通讯录\n",
    "    itchat.send_msg(u'Nice to meet you!', msg['RecommendInfo']['UserName'])\n",
    "\n",
    "# In the group, if you receive @your text message, it will automatically reply:\n",
    "@itchat.msg_register(TEXT, isGroupChat=True)\n",
    "def text_reply(msg):\n",
    "    if msg['isAt']:\n",
    "        itchat.send(u'@%s\\u2005I received: %s' % (msg['ActualNickName'], msg['Content']), msg['FromUserName'])\n"
   ]
  },
  {
   "cell_type": "code",
   "execution_count": null,
   "metadata": {
    "collapsed": false,
    "scrolled": true
   },
   "outputs": [],
   "source": [
    "itchat.run()"
   ]
  },
  {
   "cell_type": "markdown",
   "metadata": {},
   "source": [
    "### Output - Group Communication\n",
    "![title](./ScreenShots/IMG_2386.PNG)"
   ]
  },
  {
   "cell_type": "code",
   "execution_count": null,
   "metadata": {
    "collapsed": false
   },
   "outputs": [],
   "source": [
    "# interupt, then logout\n",
    "itchat.logout()"
   ]
  },
  {
   "cell_type": "markdown",
   "metadata": {},
   "source": [
    "## Congratulations! We have been able to use the WeChat question and answer mechanism.\n",
    "* Use WeChat Python API\n",
    "* Use WeChat App to scan QR code to log in automatically (Log-in, contact scan, and processing of text, image, file, video, etc)\n",
    "* Find the specified contact or group \n",
    "* Send message: text, image, file, voice, video, etc\n",
    "* Receive message (Receive message, and keep 'listening')\n",
    "* Respond to a message and then automaticaly reply\n",
    "* Advanced message processing and reply\n"
   ]
  },
  {
   "cell_type": "code",
   "execution_count": null,
   "metadata": {
    "collapsed": true
   },
   "outputs": [],
   "source": []
  }
 ],
 "metadata": {
  "kernelspec": {
   "display_name": "Python 3",
   "language": "python",
   "name": "python3"
  },
  "language_info": {
   "codemirror_mode": {
    "name": "ipython",
    "version": 3
   },
   "file_extension": ".py",
   "mimetype": "text/x-python",
   "name": "python",
   "nbconvert_exporter": "python",
   "pygments_lexer": "ipython3",
   "version": "3.5.2"
  }
 },
 "nbformat": 4,
 "nbformat_minor": 2
}
