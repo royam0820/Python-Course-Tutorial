{
 "cells": [
  {
   "cell_type": "markdown",
   "metadata": {},
   "source": [
    "# Importing a CSV file into a table using Pandas"
   ]
  },
  {
   "cell_type": "code",
   "execution_count": 1,
   "metadata": {
    "collapsed": true
   },
   "outputs": [],
   "source": [
    "import pandas as pd\n",
    "import sqlite3\n",
    "from pandas.io import sql\n",
    "import subprocess"
   ]
  },
  {
   "cell_type": "markdown",
   "metadata": {},
   "source": [
    "NOTE:  The subprocess module allows you to spawn new processes, connect to their input/output/error pipes, and obtain their return codes."
   ]
  },
  {
   "cell_type": "code",
   "execution_count": 2,
   "metadata": {
    "collapsed": false
   },
   "outputs": [],
   "source": [
    "conn = sqlite3.connect('./../../data/tecktrack.db')"
   ]
  },
  {
   "cell_type": "code",
   "execution_count": 3,
   "metadata": {
    "collapsed": true
   },
   "outputs": [],
   "source": [
    "c = conn.cursor()"
   ]
  },
  {
   "cell_type": "code",
   "execution_count": 4,
   "metadata": {
    "collapsed": false
   },
   "outputs": [
    {
     "data": {
      "text/plain": [
       "<sqlite3.Cursor at 0x110320810>"
      ]
     },
     "execution_count": 4,
     "metadata": {},
     "output_type": "execute_result"
    }
   ],
   "source": [
    "c.execute('DROP TABLE tecktrack')"
   ]
  },
  {
   "cell_type": "code",
   "execution_count": 5,
   "metadata": {
    "collapsed": false
   },
   "outputs": [],
   "source": [
    "c.close()"
   ]
  },
  {
   "cell_type": "code",
   "execution_count": 6,
   "metadata": {
    "collapsed": false
   },
   "outputs": [],
   "source": [
    "# In and output file paths\n",
    "in_csv = './../../files/techtrack100.csv'\n",
    "out_sqlite = './../../data/tecktrack.db'\n",
    "\n",
    "table_name = 'tecktrack' # name for the SQLite database table\n",
    "chunksize = 50 # number of lines to process at each iteration\n",
    "\n",
    "# columns thatshould be read from the CSV file\n",
    "columns = ['rank','company','webpage','description','location','year_end','annual_sales_rise', 'sales_amount', 'staff', 'comments']\n",
    "\n",
    "# Get number of lines in the CSV file\n",
    "nlines = subprocess.check_output(['wc', '-l', in_csv])\n",
    "nlines = int(nlines.split()[0]) \n",
    "\n",
    "# connect to database\n",
    "cnx = sqlite3.connect(out_sqlite)\n",
    "\n",
    "# Iteratively read CSV and dump lines into the SQLite table\n",
    "for i in range(1, nlines, chunksize):   # change 0 -> 1 if your csv file contains a column header\n",
    "    df = pd.read_csv(in_csv,  \n",
    "            header=None,  # no header, define column header manually later\n",
    "            nrows=chunksize, # number of rows to read at each iteration\n",
    "            skiprows=i)   # skip rows that were already read\n",
    "    \n",
    "    # columns to read  \n",
    "    df.columns = columns\n",
    "\n",
    "    sql.to_sql(df, \n",
    "                name=table_name, \n",
    "                con=cnx, \n",
    "                index=False, # don't use CSV file index\n",
    "                index_label='company_ix', # use a unique column from DataFrame as index\n",
    "                if_exists='append') \n",
    "cnx.close()  "
   ]
  },
  {
   "cell_type": "code",
   "execution_count": 7,
   "metadata": {
    "collapsed": true
   },
   "outputs": [],
   "source": [
    "conn = sqlite3.connect('./../../data/tecktrack.db')\n",
    "c = conn.cursor()"
   ]
  },
  {
   "cell_type": "code",
   "execution_count": 8,
   "metadata": {
    "collapsed": false
   },
   "outputs": [
    {
     "name": "stdout",
     "output_type": "stream",
     "text": [
      "[(100,)]\n"
     ]
    }
   ],
   "source": [
    "result = c.execute(\"SELECT count(*) FROM tecktrack\")\n",
    "print(c.fetchall())"
   ]
  },
  {
   "cell_type": "code",
   "execution_count": 9,
   "metadata": {
    "collapsed": false
   },
   "outputs": [
    {
     "data": {
      "text/plain": [
       "<sqlite3.Cursor at 0x110320b90>"
      ]
     },
     "execution_count": 9,
     "metadata": {},
     "output_type": "execute_result"
    }
   ],
   "source": [
    "table_name = 'tecktrack'\n",
    "index_name = 'company_idx'  # name for the new unique index\n",
    "column_name = 'company'\n",
    "\n",
    "c.execute('CREATE INDEX {ix} ON {tn}({cn})'\\\n",
    "        .format(ix=index_name, tn=table_name, cn=column_name))\n"
   ]
  },
  {
   "cell_type": "code",
   "execution_count": 10,
   "metadata": {
    "collapsed": false
   },
   "outputs": [
    {
     "name": "stdout",
     "output_type": "stream",
     "text": [
      "[(28, 'Purple', 'http://www.purple.ai', 'Wifi services provider', 'Oldham', '18-Jan', '112.88%', '5586', 93, 'Its technology is used in every public airport in Spain and in a 21,000-capacity stadium in Miami')]\n"
     ]
    }
   ],
   "source": [
    "result = c.execute(\"SELECT * FROM tecktrack WHERE company = 'Purple'\")\n",
    "print(c.fetchall())"
   ]
  },
  {
   "cell_type": "code",
   "execution_count": 11,
   "metadata": {
    "collapsed": false
   },
   "outputs": [
    {
     "name": "stdout",
     "output_type": "stream",
     "text": [
      "(28, 'Purple', 'http://www.purple.ai', 'Wifi services provider', 'Oldham', '18-Jan', '112.88%', '5586', 93, 'Its technology is used in every public airport in Spain and in a 21,000-capacity stadium in Miami')\n"
     ]
    }
   ],
   "source": [
    "c.execute(\"SELECT * FROM tecktrack WHERE company = 'Purple'\")\n",
    "id_exists = c.fetchone()\n",
    "if id_exists:\n",
    "    print('{}'.format(id_exists))\n",
    "else:\n",
    "    print('{} - record does not exist'.format(id_exists))\n",
    "\n"
   ]
  },
  {
   "cell_type": "code",
   "execution_count": 12,
   "metadata": {
    "collapsed": true
   },
   "outputs": [],
   "source": [
    "# Closing the connection to the database file\n",
    "conn.close()"
   ]
  },
  {
   "cell_type": "markdown",
   "metadata": {},
   "source": [
    "# Exporting table records to a Pandas dataframe"
   ]
  },
  {
   "cell_type": "code",
   "execution_count": 13,
   "metadata": {
    "collapsed": true
   },
   "outputs": [],
   "source": [
    "import pandas as pd\n",
    "import sqlite3"
   ]
  },
  {
   "cell_type": "markdown",
   "metadata": {},
   "source": [
    "## Database access using Python Functions"
   ]
  },
  {
   "cell_type": "code",
   "execution_count": 14,
   "metadata": {
    "collapsed": true
   },
   "outputs": [],
   "source": [
    "def run_query(q):\n",
    "    with sqlite3.connect('./../../data/tecktrack.db') as conn:\n",
    "        return pd.read_sql(q,conn)"
   ]
  },
  {
   "cell_type": "code",
   "execution_count": 15,
   "metadata": {
    "collapsed": true
   },
   "outputs": [],
   "source": [
    "def run_command(c):\n",
    "    with sqlite3.connect('./../../data/tecktrack.db') as conn:\n",
    "        conn.isolation_level = None\n",
    "        conn.execute(c)"
   ]
  },
  {
   "cell_type": "code",
   "execution_count": 16,
   "metadata": {
    "collapsed": true
   },
   "outputs": [],
   "source": [
    "def show_tables():\n",
    "    q='''\n",
    "    SELECT\n",
    "    name,\n",
    "    type\n",
    "FROM sqlite_master\n",
    "WHERE type IN (\"table\",\"view\");\n",
    "    \n",
    "    '''\n",
    "    return run_query(q)\n",
    "    "
   ]
  },
  {
   "cell_type": "code",
   "execution_count": 17,
   "metadata": {
    "collapsed": false
   },
   "outputs": [
    {
     "data": {
      "text/html": [
       "<div>\n",
       "<style scoped>\n",
       "    .dataframe tbody tr th:only-of-type {\n",
       "        vertical-align: middle;\n",
       "    }\n",
       "\n",
       "    .dataframe tbody tr th {\n",
       "        vertical-align: top;\n",
       "    }\n",
       "\n",
       "    .dataframe thead th {\n",
       "        text-align: right;\n",
       "    }\n",
       "</style>\n",
       "<table border=\"1\" class=\"dataframe\">\n",
       "  <thead>\n",
       "    <tr style=\"text-align: right;\">\n",
       "      <th></th>\n",
       "      <th>name</th>\n",
       "      <th>type</th>\n",
       "    </tr>\n",
       "  </thead>\n",
       "  <tbody>\n",
       "    <tr>\n",
       "      <th>0</th>\n",
       "      <td>tecktrack2</td>\n",
       "      <td>table</td>\n",
       "    </tr>\n",
       "    <tr>\n",
       "      <th>1</th>\n",
       "      <td>tecktrack</td>\n",
       "      <td>table</td>\n",
       "    </tr>\n",
       "  </tbody>\n",
       "</table>\n",
       "</div>"
      ],
      "text/plain": [
       "         name   type\n",
       "0  tecktrack2  table\n",
       "1   tecktrack  table"
      ]
     },
     "execution_count": 17,
     "metadata": {},
     "output_type": "execute_result"
    }
   ],
   "source": [
    "show_tables()"
   ]
  },
  {
   "cell_type": "code",
   "execution_count": 18,
   "metadata": {
    "collapsed": true
   },
   "outputs": [],
   "source": [
    "conn.close()"
   ]
  },
  {
   "cell_type": "code",
   "execution_count": 19,
   "metadata": {
    "collapsed": false
   },
   "outputs": [],
   "source": [
    "conn = sqlite3.connect('./../../data/tecktrack.db')\n",
    "c = conn.cursor()"
   ]
  },
  {
   "cell_type": "code",
   "execution_count": 20,
   "metadata": {
    "collapsed": false
   },
   "outputs": [
    {
     "data": {
      "text/html": [
       "<div>\n",
       "<style scoped>\n",
       "    .dataframe tbody tr th:only-of-type {\n",
       "        vertical-align: middle;\n",
       "    }\n",
       "\n",
       "    .dataframe tbody tr th {\n",
       "        vertical-align: top;\n",
       "    }\n",
       "\n",
       "    .dataframe thead th {\n",
       "        text-align: right;\n",
       "    }\n",
       "</style>\n",
       "<table border=\"1\" class=\"dataframe\">\n",
       "  <thead>\n",
       "    <tr style=\"text-align: right;\">\n",
       "      <th></th>\n",
       "      <th>rank</th>\n",
       "      <th>company</th>\n",
       "      <th>webpage</th>\n",
       "      <th>description</th>\n",
       "      <th>location</th>\n",
       "      <th>year_end</th>\n",
       "      <th>annual_sales_rise</th>\n",
       "      <th>sales_amount</th>\n",
       "      <th>staff</th>\n",
       "      <th>comments</th>\n",
       "    </tr>\n",
       "  </thead>\n",
       "  <tbody>\n",
       "    <tr>\n",
       "      <th>0</th>\n",
       "      <td>1</td>\n",
       "      <td>Plan.com</td>\n",
       "      <td>http://www.plan.com</td>\n",
       "      <td>Communications provider</td>\n",
       "      <td>Isle of Man</td>\n",
       "      <td>17-Sep</td>\n",
       "      <td>364.38%</td>\n",
       "      <td>35418</td>\n",
       "      <td>90</td>\n",
       "      <td>About 650 partners use its telecoms platform t...</td>\n",
       "    </tr>\n",
       "    <tr>\n",
       "      <th>1</th>\n",
       "      <td>2</td>\n",
       "      <td>PsiOxus</td>\n",
       "      <td>http://www.psioxus.com</td>\n",
       "      <td>Biotechnology developer</td>\n",
       "      <td>Oxfordshire</td>\n",
       "      <td>17-Dec</td>\n",
       "      <td>311.67%</td>\n",
       "      <td>53136</td>\n",
       "      <td>54</td>\n",
       "      <td>Received a $15m milestone payment from its dev...</td>\n",
       "    </tr>\n",
       "    <tr>\n",
       "      <th>2</th>\n",
       "      <td>3</td>\n",
       "      <td>CensorNet</td>\n",
       "      <td>http://www.censornet.com</td>\n",
       "      <td>Cloud security software developer</td>\n",
       "      <td>Basingstoke</td>\n",
       "      <td>17-Dec</td>\n",
       "      <td>210.17%</td>\n",
       "      <td>7535</td>\n",
       "      <td>77</td>\n",
       "      <td>Has more than 4,000 customers, including McDon...</td>\n",
       "    </tr>\n",
       "    <tr>\n",
       "      <th>3</th>\n",
       "      <td>4</td>\n",
       "      <td>thoughtonomy</td>\n",
       "      <td>http://www.thoughtonomy.com</td>\n",
       "      <td>Automation software developer</td>\n",
       "      <td>East London</td>\n",
       "      <td>18-May</td>\n",
       "      <td>205.20%</td>\n",
       "      <td>16916</td>\n",
       "      <td>100</td>\n",
       "      <td>It sells to 28 countries and 50% of revenue is...</td>\n",
       "    </tr>\n",
       "    <tr>\n",
       "      <th>4</th>\n",
       "      <td>5</td>\n",
       "      <td>Perkbox</td>\n",
       "      <td>http://www.perkbox.com</td>\n",
       "      <td>Employee engagement services</td>\n",
       "      <td>Central London</td>\n",
       "      <td>17-Dec</td>\n",
       "      <td>204.12%</td>\n",
       "      <td>34700</td>\n",
       "      <td>200</td>\n",
       "      <td>Acquired software platform Loyalty Bay for an ...</td>\n",
       "    </tr>\n",
       "  </tbody>\n",
       "</table>\n",
       "</div>"
      ],
      "text/plain": [
       "   rank       company                      webpage  \\\n",
       "0     1      Plan.com          http://www.plan.com   \n",
       "1     2       PsiOxus       http://www.psioxus.com   \n",
       "2     3     CensorNet     http://www.censornet.com   \n",
       "3     4  thoughtonomy  http://www.thoughtonomy.com   \n",
       "4     5       Perkbox       http://www.perkbox.com   \n",
       "\n",
       "                         description        location year_end  \\\n",
       "0            Communications provider     Isle of Man   17-Sep   \n",
       "1            Biotechnology developer     Oxfordshire   17-Dec   \n",
       "2  Cloud security software developer     Basingstoke   17-Dec   \n",
       "3      Automation software developer     East London   18-May   \n",
       "4       Employee engagement services  Central London   17-Dec   \n",
       "\n",
       "  annual_sales_rise sales_amount  staff  \\\n",
       "0           364.38%        35418     90   \n",
       "1           311.67%        53136     54   \n",
       "2           210.17%         7535     77   \n",
       "3           205.20%        16916    100   \n",
       "4           204.12%        34700    200   \n",
       "\n",
       "                                            comments  \n",
       "0  About 650 partners use its telecoms platform t...  \n",
       "1  Received a $15m milestone payment from its dev...  \n",
       "2  Has more than 4,000 customers, including McDon...  \n",
       "3  It sells to 28 countries and 50% of revenue is...  \n",
       "4  Acquired software platform Loyalty Bay for an ...  "
      ]
     },
     "execution_count": 20,
     "metadata": {},
     "output_type": "execute_result"
    }
   ],
   "source": [
    "# limit the number of rows retrieved to 5 rows.\n",
    "df = pd.read_sql_query(\"SELECT * FROM tecktrack LIMIT 5;\", conn)\n",
    "df"
   ]
  },
  {
   "cell_type": "code",
   "execution_count": 21,
   "metadata": {
    "collapsed": false
   },
   "outputs": [],
   "source": [
    "# selecting only rows for location = 'Central London'.\n",
    "# number of columns limited to 3.\n",
    "location_df = pd.read_sql_query(\"\"\"\n",
    "                           SELECT company, staff, sales_amount\n",
    "                           FROM tecktrack\n",
    "                           WHERE location = 'Central London'\n",
    "                           \"\"\", \n",
    "                           conn)"
   ]
  },
  {
   "cell_type": "code",
   "execution_count": 22,
   "metadata": {
    "collapsed": false
   },
   "outputs": [
    {
     "data": {
      "text/html": [
       "<div>\n",
       "<style scoped>\n",
       "    .dataframe tbody tr th:only-of-type {\n",
       "        vertical-align: middle;\n",
       "    }\n",
       "\n",
       "    .dataframe tbody tr th {\n",
       "        vertical-align: top;\n",
       "    }\n",
       "\n",
       "    .dataframe thead th {\n",
       "        text-align: right;\n",
       "    }\n",
       "</style>\n",
       "<table border=\"1\" class=\"dataframe\">\n",
       "  <thead>\n",
       "    <tr style=\"text-align: right;\">\n",
       "      <th></th>\n",
       "      <th>company</th>\n",
       "      <th>staff</th>\n",
       "      <th>sales_amount</th>\n",
       "    </tr>\n",
       "  </thead>\n",
       "  <tbody>\n",
       "    <tr>\n",
       "      <th>0</th>\n",
       "      <td>Perkbox</td>\n",
       "      <td>200</td>\n",
       "      <td>34700</td>\n",
       "    </tr>\n",
       "    <tr>\n",
       "      <th>1</th>\n",
       "      <td>Verve</td>\n",
       "      <td>130</td>\n",
       "      <td>10747</td>\n",
       "    </tr>\n",
       "    <tr>\n",
       "      <th>2</th>\n",
       "      <td>goHenry</td>\n",
       "      <td>61</td>\n",
       "      <td>6116</td>\n",
       "    </tr>\n",
       "    <tr>\n",
       "      <th>3</th>\n",
       "      <td>Bizuma</td>\n",
       "      <td>48</td>\n",
       "      <td>9608</td>\n",
       "    </tr>\n",
       "    <tr>\n",
       "      <th>4</th>\n",
       "      <td>Depop</td>\n",
       "      <td>95</td>\n",
       "      <td>94300</td>\n",
       "    </tr>\n",
       "    <tr>\n",
       "      <th>5</th>\n",
       "      <td>Bought By Many</td>\n",
       "      <td>78</td>\n",
       "      <td>19727</td>\n",
       "    </tr>\n",
       "    <tr>\n",
       "      <th>6</th>\n",
       "      <td>Optal</td>\n",
       "      <td>65</td>\n",
       "      <td>177653</td>\n",
       "    </tr>\n",
       "    <tr>\n",
       "      <th>7</th>\n",
       "      <td>Infinox</td>\n",
       "      <td>48</td>\n",
       "      <td>41700</td>\n",
       "    </tr>\n",
       "    <tr>\n",
       "      <th>8</th>\n",
       "      <td>Carwow</td>\n",
       "      <td>127</td>\n",
       "      <td>15276</td>\n",
       "    </tr>\n",
       "    <tr>\n",
       "      <th>9</th>\n",
       "      <td>Receipt Bank</td>\n",
       "      <td>341</td>\n",
       "      <td>11667</td>\n",
       "    </tr>\n",
       "    <tr>\n",
       "      <th>10</th>\n",
       "      <td>Festicket</td>\n",
       "      <td>88</td>\n",
       "      <td>35839</td>\n",
       "    </tr>\n",
       "    <tr>\n",
       "      <th>11</th>\n",
       "      <td>GoCardless</td>\n",
       "      <td>165</td>\n",
       "      <td>11896</td>\n",
       "    </tr>\n",
       "    <tr>\n",
       "      <th>12</th>\n",
       "      <td>iwoca</td>\n",
       "      <td>200</td>\n",
       "      <td>25000</td>\n",
       "    </tr>\n",
       "    <tr>\n",
       "      <th>13</th>\n",
       "      <td>Prodigy Finance</td>\n",
       "      <td>133</td>\n",
       "      <td>10273</td>\n",
       "    </tr>\n",
       "    <tr>\n",
       "      <th>14</th>\n",
       "      <td>Azimo</td>\n",
       "      <td>115</td>\n",
       "      <td>5870</td>\n",
       "    </tr>\n",
       "    <tr>\n",
       "      <th>15</th>\n",
       "      <td>SuperAwesome</td>\n",
       "      <td>130</td>\n",
       "      <td>14935</td>\n",
       "    </tr>\n",
       "    <tr>\n",
       "      <th>16</th>\n",
       "      <td>Funding Circle</td>\n",
       "      <td>790</td>\n",
       "      <td>94500</td>\n",
       "    </tr>\n",
       "    <tr>\n",
       "      <th>17</th>\n",
       "      <td>LoopMe</td>\n",
       "      <td>91</td>\n",
       "      <td>24493</td>\n",
       "    </tr>\n",
       "    <tr>\n",
       "      <th>18</th>\n",
       "      <td>Hutch</td>\n",
       "      <td>51</td>\n",
       "      <td>8766 (2017)</td>\n",
       "    </tr>\n",
       "    <tr>\n",
       "      <th>19</th>\n",
       "      <td>MiQ</td>\n",
       "      <td>561</td>\n",
       "      <td>155876</td>\n",
       "    </tr>\n",
       "    <tr>\n",
       "      <th>20</th>\n",
       "      <td>disguise</td>\n",
       "      <td>59</td>\n",
       "      <td>17971</td>\n",
       "    </tr>\n",
       "    <tr>\n",
       "      <th>21</th>\n",
       "      <td>Victor</td>\n",
       "      <td>113</td>\n",
       "      <td>41508</td>\n",
       "    </tr>\n",
       "    <tr>\n",
       "      <th>22</th>\n",
       "      <td>Cinesite</td>\n",
       "      <td>699</td>\n",
       "      <td>43888</td>\n",
       "    </tr>\n",
       "    <tr>\n",
       "      <th>23</th>\n",
       "      <td>LendInvest</td>\n",
       "      <td>128</td>\n",
       "      <td>35617</td>\n",
       "    </tr>\n",
       "    <tr>\n",
       "      <th>24</th>\n",
       "      <td>Amplience</td>\n",
       "      <td>85</td>\n",
       "      <td>8147</td>\n",
       "    </tr>\n",
       "    <tr>\n",
       "      <th>25</th>\n",
       "      <td>Ebury</td>\n",
       "      <td>628</td>\n",
       "      <td>47000</td>\n",
       "    </tr>\n",
       "    <tr>\n",
       "      <th>26</th>\n",
       "      <td>ZappiStore</td>\n",
       "      <td>128</td>\n",
       "      <td>19323</td>\n",
       "    </tr>\n",
       "    <tr>\n",
       "      <th>27</th>\n",
       "      <td>Blis</td>\n",
       "      <td>186</td>\n",
       "      <td>33400</td>\n",
       "    </tr>\n",
       "    <tr>\n",
       "      <th>28</th>\n",
       "      <td>BookingBug</td>\n",
       "      <td>117</td>\n",
       "      <td>6937</td>\n",
       "    </tr>\n",
       "    <tr>\n",
       "      <th>29</th>\n",
       "      <td>Egress</td>\n",
       "      <td>115</td>\n",
       "      <td>9403</td>\n",
       "    </tr>\n",
       "    <tr>\n",
       "      <th>30</th>\n",
       "      <td>WorldRemit</td>\n",
       "      <td>440</td>\n",
       "      <td>61000</td>\n",
       "    </tr>\n",
       "    <tr>\n",
       "      <th>31</th>\n",
       "      <td>Dianomi</td>\n",
       "      <td>25</td>\n",
       "      <td>12861</td>\n",
       "    </tr>\n",
       "    <tr>\n",
       "      <th>32</th>\n",
       "      <td>Leisure Pass Group</td>\n",
       "      <td>105</td>\n",
       "      <td>225803</td>\n",
       "    </tr>\n",
       "    <tr>\n",
       "      <th>33</th>\n",
       "      <td>Kimble Applications</td>\n",
       "      <td>78</td>\n",
       "      <td>9153</td>\n",
       "    </tr>\n",
       "    <tr>\n",
       "      <th>34</th>\n",
       "      <td>Secret Escapes</td>\n",
       "      <td>850</td>\n",
       "      <td>73000</td>\n",
       "    </tr>\n",
       "    <tr>\n",
       "      <th>35</th>\n",
       "      <td>Thread</td>\n",
       "      <td>60</td>\n",
       "      <td>6492</td>\n",
       "    </tr>\n",
       "  </tbody>\n",
       "</table>\n",
       "</div>"
      ],
      "text/plain": [
       "                company  staff sales_amount\n",
       "0               Perkbox    200        34700\n",
       "1                 Verve    130        10747\n",
       "2               goHenry     61         6116\n",
       "3                Bizuma     48         9608\n",
       "4                 Depop     95        94300\n",
       "5        Bought By Many     78        19727\n",
       "6                 Optal     65       177653\n",
       "7               Infinox     48        41700\n",
       "8                Carwow    127        15276\n",
       "9          Receipt Bank    341        11667\n",
       "10            Festicket     88        35839\n",
       "11           GoCardless    165        11896\n",
       "12                iwoca    200        25000\n",
       "13      Prodigy Finance    133        10273\n",
       "14                Azimo    115         5870\n",
       "15         SuperAwesome    130        14935\n",
       "16       Funding Circle    790        94500\n",
       "17               LoopMe     91        24493\n",
       "18                Hutch     51  8766 (2017)\n",
       "19                  MiQ    561       155876\n",
       "20             disguise     59        17971\n",
       "21               Victor    113        41508\n",
       "22             Cinesite    699        43888\n",
       "23           LendInvest    128        35617\n",
       "24            Amplience     85         8147\n",
       "25                Ebury    628        47000\n",
       "26           ZappiStore    128        19323\n",
       "27                 Blis    186        33400\n",
       "28           BookingBug    117         6937\n",
       "29               Egress    115         9403\n",
       "30           WorldRemit    440        61000\n",
       "31              Dianomi     25        12861\n",
       "32   Leisure Pass Group    105       225803\n",
       "33  Kimble Applications     78         9153\n",
       "34       Secret Escapes    850        73000\n",
       "35               Thread     60         6492"
      ]
     },
     "execution_count": 22,
     "metadata": {},
     "output_type": "execute_result"
    }
   ],
   "source": [
    "location_df"
   ]
  },
  {
   "cell_type": "code",
   "execution_count": 23,
   "metadata": {
    "collapsed": false
   },
   "outputs": [
    {
     "data": {
      "text/plain": [
       "pandas.core.frame.DataFrame"
      ]
     },
     "execution_count": 23,
     "metadata": {},
     "output_type": "execute_result"
    }
   ],
   "source": [
    "type(location_df)"
   ]
  },
  {
   "cell_type": "code",
   "execution_count": 24,
   "metadata": {
    "collapsed": false
   },
   "outputs": [
    {
     "data": {
      "text/plain": [
       "0                 Perkbox\n",
       "1                   Verve\n",
       "2                 goHenry\n",
       "3                  Bizuma\n",
       "4                   Depop\n",
       "5          Bought By Many\n",
       "6                   Optal\n",
       "7                 Infinox\n",
       "8                  Carwow\n",
       "9            Receipt Bank\n",
       "10              Festicket\n",
       "11             GoCardless\n",
       "12                  iwoca\n",
       "13        Prodigy Finance\n",
       "14                  Azimo\n",
       "15           SuperAwesome\n",
       "16         Funding Circle\n",
       "17                 LoopMe\n",
       "18                  Hutch\n",
       "19                    MiQ\n",
       "20               disguise\n",
       "21                 Victor\n",
       "22               Cinesite\n",
       "23             LendInvest\n",
       "24              Amplience\n",
       "25                  Ebury\n",
       "26             ZappiStore\n",
       "27                   Blis\n",
       "28             BookingBug\n",
       "29                 Egress\n",
       "30             WorldRemit\n",
       "31                Dianomi\n",
       "32     Leisure Pass Group\n",
       "33    Kimble Applications\n",
       "34         Secret Escapes\n",
       "35                 Thread\n",
       "Name: company, dtype: object"
      ]
     },
     "execution_count": 24,
     "metadata": {},
     "output_type": "execute_result"
    }
   ],
   "source": [
    "# company serie\n",
    "location_df.company"
   ]
  },
  {
   "cell_type": "code",
   "execution_count": 25,
   "metadata": {
    "collapsed": false
   },
   "outputs": [
    {
     "data": {
      "text/plain": [
       "0     200\n",
       "1     130\n",
       "2      61\n",
       "3      48\n",
       "4      95\n",
       "5      78\n",
       "6      65\n",
       "7      48\n",
       "8     127\n",
       "9     341\n",
       "10     88\n",
       "11    165\n",
       "12    200\n",
       "13    133\n",
       "14    115\n",
       "15    130\n",
       "16    790\n",
       "17     91\n",
       "18     51\n",
       "19    561\n",
       "20     59\n",
       "21    113\n",
       "22    699\n",
       "23    128\n",
       "24     85\n",
       "25    628\n",
       "26    128\n",
       "27    186\n",
       "28    117\n",
       "29    115\n",
       "30    440\n",
       "31     25\n",
       "32    105\n",
       "33     78\n",
       "34    850\n",
       "35     60\n",
       "Name: staff, dtype: int64"
      ]
     },
     "execution_count": 25,
     "metadata": {},
     "output_type": "execute_result"
    }
   ],
   "source": [
    "# staff serie\n",
    "location_df.staff"
   ]
  },
  {
   "cell_type": "code",
   "execution_count": 26,
   "metadata": {
    "collapsed": false
   },
   "outputs": [
    {
     "data": {
      "text/plain": [
       "0           34700\n",
       "1           10747\n",
       "2            6116\n",
       "3            9608\n",
       "4           94300\n",
       "5           19727\n",
       "6          177653\n",
       "7           41700\n",
       "8           15276\n",
       "9           11667\n",
       "10          35839\n",
       "11          11896\n",
       "12          25000\n",
       "13          10273\n",
       "14           5870\n",
       "15          14935\n",
       "16          94500\n",
       "17          24493\n",
       "18    8766 (2017)\n",
       "19         155876\n",
       "20          17971\n",
       "21          41508\n",
       "22          43888\n",
       "23          35617\n",
       "24           8147\n",
       "25          47000\n",
       "26          19323\n",
       "27          33400\n",
       "28           6937\n",
       "29           9403\n",
       "30          61000\n",
       "31          12861\n",
       "32         225803\n",
       "33           9153\n",
       "34          73000\n",
       "35           6492\n",
       "Name: sales_amount, dtype: object"
      ]
     },
     "execution_count": 26,
     "metadata": {},
     "output_type": "execute_result"
    }
   ],
   "source": [
    "# sales_amount serie\n",
    "location_df.sales_amount"
   ]
  },
  {
   "cell_type": "markdown",
   "metadata": {},
   "source": [
    "## Data Visualization"
   ]
  },
  {
   "cell_type": "code",
   "execution_count": 27,
   "metadata": {
    "collapsed": true
   },
   "outputs": [],
   "source": [
    "import numpy as np\n",
    "import matplotlib.pyplot as plt"
   ]
  },
  {
   "cell_type": "code",
   "execution_count": 28,
   "metadata": {
    "collapsed": false
   },
   "outputs": [],
   "source": [
    "# lets plot 10 records from the dataframe.\n",
    "tech_metrics_df = pd.read_sql_query(\"\"\"\n",
    "                           SELECT company, staff, sales_amount\n",
    "                           FROM tecktrack\n",
    "                           WHERE location = 'Central London'\n",
    "                           LIMIT 10\n",
    "                           \"\"\", \n",
    "                           conn)"
   ]
  },
  {
   "cell_type": "code",
   "execution_count": 29,
   "metadata": {
    "collapsed": false
   },
   "outputs": [
    {
     "data": {
      "text/html": [
       "<div>\n",
       "<style scoped>\n",
       "    .dataframe tbody tr th:only-of-type {\n",
       "        vertical-align: middle;\n",
       "    }\n",
       "\n",
       "    .dataframe tbody tr th {\n",
       "        vertical-align: top;\n",
       "    }\n",
       "\n",
       "    .dataframe thead th {\n",
       "        text-align: right;\n",
       "    }\n",
       "</style>\n",
       "<table border=\"1\" class=\"dataframe\">\n",
       "  <thead>\n",
       "    <tr style=\"text-align: right;\">\n",
       "      <th></th>\n",
       "      <th>company</th>\n",
       "      <th>staff</th>\n",
       "      <th>sales_amount</th>\n",
       "    </tr>\n",
       "  </thead>\n",
       "  <tbody>\n",
       "    <tr>\n",
       "      <th>0</th>\n",
       "      <td>Perkbox</td>\n",
       "      <td>200</td>\n",
       "      <td>34700</td>\n",
       "    </tr>\n",
       "    <tr>\n",
       "      <th>1</th>\n",
       "      <td>Verve</td>\n",
       "      <td>130</td>\n",
       "      <td>10747</td>\n",
       "    </tr>\n",
       "    <tr>\n",
       "      <th>2</th>\n",
       "      <td>goHenry</td>\n",
       "      <td>61</td>\n",
       "      <td>6116</td>\n",
       "    </tr>\n",
       "    <tr>\n",
       "      <th>3</th>\n",
       "      <td>Bizuma</td>\n",
       "      <td>48</td>\n",
       "      <td>9608</td>\n",
       "    </tr>\n",
       "    <tr>\n",
       "      <th>4</th>\n",
       "      <td>Depop</td>\n",
       "      <td>95</td>\n",
       "      <td>94300</td>\n",
       "    </tr>\n",
       "    <tr>\n",
       "      <th>5</th>\n",
       "      <td>Bought By Many</td>\n",
       "      <td>78</td>\n",
       "      <td>19727</td>\n",
       "    </tr>\n",
       "    <tr>\n",
       "      <th>6</th>\n",
       "      <td>Optal</td>\n",
       "      <td>65</td>\n",
       "      <td>177653</td>\n",
       "    </tr>\n",
       "    <tr>\n",
       "      <th>7</th>\n",
       "      <td>Infinox</td>\n",
       "      <td>48</td>\n",
       "      <td>41700</td>\n",
       "    </tr>\n",
       "    <tr>\n",
       "      <th>8</th>\n",
       "      <td>Carwow</td>\n",
       "      <td>127</td>\n",
       "      <td>15276</td>\n",
       "    </tr>\n",
       "    <tr>\n",
       "      <th>9</th>\n",
       "      <td>Receipt Bank</td>\n",
       "      <td>341</td>\n",
       "      <td>11667</td>\n",
       "    </tr>\n",
       "  </tbody>\n",
       "</table>\n",
       "</div>"
      ],
      "text/plain": [
       "          company  staff sales_amount\n",
       "0         Perkbox    200        34700\n",
       "1           Verve    130        10747\n",
       "2         goHenry     61         6116\n",
       "3          Bizuma     48         9608\n",
       "4           Depop     95        94300\n",
       "5  Bought By Many     78        19727\n",
       "6           Optal     65       177653\n",
       "7         Infinox     48        41700\n",
       "8          Carwow    127        15276\n",
       "9    Receipt Bank    341        11667"
      ]
     },
     "execution_count": 29,
     "metadata": {},
     "output_type": "execute_result"
    }
   ],
   "source": [
    "tech_metrics_df"
   ]
  },
  {
   "cell_type": "code",
   "execution_count": 30,
   "metadata": {
    "collapsed": false
   },
   "outputs": [
    {
     "data": {
      "text/plain": [
       "(10, 3)"
      ]
     },
     "execution_count": 30,
     "metadata": {},
     "output_type": "execute_result"
    }
   ],
   "source": [
    "tech_metrics_df.shape"
   ]
  },
  {
   "cell_type": "code",
   "execution_count": 31,
   "metadata": {
    "collapsed": false
   },
   "outputs": [
    {
     "name": "stdout",
     "output_type": "stream",
     "text": [
      "<class 'pandas.core.frame.DataFrame'>\n",
      "RangeIndex: 10 entries, 0 to 9\n",
      "Data columns (total 3 columns):\n",
      "company         10 non-null object\n",
      "staff           10 non-null int64\n",
      "sales_amount    10 non-null object\n",
      "dtypes: int64(1), object(2)\n",
      "memory usage: 320.0+ bytes\n"
     ]
    }
   ],
   "source": [
    "tech_metrics_df.info()"
   ]
  },
  {
   "cell_type": "markdown",
   "metadata": {},
   "source": [
    "NOTE: The sales_amount column is of type object, should be converted to float to be able to plot the data into a graph. See below."
   ]
  },
  {
   "cell_type": "code",
   "execution_count": 32,
   "metadata": {
    "collapsed": true
   },
   "outputs": [],
   "source": [
    "# conversion of the column sales_amount from object to float.\n",
    "tech_metrics_df[\"sales_amount\"] = tech_metrics_df.sales_amount.astype(float)"
   ]
  },
  {
   "cell_type": "code",
   "execution_count": 33,
   "metadata": {
    "collapsed": false
   },
   "outputs": [
    {
     "name": "stdout",
     "output_type": "stream",
     "text": [
      "<class 'pandas.core.frame.DataFrame'>\n",
      "RangeIndex: 10 entries, 0 to 9\n",
      "Data columns (total 3 columns):\n",
      "company         10 non-null object\n",
      "staff           10 non-null int64\n",
      "sales_amount    10 non-null float64\n",
      "dtypes: float64(1), int64(1), object(1)\n",
      "memory usage: 320.0+ bytes\n"
     ]
    }
   ],
   "source": [
    "# sales_amount column has now a float datatype\n",
    "tech_metrics_df.info()"
   ]
  },
  {
   "cell_type": "code",
   "execution_count": 34,
   "metadata": {
    "collapsed": false
   },
   "outputs": [
    {
     "data": {
      "text/html": [
       "<div>\n",
       "<style scoped>\n",
       "    .dataframe tbody tr th:only-of-type {\n",
       "        vertical-align: middle;\n",
       "    }\n",
       "\n",
       "    .dataframe tbody tr th {\n",
       "        vertical-align: top;\n",
       "    }\n",
       "\n",
       "    .dataframe thead th {\n",
       "        text-align: right;\n",
       "    }\n",
       "</style>\n",
       "<table border=\"1\" class=\"dataframe\">\n",
       "  <thead>\n",
       "    <tr style=\"text-align: right;\">\n",
       "      <th></th>\n",
       "      <th>company</th>\n",
       "      <th>staff</th>\n",
       "      <th>sales_amount</th>\n",
       "    </tr>\n",
       "  </thead>\n",
       "  <tbody>\n",
       "    <tr>\n",
       "      <th>0</th>\n",
       "      <td>Perkbox</td>\n",
       "      <td>200</td>\n",
       "      <td>34700.0</td>\n",
       "    </tr>\n",
       "    <tr>\n",
       "      <th>1</th>\n",
       "      <td>Verve</td>\n",
       "      <td>130</td>\n",
       "      <td>10747.0</td>\n",
       "    </tr>\n",
       "    <tr>\n",
       "      <th>2</th>\n",
       "      <td>goHenry</td>\n",
       "      <td>61</td>\n",
       "      <td>6116.0</td>\n",
       "    </tr>\n",
       "    <tr>\n",
       "      <th>3</th>\n",
       "      <td>Bizuma</td>\n",
       "      <td>48</td>\n",
       "      <td>9608.0</td>\n",
       "    </tr>\n",
       "    <tr>\n",
       "      <th>4</th>\n",
       "      <td>Depop</td>\n",
       "      <td>95</td>\n",
       "      <td>94300.0</td>\n",
       "    </tr>\n",
       "    <tr>\n",
       "      <th>5</th>\n",
       "      <td>Bought By Many</td>\n",
       "      <td>78</td>\n",
       "      <td>19727.0</td>\n",
       "    </tr>\n",
       "    <tr>\n",
       "      <th>6</th>\n",
       "      <td>Optal</td>\n",
       "      <td>65</td>\n",
       "      <td>177653.0</td>\n",
       "    </tr>\n",
       "    <tr>\n",
       "      <th>7</th>\n",
       "      <td>Infinox</td>\n",
       "      <td>48</td>\n",
       "      <td>41700.0</td>\n",
       "    </tr>\n",
       "    <tr>\n",
       "      <th>8</th>\n",
       "      <td>Carwow</td>\n",
       "      <td>127</td>\n",
       "      <td>15276.0</td>\n",
       "    </tr>\n",
       "    <tr>\n",
       "      <th>9</th>\n",
       "      <td>Receipt Bank</td>\n",
       "      <td>341</td>\n",
       "      <td>11667.0</td>\n",
       "    </tr>\n",
       "  </tbody>\n",
       "</table>\n",
       "</div>"
      ],
      "text/plain": [
       "          company  staff  sales_amount\n",
       "0         Perkbox    200       34700.0\n",
       "1           Verve    130       10747.0\n",
       "2         goHenry     61        6116.0\n",
       "3          Bizuma     48        9608.0\n",
       "4           Depop     95       94300.0\n",
       "5  Bought By Many     78       19727.0\n",
       "6           Optal     65      177653.0\n",
       "7         Infinox     48       41700.0\n",
       "8          Carwow    127       15276.0\n",
       "9    Receipt Bank    341       11667.0"
      ]
     },
     "execution_count": 34,
     "metadata": {},
     "output_type": "execute_result"
    }
   ],
   "source": [
    "tech_metrics_df"
   ]
  },
  {
   "cell_type": "markdown",
   "metadata": {},
   "source": [
    "Now we can plot the data into a graph. "
   ]
  },
  {
   "cell_type": "code",
   "execution_count": 35,
   "metadata": {
    "collapsed": false
   },
   "outputs": [
    {
     "data": {
      "image/png": "[encoded data removed]",
      "text/plain": [
       "<Figure size 432x288 with 1 Axes>"
      ]
     },
     "metadata": {},
     "output_type": "display_data"
    }
   ],
   "source": [
    "tech_metrics_df.boxplot(column='sales_amount', by='staff')\n",
    "plt.show()"
   ]
  },
  {
   "cell_type": "code",
   "execution_count": 36,
   "metadata": {
    "collapsed": false
   },
   "outputs": [
    {
     "data": {
      "image/png": "[encoded data removed]",
      "text/plain": [
       "<Figure size 432x288 with 1 Axes>"
      ]
     },
     "metadata": {},
     "output_type": "display_data"
    }
   ],
   "source": [
    "tech_metrics_df.plot(kind='scatter', x='staff', y='sales_amount', title='Revenue (millions) per Staff')\n",
    "plt.show()"
   ]
  },
  {
   "cell_type": "code",
   "execution_count": 37,
   "metadata": {
    "collapsed": false
   },
   "outputs": [
    {
     "data": {
      "image/png": "[encoded data removed]",
      "text/plain": [
       "<Figure size 360x360 with 1 Axes>"
      ]
     },
     "metadata": {},
     "output_type": "display_data"
    }
   ],
   "source": [
    "tech_metrics_df.plot = tech_metrics_df.plot.pie(y='sales_amount', figsize=(5, 5))\n",
    "plt.show()"
   ]
  },
  {
   "cell_type": "code",
   "execution_count": 38,
   "metadata": {
    "collapsed": false
   },
   "outputs": [
    {
     "data": {
      "text/html": [
       "<div>\n",
       "<style scoped>\n",
       "    .dataframe tbody tr th:only-of-type {\n",
       "        vertical-align: middle;\n",
       "    }\n",
       "\n",
       "    .dataframe tbody tr th {\n",
       "        vertical-align: top;\n",
       "    }\n",
       "\n",
       "    .dataframe thead th {\n",
       "        text-align: right;\n",
       "    }\n",
       "</style>\n",
       "<table border=\"1\" class=\"dataframe\">\n",
       "  <thead>\n",
       "    <tr style=\"text-align: right;\">\n",
       "      <th></th>\n",
       "      <th>company</th>\n",
       "      <th>staff</th>\n",
       "      <th>sales_amount</th>\n",
       "    </tr>\n",
       "  </thead>\n",
       "  <tbody>\n",
       "    <tr>\n",
       "      <th>0</th>\n",
       "      <td>Perkbox</td>\n",
       "      <td>200</td>\n",
       "      <td>34700.0</td>\n",
       "    </tr>\n",
       "    <tr>\n",
       "      <th>1</th>\n",
       "      <td>Verve</td>\n",
       "      <td>130</td>\n",
       "      <td>10747.0</td>\n",
       "    </tr>\n",
       "    <tr>\n",
       "      <th>2</th>\n",
       "      <td>goHenry</td>\n",
       "      <td>61</td>\n",
       "      <td>6116.0</td>\n",
       "    </tr>\n",
       "    <tr>\n",
       "      <th>3</th>\n",
       "      <td>Bizuma</td>\n",
       "      <td>48</td>\n",
       "      <td>9608.0</td>\n",
       "    </tr>\n",
       "    <tr>\n",
       "      <th>4</th>\n",
       "      <td>Depop</td>\n",
       "      <td>95</td>\n",
       "      <td>94300.0</td>\n",
       "    </tr>\n",
       "    <tr>\n",
       "      <th>5</th>\n",
       "      <td>Bought By Many</td>\n",
       "      <td>78</td>\n",
       "      <td>19727.0</td>\n",
       "    </tr>\n",
       "    <tr>\n",
       "      <th>6</th>\n",
       "      <td>Optal</td>\n",
       "      <td>65</td>\n",
       "      <td>177653.0</td>\n",
       "    </tr>\n",
       "    <tr>\n",
       "      <th>7</th>\n",
       "      <td>Infinox</td>\n",
       "      <td>48</td>\n",
       "      <td>41700.0</td>\n",
       "    </tr>\n",
       "    <tr>\n",
       "      <th>8</th>\n",
       "      <td>Carwow</td>\n",
       "      <td>127</td>\n",
       "      <td>15276.0</td>\n",
       "    </tr>\n",
       "    <tr>\n",
       "      <th>9</th>\n",
       "      <td>Receipt Bank</td>\n",
       "      <td>341</td>\n",
       "      <td>11667.0</td>\n",
       "    </tr>\n",
       "  </tbody>\n",
       "</table>\n",
       "</div>"
      ],
      "text/plain": [
       "          company  staff  sales_amount\n",
       "0         Perkbox    200       34700.0\n",
       "1           Verve    130       10747.0\n",
       "2         goHenry     61        6116.0\n",
       "3          Bizuma     48        9608.0\n",
       "4           Depop     95       94300.0\n",
       "5  Bought By Many     78       19727.0\n",
       "6           Optal     65      177653.0\n",
       "7         Infinox     48       41700.0\n",
       "8          Carwow    127       15276.0\n",
       "9    Receipt Bank    341       11667.0"
      ]
     },
     "execution_count": 38,
     "metadata": {},
     "output_type": "execute_result"
    }
   ],
   "source": [
    "tech_metrics_df"
   ]
  },
  {
   "cell_type": "code",
   "execution_count": 39,
   "metadata": {
    "collapsed": true
   },
   "outputs": [],
   "source": [
    "# Closing the connection to the database file\n",
    "conn.close()"
   ]
  },
  {
   "cell_type": "code",
   "execution_count": null,
   "metadata": {
    "collapsed": true
   },
   "outputs": [],
   "source": []
  }
 ],
 "metadata": {
  "kernelspec": {
   "display_name": "Python 3",
   "language": "python",
   "name": "python3"
  },
  "language_info": {
   "codemirror_mode": {
    "name": "ipython",
    "version": 3
   },
   "file_extension": ".py",
   "mimetype": "text/x-python",
   "name": "python",
   "nbconvert_exporter": "python",
   "pygments_lexer": "ipython3",
   "version": "3.5.2"
  }
 },
 "nbformat": 4,
 "nbformat_minor": 2
}
