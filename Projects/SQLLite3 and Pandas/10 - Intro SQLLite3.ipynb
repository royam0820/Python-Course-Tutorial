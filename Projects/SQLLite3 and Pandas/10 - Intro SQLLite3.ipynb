{
 "cells": [
  {
   "cell_type": "markdown",
   "metadata": {},
   "source": [
    "# Python and SQLLite3\n",
    "SQLite allows us to quickly get up and running with databases, without spinning up larger databases like MySQL or Postgres. \n",
    "\n",
    "We will be doing the following:\n",
    "- connect to SQLLite\n",
    "- create a database, \n",
    "- create a table, \n",
    "- insert, select, update, and delete data from a table. \n",
    "\n",
    "SQLLite is great for prototyping, you can then migrate your database to other DB engines such as MySQL, Postgres ...\n",
    "\n",
    "*** NOTE: for this tutorial, I am assuming that you have basic knowledge on SQL ***"
   ]
  },
  {
   "cell_type": "markdown",
   "metadata": {},
   "source": [
    "# Connecting to a database"
   ]
  },
  {
   "cell_type": "code",
   "execution_count": null,
   "metadata": {
    "collapsed": false
   },
   "outputs": [],
   "source": [
    "# create a connection to a database \n",
    "import sqlite3\n",
    "\n",
    "# you can create an 'in-memory database' or a database file.\n",
    "# conn = sqlite3.connect(':memory:') # in memory database\n",
    "conn = sqlite3.connect('./../../data/employee.db')"
   ]
  },
  {
   "cell_type": "markdown",
   "metadata": {},
   "source": [
    "NOTE: If the database does not exist, then it will be created and finally, a database object will be returned"
   ]
  },
  {
   "cell_type": "code",
   "execution_count": null,
   "metadata": {
    "collapsed": true
   },
   "outputs": [],
   "source": [
    "# let's create a cursor to execute SQL commands\n",
    "c = conn.cursor()"
   ]
  },
  {
   "cell_type": "code",
   "execution_count": null,
   "metadata": {
    "collapsed": false
   },
   "outputs": [],
   "source": [
    "# if exists drop table employees\n",
    "c.execute('DROP TABLE employees')"
   ]
  },
  {
   "cell_type": "code",
   "execution_count": null,
   "metadata": {
    "collapsed": false
   },
   "outputs": [],
   "source": [
    "conn.commit()"
   ]
  },
  {
   "cell_type": "code",
   "execution_count": null,
   "metadata": {
    "collapsed": false
   },
   "outputs": [],
   "source": [
    "# let's create an employees table - fields: first(name), last(name), pay\n",
    "# data types: text, text, real\n",
    "c.execute(\"\"\"CREATE TABLE employees (\n",
    "            first text,\n",
    "            last text,\n",
    "            pay real\n",
    "            )\"\"\")\n"
   ]
  },
  {
   "cell_type": "markdown",
   "metadata": {},
   "source": [
    "See sqlite data types: https://www.sqlite.org/datatype3.html"
   ]
  },
  {
   "cell_type": "code",
   "execution_count": null,
   "metadata": {
    "collapsed": true
   },
   "outputs": [],
   "source": [
    "# committing your work into the database\n",
    "conn.commit() "
   ]
  },
  {
   "cell_type": "code",
   "execution_count": null,
   "metadata": {
    "collapsed": true
   },
   "outputs": [],
   "source": [
    "# close the connection to the database\n",
    "conn.close()"
   ]
  },
  {
   "cell_type": "code",
   "execution_count": null,
   "metadata": {
    "collapsed": false
   },
   "outputs": [],
   "source": [
    "# Re-open the database and set the cursor\n",
    "conn = sqlite3.connect('./../../data/employee.db')\n",
    "c = conn.cursor()"
   ]
  },
  {
   "cell_type": "code",
   "execution_count": null,
   "metadata": {
    "collapsed": false
   },
   "outputs": [],
   "source": [
    "# let's add an employee to the database\n",
    "c.execute(\"INSERT INTO employees VALUES('Anne','Roy', 150000)\")\n",
    "conn.commit()"
   ]
  },
  {
   "cell_type": "code",
   "execution_count": null,
   "metadata": {
    "collapsed": false
   },
   "outputs": [],
   "source": [
    "# let's now query the database\n",
    "c.execute(\"SELECT * FROM employees WHERE last = 'Roy'\")\n",
    "# get one row\n",
    "c.fetchone()"
   ]
  },
  {
   "cell_type": "markdown",
   "metadata": {},
   "source": [
    "As you can see, the results are formatted as a **list of tuples**. Each tuple corresponds to a row in the database that we accessed"
   ]
  },
  {
   "cell_type": "code",
   "execution_count": null,
   "metadata": {
    "collapsed": true
   },
   "outputs": [],
   "source": [
    "# let's add more users\n",
    "c.execute(\"INSERT INTO employees VALUES('Chaka','Motley', 200000)\")\n",
    "c.execute(\"INSERT INTO employees VALUES('Paul','Doe', 198000)\")\n",
    "c.execute(\"INSERT INTO employees VALUES('Sophie','Doe', 180000)\")\n",
    "conn.commit()"
   ]
  },
  {
   "cell_type": "code",
   "execution_count": null,
   "metadata": {
    "collapsed": false
   },
   "outputs": [],
   "source": [
    "c.execute(\"SELECT * FROM employees WHERE last = 'Doe'\")\n",
    "# you can also fetch many rows\n",
    "# Fetch all (remaining) rows of a query result\n",
    "results = c.fetchall()\n",
    "print(results)"
   ]
  },
  {
   "cell_type": "code",
   "execution_count": null,
   "metadata": {
    "collapsed": false
   },
   "outputs": [],
   "source": [
    "c.execute(\"SELECT * FROM employees\")\n",
    "# you can get many - i.e.: 3 rows\n",
    "c.fetchmany(3)"
   ]
  },
  {
   "cell_type": "markdown",
   "metadata": {},
   "source": [
    "## Selecting Rows using a For Loop"
   ]
  },
  {
   "cell_type": "code",
   "execution_count": null,
   "metadata": {
    "collapsed": false
   },
   "outputs": [],
   "source": [
    "for row in c.execute(\"SELECT * FROM employees\"):\n",
    "    print(\"FNAME = \", row[0])\n",
    "    print(\"LNAME = \", row[1]), \n",
    "    print(\"INCOME = \", row[2], '\\n')\n",
    "#conn.commit()"
   ]
  },
  {
   "cell_type": "markdown",
   "metadata": {},
   "source": [
    "## Inserting Additional Records\n",
    "Once  your values are inserted for your tables. You can use Python functions to access more easily to your infos, without repeting the sql code all the time."
   ]
  },
  {
   "cell_type": "code",
   "execution_count": null,
   "metadata": {
    "collapsed": false
   },
   "outputs": [],
   "source": [
    "# let's insert additional record via our class Employee\n",
    "emp_1 = ('John', 'Doe', 80000)\n",
    "emp_2 = ('Jane', 'Doe', 90000)"
   ]
  },
  {
   "cell_type": "markdown",
   "metadata": {},
   "source": [
    "NOTE: currently these 2 above employees are just Python objects (tuple).  They are not inserted in the database yet.*"
   ]
  },
  {
   "cell_type": "code",
   "execution_count": null,
   "metadata": {
    "collapsed": false
   },
   "outputs": [],
   "source": [
    "# slicing the tuple list\n",
    "print(emp_1[0:3])"
   ]
  },
  {
   "cell_type": "code",
   "execution_count": null,
   "metadata": {
    "collapsed": false
   },
   "outputs": [],
   "source": [
    "print(emp_1[0])"
   ]
  },
  {
   "cell_type": "code",
   "execution_count": null,
   "metadata": {
    "collapsed": false
   },
   "outputs": [],
   "source": [
    "c.execute(\"INSERT INTO employees VALUES (:first, :last, :pay)\", {'first': emp_1[0], 'last': emp_1[1], 'pay': emp_1[2]})\n",
    "c.execute(\"INSERT INTO employees VALUES (:first, :last, :pay)\", {'first': emp_2[0], 'last': emp_2[1], 'pay': emp_2[2]})"
   ]
  },
  {
   "cell_type": "code",
   "execution_count": null,
   "metadata": {
    "collapsed": true
   },
   "outputs": [],
   "source": [
    "# commit\n",
    "conn.commit()"
   ]
  },
  {
   "cell_type": "code",
   "execution_count": null,
   "metadata": {
    "collapsed": false,
    "scrolled": true
   },
   "outputs": [],
   "source": [
    "# getting the rows from the database \n",
    "result = c.execute(\"SELECT * FROM employees WHERE last=:last\", {'last': 'Doe'})\n",
    "print(c.fetchall())"
   ]
  },
  {
   "cell_type": "code",
   "execution_count": null,
   "metadata": {
    "collapsed": true
   },
   "outputs": [],
   "source": [
    "conn.close()"
   ]
  },
  {
   "cell_type": "markdown",
   "metadata": {},
   "source": [
    "## Connecting to an  in-memory database\n",
    "The database will live in the RAM.\n",
    "\n",
    "A SQLite in-memory database's primary advantage is performance: rather than reading and writing to disk, it will keep the whole database in memory. Memory is much faster than disk. You'll see the biggest performance improvement with a spinning disk or a heavily IO loaded server, and less with an SSD.\n",
    "\n",
    "IMPORTANT NOTE: RESTART A FRESH KERNEL INSTANCE"
   ]
  },
  {
   "cell_type": "markdown",
   "metadata": {},
   "source": [
    "Let's explore the 'in-memory' database\n",
    "The database will live in the RAM.\n",
    "<p>***NB: retstart a fresh kernel instance***</p>"
   ]
  },
  {
   "cell_type": "code",
   "execution_count": 1,
   "metadata": {
    "collapsed": false
   },
   "outputs": [],
   "source": [
    "import sqlite3\n",
    "conn = sqlite3.connect(':memory:') \n",
    "c = conn.cursor()"
   ]
  },
  {
   "cell_type": "markdown",
   "metadata": {},
   "source": [
    "When this is done, no disk file is opened. Instead, a new database is created purely in memory. The database ceases to exist as soon as the database connection is closed. Every :memory: database is distinct from every other. So, opening two database connections each with the filename \":memory:\" will create two independent in-memory databases."
   ]
  },
  {
   "cell_type": "code",
   "execution_count": 2,
   "metadata": {
    "collapsed": false
   },
   "outputs": [
    {
     "data": {
      "text/plain": [
       "<sqlite3.Cursor at 0x1061c3960>"
      ]
     },
     "execution_count": 2,
     "metadata": {},
     "output_type": "execute_result"
    }
   ],
   "source": [
    "# Create the employee table in memory\n",
    "c.execute(\"\"\"CREATE TABLE employees (\n",
    "            first text,\n",
    "            last text,\n",
    "            pay real\n",
    "            )\"\"\")"
   ]
  },
  {
   "cell_type": "code",
   "execution_count": 3,
   "metadata": {
    "collapsed": false
   },
   "outputs": [],
   "source": [
    "# let's insert additional record via our class Employee\n",
    "emp_1 = ('Alice', 'Doe', 80000)\n",
    "emp_2 = ('Hector', 'Doe', 90000)"
   ]
  },
  {
   "cell_type": "code",
   "execution_count": 4,
   "metadata": {
    "collapsed": false
   },
   "outputs": [
    {
     "data": {
      "text/plain": [
       "<sqlite3.Cursor at 0x1061c3960>"
      ]
     },
     "execution_count": 4,
     "metadata": {},
     "output_type": "execute_result"
    }
   ],
   "source": [
    "# insert the values above into the database\n",
    "c.execute(\"INSERT INTO employees VALUES (:first, :last, :pay)\", {'first': emp_1[0], 'last': emp_1[1], 'pay': emp_1[2]})\n",
    "c.execute(\"INSERT INTO employees VALUES (:first, :last, :pay)\", {'first': emp_2[0], 'last': emp_2[1], 'pay': emp_2[2]})"
   ]
  },
  {
   "cell_type": "code",
   "execution_count": 5,
   "metadata": {
    "collapsed": true
   },
   "outputs": [],
   "source": [
    "# commit\n",
    "conn.commit()"
   ]
  },
  {
   "cell_type": "code",
   "execution_count": 6,
   "metadata": {
    "collapsed": false,
    "scrolled": false
   },
   "outputs": [
    {
     "name": "stdout",
     "output_type": "stream",
     "text": [
      "[('Alice', 'Doe', 80000.0), ('Hector', 'Doe', 90000.0)]\n"
     ]
    }
   ],
   "source": [
    "# getting the rows from the database \n",
    "result = c.execute(\"SELECT * FROM employees WHERE last=:last\", {'last': 'Doe'})\n",
    "print(c.fetchall())"
   ]
  },
  {
   "cell_type": "markdown",
   "metadata": {},
   "source": [
    "## Using Python functions to access records"
   ]
  },
  {
   "cell_type": "code",
   "execution_count": 7,
   "metadata": {
    "collapsed": true
   },
   "outputs": [],
   "source": [
    "def get_emps_by_name(lastname):\n",
    "        c.execute(\"SELECT * FROM employees WHERE last=:last\", {'last': lastname})\n",
    "        return c.fetchall()\n"
   ]
  },
  {
   "cell_type": "code",
   "execution_count": 8,
   "metadata": {
    "collapsed": false
   },
   "outputs": [
    {
     "data": {
      "text/plain": [
       "[('Alice', 'Doe', 80000.0), ('Hector', 'Doe', 90000.0)]"
      ]
     },
     "execution_count": 8,
     "metadata": {},
     "output_type": "execute_result"
    }
   ],
   "source": [
    "get_emps_by_name('Doe')"
   ]
  },
  {
   "cell_type": "code",
   "execution_count": 9,
   "metadata": {
    "collapsed": false
   },
   "outputs": [],
   "source": [
    "# update function\n",
    "def update_pay(fname, lname, pay):\n",
    "        with conn:\n",
    "            c.execute(\"\"\"UPDATE employees SET pay = :pay\n",
    "                    WHERE first = :first AND last = :last\"\"\",\n",
    "                  {'first': fname, 'last': lname, 'pay': pay})"
   ]
  },
  {
   "cell_type": "code",
   "execution_count": 10,
   "metadata": {
    "collapsed": false
   },
   "outputs": [],
   "source": [
    "# update function execution\n",
    "update_pay('Alice', 'Doe', 100000.98)"
   ]
  },
  {
   "cell_type": "code",
   "execution_count": 11,
   "metadata": {
    "collapsed": false
   },
   "outputs": [
    {
     "data": {
      "text/plain": [
       "[('Alice', 'Doe', 100000.98), ('Hector', 'Doe', 90000.0)]"
      ]
     },
     "execution_count": 11,
     "metadata": {},
     "output_type": "execute_result"
    }
   ],
   "source": [
    "# see the result\n",
    "get_emps_by_name('Doe')"
   ]
  },
  {
   "cell_type": "code",
   "execution_count": 12,
   "metadata": {
    "collapsed": true
   },
   "outputs": [],
   "source": [
    "# remove function\n",
    "def remove_emp(fname, lname):\n",
    "        with conn:\n",
    "            c.execute(\"DELETE from employees WHERE first = :first AND last = :last\",\n",
    "                  {'first': fname, 'last': lname})"
   ]
  },
  {
   "cell_type": "code",
   "execution_count": 13,
   "metadata": {
    "collapsed": false
   },
   "outputs": [],
   "source": [
    "# remove function execution\n",
    "remove_emp('Alice', 'Doe')"
   ]
  },
  {
   "cell_type": "code",
   "execution_count": 14,
   "metadata": {
    "collapsed": false
   },
   "outputs": [
    {
     "data": {
      "text/plain": [
       "[('Hector', 'Doe', 90000.0)]"
      ]
     },
     "execution_count": 14,
     "metadata": {},
     "output_type": "execute_result"
    }
   ],
   "source": [
    "# see the result\n",
    "get_emps_by_name('Doe')"
   ]
  },
  {
   "cell_type": "markdown",
   "metadata": {
    "collapsed": true
   },
   "source": [
    "# Additional Resource\n",
    "\n",
    "[SQLLite3 Documentation](https://docs.python.org/3/library/sqlite3.html)\n",
    "\n",
    "[SQLLite3 Cheatsheet](https://digital-forensics.sans.org/media/SQlite-PocketReference-final.pdf)\n",
    "\n",
    "[SQLLite3 FAQ](https://www.sqlite.org/faq.html)\n",
    "\n",
    "[SQLLIte3 on line](https://sqliteonline.com/)\n",
    "\n",
    "[dbBrowser](https://sqlitebrowser.org/)"
   ]
  },
  {
   "cell_type": "code",
   "execution_count": null,
   "metadata": {
    "collapsed": true
   },
   "outputs": [],
   "source": []
  }
 ],
 "metadata": {
  "kernelspec": {
   "display_name": "Python 3",
   "language": "python",
   "name": "python3"
  },
  "language_info": {
   "codemirror_mode": {
    "name": "ipython",
    "version": 3
   },
   "file_extension": ".py",
   "mimetype": "text/x-python",
   "name": "python",
   "nbconvert_exporter": "python",
   "pygments_lexer": "ipython3",
   "version": "3.5.2"
  }
 },
 "nbformat": 4,
 "nbformat_minor": 2
}
