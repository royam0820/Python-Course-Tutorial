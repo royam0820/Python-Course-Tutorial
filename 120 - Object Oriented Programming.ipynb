{
 "cells": [
  {
   "cell_type": "markdown",
   "metadata": {},
   "source": [
    "# Object Oriented Programming\n",
    "\n",
    "Object-Oriented programming  is an approach to programming that groups functions and variables together to create **classes**.\n",
    "\n",
    "- Python is an object oriented programming language.\n",
    "\n",
    "- Almost everything in Python is an object, with its properties and methods.\n",
    "- A Class is like an object constructor, or a \"blueprint\" for creating objects.\n",
    "\n",
    "Classes are ways to classifying things.\n",
    "\n",
    "Each class can be used to create objects that have the same variables\n",
    "and functions as the class.  You can create many objects from the \n",
    "same class, thus making the class ‘s variables and functions reusable.\u0000"
   ]
  },
  {
   "cell_type": "markdown",
   "metadata": {},
   "source": [
    "## Classes and Objects\n",
    "<img src=\"./img/oop.png\", width=600, height=600>"
   ]
  },
  {
   "cell_type": "markdown",
   "metadata": {},
   "source": [
    "## Creating a class\n",
    "syntax:\n",
    "\n",
    "        class ClassName:\n",
    "            def __init__(self):\n",
    "                #Body of init\n",
    "\n",
    "**NB1:**  it is a good practice to capitalize the name of the class to distinguish it from the function.*\n",
    "\n",
    "**NB2**: when you create a new class, you need to include the __init__() method and pass in self as an argument. The self argument is required by every method in a class.  It references the class the method belongs to.\n",
    "\n",
    "**NB3**: the __init__() method tells Python what you want the class to do when you use it for the first time in a program.  It is called **initializing the class**.\u0000\n",
    "\n",
    "**NB4**: with Python 2.x the syntax is as follows:\n",
    "\n",
    "        class ClassName(object):\n",
    "            def __init__(self):\n",
    "                #Body of init"
   ]
  },
  {
   "cell_type": "code",
   "execution_count": 92,
   "metadata": {
    "collapsed": true
   },
   "outputs": [],
   "source": [
    "# creating a class\n",
    "class Cat:\n",
    "    def __init__(self, name, weight):\n",
    "        self.name = name\n",
    "        self.weight = weight\n",
    "        "
   ]
  },
  {
   "cell_type": "markdown",
   "metadata": {},
   "source": [
    "All classes have a function called __init__(), which is always executed when the class is being initiated.\n",
    "\n",
    "The **self** parameter is a reference to the class itself, and is used to access variables that belongs to the class.\n",
    "\n",
    "It does not have to be named self , you can call it whatever you like, but it has to be the first parameter of any function in the class.\n",
    "\n",
    "This function is used to assign values to object properties, or other operations that are necessary to do when the object is being created.\n",
    "\n",
    "This class: Cat has two properties (also called attributes): name and weight.\n"
   ]
  },
  {
   "cell_type": "code",
   "execution_count": 93,
   "metadata": {
    "collapsed": false
   },
   "outputs": [],
   "source": [
    "# creating the cat object by creating one instance.\n",
    "fluff = Cat('Fluff', 4.5)"
   ]
  },
  {
   "cell_type": "code",
   "execution_count": 94,
   "metadata": {
    "collapsed": false
   },
   "outputs": [
    {
     "data": {
      "text/plain": [
       "'Fluff'"
      ]
     },
     "execution_count": 94,
     "metadata": {},
     "output_type": "execute_result"
    }
   ],
   "source": [
    "# let's look at our cat's properties\n",
    "fluff.name"
   ]
  },
  {
   "cell_type": "code",
   "execution_count": 95,
   "metadata": {
    "collapsed": false
   },
   "outputs": [
    {
     "data": {
      "text/plain": [
       "4.5"
      ]
     },
     "execution_count": 95,
     "metadata": {},
     "output_type": "execute_result"
    }
   ],
   "source": [
    "fluff.weight"
   ]
  },
  {
   "cell_type": "code",
   "execution_count": 96,
   "metadata": {
    "collapsed": false
   },
   "outputs": [
    {
     "name": "stdout",
     "output_type": "stream",
     "text": [
      "Fluff 4.5\n"
     ]
    }
   ],
   "source": [
    "print(fluff.name, fluff.weight)"
   ]
  },
  {
   "cell_type": "markdown",
   "metadata": {},
   "source": [
    "## Understanding Methods\n",
    "\n",
    "Classes can contain methods which are functions associated with a class.\n",
    "Writing class methods lets you create functions that all instances of that class can use.  This is a great way to save time and reuse code, because you only have to write one method.\n",
    "\n",
    "To create a method, you will have to use the **def** keyword, just like for a function, but they they are indented under the class they belong to.\n",
    "\n",
    "Let’s add a method called eat() to the Cat class:\u0000\n"
   ]
  },
  {
   "cell_type": "code",
   "execution_count": 97,
   "metadata": {
    "collapsed": true
   },
   "outputs": [],
   "source": [
    "class Cat:\n",
    "    def __init__(self, name, weight):\n",
    "        self.name = name\n",
    "        self.weight = weight\n",
    "    \n",
    "    def eat(self, food):\n",
    "        self.weight = self.weight + 0.05\n",
    "        print(self.name + ' is eating ' + food)"
   ]
  },
  {
   "cell_type": "code",
   "execution_count": 98,
   "metadata": {
    "collapsed": true
   },
   "outputs": [],
   "source": [
    "# instancing the object\n",
    "fluff = Cat('Fluff', 4.5)"
   ]
  },
  {
   "cell_type": "code",
   "execution_count": 99,
   "metadata": {
    "collapsed": false
   },
   "outputs": [
    {
     "name": "stdout",
     "output_type": "stream",
     "text": [
      "Fluff is eating tuna\n"
     ]
    }
   ],
   "source": [
    "#use shift+tab to see the methods for this object\n",
    "fluff.eat('tuna')"
   ]
  },
  {
   "cell_type": "markdown",
   "metadata": {},
   "source": [
    "Let's now add another method eatAndSleep\n",
    "in this method we can call the method above (eat)"
   ]
  },
  {
   "cell_type": "code",
   "execution_count": 100,
   "metadata": {
    "collapsed": true
   },
   "outputs": [],
   "source": [
    "class Cat:\n",
    "    def __init__(self, name, weight):\n",
    "        self.name = name\n",
    "        self.weight = weight\n",
    "    \n",
    "    def eat(self, food):\n",
    "        self.weight = self.weight + 0.05\n",
    "        print(self.name + ' is eating ' + food)\n",
    "        \n",
    "    def eatAndSleep(self, food):\n",
    "        self.eat(food)\n",
    "        print(self.name + ' is now sleeping...')"
   ]
  },
  {
   "cell_type": "code",
   "execution_count": 101,
   "metadata": {
    "collapsed": true
   },
   "outputs": [],
   "source": [
    "# instancing the object\n",
    "fluff = Cat('Fluff', 4.5)"
   ]
  },
  {
   "cell_type": "code",
   "execution_count": 102,
   "metadata": {
    "collapsed": false
   },
   "outputs": [
    {
     "name": "stdout",
     "output_type": "stream",
     "text": [
      "Fluff is eating tuna\n",
      "Fluff is now sleeping...\n"
     ]
    }
   ],
   "source": [
    "# use tab to see the methods for that object.\n",
    "fluff.eatAndSleep('tuna')"
   ]
  },
  {
   "cell_type": "markdown",
   "metadata": {},
   "source": [
    "## Returning values methods\n",
    "Like functions, methods can also return values using the return keyword.\n",
    "\n",
    "For example, let’s say that we want to convert the cat’s weight from kilograms to grams.  A kilogram = 1000 grams, so for the conversion we need to multiply the weight value by 1000 and return it.\n",
    "See code belwo.\u0000"
   ]
  },
  {
   "cell_type": "code",
   "execution_count": 103,
   "metadata": {
    "collapsed": true
   },
   "outputs": [],
   "source": [
    "class Cat:\n",
    "    def __init__(self, name, weight):\n",
    "        self.name = name\n",
    "        self.weight = weight\n",
    "    \n",
    "    def eat(self, food):\n",
    "        self.weight = self.weight + 0.05\n",
    "        print(self.name + ' is eating ' + food)\n",
    "        \n",
    "    def eatAndSleep(self, food):\n",
    "        self.eat(food)\n",
    "        print(self.name + ' is now sleeping...')\n",
    "        \n",
    "    def getWeightGrams(self):\n",
    "        return self.weight * 1000"
   ]
  },
  {
   "cell_type": "code",
   "execution_count": 104,
   "metadata": {
    "collapsed": false
   },
   "outputs": [],
   "source": [
    "# instancing the object\n",
    "fluff = Cat('Fluff', 4.5)"
   ]
  },
  {
   "cell_type": "code",
   "execution_count": 105,
   "metadata": {
    "collapsed": false
   },
   "outputs": [
    {
     "name": "stdout",
     "output_type": "stream",
     "text": [
      "4500.0\n"
     ]
    }
   ],
   "source": [
    "print(fluff.getWeightGrams())"
   ]
  },
  {
   "cell_type": "code",
   "execution_count": 106,
   "metadata": {
    "collapsed": false
   },
   "outputs": [
    {
     "data": {
      "text/plain": [
       "4500.0"
      ]
     },
     "execution_count": 106,
     "metadata": {},
     "output_type": "execute_result"
    }
   ],
   "source": [
    "fluff.getWeightGrams()"
   ]
  },
  {
   "cell_type": "markdown",
   "metadata": {},
   "source": [
    "## Creating Multiple Objects\n",
    "You can make several objects from the same class by creating objects with different names using the same class constructor (the __init__() method)\n",
    "By calling this method, it will return the cat’s weight in grams.\n",
    "\u0000"
   ]
  },
  {
   "cell_type": "code",
   "execution_count": 107,
   "metadata": {
    "collapsed": true
   },
   "outputs": [],
   "source": [
    "# we can create another instance from the Cat class\n",
    "stella = Cat('Stella', 5.6)"
   ]
  },
  {
   "cell_type": "code",
   "execution_count": 108,
   "metadata": {
    "collapsed": false
   },
   "outputs": [
    {
     "data": {
      "text/plain": [
       "'Stella'"
      ]
     },
     "execution_count": 108,
     "metadata": {},
     "output_type": "execute_result"
    }
   ],
   "source": [
    "stella.name"
   ]
  },
  {
   "cell_type": "code",
   "execution_count": 109,
   "metadata": {
    "collapsed": false
   },
   "outputs": [
    {
     "name": "stdout",
     "output_type": "stream",
     "text": [
      "Fluff is eating tuna\n",
      "Stella is eating cake\n"
     ]
    }
   ],
   "source": [
    "fluff.eat('tuna')\n",
    "stella.eat('cake')"
   ]
  },
  {
   "cell_type": "code",
   "execution_count": 110,
   "metadata": {
    "collapsed": false
   },
   "outputs": [
    {
     "name": "stdout",
     "output_type": "stream",
     "text": [
      "For Fluff and Stella, their weight is respectively 4.55 and 5.65\n"
     ]
    }
   ],
   "source": [
    "# printing the attributes (properties) for fluff and stella\n",
    "print(\"For {} and {}, their weight is respectively {:.2f} and {:.2f}\".format(fluff.name, stella.name, fluff.weight, stella.weight))"
   ]
  },
  {
   "cell_type": "markdown",
   "metadata": {},
   "source": [
    "## Class Attributes\n",
    "Sometimes you might want to set attributes that have the same value for every object instance in a class.  It would be redundant to pass the same argument to the class every time an object is created.  Instead, you can create a **preset attribute** in the class, and all the instances of objects in that class will share those attributes.\u0000"
   ]
  },
  {
   "cell_type": "code",
   "execution_count": 111,
   "metadata": {
    "collapsed": true
   },
   "outputs": [],
   "source": [
    "class Cat:\n",
    "    owner = 'Anne-Marie Roy'\n",
    "    def __init__(self, name, weight):\n",
    "        self.name = name\n",
    "        self.weight = weight\n",
    "    \n",
    "    def eat(self, food):\n",
    "        self.weight = self.weight + 0.05\n",
    "        print(self.name + ' is eating ' + food)\n",
    "        \n",
    "    def eatAndSleep(self, food):\n",
    "        self.eat(food)\n",
    "        print(self.name + ' is now sleeping...')\n",
    "        \n",
    "    def getWeightGrams(self):\n",
    "        return self.weight * 1000"
   ]
  },
  {
   "cell_type": "markdown",
   "metadata": {},
   "source": [
    "NB: class attributes do not use the self before their name.  In this example, owner is a class attribute whereas self.name is an attribute. \n",
    "\u0000"
   ]
  },
  {
   "cell_type": "code",
   "execution_count": 112,
   "metadata": {
    "collapsed": true
   },
   "outputs": [],
   "source": [
    "fluff = Cat('Fluff', 4.5)\n",
    "stella = Cat('Stella', 5)"
   ]
  },
  {
   "cell_type": "code",
   "execution_count": 113,
   "metadata": {
    "collapsed": false
   },
   "outputs": [
    {
     "data": {
      "text/plain": [
       "'Anne-Marie Roy'"
      ]
     },
     "execution_count": 113,
     "metadata": {},
     "output_type": "execute_result"
    }
   ],
   "source": [
    "# use Tab to check the preset attribute\n",
    "fluff.owner\n",
    "stella.owner"
   ]
  },
  {
   "cell_type": "markdown",
   "metadata": {},
   "source": [
    "## Modifying an object properties\n"
   ]
  },
  {
   "cell_type": "code",
   "execution_count": 114,
   "metadata": {
    "collapsed": false
   },
   "outputs": [
    {
     "name": "stdout",
     "output_type": "stream",
     "text": [
      "Hello my name is John\n"
     ]
    }
   ],
   "source": [
    "class Person:\n",
    "  def __init__(self, name, age):\n",
    "    self.name = name\n",
    "    self.age = age\n",
    "\n",
    "  def myname(self):\n",
    "    print(\"Hello my name is \" + self.name)\n",
    "\n",
    "p1 = Person(\"John\", 36)\n",
    "\n",
    "p1.myname()"
   ]
  },
  {
   "cell_type": "code",
   "execution_count": 115,
   "metadata": {
    "collapsed": false
   },
   "outputs": [
    {
     "data": {
      "text/plain": [
       "36"
      ]
     },
     "execution_count": 115,
     "metadata": {},
     "output_type": "execute_result"
    }
   ],
   "source": [
    "p1.age"
   ]
  },
  {
   "cell_type": "code",
   "execution_count": 116,
   "metadata": {
    "collapsed": false
   },
   "outputs": [
    {
     "name": "stdout",
     "output_type": "stream",
     "text": [
      "John 40\n"
     ]
    }
   ],
   "source": [
    "# modifying the age.\n",
    "p1.age = 40\n",
    "print(p1.name, p1.age)"
   ]
  },
  {
   "cell_type": "markdown",
   "metadata": {},
   "source": [
    "## Deleting an object property"
   ]
  },
  {
   "cell_type": "code",
   "execution_count": 117,
   "metadata": {
    "collapsed": false
   },
   "outputs": [],
   "source": [
    "del p1.age"
   ]
  },
  {
   "cell_type": "markdown",
   "metadata": {},
   "source": [
    "## Deleting an object"
   ]
  },
  {
   "cell_type": "code",
   "execution_count": 118,
   "metadata": {
    "collapsed": true
   },
   "outputs": [],
   "source": [
    "del p1"
   ]
  },
  {
   "cell_type": "markdown",
   "metadata": {},
   "source": [
    "## Special Methods\n",
    "Finally lets go over special methods. Classes in Python can implement certain operations with **special method names**. These methods are not actually called directly but by Python specific language syntax. For example Lets create a Book class:"
   ]
  },
  {
   "cell_type": "code",
   "execution_count": 122,
   "metadata": {
    "collapsed": true
   },
   "outputs": [],
   "source": [
    "class Book:\n",
    "    def __init__(self, title, author, pages):\n",
    "        print(\"A book is created\")\n",
    "        self.title = title\n",
    "        self.author = author\n",
    "        self.pages = pages\n",
    "\n",
    "    def __str__(self):\n",
    "        return \"Title: {} , author: {}, pages: {} \".format(self.title, self.author, self.pages)\n",
    "\n",
    "    def __len__(self):\n",
    "        return self.pages\n",
    "    \n",
    "    def __del__(self):\n",
    "        print(\"A book is destroyed\")"
   ]
  },
  {
   "cell_type": "code",
   "execution_count": 123,
   "metadata": {
    "collapsed": false
   },
   "outputs": [
    {
     "name": "stdout",
     "output_type": "stream",
     "text": [
      "A book is created\n"
     ]
    }
   ],
   "source": [
    "book = Book(\"Python Rocks!\", \"Jose Portilla\", 159)"
   ]
  },
  {
   "cell_type": "code",
   "execution_count": 124,
   "metadata": {
    "collapsed": false
   },
   "outputs": [
    {
     "name": "stdout",
     "output_type": "stream",
     "text": [
      "A book is created\n"
     ]
    }
   ],
   "source": [
    "book1 = Book('hanging on!', 'amroy', 100)"
   ]
  },
  {
   "cell_type": "code",
   "execution_count": 125,
   "metadata": {
    "collapsed": false
   },
   "outputs": [
    {
     "name": "stdout",
     "output_type": "stream",
     "text": [
      "Title: hanging on! , author: amroy, pages: 100 \n",
      "100\n",
      "A book is destroyed\n"
     ]
    }
   ],
   "source": [
    "#Special Methods\n",
    "print(book1)\n",
    "print(len(book1))\n",
    "del(book1)"
   ]
  },
  {
   "cell_type": "code",
   "execution_count": 126,
   "metadata": {
    "collapsed": false
   },
   "outputs": [
    {
     "ename": "NameError",
     "evalue": "name 'book1' is not defined",
     "output_type": "error",
     "traceback": [
      "\u001b[0;31m---------------------------------------------------------------------------\u001b[0m",
      "\u001b[0;31mNameError\u001b[0m                                 Traceback (most recent call last)",
      "\u001b[0;32m<ipython-input-126-bad6f9b0871b>\u001b[0m in \u001b[0;36m<module>\u001b[0;34m()\u001b[0m\n\u001b[0;32m----> 1\u001b[0;31m \u001b[0mprint\u001b[0m\u001b[0;34m(\u001b[0m\u001b[0mbook1\u001b[0m\u001b[0;34m)\u001b[0m\u001b[0;34m\u001b[0m\u001b[0m\n\u001b[0m",
      "\u001b[0;31mNameError\u001b[0m: name 'book1' is not defined"
     ]
    }
   ],
   "source": [
    "print(book1)"
   ]
  },
  {
   "cell_type": "markdown",
   "metadata": {},
   "source": [
    "# Understanding Inheritance\n",
    "Inheritance occurs when classes share the same methods and attributes as other classes. \n",
    "\n",
    "<img src=\"./img/object-inheritance.png\", width=400, height=400>\n",
    "\n",
    "For example, ducks are type of bird.  They share the same methods as other birds (flying, eating, and so on), and they have the same attributes as other birds (weight, wingspan, and so on).  So you could say, that ducks inherit their methods and attributes from the class Birds.\n",
    "\n",
    "The class that other classes inherit from is called a **superclass**.\n",
    "The class that inherits from a superclass is called a **subclass**."
   ]
  },
  {
   "cell_type": "markdown",
   "metadata": {},
   "source": [
    "Inheritance is useful because it can create a subtle differences between similar objects. For example, penguins are also a type of bird, but they can swim underwater, unlike most birds.\n",
    "\n",
    "To represent penguins, you need to define a subclass that inherits from the Birds class so that you can include the method of swimming underwater.  See example below.\u0000"
   ]
  },
  {
   "cell_type": "code",
   "execution_count": 127,
   "metadata": {
    "collapsed": true
   },
   "outputs": [],
   "source": [
    "# inheritance - superclass\n",
    "class Bird:\n",
    "    def __init__(self, name, wingspan):\n",
    "        self.name = name\n",
    "        self.wingspan = wingspan\n",
    "        \n",
    "    def birdcall(self):\n",
    "        print('chirp')\n",
    "        \n",
    "    def fly(self):\n",
    "        print('flap')\n",
    "        "
   ]
  },
  {
   "cell_type": "code",
   "execution_count": 128,
   "metadata": {
    "collapsed": true
   },
   "outputs": [],
   "source": [
    "# inheritance - subclass\n",
    "class Penguin(Bird):\n",
    "    def swim(self):\n",
    "        print('swimming')\n",
    "    "
   ]
  },
  {
   "cell_type": "code",
   "execution_count": 129,
   "metadata": {
    "collapsed": false
   },
   "outputs": [
    {
     "name": "stdout",
     "output_type": "stream",
     "text": [
      "swimming\n",
      "flap\n",
      "chirp\n"
     ]
    }
   ],
   "source": [
    "sarahThePenguin = Penguin('Sarah',10)\n",
    "sarahThePenguin.swim()\n",
    "sarahThePenguin.fly()\n",
    "sarahThePenguin.birdcall()"
   ]
  },
  {
   "cell_type": "code",
   "execution_count": 130,
   "metadata": {
    "collapsed": false
   },
   "outputs": [
    {
     "data": {
      "text/plain": [
       "'Sarah'"
      ]
     },
     "execution_count": 130,
     "metadata": {},
     "output_type": "execute_result"
    }
   ],
   "source": [
    "# use tab to see all the methods for the object sarahThePenguin\n",
    "sarahThePenguin.name"
   ]
  },
  {
   "cell_type": "code",
   "execution_count": 131,
   "metadata": {
    "collapsed": false
   },
   "outputs": [
    {
     "name": "stdout",
     "output_type": "stream",
     "text": [
      "swimming\n"
     ]
    }
   ],
   "source": [
    "sarahThePenguin.swim()"
   ]
  },
  {
   "cell_type": "markdown",
   "metadata": {},
   "source": [
    "## Overriding Methods and Attributes\n",
    "It is possible for a subclass to redefine methods and attributes from its superclass.\n",
    "\n",
    "This is useful when you want to use the same name for a method but you want it to behave differently in the subclass. See example below:\n",
    "\u0000"
   ]
  },
  {
   "cell_type": "code",
   "execution_count": 132,
   "metadata": {
    "collapsed": true
   },
   "outputs": [],
   "source": [
    "# overriding methods and attributes\n",
    "class Penguin(Bird):\n",
    "    def swim(self):\n",
    "        print('swimming')\n",
    "    \n",
    "    def birdcall(self):\n",
    "        print('sort of quack')\n",
    "        \n",
    "    def fly(self):\n",
    "        print('Penguins cannot fly!')"
   ]
  },
  {
   "cell_type": "markdown",
   "metadata": {},
   "source": [
    "NB: for the Penguin class, the method birdcall has been added and the fly method has been modified.  Because both methods are spelled the same as they are in the superclass Birds, they will override the superclass ‘s methods.\n",
    "\u0000"
   ]
  },
  {
   "cell_type": "code",
   "execution_count": 135,
   "metadata": {
    "collapsed": false
   },
   "outputs": [
    {
     "name": "stdout",
     "output_type": "stream",
     "text": [
      "flap\n"
     ]
    }
   ],
   "source": [
    "# use tab to see all the methods for the object sarahThePenguin\n",
    "sarahThePenguin.fly()"
   ]
  },
  {
   "cell_type": "markdown",
   "metadata": {
    "collapsed": true
   },
   "source": [
    "## Summary\n",
    "Object Oriented Programming is a programming paradigm and not a Python concept. Most of the modern programming languages such as Java, C#, C++ follow OOP principles. So the good news is that learning object-oriented programming fundamentals will be valuable to you in a variety of circumstances—whether you’re working in Python or not."
   ]
  },
  {
   "cell_type": "code",
   "execution_count": null,
   "metadata": {
    "collapsed": true
   },
   "outputs": [],
   "source": []
  }
 ],
 "metadata": {
  "kernelspec": {
   "display_name": "Python 3",
   "language": "python",
   "name": "python3"
  },
  "language_info": {
   "codemirror_mode": {
    "name": "ipython",
    "version": 3
   },
   "file_extension": ".py",
   "mimetype": "text/x-python",
   "name": "python",
   "nbconvert_exporter": "python",
   "pygments_lexer": "ipython3",
   "version": "3.5.2"
  }
 },
 "nbformat": 4,
 "nbformat_minor": 2
}
