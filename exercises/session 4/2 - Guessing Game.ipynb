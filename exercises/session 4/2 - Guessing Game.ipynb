{
 "cells": [
  {
   "cell_type": "markdown",
   "metadata": {},
   "source": [
    "# Guessing Game\n",
    "This exercise will use the **random** module and the **randint()** function to let the system pick-up a number between 1 and 20; the system number is stored in the variable: *secret_number*.  \n",
    "\n",
    "** pseudo code below **.\n",
    "\n",
    "The user needs to find out which number the system has picked, the system number is stored in the variable **secret_number**. We will register the user's input in the variable **guess** and the number of guesses taken in the variable: **guesses_taken**.\n",
    "\n",
    "If the *guess* < *secret_number* then give a message: \"Your guess is too low\".\n",
    "\n",
    "If the *guess* > *secret_number* then give a message: \"Your guess is too high\".\n",
    "\n",
    "Otherwise the *guess* = *secret_number* ; it if is the case, give the message : \"Good job! you guessed my number in \" + *guesses_taken*.\n",
    "\n",
    "***NB: modify the code below to allow a maximum number of guesses taken to 6. and the conditional statements.***"
   ]
  },
  {
   "cell_type": "code",
   "execution_count": null,
   "metadata": {
    "collapsed": false
   },
   "outputs": [],
   "source": [
    "# Guess Number Game - Modify the code below \n",
    "import random\n",
    "secret_number = random.randint(1, 20)\n",
    "print ('I am thinking of a number between 1 and 20.')\n",
    "\n",
    "# Ask the player to guess 6 times.\n",
    "for guesses_taken in range():\n",
    "    print ('take a guess.')\n",
    "    guess = int(input('Enter your number > '))\n",
    "\n",
    "    if guess  secret_number:\n",
    "        print ('Your guess is too low.')\n",
    "    elif guess   secret_number:\n",
    "        print ('Your guess is too high.')\n",
    "    else:\n",
    "        break  # This condition is the correct guess!\n",
    "\n",
    "if guess == secret_number:\n",
    "    print ('Good job! You guessd my number in ' + str(guesses_taken) + ' guesses!')\n",
    "else:\n",
    "    print ('Nope. The number I was thinking of was ' + str(secret_number))"
   ]
  },
  {
   "cell_type": "code",
   "execution_count": null,
   "metadata": {
    "collapsed": true
   },
   "outputs": [],
   "source": []
  }
 ],
 "metadata": {
  "kernelspec": {
   "display_name": "Python 3",
   "language": "python",
   "name": "python3"
  },
  "language_info": {
   "codemirror_mode": {
    "name": "ipython",
    "version": 3
   },
   "file_extension": ".py",
   "mimetype": "text/x-python",
   "name": "python",
   "nbconvert_exporter": "python",
   "pygments_lexer": "ipython3",
   "version": "3.5.2"
  }
 },
 "nbformat": 4,
 "nbformat_minor": 2
}
