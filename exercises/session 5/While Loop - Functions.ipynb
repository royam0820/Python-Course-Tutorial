{
 "cells": [
  {
   "cell_type": "markdown",
   "metadata": {},
   "source": [
    "# While"
   ]
  },
  {
   "cell_type": "markdown",
   "metadata": {},
   "source": [
    "## Exercise 1 \n",
    "The Finbonacci sequence is a series of numbers in which each number ( Fibonacci number ) is the sum of the two preceding numbers. \n",
    "Example: 1, 1, 2, 3, 5, 8, etc.\n",
    "https://en.wikipedia.org/wiki/Fibonacci_number\n",
    "\n",
    "\n",
    "Write a program that will do the Fibonacci sequence up to 21.\n",
    "You will need two variables: a, b such a = 0 and b = 1\n",
    "\n",
    "Use a while loop to obtain the following result: 1 1 2 3 5 8 13 "
   ]
  },
  {
   "cell_type": "markdown",
   "metadata": {},
   "source": [
    "# Functions"
   ]
  },
  {
   "cell_type": "markdown",
   "metadata": {},
   "source": [
    "## Exercise 1"
   ]
  },
  {
   "cell_type": "code",
   "execution_count": 17,
   "metadata": {
    "collapsed": true
   },
   "outputs": [],
   "source": [
    "# Complete the code below\n",
    "def round_to_two_places(num):\n",
    "    \"\"\"Return the given number rounded to two decimal places. \n",
    "    \n",
    "    >>> round_to_two_places(3.14159)\n",
    "    3.14\n",
    "    \"\"\"\n",
    "    pass\n",
    "    # Replace this body with your own code.\n",
    "    # (\"pass\" is a keyword that does literally nothing. We used it as a placeholder\n",
    "    # because after we begin a code block, Python requires at least one line of code)\n",
    "   "
   ]
  },
  {
   "cell_type": "markdown",
   "metadata": {},
   "source": [
    "## Exercise 2\n",
    "Below is a simple function that will calculate the number of candies to smash for **any** number of total candies.\n",
    "\n",
    "Modify it so that it optionally takes a second argument representing the number of friends the candies are being split between. If no second argument is provided, it should assume 3 friends, as before."
   ]
  },
  {
   "cell_type": "code",
   "execution_count": 1,
   "metadata": {
    "collapsed": true
   },
   "outputs": [],
   "source": [
    "# mofify the code below\n",
    "def to_smash(total_candies, nbFriends):\n",
    "    \"\"\"Return the number of leftover candies that must be smashed after distributing\n",
    "    the given number of candies evenly between 3 friends.\n",
    "    \n",
    "    >>> to_smash(91)\n",
    "    1\n",
    "    \"\"\"\n",
    "    return total_candies % nbFriends"
   ]
  },
  {
   "cell_type": "markdown",
   "metadata": {},
   "source": [
    "## Exercise 3\n",
    "For this exercise, we are importing the time module and from this module the function sleep which makes us wait some number of seconds while it does nothing particular. "
   ]
  },
  {
   "cell_type": "code",
   "execution_count": 23,
   "metadata": {
    "collapsed": false
   },
   "outputs": [
    {
     "name": "stdout",
     "output_type": "stream",
     "text": [
      "Getting sleepy. See you in 5 seconds\n",
      "I'm back. What did I miss?\n"
     ]
    }
   ],
   "source": [
    "# try this code\n",
    "from time import sleep\n",
    "duration = 5\n",
    "print(\"Getting sleepy. See you in\", duration, \"seconds\")\n",
    "sleep(duration)\n",
    "print(\"I'm back. What did I miss?\")"
   ]
  },
  {
   "cell_type": "markdown",
   "metadata": {
    "collapsed": true
   },
   "source": [
    "## Exercise 4\n",
    "\n",
    "https://en.wikipedia.org/wiki/Collatz_conjecture\n",
    "\n",
    "![title](../../img/Collatz-Conjoncture.png)\n",
    "\n",
    "Write a function named **collatz()** that has one argument named **number**. \n",
    "\n",
    "- If number is \"even, then collatz() should print **number // 2** and return this value.\n",
    "- If number is odd, then collatz() should print and **return 3  *  number +  1**.\"\n",
    "<br>*Hint: An integer number is even if **number % 2 == 0**, and it’s odd if **number % 2 == 1**.* <br>\n",
    "\n",
    "Then write a program that lets the user type in an integer and that keeps calling collatz() on that number until the function returns the value 1.\n",
    "<br>*Hint: use a while loop.*<br>\n",
    "\n",
    "NB: Amazingly enough, this sequence actually works for any integer — sooner or later, using this sequence, you’ll arrive at 1! Even mathematicians aren’t sure why. Your program is exploring what’s called the Collatz sequence, sometimes called “the simplest impossible math problem.\"\n",
    "\n",
    "*Hint: Remember to convert the return value from input() to an integer with the **int() function**; otherwise, it will be a string value.*"
   ]
  }
 ],
 "metadata": {
  "kernelspec": {
   "display_name": "Python 3",
   "language": "python",
   "name": "python3"
  },
  "language_info": {
   "codemirror_mode": {
    "name": "ipython",
    "version": 3
   },
   "file_extension": ".py",
   "mimetype": "text/x-python",
   "name": "python",
   "nbconvert_exporter": "python",
   "pygments_lexer": "ipython3",
   "version": "3.5.2"
  }
 },
 "nbformat": 4,
 "nbformat_minor": 2
}
