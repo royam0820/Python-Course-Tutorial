{
 "cells": [
  {
   "cell_type": "markdown",
   "metadata": {},
   "source": [
    "# Openpyxl Exercise\n",
    "For this exercises you will need to do the following:\n",
    "1. create a workbook called employee.xlsx\n",
    "2. load data into a worksheet (see below)\n",
    "3. save the file\n",
    "4. open the file by loading the workbook.\n",
    "5. read the data from the worksheet by iterating through rows\n",
    "6. close the workbook.\n",
    "\n",
    "Here is the employees data to add to the worksheet.\n",
    "\n",
    "      data=[('Name','Profession'),\n",
    "      ('Thomas','intern'),\n",
    "      ('Sophie', 'engineer'),\n",
    "      ('Paul','programmer'),\n",
    "      ('Maxine', 'data scientist'),\n",
    "      ('Katie', 'intern'),\n",
    "      ('David', 'director')]\n",
    "\n"
   ]
  },
  {
   "cell_type": "code",
   "execution_count": null,
   "metadata": {
    "collapsed": true
   },
   "outputs": [],
   "source": []
  }
 ],
 "metadata": {
  "kernelspec": {
   "display_name": "Python 3",
   "language": "python",
   "name": "python3"
  },
  "language_info": {
   "codemirror_mode": {
    "name": "ipython",
    "version": 3
   },
   "file_extension": ".py",
   "mimetype": "text/x-python",
   "name": "python",
   "nbconvert_exporter": "python",
   "pygments_lexer": "ipython3",
   "version": "3.5.2"
  }
 },
 "nbformat": 4,
 "nbformat_minor": 2
}
