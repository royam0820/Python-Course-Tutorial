{
 "cells": [
  {
   "cell_type": "markdown",
   "metadata": {},
   "source": [
    "# Exercise 1 - Birthdays\n",
    "\n",
    "Create a dictionary called **birthdays** and enter the key:value pair for your friens birthdays such as:\n",
    "'alice': 'Oct 11', 'sophie': 'feb 2', etc ..."
   ]
  },
  {
   "cell_type": "markdown",
   "metadata": {},
   "source": [
    "## Exercise 1.2\n",
    "Use a while loop, and check if the **user input** name exists as a key in the dictionary with the **in** keyword. *i.e: if name in birdays: *\n",
    "- If the name is in the dictionary, you access the associated value using square brackets []; *i.e.: print(birthdays[name] + ' is the birthday of ' + name)\n",
    "- if not, you can add it using the same square bracket syntax combined with the assignment operator. i.e.: *birthday[name] = bday *\n",
    "note: variable bday is the user input to request the birthday date.\n",
    "\n",
    "*** pseudo code to try!!!*** \n",
    "\n",
    "    birthdays = {'Alice': 'Apr 1', 'Bob': 'Dec 12', 'Carol': 'Mar 4'}\n",
    "\n",
    "    while True:\n",
    "        print ('Enter a name: (blank to quit)')\n",
    "        name = input()\n",
    "        if name == '':\n",
    "            break\n",
    "        if name in birthdays:\n",
    "            print (birthdays[name] + ' is the birthdays name of ' + name)\n",
    "        else:\n",
    "            print ('I do not have birthday information for ' + name)\n",
    "            print ('What is their birthday?')\n",
    "            bday = input()\n",
    "            birthdays[name] = bday\n",
    "            print ('Birthday database updated.')\n"
   ]
  },
  {
   "cell_type": "markdown",
   "metadata": {},
   "source": [
    "*The output should be as follows:*\n",
    "Enter a name: (blank to quit)\n",
    "Alice\n",
    "Apr 1 is the birthdays name of Alice\n",
    "Enter a name: (blank to quit)\n",
    "Bob\n",
    "Dec 12 is the birthdays name of Bob\n",
    "Enter a name: (blank to quit)\n",
    "Carol\n",
    "Mar 4 is the birthdays name of Carol\n",
    "Enter a name: (blank to quit)\n",
    "Antoine\n",
    "I do not have birthday infomation for Antoine\n",
    "What is their birthday?\n",
    "Aug 20\n",
    "Birthday database updated.\n",
    "Enter a name: (blank to quit)\n",
    "Antoine\n",
    "Aug 20 is the birthdays name of Antoine\n",
    "Enter a name: (blank to quit)"
   ]
  }
 ],
 "metadata": {
  "kernelspec": {
   "display_name": "Python 3",
   "language": "python",
   "name": "python3"
  },
  "language_info": {
   "codemirror_mode": {
    "name": "ipython",
    "version": 3
   },
   "file_extension": ".py",
   "mimetype": "text/x-python",
   "name": "python",
   "nbconvert_exporter": "python",
   "pygments_lexer": "ipython3",
   "version": "3.5.2"
  }
 },
 "nbformat": 4,
 "nbformat_minor": 2
}
