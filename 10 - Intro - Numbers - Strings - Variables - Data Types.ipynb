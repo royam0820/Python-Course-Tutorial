{
 "cells": [
  {
   "cell_type": "markdown",
   "metadata": {},
   "source": [
    "\n",
    "# Agenda\n",
    "\n",
    "- The Python language\n",
    "- Programming\n",
    "- Calculations, Variables and data types\n",
    "- Lists\n",
    "- Sets\n",
    "- Dictionaries\n",
    "- Boolean Logic, Conditional Statements\n",
    "- Input from users\n",
    "- Loops: for, while\n",
    "- Functions\n",
    "- Classes (Object Oriented Programming)\n",
    "- Files handling\n",
    "- SQL handling\n",
    "- Web scrapping\n",
    "- ... and much more!"
   ]
  },
  {
   "cell_type": "markdown",
   "metadata": {
    "collapsed": true
   },
   "source": [
    "# The Python Language\n",
    "\n",
    "- Python is an open source scripting language\n",
    "- Developed by ** Guido Van Rossum ** in the early 1990’s\n",
    "- Named after the British Comedy show: ** Monty Python **\n",
    "- Available for download on [python.org](http://www.python.org)\n",
    "\n",
    "![title](./img/montyPython.png)"
   ]
  },
  {
   "cell_type": "markdown",
   "metadata": {},
   "source": [
    "# Python Usages\n",
    "- To build websites\n",
    "- To program robots\n",
    "- To develop games\n",
    "- Scientific Programming\n",
    "- Machine Learning \n",
    "- and much more ... !!!\n"
   ]
  },
  {
   "cell_type": "markdown",
   "metadata": {},
   "source": [
    "Python is an ** interpreted language **.  There are no type declarations of variables, parameters, functions, or methods in source code. This makes the code short and flexible, and you lose the compile-time type checking of the source code. Python tracks the types of all values at runtime and flags code that does not make sense as it runs.\n",
    "\n",
    "<img src=\"./img/interpreted-vs-compiled.png\", width=600, height=600>"
   ]
  },
  {
   "cell_type": "markdown",
   "metadata": {
    "collapsed": true
   },
   "source": [
    "Python delivers an **I**ntegrated **D**evelopment and **L**earning **E**nvironment (**IDLE**). \n",
    "This user interface has two modes: The shell mode and the file mode as follows: \n",
    "**shell mode also called the interactive mode**\n",
    "![title](./img/shell-mode.png)\n",
    "\n",
    "\n",
    "** file mode **\n",
    "![title](./img/file-mode.png)"
   ]
  },
  {
   "cell_type": "markdown",
   "metadata": {
    "collapsed": true
   },
   "source": [
    "# Programming\n",
    "\n",
    "A **program** is simply a set of instructions telling a computer exactly what to do.\n",
    "\n",
    "**Programming** is the action or process of writing computer programs.\n",
    "\n",
    "The single most important skill for a computer scientist is **problem solving**. \n",
    "\n",
    "Problem solving means the ability to formulate problems, think creatively about solutions, and express a solution clearly and accurately.\n",
    "\n",
    "## Basic Instructions you will often do while programming\n",
    "\n",
    "These are the basic instructions you will often do:\n",
    "\n",
    "- **Math and logic**:  perform basic mathematical operations like addition and multiplication and logical operations like AND, OR, NOT.\n",
    "\n",
    "- **Conditional execution**:  check for certain conditions and execute the appropriate sequence of statements.\n",
    "\n",
    "- **Repetition**: Perform some action repeatedly, usually with some variation.\n",
    "\n",
    "- **Display**: display data on the screen or send data to a file or other device.\n",
    "\n",
    "- **Input**: get data from the keyboard, a file, or some other device output\n",
    "\n",
    "Thus, we can describe programming as the process of :\n",
    "- breaking a large, complex task \n",
    "    - into smaller and smaller subtasks \n",
    "    - until the subtasks are simple enough to be performed with sequences of these basic instructions.\n",
    "\n",
    "## Frequent Programming Errors\n",
    "\n",
    "There are **three kinds of errors** that can occur in a program:\n",
    "\n",
    "**syntax errors**: similar to a language syntax. It refers to the structure of the program and the rules about that structure. I.e.: *Forgetting a close parenthesis at the end of a statement where one is required.*\n",
    "\n",
    "**runtime errors**: error showing when the program is executed, they are also called Exception errors indicating that something unusually exceptional or bad has happened. i.e.: *attempting to divide by 0.*\n",
    "\n",
    "**semantic errors**: error in your program, it will run successfully. However, your program will not do the right thing. It will do something else. The meaning of the program (its semantics) is wrong. Identifying semantic errors can be tricky because it requires you to work backward by looking at the output of the program and trying to figure out what it is doing. i.e.: *Forgetting to divide by 100 when printing a percentage amount.*\u0000"
   ]
  },
  {
   "cell_type": "markdown",
   "metadata": {},
   "source": [
    "# The Jupyter Notebook\n",
    "\n",
    "Jupyter Notebook is an open-source web application that allows you to create and share codes and documents.\n",
    "\n",
    "It provides an environment, where you can document your code, run it, look at the outcome, visualize data and see the results without leaving the environment. This makes it a handy tool for performing end to end data science workflows – data cleaning, statistical modeling, building and training machine learning models, visualizing data, and many, many other uses.\n"
   ]
  },
  {
   "cell_type": "markdown",
   "metadata": {},
   "source": [
    "## Installing the Jupyter Notebook\n",
    "\n",
    "For new users, the general consensus is that you should use the ** Anaconda distribution ** to install both Python and the Jupyter notebook.\n",
    "\n",
    "Anaconda installs both these tools and includes quite a lot of packages commonly used in the data science and machine learning community. You can download the latest version of Anaconda from here : https://www.anaconda.com/download.\n",
    "\n",
    "** The pip method **\n",
    "It is the Python way to download packages. With Pyton 3+, it is already installed. \n",
    "\n",
    "### Anaconda distribution \n",
    "Go to the below website and install Python based on your Operating System (OS).\n",
    "https://www.anaconda.com/download\n",
    "\n",
    "\n",
    "### PIP install\n",
    "Upgrade the Python setuptools\n",
    "- Linux and OSX\n",
    "        pip install -U pip setuptools\n",
    "\n",
    "- Windows\n",
    "        python -m pip install -U pip setuptools\n",
    "\n",
    "- then install Jupyter\n",
    "        pip3 install jupyter\n"
   ]
  },
  {
   "cell_type": "markdown",
   "metadata": {},
   "source": [
    "## Launching Jupyter Notebook\n",
    "- Go to your documents directory\n",
    "- Create a directory called \"Python Notebook\"\n",
    "- From the command line, access the \"Python Notebook\" directory and enter the following\n",
    "        jupyter notebook\n",
    "\n",
    "Once you do this, the Jupyter notebook will open up in your default web browser with the below URL:\n",
    "\n",
    "http://localhost:8888/tree\n",
    "\n",
    "Here is some additional information regarding the Jupyter notebook: https://www.analyticsvidhya.com/blog/2018/05/starters-guide-jupyter-notebook/\n"
   ]
  },
  {
   "cell_type": "markdown",
   "metadata": {},
   "source": [
    "## Calculations\n",
    "\n",
    "Python basic math operators from highest to lowest precedence.\n",
    "<img src=\"./img/math-Operators.png\", width=400, height=400>"
   ]
  },
  {
   "cell_type": "code",
   "execution_count": 1,
   "metadata": {
    "collapsed": false
   },
   "outputs": [
    {
     "data": {
      "text/plain": [
       "20"
      ]
     },
     "execution_count": 1,
     "metadata": {},
     "output_type": "execute_result"
    }
   ],
   "source": [
    "# addition\n",
    "10 + 10"
   ]
  },
  {
   "cell_type": "code",
   "execution_count": 2,
   "metadata": {
    "collapsed": false
   },
   "outputs": [
    {
     "data": {
      "text/plain": [
       "5"
      ]
     },
     "execution_count": 2,
     "metadata": {},
     "output_type": "execute_result"
    }
   ],
   "source": [
    "#substraction\n",
    "10 - 5"
   ]
  },
  {
   "cell_type": "code",
   "execution_count": 3,
   "metadata": {
    "collapsed": false
   },
   "outputs": [
    {
     "data": {
      "text/plain": [
       "200"
      ]
     },
     "execution_count": 3,
     "metadata": {},
     "output_type": "execute_result"
    }
   ],
   "source": [
    "# multiplication\n",
    "10 * 20"
   ]
  },
  {
   "cell_type": "code",
   "execution_count": 4,
   "metadata": {
    "collapsed": false
   },
   "outputs": [
    {
     "data": {
      "text/plain": [
       "3.8"
      ]
     },
     "execution_count": 4,
     "metadata": {},
     "output_type": "execute_result"
    }
   ],
   "source": [
    "# division\n",
    "19 / 5"
   ]
  },
  {
   "cell_type": "code",
   "execution_count": 5,
   "metadata": {
    "collapsed": false
   },
   "outputs": [
    {
     "data": {
      "text/plain": [
       "3"
      ]
     },
     "execution_count": 5,
     "metadata": {},
     "output_type": "execute_result"
    }
   ],
   "source": [
    "# floor division \n",
    "# The `//` operator gives us a result that's rounded down to the next integer.\n",
    "19 // 5"
   ]
  },
  {
   "cell_type": "code",
   "execution_count": 6,
   "metadata": {
    "collapsed": false
   },
   "outputs": [
    {
     "data": {
      "text/plain": [
       "4"
      ]
     },
     "execution_count": 6,
     "metadata": {},
     "output_type": "execute_result"
    }
   ],
   "source": [
    "# division - remainder\n",
    "19 % 5"
   ]
  },
  {
   "cell_type": "code",
   "execution_count": 7,
   "metadata": {
    "collapsed": false
   },
   "outputs": [
    {
     "data": {
      "text/plain": [
       "9"
      ]
     },
     "execution_count": 7,
     "metadata": {},
     "output_type": "execute_result"
    }
   ],
   "source": [
    "# exponentiation\n",
    "3**2"
   ]
  },
  {
   "cell_type": "markdown",
   "metadata": {},
   "source": [
    "**Basic order for operators**:  Multiplication and Division always go before addition and substration."
   ]
  },
  {
   "cell_type": "code",
   "execution_count": 8,
   "metadata": {
    "collapsed": false
   },
   "outputs": [
    {
     "data": {
      "text/plain": [
       "50.0"
      ]
     },
     "execution_count": 8,
     "metadata": {},
     "output_type": "execute_result"
    }
   ],
   "source": [
    "# evaluate this expression\n",
    "7+7/7+7*7-7"
   ]
  },
  {
   "cell_type": "code",
   "execution_count": 9,
   "metadata": {
    "collapsed": false
   },
   "outputs": [
    {
     "data": {
      "text/plain": [
       "605"
      ]
     },
     "execution_count": 9,
     "metadata": {},
     "output_type": "execute_result"
    }
   ],
   "source": [
    "5+30*20"
   ]
  },
  {
   "cell_type": "markdown",
   "metadata": {},
   "source": [
    "## PEMDAS\n",
    "Python uses a rule of precedence for mathematical operators. You can recall easily this rule by using the acronym **PEMDAS**. “Please Excuse My Dear Aunt Sally\".\n",
    "\n",
    "NB: **Parentheses** are your trump card. You can add them to force Python to evaluate sub-expressions in a different order (or just to make your code easier to read).\n",
    "\n",
    "![title](./img/pemdas1.svg)\n",
    "\n"
   ]
  },
  {
   "cell_type": "code",
   "execution_count": 10,
   "metadata": {
    "collapsed": false
   },
   "outputs": [
    {
     "data": {
      "text/plain": [
       "700"
      ]
     },
     "execution_count": 10,
     "metadata": {},
     "output_type": "execute_result"
    }
   ],
   "source": [
    "(5 + 30) * 20"
   ]
  },
  {
   "cell_type": "code",
   "execution_count": 11,
   "metadata": {
    "collapsed": false
   },
   "outputs": [
    {
     "data": {
      "text/plain": [
       "70.0"
      ]
     },
     "execution_count": 11,
     "metadata": {},
     "output_type": "execute_result"
    }
   ],
   "source": [
    "# Python evaluates the innermost parentheses, then the outer ones, then final division operator.\n",
    "((5 + 30) * 20) / 10 "
   ]
  },
  {
   "cell_type": "code",
   "execution_count": 12,
   "metadata": {
    "collapsed": false
   },
   "outputs": [
    {
     "name": "stdout",
     "output_type": "stream",
     "text": [
      "11.666666666666666\n"
     ]
    }
   ],
   "source": [
    "# Division \n",
    "print(35/3)"
   ]
  },
  {
   "cell_type": "code",
   "execution_count": 13,
   "metadata": {
    "collapsed": false
   },
   "outputs": [
    {
     "name": "stdout",
     "output_type": "stream",
     "text": [
      "11.666666666666666\n",
      "11.67\n"
     ]
    }
   ],
   "source": [
    "# handling decimal point\n",
    "print(35/3.0)\n",
    "# formatting the result with two decimal points\n",
    "print(\"{:.2f}\".format(35/3.0))"
   ]
  },
  {
   "cell_type": "code",
   "execution_count": 14,
   "metadata": {
    "collapsed": false
   },
   "outputs": [
    {
     "data": {
      "text/plain": [
       "8"
      ]
     },
     "execution_count": 14,
     "metadata": {},
     "output_type": "execute_result"
    }
   ],
   "source": [
    "# Exponent\n",
    "x = 2**3\n",
    "x   #shows x"
   ]
  },
  {
   "cell_type": "markdown",
   "metadata": {},
   "source": [
    "# Variables\n",
    "<img src=\"./img/variables.png\", width=300, height=300>\n",
    "Variables are a way of storing data in the memory on a computer; you’ll use them a LOT as you program. \n",
    "\n",
    "In some languages, variables have a specific type which indicates what kind of variable class they belong to.\n",
    "\n",
    "In Python, you don’t have to declare your variable types. Don’t worry too much about that detail now; you’ll learn more about this a little later in the tutorial.  \n",
    "\u0000"
   ]
  },
  {
   "cell_type": "markdown",
   "metadata": {
    "collapsed": true
   },
   "source": [
    "## Variables Syntax Rule\n",
    "\n",
    "- Do not include symbols in your variable names, except for **(_)** underscore\n",
    "\n",
    "- Do not start a variable with a number. Using it elsewhere in a variable name is ok. \n",
    "\n",
    "- You do not need to add spaces on the side of the equal sign; your program will run fine BUT they make the code easier to read.\n",
    "\n",
    "- Often variable are written in mixedCase as follows: ** myName = \"ROY\" **\n",
    "\n",
    "- It's considered best practice (PEP8) (Python code style) \n",
    "that the names are lowercase.\n",
    "\n",
    "*NB1: Variable names are **case-sensitive**, meaning that spam, SPAM, Spam, and sPaM are four different variables. It is a Python convention to start your variables with a lowercase letter.*\n",
    "\n",
    "*NB2: A good variable name describes the data it contains.*\n",
    "\u0000"
   ]
  },
  {
   "cell_type": "code",
   "execution_count": 15,
   "metadata": {
    "collapsed": false
   },
   "outputs": [
    {
     "name": "stdout",
     "output_type": "stream",
     "text": [
      "hello world!\n"
     ]
    }
   ],
   "source": [
    "# variable example\n",
    "hello = \"hello world!\"\n",
    "print(hello)"
   ]
  },
  {
   "cell_type": "code",
   "execution_count": 16,
   "metadata": {
    "collapsed": false
   },
   "outputs": [
    {
     "name": "stdout",
     "output_type": "stream",
     "text": [
      "15\n"
     ]
    }
   ],
   "source": [
    "# variable examples\n",
    "x = 5\n",
    "y = 10\n",
    "print(x + y)"
   ]
  },
  {
   "cell_type": "code",
   "execution_count": 17,
   "metadata": {
    "collapsed": false
   },
   "outputs": [
    {
     "name": "stdout",
     "output_type": "stream",
     "text": [
      "15\n"
     ]
    }
   ],
   "source": [
    "# variable example\n",
    "z = x + y\n",
    "print(z)"
   ]
  },
  {
   "cell_type": "markdown",
   "metadata": {},
   "source": [
    "# Data Types\n",
    "\n",
    "** string **: A string is a sequence of characters; you can use a string to represent anything from text on a screen to entire web requests. Ex: ** \"this is a string\"**\n",
    "\n",
    "** integer**: An integer is a whole number. \n",
    "Integers range from -2147483648 to 2147483647 on 32-bit machines, and from -9223372036854775808 to 9223372036854775807 on 64-bit machines. Ex: **10**\n",
    "\n",
    "** float **: A number with a decimal point. Ex.: **10.5**\n",
    "\n",
    "** boolean **: Booleans represent either True or False values.\n",
    "You create a boolean variable by typing a capitalized **T**rue or **F**alse without quotation marks as shown below:\n",
    "**agree = True**"
   ]
  },
  {
   "cell_type": "code",
   "execution_count": 18,
   "metadata": {
    "collapsed": false
   },
   "outputs": [
    {
     "name": "stdout",
     "output_type": "stream",
     "text": [
      "Anne-Marie Roy 25 10000.67 True\n"
     ]
    }
   ],
   "source": [
    "fName = \"Anne-Marie\"\n",
    "lName = 'Roy'\n",
    "age = 25\n",
    "income = 10000.67\n",
    "agree = True\n",
    "print(fName, lName, age, income, agree)"
   ]
  },
  {
   "cell_type": "code",
   "execution_count": 19,
   "metadata": {
    "collapsed": false
   },
   "outputs": [
    {
     "data": {
      "text/plain": [
       "str"
      ]
     },
     "execution_count": 19,
     "metadata": {},
     "output_type": "execute_result"
    }
   ],
   "source": [
    "# Finding the data type for a variable\n",
    "type(fName)"
   ]
  },
  {
   "cell_type": "code",
   "execution_count": 20,
   "metadata": {
    "collapsed": false
   },
   "outputs": [
    {
     "data": {
      "text/plain": [
       "int"
      ]
     },
     "execution_count": 20,
     "metadata": {},
     "output_type": "execute_result"
    }
   ],
   "source": [
    "type(age)"
   ]
  },
  {
   "cell_type": "code",
   "execution_count": 21,
   "metadata": {
    "collapsed": false
   },
   "outputs": [
    {
     "data": {
      "text/plain": [
       "float"
      ]
     },
     "execution_count": 21,
     "metadata": {},
     "output_type": "execute_result"
    }
   ],
   "source": [
    "type(income)"
   ]
  },
  {
   "cell_type": "code",
   "execution_count": 22,
   "metadata": {
    "collapsed": false
   },
   "outputs": [
    {
     "data": {
      "text/plain": [
       "bool"
      ]
     },
     "execution_count": 22,
     "metadata": {},
     "output_type": "execute_result"
    }
   ],
   "source": [
    "type(agree)"
   ]
  },
  {
   "cell_type": "code",
   "execution_count": 23,
   "metadata": {
    "collapsed": false
   },
   "outputs": [
    {
     "name": "stdout",
     "output_type": "stream",
     "text": [
      "The person Roy Anne-Marie is young\n"
     ]
    }
   ],
   "source": [
    "# Adding strings together using the (+) sign\n",
    "print(\"The person \" + lName + ' ' + fName + \" is young\")"
   ]
  },
  {
   "cell_type": "code",
   "execution_count": 24,
   "metadata": {
    "collapsed": false
   },
   "outputs": [
    {
     "name": "stdout",
     "output_type": "stream",
     "text": [
      "Ada Lovelace\n",
      "ADA LOVELACE\n",
      "ada lovelace\n"
     ]
    }
   ],
   "source": [
    "# you can modify a string via the following methods: .title(), .upper(), .lower()\n",
    "name = 'ada lovelace'\n",
    "print(name.title())\n",
    "print(name.upper())\n",
    "print(name.lower())"
   ]
  },
  {
   "cell_type": "code",
   "execution_count": 25,
   "metadata": {
    "collapsed": false
   },
   "outputs": [
    {
     "name": "stdout",
     "output_type": "stream",
     "text": [
      "he says he can't do it\n"
     ]
    }
   ],
   "source": [
    "# escaping a string using the escape caracter (\\)\n",
    "message = 'he says he can\\'t do it'\n",
    "print(message)"
   ]
  },
  {
   "cell_type": "code",
   "execution_count": 26,
   "metadata": {
    "collapsed": true
   },
   "outputs": [],
   "source": [
    "# document string using ''' '''\n",
    "# often used when documenting a function\n",
    "def my_function():\n",
    "    '''does nothing, just document it'''\n",
    "    "
   ]
  },
  {
   "cell_type": "markdown",
   "metadata": {
    "collapsed": true
   },
   "source": [
    "## Datatypes Conversion\n",
    "\n",
    "- You can convert values from integer, float types to a string type using the ** str() ** command.  \n",
    "\n",
    "- Likewise, you can convert a value from a string to an integer by using ** int() ** command. \n",
    "\n",
    "- You can also convert an integer value into a float by using ** float() ** command.\n",
    "\u0000"
   ]
  },
  {
   "cell_type": "code",
   "execution_count": 27,
   "metadata": {
    "collapsed": false
   },
   "outputs": [
    {
     "name": "stdout",
     "output_type": "stream",
     "text": [
      "eleven is of type: <class 'str'>\n",
      "eleven is of type: <class 'int'>\n"
     ]
    }
   ],
   "source": [
    "# conversion example - string to integer\n",
    "eleven = '11'\n",
    "print('eleven is of type:', type(eleven))\n",
    "eleven = int(eleven)\n",
    "print('eleven is of type:', type(eleven))"
   ]
  },
  {
   "cell_type": "code",
   "execution_count": 28,
   "metadata": {
    "collapsed": false
   },
   "outputs": [
    {
     "name": "stdout",
     "output_type": "stream",
     "text": [
      "pos is of type <class 'int'>\n",
      "pos is of type <class 'float'>\n"
     ]
    }
   ],
   "source": [
    "# conversions example - integer to float\n",
    "pos = 10\n",
    "print('pos is of type', type(pos))\n",
    "pos = float(pos)\n",
    "print('pos is of type', type(pos))"
   ]
  },
  {
   "cell_type": "markdown",
   "metadata": {},
   "source": [
    "# Date and Time\n",
    "\n",
    "Python will use the **module datetime** to handle date and time, or time only.\n",
    "\n",
    "A module allows you to logically organize your Python code. Grouping related code into a module makes the code easier to understand and use\u0000"
   ]
  },
  {
   "cell_type": "code",
   "execution_count": 29,
   "metadata": {
    "collapsed": false
   },
   "outputs": [
    {
     "data": {
      "text/plain": [
       "datetime.datetime(2018, 9, 12, 11, 47, 8, 738286)"
      ]
     },
     "execution_count": 29,
     "metadata": {},
     "output_type": "execute_result"
    }
   ],
   "source": [
    "# date and time example\n",
    "import datetime\n",
    "datetime.datetime.now()  "
   ]
  },
  {
   "cell_type": "markdown",
   "metadata": {},
   "source": [
    "From the result above, the date contains year, month, day, hour, minute, second, and microsecond."
   ]
  },
  {
   "cell_type": "code",
   "execution_count": 30,
   "metadata": {
    "collapsed": false
   },
   "outputs": [
    {
     "data": {
      "text/plain": [
       "'2018-09-12'"
      ]
     },
     "execution_count": 30,
     "metadata": {},
     "output_type": "execute_result"
    }
   ],
   "source": [
    "# To extract only the date, we can proceed as follows\n",
    "str(datetime.datetime.now().date())"
   ]
  },
  {
   "cell_type": "code",
   "execution_count": 31,
   "metadata": {
    "collapsed": false
   },
   "outputs": [
    {
     "data": {
      "text/plain": [
       "'11:47:08.760754'"
      ]
     },
     "execution_count": 31,
     "metadata": {},
     "output_type": "execute_result"
    }
   ],
   "source": [
    "# to get only today's time\n",
    "str(datetime.datetime.now().time())"
   ]
  },
  {
   "cell_type": "markdown",
   "metadata": {},
   "source": [
    " From the result above, the time displays hour, minute, second, microsecond"
   ]
  },
  {
   "cell_type": "code",
   "execution_count": null,
   "metadata": {
    "collapsed": false
   },
   "outputs": [
    {
     "data": {
      "text/plain": [
       "'11:47:08'"
      ]
     },
     "execution_count": 32,
     "metadata": {},
     "output_type": "execute_result"
    }
   ],
   "source": [
    "# to get only today's time in hh:mm:ss\n",
    "str(datetime.datetime.now().time()) [:8]"
   ]
  },
  {
   "cell_type": "markdown",
   "metadata": {},
   "source": [
    "From the result above the time displays hour, minute, second"
   ]
  },
  {
   "cell_type": "markdown",
   "metadata": {},
   "source": [
    "# Requesting Help"
   ]
  },
  {
   "cell_type": "code",
   "execution_count": null,
   "metadata": {
    "collapsed": false
   },
   "outputs": [
    {
     "name": "stdout",
     "output_type": "stream",
     "text": [
      "\n",
      "Welcome to Python 3.5's help utility!\n",
      "\n",
      "If this is your first time using Python, you should definitely check out\n",
      "the tutorial on the Internet at http://docs.python.org/3.5/tutorial/.\n",
      "\n",
      "Enter the name of any module, keyword, or topic to get help on writing\n",
      "Python programs and using Python modules.  To quit this help utility and\n",
      "return to the interpreter, just type \"quit\".\n",
      "\n",
      "To get a list of available modules, keywords, symbols, or topics, type\n",
      "\"modules\", \"keywords\", \"symbols\", or \"topics\".  Each module also comes\n",
      "with a one-line summary of what it does; to list the modules whose name\n",
      "or summary contain a given string such as \"spam\", type \"modules spam\".\n",
      "\n"
     ]
    }
   ],
   "source": [
    "help()"
   ]
  }
 ],
 "metadata": {
  "kernelspec": {
   "display_name": "Python 3",
   "language": "python",
   "name": "python3"
  },
  "language_info": {
   "codemirror_mode": {
    "name": "ipython",
    "version": 3
   },
   "file_extension": ".py",
   "mimetype": "text/x-python",
   "name": "python",
   "nbconvert_exporter": "python",
   "pygments_lexer": "ipython3",
   "version": "3.5.2"
  }
 },
 "nbformat": 4,
 "nbformat_minor": 2
}
