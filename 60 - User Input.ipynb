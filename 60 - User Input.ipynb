{
 "cells": [
  {
   "cell_type": "markdown",
   "metadata": {
    "collapsed": true
   },
   "source": [
    "# Capturing User Input\n",
    "One cool thing about Python is that it's very easy to receive input in the form of text from the user.\n",
    "Input is any external data provided to a program, such as text or other directions which affect the behavior of a program.\n",
    "\u0000"
   ]
  },
  {
   "cell_type": "markdown",
   "metadata": {},
   "source": [
    "## Capturing text input"
   ]
  },
  {
   "cell_type": "code",
   "execution_count": null,
   "metadata": {
    "collapsed": false
   },
   "outputs": [],
   "source": [
    "name = input(\"What is your name? \")\n",
    "print(\"Hello, \" + name)"
   ]
  },
  {
   "cell_type": "markdown",
   "metadata": {},
   "source": [
    "## Capturing numerical input\n",
    "The input() function returns a string. Use the int() function to convert the string into a number."
   ]
  },
  {
   "cell_type": "code",
   "execution_count": null,
   "metadata": {
    "collapsed": false
   },
   "outputs": [],
   "source": [
    "age = int(input(\"What is your age? \"))\n",
    "print(\"Next year, you will be\", age + 1)"
   ]
  },
  {
   "cell_type": "markdown",
   "metadata": {},
   "source": [
    "## Handling errors / exceptions - The Try-Except block\n",
    "The Python system delivered message is a bit ugly, so to fix it we will use a try-except block.  See below for examples.\n",
    "\u0000"
   ]
  },
  {
   "cell_type": "markdown",
   "metadata": {},
   "source": [
    "## Syntax Error"
   ]
  },
  {
   "cell_type": "code",
   "execution_count": null,
   "metadata": {
    "collapsed": false
   },
   "outputs": [],
   "source": [
    " # syntax error\n",
    "print( 8 / 2 ))"
   ]
  },
  {
   "cell_type": "markdown",
   "metadata": {},
   "source": [
    "The arrow indicates where the parser ran into the **syntax error**. In this example, there was one bracket too many. Remove it and run your code again:"
   ]
  },
  {
   "cell_type": "markdown",
   "metadata": {},
   "source": [
    "## Exception Error"
   ]
  },
  {
   "cell_type": "code",
   "execution_count": null,
   "metadata": {
    "collapsed": false
   },
   "outputs": [],
   "source": [
    "# exception error\n",
    "x, y = 5, 0\n",
    "z = x/y"
   ]
  },
  {
   "cell_type": "markdown",
   "metadata": {},
   "source": [
    "This time, you ran into an **exception error**. This type of error occurs whenever syntactically correct Python code results in an error. The last line of the message indicated what type of exception error you ran into."
   ]
  },
  {
   "cell_type": "markdown",
   "metadata": {},
   "source": [
    "## The try and except block\n",
    "The try and except block in Python is used to catch and handle exceptions. Python executes code following the try statement as a “normal” part of the program. The code that follows the except statement is the program’s response to any exceptions in the preceding try clause."
   ]
  },
  {
   "cell_type": "code",
   "execution_count": null,
   "metadata": {
    "collapsed": false
   },
   "outputs": [],
   "source": [
    "# catching errors\n",
    "x, y = 5, 0\n",
    "try:\n",
    "    z = x / y\n",
    "except ZeroDivisionError:\n",
    "    print('division by zero illegal')"
   ]
  },
  {
   "cell_type": "code",
   "execution_count": null,
   "metadata": {
    "collapsed": false
   },
   "outputs": [],
   "source": [
    "# while True is a forever loop - To exit the forever loop, enter: <ctrl-c> or interrupt the kernel.\n",
    "# Python 2.x string substitution \n",
    "while True:\n",
    "    try:\n",
    "        user = int(input(('enter a number: > ')))\n",
    "        if user < 0:\n",
    "            raise ValueError(\"please give a positive number\")\n",
    "        else:\n",
    "            print(\"user input: %s\" % user)\n",
    "    except ValueError as e:\n",
    "        print(e)"
   ]
  },
  {
   "cell_type": "code",
   "execution_count": null,
   "metadata": {
    "collapsed": false
   },
   "outputs": [],
   "source": [
    "# while True is a forever loop - To exit the forever loop, enter: <ctrl-c>\n",
    "# Python 3.x string substitution \n",
    "while True:\n",
    "    try:\n",
    "        user = int(input(('enter a number: > ')))\n",
    "        if user < 0:\n",
    "            raise ValueError(\"please give positive number\")\n",
    "        else:\n",
    "            print(\"user input: {}\".format(user))\n",
    "    except ValueError as e:\n",
    "        print(e)"
   ]
  },
  {
   "cell_type": "code",
   "execution_count": null,
   "metadata": {
    "collapsed": false
   },
   "outputs": [],
   "source": [
    "# raising an error\n",
    "# Python 3.x string substitution and exiting gracefully from the loop.\n",
    "while True:\n",
    "    try:\n",
    "        user = input('enter a number: > ')\n",
    "        if user == 'exit':\n",
    "            print('Goodbye')\n",
    "            break\n",
    "        if int(user) < 0:\n",
    "            raise ValueError(\"please give positive number\")\n",
    "        else:\n",
    "            print(\"user input: {}\".format(user))\n",
    "    except ValueError  as e:\n",
    "        print(e)"
   ]
  },
  {
   "cell_type": "code",
   "execution_count": null,
   "metadata": {
    "collapsed": false
   },
   "outputs": [],
   "source": [
    "# a complete error exceptions handling\n",
    "while True:\n",
    "    try:\n",
    "        \n",
    "        user = input('enter a number: > ')\n",
    "        if user == 'exit':\n",
    "            print('Goodbye')\n",
    "            break\n",
    "        if int(user) < 0:\n",
    "            raise ValueError(\"please give positive number\")\n",
    "        else:\n",
    "            print(\"user input: {}\".format(user))\n",
    "\n",
    "    except ValueError as e:\n",
    "            print(e)\n",
    "    except KeyboardInterrupt as k:\n",
    "        print('Goodbye')\n",
    "        break\n"
   ]
  },
  {
   "cell_type": "markdown",
   "metadata": {},
   "source": [
    "# User input wrap up\n",
    "When requesting user input, we often need to validate the input for errors or exceptions using the construct try and except block.\n"
   ]
  },
  {
   "cell_type": "code",
   "execution_count": null,
   "metadata": {
    "collapsed": true
   },
   "outputs": [],
   "source": []
  }
 ],
 "metadata": {
  "kernelspec": {
   "display_name": "Python 3",
   "language": "python",
   "name": "python3"
  },
  "language_info": {
   "codemirror_mode": {
    "name": "ipython",
    "version": 3
   },
   "file_extension": ".py",
   "mimetype": "text/x-python",
   "name": "python",
   "nbconvert_exporter": "python",
   "pygments_lexer": "ipython3",
   "version": "3.5.2"
  }
 },
 "nbformat": 4,
 "nbformat_minor": 2
}
