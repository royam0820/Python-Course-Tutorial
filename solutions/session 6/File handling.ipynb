{
 "cells": [
  {
   "cell_type": "markdown",
   "metadata": {},
   "source": [
    "# File handling\n",
    "Create via Python a file and then read it using several methods we discussed in our lecture."
   ]
  },
  {
   "cell_type": "code",
   "execution_count": 3,
   "metadata": {
    "collapsed": false
   },
   "outputs": [],
   "source": [
    "poem = '''\n",
    "from world import me,you\n",
    "from feelings import *\n",
    "from body import heart\n",
    "from mind import every_thoughts,I,your\n",
    "forever = True\n",
    "while forever:\n",
    "    endlessly = True\n",
    "    your_feelings = [\"dejected\", \"depressed\",\"sad\",\"gloomy\",\"downcast\"]\n",
    "    for you in your_feelings:\n",
    "        print \"I am always there\"\n",
    "    while endlessly:\n",
    "        I.take_care_of(you)\n",
    "        if you.love() is not me:\n",
    "            break\n",
    "     for emotion in me.heart:\n",
    "         try:\n",
    "             your.love = me\n",
    "         except:\n",
    "             your.bestfriend = me\n",
    "    if I.annoy(you):\n",
    "        love(me)\n",
    "    elif you.angry(me):\n",
    "        I.cool(you)\n",
    "    else:\n",
    "        love(me,how ='unconditionally,deeply')\n",
    "    for i in every_thoughts: \n",
    "        print \"You\"\n",
    "'''\n"
   ]
  },
  {
   "cell_type": "code",
   "execution_count": 4,
   "metadata": {
    "collapsed": false
   },
   "outputs": [
    {
     "name": "stdout",
     "output_type": "stream",
     "text": [
      "\n",
      "from world import me,you\n",
      "from feelings import *\n",
      "from body import heart\n",
      "from mind import every_thoughts,I,your\n",
      "forever = True\n",
      "while forever:\n",
      "    endlessly = True\n",
      "    your_feelings = [\"dejected\", \"depressed\",\"sad\",\"gloomy\",\"downcast\"]\n",
      "    for you in your_feelings:\n",
      "        print \"I am always there\"\n",
      "    while endlessly:\n",
      "        I.take_care_of(you)\n",
      "        if you.love() is not me:\n",
      "            break\n",
      "     for emotion in me.heart:\n",
      "         try:\n",
      "             your.love = me\n",
      "         except:\n",
      "             your.bestfriend = me\n",
      "    if I.annoy(you):\n",
      "        love(me)\n",
      "    elif you.angry(me):\n",
      "        I.cool(you)\n",
      "    else:\n",
      "        love(me,how ='unconditionally,deeply')\n",
      "    for i in every_thoughts: \n",
      "        print \"You\"\n",
      "\n"
     ]
    }
   ],
   "source": [
    "print(poem)"
   ]
  },
  {
   "cell_type": "code",
   "execution_count": 5,
   "metadata": {
    "collapsed": true
   },
   "outputs": [],
   "source": [
    "# open a file in writing mode\n",
    "# Open for 'w'riting\n",
    "f = open('../../files/poem.txt', 'w')\n",
    "f.write(poem)  # Write text to file\n",
    "f.close()  # Close the file"
   ]
  },
  {
   "cell_type": "code",
   "execution_count": 7,
   "metadata": {
    "collapsed": false
   },
   "outputs": [
    {
     "data": {
      "text/plain": [
       "'\\nfrom world import me,you\\nfrom feelings import *\\nfrom body import heart\\nfrom mind import every_thoughts,I,your\\nforever = True\\nwhile forever:\\n    endlessly = True\\n    your_feelings = [\"dejected\", \"depressed\",\"sad\",\"gloomy\",\"downcast\"]\\n    for you in your_feelings:\\n        print \"I am always there\"\\n    while endlessly:\\n        I.take_care_of(you)\\n        if you.love() is not me:\\n            break\\n     for emotion in me.heart:\\n         try:\\n             your.love = me\\n         except:\\n             your.bestfriend = me\\n    if I.annoy(you):\\n        love(me)\\n    elif you.angry(me):\\n        I.cool(you)\\n    else:\\n        love(me,how =\\'unconditionally,deeply\\')\\n    for i in every_thoughts: \\n        print \"You\"\\n'"
      ]
     },
     "execution_count": 7,
     "metadata": {},
     "output_type": "execute_result"
    }
   ],
   "source": [
    "# reading the file with the read() method\n",
    "# Open the text.txt we made earlier\n",
    "f = open(\"../../files/poem.txt\", 'r')\n",
    "# We can now read the file\n",
    "f.read()"
   ]
  },
  {
   "cell_type": "code",
   "execution_count": 8,
   "metadata": {
    "collapsed": false
   },
   "outputs": [
    {
     "name": "stdout",
     "output_type": "stream",
     "text": [
      "\n",
      "from world import me,you\n",
      "from feelings import *\n",
      "from body import heart\n",
      "from mind import every_thoughts,I,your\n",
      "forever = True\n",
      "while forever:\n",
      "    endlessly = True\n",
      "    your_feelings = [\"dejected\", \"depressed\",\"sad\",\"gloomy\",\"downcast\"]\n",
      "    for you in your_feelings:\n",
      "        print \"I am always there\"\n",
      "    while endlessly:\n",
      "        I.take_care_of(you)\n",
      "        if you.love() is not me:\n",
      "            break\n",
      "     for emotion in me.heart:\n",
      "         try:\n",
      "             your.love = me\n",
      "         except:\n",
      "             your.bestfriend = me\n",
      "    if I.annoy(you):\n",
      "        love(me)\n",
      "    elif you.angry(me):\n",
      "        I.cool(you)\n",
      "    else:\n",
      "        love(me,how ='unconditionally,deeply')\n",
      "    for i in every_thoughts: \n",
      "        print \"You\"\n"
     ]
    }
   ],
   "source": [
    "# reading the file with the for loop.\n",
    "f = open('../../files/poem.txt')\n",
    "while True:\n",
    "    line = f.readline()\n",
    "    # Zero length indicates EOF\n",
    "    if len(line) == 0:\n",
    "        break\n",
    "    # The `line` already has a newline\n",
    "    # at the end of each line\n",
    "    # since it is reading from a file.\n",
    "    print(line, end = '')\n",
    "# close the file\n",
    "f.close()"
   ]
  },
  {
   "cell_type": "code",
   "execution_count": 9,
   "metadata": {
    "collapsed": false
   },
   "outputs": [
    {
     "data": {
      "text/plain": [
       "['\\n',\n",
       " 'from world import me,you\\n',\n",
       " 'from feelings import *\\n',\n",
       " 'from body import heart\\n',\n",
       " 'from mind import every_thoughts,I,your\\n',\n",
       " 'forever = True\\n',\n",
       " 'while forever:\\n',\n",
       " '    endlessly = True\\n',\n",
       " '    your_feelings = [\"dejected\", \"depressed\",\"sad\",\"gloomy\",\"downcast\"]\\n',\n",
       " '    for you in your_feelings:\\n',\n",
       " '        print \"I am always there\"\\n',\n",
       " '    while endlessly:\\n',\n",
       " '        I.take_care_of(you)\\n',\n",
       " '        if you.love() is not me:\\n',\n",
       " '            break\\n',\n",
       " '     for emotion in me.heart:\\n',\n",
       " '         try:\\n',\n",
       " '             your.love = me\\n',\n",
       " '         except:\\n',\n",
       " '             your.bestfriend = me\\n',\n",
       " '    if I.annoy(you):\\n',\n",
       " '        love(me)\\n',\n",
       " '    elif you.angry(me):\\n',\n",
       " '        I.cool(you)\\n',\n",
       " '    else:\\n',\n",
       " \"        love(me,how ='unconditionally,deeply')\\n\",\n",
       " '    for i in every_thoughts: \\n',\n",
       " '        print \"You\"\\n']"
      ]
     },
     "execution_count": 9,
     "metadata": {},
     "output_type": "execute_result"
    }
   ],
   "source": [
    "# Readlines returns a list of the lines in the file.\n",
    "f = open('../../files/poem.txt')\n",
    "f.readlines()"
   ]
  },
  {
   "cell_type": "code",
   "execution_count": null,
   "metadata": {
    "collapsed": true
   },
   "outputs": [],
   "source": []
  }
 ],
 "metadata": {
  "kernelspec": {
   "display_name": "Python 3",
   "language": "python",
   "name": "python3"
  },
  "language_info": {
   "codemirror_mode": {
    "name": "ipython",
    "version": 3
   },
   "file_extension": ".py",
   "mimetype": "text/x-python",
   "name": "python",
   "nbconvert_exporter": "python",
   "pygments_lexer": "ipython3",
   "version": "3.5.2"
  }
 },
 "nbformat": 4,
 "nbformat_minor": 2
}
