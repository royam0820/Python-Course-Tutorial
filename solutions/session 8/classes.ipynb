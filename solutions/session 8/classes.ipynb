{
 "cells": [
  {
   "cell_type": "markdown",
   "metadata": {},
   "source": [
    "# Class Exercise\n",
    "Create a **Dog** class that will hold instances of dogs. \n",
    "\n",
    "The attributes are: **name** and **age**.\n",
    "\n",
    "Then assign two dog instances for the Dog class. The output should look like this:\n",
    "\n",
    "        mowgli = Dog('mowgli', 6)\n",
    "        oscar  = Dog('oscar', 3)\n",
    "        \n",
    "You can choose a different dog's name!"
   ]
  },
  {
   "cell_type": "code",
   "execution_count": 1,
   "metadata": {
    "collapsed": true
   },
   "outputs": [],
   "source": [
    "class Dog:\n",
    "    def __init__(self, name, age):\n",
    "        self.name = name\n",
    "        self.age = age"
   ]
  },
  {
   "cell_type": "code",
   "execution_count": 2,
   "metadata": {
    "collapsed": false
   },
   "outputs": [],
   "source": [
    "mowgli = Dog('mowgli', 6)\n",
    "oscar  = Dog('oscar', 3)"
   ]
  },
  {
   "cell_type": "markdown",
   "metadata": {},
   "source": [
    "Create a method **description** that will return the name of the dog and its age.\n",
    "The output should look like this:\n",
    "\n",
    "    mowgli is 6 years old\n",
    "    oscar is 3 years old\n",
    "    "
   ]
  },
  {
   "cell_type": "code",
   "execution_count": 3,
   "metadata": {
    "collapsed": true
   },
   "outputs": [],
   "source": [
    "class Dog:\n",
    "    def __init__(self, name, age):\n",
    "        self.name = name\n",
    "        self.age = age\n",
    "\n",
    "    def description(self):\n",
    "        return \"{} is {} years old\".format(self.name, self.age)"
   ]
  },
  {
   "cell_type": "code",
   "execution_count": 4,
   "metadata": {
    "collapsed": true
   },
   "outputs": [],
   "source": [
    "mowgli = Dog('mowgli', 6)\n",
    "oscar  = Dog('oscar', 3)"
   ]
  },
  {
   "cell_type": "code",
   "execution_count": 8,
   "metadata": {
    "collapsed": false
   },
   "outputs": [
    {
     "name": "stdout",
     "output_type": "stream",
     "text": [
      "mowgli is 6 years old\n",
      "oscar is 3 years old\n"
     ]
    }
   ],
   "source": [
    "print(mowgli.description())\n",
    "print(oscar.description())"
   ]
  },
  {
   "cell_type": "markdown",
   "metadata": {},
   "source": [
    "Create a method **speak** that will return the barking of the dog.\n",
    "The output should be like this:\n",
    "\n",
    "    mowgli is 6 years old\n",
    "    mowgli says ouaf ouaf\n",
    "    "
   ]
  },
  {
   "cell_type": "code",
   "execution_count": 9,
   "metadata": {
    "collapsed": true
   },
   "outputs": [],
   "source": [
    "class Dog:\n",
    "    def __init__(self, name, age):\n",
    "        self.name = name\n",
    "        self.age = age\n",
    "\n",
    "    def description(self):\n",
    "        return \"{} is {} years old\".format(self.name, self.age)\n",
    "    \n",
    "    def speak(self, sound):\n",
    "        return \"{} says {}\".format(self.name, sound)\n"
   ]
  },
  {
   "cell_type": "code",
   "execution_count": 10,
   "metadata": {
    "collapsed": true
   },
   "outputs": [],
   "source": [
    "mowgli = Dog('mowgli', 6)\n",
    "oscar  = Dog('oscar', 3)"
   ]
  },
  {
   "cell_type": "code",
   "execution_count": 11,
   "metadata": {
    "collapsed": false
   },
   "outputs": [
    {
     "name": "stdout",
     "output_type": "stream",
     "text": [
      "mowgli is 6 years old\n",
      "mowgli says ouaf ouaf\n"
     ]
    }
   ],
   "source": [
    "print(mowgli.description())\n",
    "print(mowgli.speak('ouaf ouaf'))"
   ]
  },
  {
   "cell_type": "markdown",
   "metadata": {},
   "source": [
    "## Inheritance\n",
    "Create a new class **BullDog** that inherits from the Dog class.\n",
    "\n",
    "Add the method **run** which should return the following output:\n",
    "\n",
    "    Jim-The-Bulldog runs fast\n",
    "    Tom-The-Bulldog runs slowly\n"
   ]
  },
  {
   "cell_type": "code",
   "execution_count": 14,
   "metadata": {
    "collapsed": true
   },
   "outputs": [],
   "source": [
    "# Child class (inherits from Dog class)\n",
    "class BullDog(Dog):\n",
    "    def run(self, speed):\n",
    "        return \"{} runs {}\".format(self.name, speed)"
   ]
  },
  {
   "cell_type": "code",
   "execution_count": 15,
   "metadata": {
    "collapsed": false
   },
   "outputs": [
    {
     "name": "stdout",
     "output_type": "stream",
     "text": [
      "Jim-The-Bulldog runs fast\n",
      "Tom-The-Bulldog runs slowly\n"
     ]
    }
   ],
   "source": [
    "jim = BullDog('Jim-The-Bulldog', 6)\n",
    "tom = BullDog('Tom-The-Bulldog', 12)\n",
    "print(jim.run('fast'))\n",
    "print(tom.run('slowly'))"
   ]
  },
  {
   "cell_type": "code",
   "execution_count": null,
   "metadata": {
    "collapsed": true
   },
   "outputs": [],
   "source": []
  }
 ],
 "metadata": {
  "kernelspec": {
   "display_name": "Python 3",
   "language": "python",
   "name": "python3"
  },
  "language_info": {
   "codemirror_mode": {
    "name": "ipython",
    "version": 3
   },
   "file_extension": ".py",
   "mimetype": "text/x-python",
   "name": "python",
   "nbconvert_exporter": "python",
   "pygments_lexer": "ipython3",
   "version": "3.5.2"
  }
 },
 "nbformat": 4,
 "nbformat_minor": 2
}
