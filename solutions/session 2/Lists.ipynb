{
 "cells": [
  {
   "cell_type": "markdown",
   "metadata": {
    "collapsed": true
   },
   "source": [
    "# Get the largest number in a list\n",
    "This is our list:\n",
    "\n",
    "        numbers = [10, 20, 30, 1000, 100, 150]\n",
    "        show the largest number in that list\n",
    "  "
   ]
  },
  {
   "cell_type": "code",
   "execution_count": 1,
   "metadata": {
    "collapsed": false
   },
   "outputs": [
    {
     "data": {
      "text/plain": [
       "1000"
      ]
     },
     "execution_count": 1,
     "metadata": {},
     "output_type": "execute_result"
    }
   ],
   "source": [
    "numbers = [10, 20, 30, 1000, 100, 150]\n",
    "max(numbers)"
   ]
  },
  {
   "cell_type": "markdown",
   "metadata": {},
   "source": [
    "# Get the lowest number in a list\n",
    "This is our list: \n",
    "\n",
    "        numbers = [10, 20, 30, 1000, 100, 150]\n",
    "        show the lowest number in that list\n",
    "        "
   ]
  },
  {
   "cell_type": "code",
   "execution_count": 2,
   "metadata": {
    "collapsed": false
   },
   "outputs": [
    {
     "data": {
      "text/plain": [
       "10"
      ]
     },
     "execution_count": 2,
     "metadata": {},
     "output_type": "execute_result"
    }
   ],
   "source": [
    "numbers = [10, 20, 30, 1000, 100, 150]\n",
    "min(numbers)"
   ]
  },
  {
   "cell_type": "markdown",
   "metadata": {},
   "source": [
    "# Edit the content of this list\n",
    "        number_list = []\n",
    "Add a number in that list."
   ]
  },
  {
   "cell_type": "code",
   "execution_count": 3,
   "metadata": {
    "collapsed": false
   },
   "outputs": [
    {
     "data": {
      "text/plain": [
       "[5]"
      ]
     },
     "execution_count": 3,
     "metadata": {},
     "output_type": "execute_result"
    }
   ],
   "source": [
    "# Edit the contents of this list\n",
    "number_list = []\n",
    "number_list.append(5)\n",
    "number_list"
   ]
  },
  {
   "cell_type": "markdown",
   "metadata": {},
   "source": [
    "# Edit the content of the list: number_list\n",
    "\n",
    "add numbers in that list using the following list:\n",
    "\n",
    "        data = [2,4,6,7,9]"
   ]
  },
  {
   "cell_type": "code",
   "execution_count": 4,
   "metadata": {
    "collapsed": false
   },
   "outputs": [
    {
     "data": {
      "text/plain": [
       "[5, [2, 4, 6, 7, 9]]"
      ]
     },
     "execution_count": 4,
     "metadata": {},
     "output_type": "execute_result"
    }
   ],
   "source": [
    "data = [2,4,6,7,9]\n",
    "number_list.append(data)\n",
    "number_list"
   ]
  },
  {
   "cell_type": "markdown",
   "metadata": {},
   "source": [
    "# Random Message\n",
    "write the code below.\n",
    "\n",
    "        # try this code\n",
    "        import random\n",
    "\n",
    "        messages = ['It is certain',\n",
    "                    'It is decidedly so',\n",
    "                    'Yes definitely',\n",
    "                    'Reply hazy try again',\n",
    "                    'Ask again later',\n",
    "                    'Concentrate and ask again',\n",
    "                    'My reply is no',\n",
    "                    'Outlook not so good',\n",
    "                    'Very doubtful']\n",
    "\n",
    "        print (messages[random.randint(0, len(messages)-1)])"
   ]
  },
  {
   "cell_type": "code",
   "execution_count": 5,
   "metadata": {
    "collapsed": false
   },
   "outputs": [
    {
     "name": "stdout",
     "output_type": "stream",
     "text": [
      "9\n",
      "My reply is no\n"
     ]
    }
   ],
   "source": [
    "# try this code - random message\n",
    "import random\n",
    "\n",
    "messages = ['It is certain',\n",
    "    'It is decidedly so',\n",
    "    'Yes definitely',\n",
    "    'Reply hazy try again',\n",
    "    'Ask again later',\n",
    "    'Concentrate and ask again',\n",
    "    'My reply is no',\n",
    "    'Outlook not so good',\n",
    "    'Very doubtful']\n",
    "\n",
    "print(len(messages))\n",
    "print (messages[random.randint(0, len(messages)-1)])"
   ]
  },
  {
   "cell_type": "markdown",
   "metadata": {
    "collapsed": true
   },
   "source": [
    "# Make A Sandwich - The Break Statement\n",
    "No mayonnaise please!\n",
    "\n",
    "Print the ingredients in the list below using a **for** loop, but use a **break** statement to interrupt the print if the ingredient equals 'mayonnaise'.\n",
    "\n",
    "    sandwich = ['bread', 'ham', 'lettuce', 'mayonnaise', 'bread']"
   ]
  },
  {
   "cell_type": "markdown",
   "metadata": {},
   "source": [
    "*Note: output should be as follows:*\n",
    "bread\n",
    "ham\n",
    "lettuce\n",
    "I do not like mayonnaise"
   ]
  },
  {
   "cell_type": "code",
   "execution_count": 6,
   "metadata": {
    "collapsed": false
   },
   "outputs": [
    {
     "name": "stdout",
     "output_type": "stream",
     "text": [
      "bread\n",
      "ham\n",
      "lettuce\n",
      "I do not like mayonnaise\n"
     ]
    }
   ],
   "source": [
    "sandwich = ['bread', 'ham', 'lettuce', 'mayonnaise', 'bread']\n",
    "for ingredient in sandwich:\n",
    "    if ingredient == 'mayonnaise':\n",
    "        break\n",
    "    print(ingredient)\n",
    "print('I do not like mayonnaise')"
   ]
  },
  {
   "cell_type": "markdown",
   "metadata": {},
   "source": [
    "# Make A Sandwich - The Continue Statement\n",
    "No mayonnaise please!\n",
    "\n",
    "Print the ingredients in the list below using a **for** loop, but use a **continue** statement to skip the print if the ingredient equals 'mayonnaise'.\n",
    "\n",
    "    sandwich = ['bread', 'ham', 'lettuce', 'mayonnaise', 'bread']"
   ]
  },
  {
   "cell_type": "markdown",
   "metadata": {},
   "source": [
    "*Note: the output should be as follows:*\n",
    "bread\n",
    "ham\n",
    "lettuce\n",
    "bread\n",
    "I do not like mayonnaise"
   ]
  },
  {
   "cell_type": "code",
   "execution_count": 7,
   "metadata": {
    "collapsed": false
   },
   "outputs": [
    {
     "name": "stdout",
     "output_type": "stream",
     "text": [
      "bread\n",
      "ham\n",
      "lettuce\n",
      "bread\n",
      "I do not like mayonnaise\n"
     ]
    }
   ],
   "source": [
    "sandwich = ['bread', 'ham', 'lettuce', 'mayonnaise', 'bread']\n",
    "for ingredient in sandwich:\n",
    "    if ingredient == 'mayonnaise':\n",
    "        continue\n",
    "    print(ingredient)\n",
    "print('I do not like mayonnaise')"
   ]
  },
  {
   "cell_type": "markdown",
   "metadata": {},
   "source": [
    "# Nested Lists\n",
    "\n",
    "Create a matrix with the lists below:\n",
    "\n",
    "        a_2d = [[1,2,3],[4,5,6],[7,8,9]]\n",
    " \n",
    "        b_2d = [[1,0,1],[1,1,0],[1,1,1]]\n",
    " \n",
    "        c_2d = [[2,0],[0,2]]"
   ]
  },
  {
   "cell_type": "markdown",
   "metadata": {},
   "source": [
    "This should be the output: \n",
    "\n",
    "        [[[1, 2, 3], [4, 5, 6], [7, 8, 9]], [[1, 0, 1], [1, 1, 0], [1, 1, 1]], [[2, 0], [0, 2]]]"
   ]
  },
  {
   "cell_type": "code",
   "execution_count": 10,
   "metadata": {
    "collapsed": true
   },
   "outputs": [],
   "source": [
    "a_2d = [[1,2,3],[4,5,6],[7,8,9]]\n",
    "b_2d = [[1,0,1],[1,1,0],[1,1,1]]\n",
    "c_2d = [[2,0],[0,2]]"
   ]
  },
  {
   "cell_type": "code",
   "execution_count": 11,
   "metadata": {
    "collapsed": false
   },
   "outputs": [
    {
     "name": "stdout",
     "output_type": "stream",
     "text": [
      "[[[1, 2, 3], [4, 5, 6], [7, 8, 9]], [[1, 0, 1], [1, 1, 0], [1, 1, 1]], [[2, 0], [0, 2]]]\n"
     ]
    }
   ],
   "source": [
    "matrix = [a_2d, b_2d, c_2d]\n",
    "print(matrix)"
   ]
  },
  {
   "cell_type": "code",
   "execution_count": 12,
   "metadata": {
    "collapsed": false
   },
   "outputs": [
    {
     "data": {
      "text/plain": [
       "[[1, 2, 3], [4, 5, 6], [7, 8, 9]]"
      ]
     },
     "execution_count": 12,
     "metadata": {},
     "output_type": "execute_result"
    }
   ],
   "source": [
    "matrix[0]"
   ]
  },
  {
   "cell_type": "code",
   "execution_count": 13,
   "metadata": {
    "collapsed": false
   },
   "outputs": [
    {
     "data": {
      "text/plain": [
       "[1, 2, 3]"
      ]
     },
     "execution_count": 13,
     "metadata": {},
     "output_type": "execute_result"
    }
   ],
   "source": [
    "matrix[0][0]"
   ]
  },
  {
   "cell_type": "code",
   "execution_count": 14,
   "metadata": {
    "collapsed": false
   },
   "outputs": [
    {
     "data": {
      "text/plain": [
       "1"
      ]
     },
     "execution_count": 14,
     "metadata": {},
     "output_type": "execute_result"
    }
   ],
   "source": [
    "matrix[0][0][0]"
   ]
  },
  {
   "cell_type": "code",
   "execution_count": 15,
   "metadata": {
    "collapsed": false
   },
   "outputs": [
    {
     "data": {
      "text/plain": [
       "[[1, 0, 1], [1, 1, 0], [1, 1, 1]]"
      ]
     },
     "execution_count": 15,
     "metadata": {},
     "output_type": "execute_result"
    }
   ],
   "source": [
    "matrix[1]"
   ]
  },
  {
   "cell_type": "code",
   "execution_count": 16,
   "metadata": {
    "collapsed": false
   },
   "outputs": [
    {
     "data": {
      "text/plain": [
       "[[2, 0], [0, 2]]"
      ]
     },
     "execution_count": 16,
     "metadata": {},
     "output_type": "execute_result"
    }
   ],
   "source": [
    "matrix[2]"
   ]
  },
  {
   "cell_type": "code",
   "execution_count": 17,
   "metadata": {
    "collapsed": false
   },
   "outputs": [
    {
     "name": "stdout",
     "output_type": "stream",
     "text": [
      "1\n"
     ]
    }
   ],
   "source": [
    "list1 = matrix[0][0][0]\n",
    "print(list1)"
   ]
  },
  {
   "cell_type": "code",
   "execution_count": null,
   "metadata": {
    "collapsed": false
   },
   "outputs": [],
   "source": [
    "list2 = matrix[1][0][0]\n",
    "print(list2)"
   ]
  },
  {
   "cell_type": "code",
   "execution_count": null,
   "metadata": {
    "collapsed": false
   },
   "outputs": [],
   "source": [
    "list3 = matrix[2][0][0]\n",
    "print(list3)"
   ]
  },
  {
   "cell_type": "markdown",
   "metadata": {},
   "source": [
    "# Sum the values at index 0 in the matrix.\n",
    "The total value should be 4."
   ]
  },
  {
   "cell_type": "code",
   "execution_count": null,
   "metadata": {
    "collapsed": false
   },
   "outputs": [],
   "source": [
    "sum = matrix[0][0][0] + matrix[1][0][0] + matrix[2][0][0]\n",
    "print(sum)"
   ]
  },
  {
   "cell_type": "markdown",
   "metadata": {},
   "source": [
    "# Lists Handling\n",
    "Try this!\n",
    "    \n",
    "    gadgets = [“Mobile”, “Laptop”, 100, “Camera”, 310.28, “Speakers”, 27.00, “Television”, 1000, “Laptop Case”, “Camera Lens”]\n",
    "\n",
    "a)create separate lists of strings and numbers.\n",
    " \n",
    "b)Sort the strings list in ascending order\n",
    " \n",
    "c)Sort the strings list in descending order\n",
    " \n",
    "d)Sort the number list from lowest to highest\n",
    " \n",
    "e)Sort the number list from highest to lowest"
   ]
  },
  {
   "cell_type": "code",
   "execution_count": 26,
   "metadata": {
    "collapsed": true
   },
   "outputs": [],
   "source": [
    "# a)create separate lists of strings and numbers.\n",
    "gadgets = [\"Mobile\", \"Laptop\", 100, \"Camera\", 310.28, \"Speakers\", 27.00, \n",
    "           \"Television\", 1000, \"Laptop Case\", \"Camera Lens\"]\n",
    " \n",
    "str_items = []\n",
    " \n",
    "num_items = []\n",
    "\n",
    "for item in gadgets:   \n",
    "    if isinstance(item, str):     \n",
    "        str_items.append(item)     \n",
    "    elif isinstance(item,int) or isinstance(item, float):      \n",
    "        num_items.append(item)"
   ]
  },
  {
   "cell_type": "code",
   "execution_count": 27,
   "metadata": {
    "collapsed": false
   },
   "outputs": [
    {
     "name": "stdout",
     "output_type": "stream",
     "text": [
      "['Mobile', 'Laptop', 'Camera', 'Speakers', 'Television', 'Laptop Case', 'Camera Lens']\n"
     ]
    }
   ],
   "source": [
    "print(str_items)"
   ]
  },
  {
   "cell_type": "code",
   "execution_count": 28,
   "metadata": {
    "collapsed": false
   },
   "outputs": [
    {
     "name": "stdout",
     "output_type": "stream",
     "text": [
      "[100, 310.28, 27.0, 1000]\n"
     ]
    }
   ],
   "source": [
    "print(num_items)"
   ]
  },
  {
   "cell_type": "code",
   "execution_count": 31,
   "metadata": {
    "collapsed": false
   },
   "outputs": [
    {
     "name": "stdout",
     "output_type": "stream",
     "text": [
      "['Camera', 'Camera Lens', 'Laptop', 'Laptop Case', 'Mobile', 'Speakers', 'Television']\n"
     ]
    }
   ],
   "source": [
    "# b)Sort the strings list in ascending order\n",
    "str_items.sort(key=str.lower)\n",
    "print(str_items)"
   ]
  },
  {
   "cell_type": "markdown",
   "metadata": {},
   "source": [
    "Note: By default, the sort() function doesn't require any extra parameters. However, it has two optional parameters:\n",
    "\n",
    "reverse - If true, the sorted list is reversed (or sorted in Descending order)\n",
    "key - function that serves as a key for the sort comparison\n"
   ]
  },
  {
   "cell_type": "code",
   "execution_count": 32,
   "metadata": {
    "collapsed": false
   },
   "outputs": [
    {
     "name": "stdout",
     "output_type": "stream",
     "text": [
      "['Television', 'Speakers', 'Mobile', 'Laptop Case', 'Laptop', 'Camera Lens', 'Camera']\n"
     ]
    }
   ],
   "source": [
    "# c) sorting strings list in descending order z-a\n",
    "str_items.sort(key=str.lower, reverse=True)\n",
    "print(str_items)"
   ]
  },
  {
   "cell_type": "code",
   "execution_count": 33,
   "metadata": {
    "collapsed": false
   },
   "outputs": [
    {
     "name": "stdout",
     "output_type": "stream",
     "text": [
      "[27.0, 100, 310.28, 1000]\n"
     ]
    }
   ],
   "source": [
    "# sorting number list from lowest to highest\n",
    "num_items.sort() \n",
    "print(num_items)"
   ]
  },
  {
   "cell_type": "code",
   "execution_count": 36,
   "metadata": {
    "collapsed": false
   },
   "outputs": [
    {
     "data": {
      "text/plain": [
       "[27.0, 100, 310.28, 1000]"
      ]
     },
     "execution_count": 36,
     "metadata": {},
     "output_type": "execute_result"
    }
   ],
   "source": [
    "sorted(num_items)"
   ]
  },
  {
   "cell_type": "markdown",
   "metadata": {},
   "source": [
    "Note: Simplest difference between sort() and sorted() is: sort() does not return any value while, sorted() returns an iterable list."
   ]
  },
  {
   "cell_type": "code",
   "execution_count": 34,
   "metadata": {
    "collapsed": false
   },
   "outputs": [
    {
     "name": "stdout",
     "output_type": "stream",
     "text": [
      "[1000, 310.28, 100, 27.0]\n"
     ]
    }
   ],
   "source": [
    "# sorting number list from highest to lowest\n",
    "num_items.sort(reverse=True)\n",
    "print(num_items)\n",
    " "
   ]
  },
  {
   "cell_type": "code",
   "execution_count": null,
   "metadata": {
    "collapsed": true
   },
   "outputs": [],
   "source": []
  }
 ],
 "metadata": {
  "kernelspec": {
   "display_name": "Python 3",
   "language": "python",
   "name": "python3"
  },
  "language_info": {
   "codemirror_mode": {
    "name": "ipython",
    "version": 3
   },
   "file_extension": ".py",
   "mimetype": "text/x-python",
   "name": "python",
   "nbconvert_exporter": "python",
   "pygments_lexer": "ipython3",
   "version": "3.5.2"
  }
 },
 "nbformat": 4,
 "nbformat_minor": 2
}
