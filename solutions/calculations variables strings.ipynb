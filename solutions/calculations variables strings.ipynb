{
 "cells": [
  {
   "cell_type": "markdown",
   "metadata": {},
   "source": [
    "# Evaluate this expression\n",
    "Evaluate this expression so that the result is 0\n",
    "\n",
    "        8 - 3 * 2 - 1 + 1"
   ]
  },
  {
   "cell_type": "code",
   "execution_count": 4,
   "metadata": {
    "collapsed": false
   },
   "outputs": [
    {
     "data": {
      "text/plain": [
       "0"
      ]
     },
     "execution_count": 4,
     "metadata": {},
     "output_type": "execute_result"
    }
   ],
   "source": [
    "(8 - 3) * (2 - (1 + 1))"
   ]
  },
  {
   "cell_type": "markdown",
   "metadata": {},
   "source": [
    "# Enter Your First Program\n",
    "\n",
    "Type the following code below as is and see its execution.\n",
    "\n",
    "This program says hello and asks for my name.\n",
    "\n",
    "        print('Hello world!')\n",
    "        print('What is your name?') # ask for their name \n",
    "        myName = input() \n",
    "        print('It is good to meet you, ' + myName)\n",
    "        print('The length of your name is:') \n",
    "        print(len(myName)) \n",
    "        print('What is your age?') # ask for their age \n",
    "        myAge = input()\n",
    "        print('You will be ' + str(int(myAge) + 1) + ' in a year.') "
   ]
  },
  {
   "cell_type": "markdown",
   "metadata": {},
   "source": [
    "*NB1: The input() function waits for the user to type some text on the keyboard and press ENTER. This function call will always return a string.*\n",
    "\n",
    "*NB2:The len() Function evaluates to the integer value of the number of characters in that string.*\n",
    "\n",
    "Use the help() function to find help regarding the input() and the len() functions."
   ]
  },
  {
   "cell_type": "code",
   "execution_count": 5,
   "metadata": {
    "collapsed": false
   },
   "outputs": [
    {
     "name": "stdout",
     "output_type": "stream",
     "text": [
      "Hello world!\n",
      "What is your name?\n",
      "anne\n",
      "It is good to meet you, anne\n",
      "The length of your name is:\n",
      "4\n",
      "What is your age?\n",
      "25\n",
      "You will be 26 in a year.\n"
     ]
    }
   ],
   "source": [
    "# This program says hello and asks for my name.\n",
    "print('Hello world!')\n",
    "print('What is your name?') # ask for their name \n",
    "myName = input() \n",
    "print('It is good to meet you, ' + myName) \n",
    "print('The length of your name is:') \n",
    "print(len(myName)) \n",
    "print('What is your age?') # ask for their age \n",
    "myAge = input()\n",
    "print('You will be ' + str(int(myAge) + 1) + ' in a year.')"
   ]
  },
  {
   "cell_type": "markdown",
   "metadata": {},
   "source": [
    "# Sharing candies\n",
    "Alice, Bob and Carol have agreed to pool their Halloween candy and split it evenly among themselves.\n",
    "For the sake of their friendship, any candies left over will be smashed. For example, if they collectively\n",
    "bring home 91 candies, they'll take 30 each and smash 1.\n",
    "\n",
    "variables representing the number of candies\n",
    "alice_candies = 121\n",
    "bob_candies = 77\n",
    "carol_candies = 109\n",
    "\n",
    "to_smash =  # Replace the right-hand side of this assignment with an expression\n"
   ]
  },
  {
   "cell_type": "code",
   "execution_count": 2,
   "metadata": {
    "collapsed": false
   },
   "outputs": [
    {
     "name": "stdout",
     "output_type": "stream",
     "text": [
      "candies to smash 1\n"
     ]
    }
   ],
   "source": [
    "alice_candies = 121\n",
    "bob_candies = 77\n",
    "carol_candies = 109\n",
    "\n",
    "to_smash = (alice_candies + bob_candies + carol_candies) % 3\n",
    "print('candies to smash', to_smash)"
   ]
  },
  {
   "cell_type": "markdown",
   "metadata": {},
   "source": [
    "# Check Please!\n",
    "Calculate a 10% tip for your big meal!\n",
    "Hint: use variables to store the meal cost and the tip percent cost."
   ]
  },
  {
   "cell_type": "code",
   "execution_count": 1,
   "metadata": {
    "collapsed": false
   },
   "outputs": [
    {
     "data": {
      "text/plain": [
       "20.0"
      ]
     },
     "execution_count": 1,
     "metadata": {},
     "output_type": "execute_result"
    }
   ],
   "source": [
    "meal = 200.00\n",
    "# as integer, 10% would be 10\n",
    "tip_percent = 10\n",
    "meal * tip_percent / 100"
   ]
  },
  {
   "cell_type": "markdown",
   "metadata": {},
   "source": [
    "# Find the radius and Area\n",
    "        pi = 3.14159 # approximate\n",
    "        diameter = 3\n",
    "        compute the radius and the area\n",
    "        radius = diameter / 2\n",
    "        area = pi times the radius squared."
   ]
  },
  {
   "cell_type": "code",
   "execution_count": 3,
   "metadata": {
    "collapsed": false
   },
   "outputs": [
    {
     "name": "stdout",
     "output_type": "stream",
     "text": [
      "the radius is  1.5\n",
      "the area is  7.0685775\n"
     ]
    }
   ],
   "source": [
    "pi = 3.14159 # approximate\n",
    "diameter = 3\n",
    "\n",
    "# Create a variable called 'radius' equal to half the diameter\n",
    "radius = diameter / 2\n",
    "\n",
    "# Create a variable called 'area', using the formula for the area of a circle: pi times the radius squared\n",
    "area = pi * radius ** 2\n",
    "\n",
    "print('the radius is ',radius)\n",
    "print('the area is ', area)"
   ]
  },
  {
   "cell_type": "markdown",
   "metadata": {},
   "source": [
    "# Print Your Name\n",
    "Print your full name by concatenating your first name and your last name."
   ]
  },
  {
   "cell_type": "code",
   "execution_count": 4,
   "metadata": {
    "collapsed": false
   },
   "outputs": [
    {
     "name": "stdout",
     "output_type": "stream",
     "text": [
      "Anne-Marie ROY\n"
     ]
    }
   ],
   "source": [
    "fName = \"Anne-Marie\"\n",
    "lName = \"Roy\"\n",
    "print(fName, lName.upper())"
   ]
  },
  {
   "cell_type": "markdown",
   "metadata": {},
   "source": [
    "# String Formating\n",
    "You will need to write a format string which prints out the following sentence: Hello John, my name is Mike"
   ]
  },
  {
   "cell_type": "code",
   "execution_count": 5,
   "metadata": {
    "collapsed": false
   },
   "outputs": [
    {
     "name": "stdout",
     "output_type": "stream",
     "text": [
      "Hello John, my name is Mike\n"
     ]
    }
   ],
   "source": [
    "print('Hello {}, my name is {}'.format('John', 'Mike'))"
   ]
  }
 ],
 "metadata": {
  "kernelspec": {
   "display_name": "Python 3",
   "language": "python",
   "name": "python3"
  },
  "language_info": {
   "codemirror_mode": {
    "name": "ipython",
    "version": 3
   },
   "file_extension": ".py",
   "mimetype": "text/x-python",
   "name": "python",
   "nbconvert_exporter": "python",
   "pygments_lexer": "ipython3",
   "version": "3.5.2"
  }
 },
 "nbformat": 4,
 "nbformat_minor": 2
}
