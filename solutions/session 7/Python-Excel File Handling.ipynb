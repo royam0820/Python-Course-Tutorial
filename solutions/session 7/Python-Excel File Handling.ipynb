{
 "cells": [
  {
   "cell_type": "markdown",
   "metadata": {},
   "source": [
    "# Openpyxl Exercise\n",
    "For this exercises you will need to do the following:\n",
    "1. create a workbook called employee.xlsx\n",
    "2. load data into a worksheet (see below)\n",
    "3. save the file\n",
    "4. open the file\n",
    "5. read the data by iterating through rows\n",
    "6. close the workbook. \n",
    "\n",
    "\n",
    "      data=[('Name','Profession'),\n",
    "      ('Thomas','intern'),\n",
    "      ('Sophie', 'engineer'),\n",
    "      ('Paul','programmer'),\n",
    "      ('Maxine', 'data scientist'),\n",
    "      ('Katie', 'intern'),\n",
    "      ('David', 'director')]\n",
    "\n"
   ]
  },
  {
   "cell_type": "code",
   "execution_count": 2,
   "metadata": {
    "collapsed": false
   },
   "outputs": [],
   "source": [
    "# creating the worksheet employee.xlsx with data.\n",
    "from openpyxl import Workbook\n",
    "\n",
    "wb = Workbook()\n",
    "ws=wb.active\n",
    "\n",
    "filepath = '../../Excel/data/employee.xlsx'\n",
    "\n",
    "# data set\n",
    "data=[('Name','Profession'),\n",
    "      ('Thomas','intern'),\n",
    "      ('Sophie', 'engineer'),\n",
    "      ('Paul','programmer'),\n",
    "      ('Maxine', 'data scientist'),\n",
    "      ('Katie', 'intern'),\n",
    "      ('David', 'director')]\n",
    "\n",
    "# add the data to the worksheet.\n",
    "for row in data:\n",
    "    ws.append(row)\n",
    "    \n",
    "# save file\n",
    "wb.save(filepath)\n"
   ]
  },
  {
   "cell_type": "code",
   "execution_count": 3,
   "metadata": {
    "collapsed": false
   },
   "outputs": [
    {
     "name": "stdout",
     "output_type": "stream",
     "text": [
      "checking the file - row 1:  Name Profession\n",
      "\n",
      "\n",
      "Name     Name    \n",
      "Thomas   Thomas  \n",
      "Sophie   Sophie  \n",
      "Paul     Paul    \n",
      "Maxine   Maxine  \n",
      "Katie    Katie   \n",
      "David    David   \n"
     ]
    }
   ],
   "source": [
    "# reading the rows in the worksheet.\n",
    "# load the workbook\n",
    "from openpyxl import load_workbook\n",
    "\n",
    "filepath = '../../Excel/data/employee.xlsx'\n",
    "\n",
    "# load the workbook employee.xlsx \n",
    "wb=load_workbook(filepath)\n",
    "\n",
    "# select employee.xlsx current worksheet\n",
    "ws=wb.active\n",
    "\n",
    "# check that data is in. \n",
    "a1=ws['A1'].value\n",
    "\n",
    "# get b2 cell value\n",
    "b1=ws['B1'].value\n",
    "\n",
    "print('checking the file - row 1: ', a1,b1)\n",
    "print('\\n')\n",
    "\n",
    "# iterate through the rows\n",
    "multiple_cells = ws['A1':'B7']\n",
    "for c1, c2 in multiple_cells:\n",
    "    print(\"{0:8} {0:8}\".format(c1.value, c2.value)) \n",
    "    \n",
    "wb.close()"
   ]
  },
  {
   "cell_type": "code",
   "execution_count": null,
   "metadata": {
    "collapsed": true
   },
   "outputs": [],
   "source": []
  }
 ],
 "metadata": {
  "kernelspec": {
   "display_name": "Python 3",
   "language": "python",
   "name": "python3"
  },
  "language_info": {
   "codemirror_mode": {
    "name": "ipython",
    "version": 3
   },
   "file_extension": ".py",
   "mimetype": "text/x-python",
   "name": "python",
   "nbconvert_exporter": "python",
   "pygments_lexer": "ipython3",
   "version": "3.5.2"
  }
 },
 "nbformat": 4,
 "nbformat_minor": 2
}
